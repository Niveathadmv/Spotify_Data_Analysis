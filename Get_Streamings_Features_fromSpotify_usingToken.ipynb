{
 "cells": [
  {
   "cell_type": "code",
   "execution_count": 1,
   "metadata": {},
   "outputs": [],
   "source": [
    "import ast\n",
    "from typing import List\n",
    "from os import listdir\n",
    "def get_streamings(path: str = 'C:/Users/niveatha/Desktop/Spotify/') -> List[dict]:\n",
    "    \n",
    "   \n",
    "    \n",
    "    files = ['C:/Users/niveatha/Desktop/Spotify/' + x for x in listdir(path)\n",
    "             if x.split('.')[0][:-1] == 'StreamingHistory']\n",
    "    \n",
    "    all_streamings = []\n",
    "    \n",
    "    for file in files: \n",
    "        with open(file, 'r', encoding='UTF-8') as f:\n",
    "            new_streamings = ast.literal_eval(f.read())\n",
    "            all_streamings += [streaming for streaming \n",
    "                               in new_streamings]\n",
    "    return all_streamings"
   ]
  },
  {
   "cell_type": "code",
   "execution_count": 2,
   "metadata": {},
   "outputs": [],
   "source": [
    "import spotipy.util as util\n",
    "\n",
    "username = 'nive sp analysis'\n",
    "client_id ='cbaa1f2a892d4ed591c17c1544e39cfe'\n",
    "client_secret = 'e707b64e517d42f592065ffb7552e916'\n",
    "redirect_uri = 'http://localhost:7777/callback?code=AQDDriAvIyBBHjplQwr8bC88lTU3Jy_m1_LCNaLLzLKcVuhXYJOZ55WapK2dsFUCXEL9pxefEn_b3T9G1xRx8OBn2da5RkzSyPE9JwNwlDbXALd-ffBh9r18yycm0Si4IDg_CHrRsWh5tqRmY7n8XOWrYUbYTHBVexdOpadxK67-XbE6HuEaMMZqZLOxCKkCUfHNAqId8ZiU6Oqodw'\n",
    "scope = 'user-read-recently-played'\n",
    "\n",
    "token = util.prompt_for_user_token(username=username, \n",
    "                                   scope=scope, \n",
    "                                   client_id=client_id,   \n",
    "                                   client_secret=client_secret,     \n",
    "                                   redirect_uri=redirect_uri)"
   ]
  },
  {
   "cell_type": "code",
   "execution_count": 3,
   "metadata": {},
   "outputs": [
    {
     "name": "stdout",
     "output_type": "stream",
     "text": [
      "BQDuUNOcwJXqbHOyAe7n1bK4WqhNwaJjGFHiQ1dIiuyIa2qrIj3Xq2d2K-_79gVwtXlWzNoZcz9TxCkiKae5IluUHh_V5RoxJgLEkSl2qj3AvSLhsoCpTGCcdjMCR-22dR58sJPqa32m046QjkINfWcYtzgbBBWYp66VE6Y\n"
     ]
    }
   ],
   "source": [
    "print(token)"
   ]
  },
  {
   "cell_type": "code",
   "execution_count": 4,
   "metadata": {},
   "outputs": [],
   "source": [
    "import requests\n",
    "def get_id(track_name: str, token: str) -> str:\n",
    "    headers={'Accept': 'application/json','Content-Type': 'application/json','Authorization': f'Bearer ' + token,}\n",
    "    params=[('q', track_name),('type', 'track'),]\n",
    "    try:\n",
    "        response = requests.get('https://api.spotify.com/v1/search',headers = headers, params = params, timeout=5)\n",
    "        json =response.json()\n",
    "        first_result = json['tracks']['items'][0]\n",
    "        track_id = first_result['id']\n",
    "        return track_id\n",
    "    except:\n",
    "        return None"
   ]
  },
  {
   "cell_type": "code",
   "execution_count": 5,
   "metadata": {},
   "outputs": [
    {
     "name": "stdout",
     "output_type": "stream",
     "text": [
      "1FjD1jpm51dH5LzLvrDVPY\n"
     ]
    }
   ],
   "source": [
    "bed_id = get_id('In My Bed', token)\n",
    "print(bed_id)\n"
   ]
  },
  {
   "cell_type": "code",
   "execution_count": 11,
   "metadata": {},
   "outputs": [],
   "source": [
    "import spotipy.util as util\n",
    "import spotipy\n",
    "def get_features(track_id: str, token: str) -> dict:\n",
    "    sp = spotipy.Spotify(auth=token)\n",
    "    try:\n",
    "        features = sp.audio_features([track_id])\n",
    "        return features[0]\n",
    "    except:\n",
    "        return None"
   ]
  },
  {
   "cell_type": "code",
   "execution_count": 12,
   "metadata": {},
   "outputs": [
    {
     "name": "stdout",
     "output_type": "stream",
     "text": [
      "{'danceability': 0.545, 'energy': 0.385, 'key': 9, 'loudness': -6.01, 'mode': 0, 'speechiness': 0.299, 'acousticness': 0.0714, 'instrumentalness': 0.0014, 'liveness': 0.0859, 'valence': 0.655, 'tempo': 218.365, 'type': 'audio_features', 'id': '1FjD1jpm51dH5LzLvrDVPY', 'uri': 'spotify:track:1FjD1jpm51dH5LzLvrDVPY', 'track_href': 'https://api.spotify.com/v1/tracks/1FjD1jpm51dH5LzLvrDVPY', 'analysis_url': 'https://api.spotify.com/v1/audio-analysis/1FjD1jpm51dH5LzLvrDVPY', 'duration_ms': 189981, 'time_signature': 4}\n"
     ]
    }
   ],
   "source": [
    "import spotipy.util as util\n",
    "\n",
    "\n",
    "lucy_features = get_features(bed_id, token)\n",
    "print(lucy_features)"
   ]
  },
  {
   "cell_type": "code",
   "execution_count": 173,
   "metadata": {},
   "outputs": [],
   "source": [
    "streamings = get_streamings()\n",
    "unique_tracks = list(set([streaming['trackName'] \n",
    "                for streaming in streamings]))\n",
    "\n",
    "all_features = {}\n",
    "for track in unique_tracks:\n",
    "    track_id = get_id(track, token)\n",
    "    features = get_features(track_id, token)\n",
    "    if features:\n",
    "        all_features[track] = features\n",
    "        \n",
    "with_features = []\n",
    "for track_name, features in all_features.items():\n",
    "    with_features.append({'name': track_name, **features})"
   ]
  },
  {
   "cell_type": "code",
   "execution_count": 174,
   "metadata": {},
   "outputs": [],
   "source": [
    "import pandas as pd\n",
    "df = pd.DataFrame(with_features)\n",
    "df.to_csv('streaming_history.csv')"
   ]
  },
  {
   "cell_type": "code",
   "execution_count": null,
   "metadata": {},
   "outputs": [],
   "source": []
  }
 ],
 "metadata": {
  "kernelspec": {
   "display_name": "Python 3 (ipykernel)",
   "language": "python",
   "name": "python3"
  },
  "language_info": {
   "codemirror_mode": {
    "name": "ipython",
    "version": 3
   },
   "file_extension": ".py",
   "mimetype": "text/x-python",
   "name": "python",
   "nbconvert_exporter": "python",
   "pygments_lexer": "ipython3",
   "version": "3.11.4"
  }
 },
 "nbformat": 4,
 "nbformat_minor": 2
}
