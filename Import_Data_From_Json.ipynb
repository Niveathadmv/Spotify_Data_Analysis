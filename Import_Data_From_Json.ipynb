{
 "cells": [
  {
   "cell_type": "code",
   "execution_count": 5,
   "metadata": {},
   "outputs": [
    {
     "data": {
      "text/html": [
       "        <script type=\"text/javascript\">\n",
       "        window.PlotlyConfig = {MathJaxConfig: 'local'};\n",
       "        if (window.MathJax && window.MathJax.Hub && window.MathJax.Hub.Config) {window.MathJax.Hub.Config({SVG: {font: \"STIX-Web\"}});}\n",
       "        if (typeof require !== 'undefined') {\n",
       "        require.undef(\"plotly\");\n",
       "        requirejs.config({\n",
       "            paths: {\n",
       "                'plotly': ['https://cdn.plot.ly/plotly-2.12.1.min']\n",
       "            }\n",
       "        });\n",
       "        require(['plotly'], function(Plotly) {\n",
       "            window._Plotly = Plotly;\n",
       "        });\n",
       "        }\n",
       "        </script>\n",
       "        "
      ]
     },
     "metadata": {},
     "output_type": "display_data"
    }
   ],
   "source": [
    "import pandas as pd\n",
    "import numpy as np\n",
    "import matplotlib.pyplot as plt\n",
    "import seaborn as sns\n",
    "from pandas import Series,DataFrame\n",
    "import json\n",
    "import plotly.express as px\n",
    "from plotly.offline import download_plotlyjs, init_notebook_mode, plot, iplot\n",
    "init_notebook_mode(connected=True)\n",
    "\n",
    "import plotly.graph_objects as go"
   ]
  },
  {
   "cell_type": "code",
   "execution_count": 6,
   "metadata": {},
   "outputs": [
    {
     "name": "stdout",
     "output_type": "stream",
     "text": [
      "[{'endTime': '2019-09-14 04:29', 'artistName': 'Sid Sriram', 'trackName': 'Inkem Inkem Inkem Kaavaale', 'msPlayed': 23730}, {'endTime': '2019-09-15 03:47', 'artistName': 'Sabrina Carpenter', 'trackName': 'In My Bed', 'msPlayed': 13467}, {'endTime': '2019-09-15 03:52', 'artistName': 'Emile Haynie', 'trackName': 'Wait For Life', 'msPlayed': 292280}, {'endTime': '2019-09-15 03:54', 'artistName': '5 Seconds of Summer', 'trackName': 'Teeth', 'msPlayed': 10588}, {'endTime': '2019-09-15 03:58', 'artistName': 'Pradeep', 'trackName': 'Aasai Oru Pulveli', 'msPlayed': 230268}]\n"
     ]
    }
   ],
   "source": [
    "# Import the data from a Json file\n",
    "\n",
    "with open('C:/Users/niveatha/onedrive/Niv/Spotify/StreamingHistory0.json', encoding='utf8') as f:\n",
    "    data = json.load(f)\n",
    "\n",
    "print(data[:5])"
   ]
  },
  {
   "cell_type": "code",
   "execution_count": 7,
   "metadata": {},
   "outputs": [],
   "source": [
    "# Convert from JSON to a data frame\n",
    "\n",
    "df1 = pd.DataFrame()\n",
    "\n",
    "def extract_json_value(column_name):\n",
    "    \n",
    "    return [i[column_name] for i in data]\n",
    "\n",
    "df1['artist_name'] = extract_json_value('artistName')\n",
    "df1['end_time'] = extract_json_value('endTime')\n",
    "df1['ms_played'] = extract_json_value('msPlayed')\n",
    "df1['track_name'] = extract_json_value('trackName')"
   ]
  },
  {
   "cell_type": "code",
   "execution_count": 8,
   "metadata": {},
   "outputs": [
    {
     "name": "stdout",
     "output_type": "stream",
     "text": [
      "<class 'pandas.core.frame.DataFrame'>\n",
      "RangeIndex: 4754 entries, 0 to 4753\n",
      "Data columns (total 4 columns):\n",
      " #   Column       Non-Null Count  Dtype \n",
      "---  ------       --------------  ----- \n",
      " 0   artist_name  4754 non-null   object\n",
      " 1   end_time     4754 non-null   object\n",
      " 2   ms_played    4754 non-null   int64 \n",
      " 3   track_name   4754 non-null   object\n",
      "dtypes: int64(1), object(3)\n",
      "memory usage: 148.7+ KB\n"
     ]
    }
   ],
   "source": [
    "df1.info()"
   ]
  },
  {
   "cell_type": "code",
   "execution_count": 9,
   "metadata": {},
   "outputs": [
    {
     "data": {
      "text/html": [
       "<div>\n",
       "<style scoped>\n",
       "    .dataframe tbody tr th:only-of-type {\n",
       "        vertical-align: middle;\n",
       "    }\n",
       "\n",
       "    .dataframe tbody tr th {\n",
       "        vertical-align: top;\n",
       "    }\n",
       "\n",
       "    .dataframe thead th {\n",
       "        text-align: right;\n",
       "    }\n",
       "</style>\n",
       "<table border=\"1\" class=\"dataframe\">\n",
       "  <thead>\n",
       "    <tr style=\"text-align: right;\">\n",
       "      <th></th>\n",
       "      <th>artist_name</th>\n",
       "      <th>end_time</th>\n",
       "      <th>ms_played</th>\n",
       "      <th>track_name</th>\n",
       "    </tr>\n",
       "  </thead>\n",
       "  <tbody>\n",
       "    <tr>\n",
       "      <th>0</th>\n",
       "      <td>Sid Sriram</td>\n",
       "      <td>2019-09-14 04:29</td>\n",
       "      <td>23730</td>\n",
       "      <td>Inkem Inkem Inkem Kaavaale</td>\n",
       "    </tr>\n",
       "    <tr>\n",
       "      <th>1</th>\n",
       "      <td>Sabrina Carpenter</td>\n",
       "      <td>2019-09-15 03:47</td>\n",
       "      <td>13467</td>\n",
       "      <td>In My Bed</td>\n",
       "    </tr>\n",
       "    <tr>\n",
       "      <th>2</th>\n",
       "      <td>Emile Haynie</td>\n",
       "      <td>2019-09-15 03:52</td>\n",
       "      <td>292280</td>\n",
       "      <td>Wait For Life</td>\n",
       "    </tr>\n",
       "    <tr>\n",
       "      <th>3</th>\n",
       "      <td>5 Seconds of Summer</td>\n",
       "      <td>2019-09-15 03:54</td>\n",
       "      <td>10588</td>\n",
       "      <td>Teeth</td>\n",
       "    </tr>\n",
       "    <tr>\n",
       "      <th>4</th>\n",
       "      <td>Pradeep</td>\n",
       "      <td>2019-09-15 03:58</td>\n",
       "      <td>230268</td>\n",
       "      <td>Aasai Oru Pulveli</td>\n",
       "    </tr>\n",
       "    <tr>\n",
       "      <th>...</th>\n",
       "      <td>...</td>\n",
       "      <td>...</td>\n",
       "      <td>...</td>\n",
       "      <td>...</td>\n",
       "    </tr>\n",
       "    <tr>\n",
       "      <th>4749</th>\n",
       "      <td>A.R. Rahman</td>\n",
       "      <td>2020-09-14 15:17</td>\n",
       "      <td>70880</td>\n",
       "      <td>Innum Konjam Naeram</td>\n",
       "    </tr>\n",
       "    <tr>\n",
       "      <th>4750</th>\n",
       "      <td>A.R. Rahman</td>\n",
       "      <td>2020-09-15 15:12</td>\n",
       "      <td>9090</td>\n",
       "      <td>Azhagiye</td>\n",
       "    </tr>\n",
       "    <tr>\n",
       "      <th>4751</th>\n",
       "      <td>A.R. Rahman</td>\n",
       "      <td>2020-09-15 15:12</td>\n",
       "      <td>54642</td>\n",
       "      <td>Innum Konjam Naeram</td>\n",
       "    </tr>\n",
       "    <tr>\n",
       "      <th>4752</th>\n",
       "      <td>A.R. Rahman</td>\n",
       "      <td>2020-09-15 15:16</td>\n",
       "      <td>243360</td>\n",
       "      <td>Khulke Jeene Ka</td>\n",
       "    </tr>\n",
       "    <tr>\n",
       "      <th>4753</th>\n",
       "      <td>L. V. Revanth</td>\n",
       "      <td>2020-09-15 15:20</td>\n",
       "      <td>252286</td>\n",
       "      <td>Telisiney Na Nuvvey</td>\n",
       "    </tr>\n",
       "  </tbody>\n",
       "</table>\n",
       "<p>4754 rows × 4 columns</p>\n",
       "</div>"
      ],
      "text/plain": [
       "              artist_name          end_time  ms_played  \\\n",
       "0              Sid Sriram  2019-09-14 04:29      23730   \n",
       "1       Sabrina Carpenter  2019-09-15 03:47      13467   \n",
       "2            Emile Haynie  2019-09-15 03:52     292280   \n",
       "3     5 Seconds of Summer  2019-09-15 03:54      10588   \n",
       "4                 Pradeep  2019-09-15 03:58     230268   \n",
       "...                   ...               ...        ...   \n",
       "4749          A.R. Rahman  2020-09-14 15:17      70880   \n",
       "4750          A.R. Rahman  2020-09-15 15:12       9090   \n",
       "4751          A.R. Rahman  2020-09-15 15:12      54642   \n",
       "4752          A.R. Rahman  2020-09-15 15:16     243360   \n",
       "4753        L. V. Revanth  2020-09-15 15:20     252286   \n",
       "\n",
       "                      track_name  \n",
       "0     Inkem Inkem Inkem Kaavaale  \n",
       "1                      In My Bed  \n",
       "2                  Wait For Life  \n",
       "3                          Teeth  \n",
       "4              Aasai Oru Pulveli  \n",
       "...                          ...  \n",
       "4749         Innum Konjam Naeram  \n",
       "4750                    Azhagiye  \n",
       "4751         Innum Konjam Naeram  \n",
       "4752             Khulke Jeene Ka  \n",
       "4753         Telisiney Na Nuvvey  \n",
       "\n",
       "[4754 rows x 4 columns]"
      ]
     },
     "execution_count": 9,
     "metadata": {},
     "output_type": "execute_result"
    }
   ],
   "source": [
    "df1"
   ]
  }
 ],
 "metadata": {
  "kernelspec": {
   "display_name": "Python 3 (ipykernel)",
   "language": "python",
   "name": "python3"
  },
  "language_info": {
   "codemirror_mode": {
    "name": "ipython",
    "version": 3
   },
   "file_extension": ".py",
   "mimetype": "text/x-python",
   "name": "python",
   "nbconvert_exporter": "python",
   "pygments_lexer": "ipython3",
   "version": "3.11.4"
  }
 },
 "nbformat": 4,
 "nbformat_minor": 2
}
