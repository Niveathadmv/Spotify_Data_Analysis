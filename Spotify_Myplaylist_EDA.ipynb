{
 "cells": [
  {
   "cell_type": "code",
   "execution_count": 71,
   "metadata": {},
   "outputs": [
    {
     "data": {
      "text/html": [
       "        <script type=\"text/javascript\">\n",
       "        window.PlotlyConfig = {MathJaxConfig: 'local'};\n",
       "        if (window.MathJax && window.MathJax.Hub && window.MathJax.Hub.Config) {window.MathJax.Hub.Config({SVG: {font: \"STIX-Web\"}});}\n",
       "        if (typeof require !== 'undefined') {\n",
       "        require.undef(\"plotly\");\n",
       "        requirejs.config({\n",
       "            paths: {\n",
       "                'plotly': ['https://cdn.plot.ly/plotly-2.12.1.min']\n",
       "            }\n",
       "        });\n",
       "        require(['plotly'], function(Plotly) {\n",
       "            window._Plotly = Plotly;\n",
       "        });\n",
       "        }\n",
       "        </script>\n",
       "        "
      ]
     },
     "metadata": {},
     "output_type": "display_data"
    }
   ],
   "source": [
    "import pandas as pd\n",
    "import numpy as np\n",
    "import matplotlib.pyplot as plt\n",
    "import seaborn as sns\n",
    "from pandas import Series,DataFrame\n",
    "import sqlite3\n",
    "\n",
    "import json\n",
    "\n",
    "import plotly.express as px\n",
    "from plotly.offline import download_plotlyjs, init_notebook_mode, plot, iplot\n",
    "init_notebook_mode(connected=True)\n",
    "\n",
    "import plotly.graph_objects as go\n"
   ]
  },
  {
   "cell_type": "code",
   "execution_count": 72,
   "metadata": {},
   "outputs": [],
   "source": [
    "db_conn = sqlite3.connect(r\"C:\\Users\\Niveatha\\OneDrive\\Niv\\Spotify\\SpotifyDB.db\")"
   ]
  },
  {
   "cell_type": "code",
   "execution_count": 73,
   "metadata": {},
   "outputs": [],
   "source": [
    "sql_query = \"SELECT * FROM spotify_streaming_history;\""
   ]
  },
  {
   "cell_type": "code",
   "execution_count": 74,
   "metadata": {},
   "outputs": [],
   "source": [
    "df1 = pd.read_sql_query(sql_query, db_conn)"
   ]
  },
  {
   "cell_type": "code",
   "execution_count": 75,
   "metadata": {},
   "outputs": [
    {
     "name": "stderr",
     "output_type": "stream",
     "text": [
      "C:\\Users\\Niveatha\\AppData\\Local\\Temp\\ipykernel_53856\\2270965431.py:2: SettingWithCopyWarning:\n",
      "\n",
      "\n",
      "A value is trying to be set on a copy of a slice from a DataFrame\n",
      "\n",
      "See the caveats in the documentation: https://pandas.pydata.org/pandas-docs/stable/user_guide/indexing.html#returning-a-view-versus-a-copy\n",
      "\n"
     ]
    }
   ],
   "source": [
    "df_mine = df1[['artist_name','track_name', 'minutes_played','day', 'time' ]]\n",
    "df_mine.rename(columns= {'day': 'date'}, inplace= True)"
   ]
  },
  {
   "cell_type": "code",
   "execution_count": 76,
   "metadata": {},
   "outputs": [
    {
     "data": {
      "text/html": [
       "<div>\n",
       "<style scoped>\n",
       "    .dataframe tbody tr th:only-of-type {\n",
       "        vertical-align: middle;\n",
       "    }\n",
       "\n",
       "    .dataframe tbody tr th {\n",
       "        vertical-align: top;\n",
       "    }\n",
       "\n",
       "    .dataframe thead th {\n",
       "        text-align: right;\n",
       "    }\n",
       "</style>\n",
       "<table border=\"1\" class=\"dataframe\">\n",
       "  <thead>\n",
       "    <tr style=\"text-align: right;\">\n",
       "      <th></th>\n",
       "      <th>artist_name</th>\n",
       "      <th>track_name</th>\n",
       "      <th>minutes_played</th>\n",
       "      <th>date</th>\n",
       "      <th>time</th>\n",
       "    </tr>\n",
       "  </thead>\n",
       "  <tbody>\n",
       "    <tr>\n",
       "      <th>0</th>\n",
       "      <td>Sid Sriram</td>\n",
       "      <td>Inkem Inkem Inkem Kaavaale</td>\n",
       "      <td>0.395500</td>\n",
       "      <td>2019-09-14</td>\n",
       "      <td>04:29:00</td>\n",
       "    </tr>\n",
       "    <tr>\n",
       "      <th>1</th>\n",
       "      <td>Sabrina Carpenter</td>\n",
       "      <td>In My Bed</td>\n",
       "      <td>0.224450</td>\n",
       "      <td>2019-09-15</td>\n",
       "      <td>03:47:00</td>\n",
       "    </tr>\n",
       "    <tr>\n",
       "      <th>2</th>\n",
       "      <td>Emile Haynie</td>\n",
       "      <td>Wait For Life</td>\n",
       "      <td>4.871333</td>\n",
       "      <td>2019-09-15</td>\n",
       "      <td>03:52:00</td>\n",
       "    </tr>\n",
       "    <tr>\n",
       "      <th>3</th>\n",
       "      <td>Emile Haynie</td>\n",
       "      <td>Wait For Life</td>\n",
       "      <td>4.871333</td>\n",
       "      <td>2020-01-06</td>\n",
       "      <td>08:57:00</td>\n",
       "    </tr>\n",
       "    <tr>\n",
       "      <th>4</th>\n",
       "      <td>Emile Haynie</td>\n",
       "      <td>Wait For Life</td>\n",
       "      <td>4.871333</td>\n",
       "      <td>2020-01-24</td>\n",
       "      <td>02:21:00</td>\n",
       "    </tr>\n",
       "    <tr>\n",
       "      <th>...</th>\n",
       "      <td>...</td>\n",
       "      <td>...</td>\n",
       "      <td>...</td>\n",
       "      <td>...</td>\n",
       "      <td>...</td>\n",
       "    </tr>\n",
       "    <tr>\n",
       "      <th>4632</th>\n",
       "      <td>S. P. Balasubrahmanyam</td>\n",
       "      <td>Vidiya Vidiya Sollitharuven (From \"Pokkiri Raja\")</td>\n",
       "      <td>4.915333</td>\n",
       "      <td>2020-09-14</td>\n",
       "      <td>06:43:00</td>\n",
       "    </tr>\n",
       "    <tr>\n",
       "      <th>4633</th>\n",
       "      <td>S. Janaki</td>\n",
       "      <td>Oh Nenjame</td>\n",
       "      <td>5.684217</td>\n",
       "      <td>2020-09-14</td>\n",
       "      <td>07:03:00</td>\n",
       "    </tr>\n",
       "    <tr>\n",
       "      <th>4634</th>\n",
       "      <td>Kalyan</td>\n",
       "      <td>Vizhigal Meydaiyam Imaigal</td>\n",
       "      <td>4.605550</td>\n",
       "      <td>2020-09-14</td>\n",
       "      <td>07:08:00</td>\n",
       "    </tr>\n",
       "    <tr>\n",
       "      <th>4635</th>\n",
       "      <td>Sachin-Jigar</td>\n",
       "      <td>Saibo</td>\n",
       "      <td>2.932833</td>\n",
       "      <td>2020-09-14</td>\n",
       "      <td>15:16:00</td>\n",
       "    </tr>\n",
       "    <tr>\n",
       "      <th>4636</th>\n",
       "      <td>A.R. Rahman</td>\n",
       "      <td>Azhagiye</td>\n",
       "      <td>0.151500</td>\n",
       "      <td>2020-09-15</td>\n",
       "      <td>15:12:00</td>\n",
       "    </tr>\n",
       "  </tbody>\n",
       "</table>\n",
       "<p>4637 rows × 5 columns</p>\n",
       "</div>"
      ],
      "text/plain": [
       "                 artist_name  \\\n",
       "0                 Sid Sriram   \n",
       "1          Sabrina Carpenter   \n",
       "2               Emile Haynie   \n",
       "3               Emile Haynie   \n",
       "4               Emile Haynie   \n",
       "...                      ...   \n",
       "4632  S. P. Balasubrahmanyam   \n",
       "4633               S. Janaki   \n",
       "4634                  Kalyan   \n",
       "4635            Sachin-Jigar   \n",
       "4636             A.R. Rahman   \n",
       "\n",
       "                                             track_name  minutes_played  \\\n",
       "0                            Inkem Inkem Inkem Kaavaale        0.395500   \n",
       "1                                             In My Bed        0.224450   \n",
       "2                                         Wait For Life        4.871333   \n",
       "3                                         Wait For Life        4.871333   \n",
       "4                                         Wait For Life        4.871333   \n",
       "...                                                 ...             ...   \n",
       "4632  Vidiya Vidiya Sollitharuven (From \"Pokkiri Raja\")        4.915333   \n",
       "4633                                         Oh Nenjame        5.684217   \n",
       "4634                         Vizhigal Meydaiyam Imaigal        4.605550   \n",
       "4635                                              Saibo        2.932833   \n",
       "4636                                           Azhagiye        0.151500   \n",
       "\n",
       "            date      time  \n",
       "0     2019-09-14  04:29:00  \n",
       "1     2019-09-15  03:47:00  \n",
       "2     2019-09-15  03:52:00  \n",
       "3     2020-01-06  08:57:00  \n",
       "4     2020-01-24  02:21:00  \n",
       "...          ...       ...  \n",
       "4632  2020-09-14  06:43:00  \n",
       "4633  2020-09-14  07:03:00  \n",
       "4634  2020-09-14  07:08:00  \n",
       "4635  2020-09-14  15:16:00  \n",
       "4636  2020-09-15  15:12:00  \n",
       "\n",
       "[4637 rows x 5 columns]"
      ]
     },
     "execution_count": 76,
     "metadata": {},
     "output_type": "execute_result"
    }
   ],
   "source": [
    "df_mine"
   ]
  },
  {
   "cell_type": "code",
   "execution_count": 77,
   "metadata": {},
   "outputs": [
    {
     "data": {
      "text/plain": [
       "0"
      ]
     },
     "execution_count": 77,
     "metadata": {},
     "output_type": "execute_result"
    }
   ],
   "source": [
    "df_mine.duplicated().sum()"
   ]
  },
  {
   "cell_type": "code",
   "execution_count": 78,
   "metadata": {},
   "outputs": [
    {
     "data": {
      "text/html": [
       "<div>\n",
       "<style scoped>\n",
       "    .dataframe tbody tr th:only-of-type {\n",
       "        vertical-align: middle;\n",
       "    }\n",
       "\n",
       "    .dataframe tbody tr th {\n",
       "        vertical-align: top;\n",
       "    }\n",
       "\n",
       "    .dataframe thead th {\n",
       "        text-align: right;\n",
       "    }\n",
       "</style>\n",
       "<table border=\"1\" class=\"dataframe\">\n",
       "  <thead>\n",
       "    <tr style=\"text-align: right;\">\n",
       "      <th></th>\n",
       "      <th>artist_name</th>\n",
       "      <th>track_name</th>\n",
       "      <th>minutes_played</th>\n",
       "      <th>date</th>\n",
       "      <th>time</th>\n",
       "    </tr>\n",
       "  </thead>\n",
       "  <tbody>\n",
       "    <tr>\n",
       "      <th>4242</th>\n",
       "      <td>Sleep Deep Music</td>\n",
       "      <td>Relaxing music river Flute</td>\n",
       "      <td>30.948317</td>\n",
       "      <td>2020-06-29</td>\n",
       "      <td>06:03:00</td>\n",
       "    </tr>\n",
       "    <tr>\n",
       "      <th>4527</th>\n",
       "      <td>Meditative Mind</td>\n",
       "      <td>OM Chanting at 432Hz</td>\n",
       "      <td>29.813883</td>\n",
       "      <td>2020-08-12</td>\n",
       "      <td>12:20:00</td>\n",
       "    </tr>\n",
       "    <tr>\n",
       "      <th>4526</th>\n",
       "      <td>Meditative Mind</td>\n",
       "      <td>OM Chanting at 432Hz</td>\n",
       "      <td>27.621533</td>\n",
       "      <td>2020-08-11</td>\n",
       "      <td>02:34:00</td>\n",
       "    </tr>\n",
       "    <tr>\n",
       "      <th>3028</th>\n",
       "      <td>Pink Floyd</td>\n",
       "      <td>Echoes</td>\n",
       "      <td>23.540850</td>\n",
       "      <td>2020-02-06</td>\n",
       "      <td>06:30:00</td>\n",
       "    </tr>\n",
       "    <tr>\n",
       "      <th>4523</th>\n",
       "      <td>Meditative Mind</td>\n",
       "      <td>OM Chanting at 432Hz</td>\n",
       "      <td>19.523833</td>\n",
       "      <td>2020-07-28</td>\n",
       "      <td>02:44:00</td>\n",
       "    </tr>\n",
       "    <tr>\n",
       "      <th>3022</th>\n",
       "      <td>Pink Floyd</td>\n",
       "      <td>Dogs</td>\n",
       "      <td>17.088000</td>\n",
       "      <td>2020-02-03</td>\n",
       "      <td>13:13:00</td>\n",
       "    </tr>\n",
       "    <tr>\n",
       "      <th>4524</th>\n",
       "      <td>Meditative Mind</td>\n",
       "      <td>OM Chanting at 432Hz</td>\n",
       "      <td>15.136500</td>\n",
       "      <td>2020-07-30</td>\n",
       "      <td>02:29:00</td>\n",
       "    </tr>\n",
       "    <tr>\n",
       "      <th>4390</th>\n",
       "      <td>Krishna Das</td>\n",
       "      <td>Om Namah Shivaya</td>\n",
       "      <td>13.494217</td>\n",
       "      <td>2020-07-08</td>\n",
       "      <td>02:27:00</td>\n",
       "    </tr>\n",
       "    <tr>\n",
       "      <th>2920</th>\n",
       "      <td>Joseph Murphy</td>\n",
       "      <td>The Treasure House Within You</td>\n",
       "      <td>13.479950</td>\n",
       "      <td>2020-01-22</td>\n",
       "      <td>10:31:00</td>\n",
       "    </tr>\n",
       "    <tr>\n",
       "      <th>3042</th>\n",
       "      <td>Pink Floyd</td>\n",
       "      <td>A Saucerful of Secrets</td>\n",
       "      <td>11.944883</td>\n",
       "      <td>2020-02-07</td>\n",
       "      <td>09:44:00</td>\n",
       "    </tr>\n",
       "    <tr>\n",
       "      <th>2927</th>\n",
       "      <td>Joseph Murphy</td>\n",
       "      <td>How Your Own Mind Works</td>\n",
       "      <td>11.827200</td>\n",
       "      <td>2020-01-22</td>\n",
       "      <td>10:49:00</td>\n",
       "    </tr>\n",
       "    <tr>\n",
       "      <th>105</th>\n",
       "      <td>Billie Eilish</td>\n",
       "      <td>bad guy (with Justin Bieber)</td>\n",
       "      <td>10.317267</td>\n",
       "      <td>2019-10-18</td>\n",
       "      <td>15:43:00</td>\n",
       "    </tr>\n",
       "    <tr>\n",
       "      <th>1961</th>\n",
       "      <td>Daniel Caesar</td>\n",
       "      <td>Freudian</td>\n",
       "      <td>10.038267</td>\n",
       "      <td>2019-11-07</td>\n",
       "      <td>06:38:00</td>\n",
       "    </tr>\n",
       "    <tr>\n",
       "      <th>4597</th>\n",
       "      <td>Rakesh Chaurasia</td>\n",
       "      <td>Gratitude</td>\n",
       "      <td>9.936350</td>\n",
       "      <td>2020-08-31</td>\n",
       "      <td>02:42:00</td>\n",
       "    </tr>\n",
       "    <tr>\n",
       "      <th>4596</th>\n",
       "      <td>Rakesh Chaurasia</td>\n",
       "      <td>Gratitude</td>\n",
       "      <td>9.936350</td>\n",
       "      <td>2020-08-23</td>\n",
       "      <td>02:51:00</td>\n",
       "    </tr>\n",
       "    <tr>\n",
       "      <th>199</th>\n",
       "      <td>Lana Del Rey</td>\n",
       "      <td>Venice Bitch</td>\n",
       "      <td>9.619983</td>\n",
       "      <td>2020-02-13</td>\n",
       "      <td>07:25:00</td>\n",
       "    </tr>\n",
       "    <tr>\n",
       "      <th>194</th>\n",
       "      <td>Lana Del Rey</td>\n",
       "      <td>Venice Bitch</td>\n",
       "      <td>9.619983</td>\n",
       "      <td>2019-10-08</td>\n",
       "      <td>11:03:00</td>\n",
       "    </tr>\n",
       "    <tr>\n",
       "      <th>195</th>\n",
       "      <td>Lana Del Rey</td>\n",
       "      <td>Venice Bitch</td>\n",
       "      <td>9.619983</td>\n",
       "      <td>2019-10-17</td>\n",
       "      <td>11:34:00</td>\n",
       "    </tr>\n",
       "    <tr>\n",
       "      <th>198</th>\n",
       "      <td>Lana Del Rey</td>\n",
       "      <td>Venice Bitch</td>\n",
       "      <td>9.619983</td>\n",
       "      <td>2020-01-30</td>\n",
       "      <td>06:42:00</td>\n",
       "    </tr>\n",
       "    <tr>\n",
       "      <th>1826</th>\n",
       "      <td>Arijit Singh</td>\n",
       "      <td>Bekhayali (Arijit Singh Version) [From \"Kabir ...</td>\n",
       "      <td>9.543083</td>\n",
       "      <td>2020-01-28</td>\n",
       "      <td>14:09:00</td>\n",
       "    </tr>\n",
       "  </tbody>\n",
       "</table>\n",
       "</div>"
      ],
      "text/plain": [
       "           artist_name                                         track_name  \\\n",
       "4242  Sleep Deep Music                         Relaxing music river Flute   \n",
       "4527   Meditative Mind                               OM Chanting at 432Hz   \n",
       "4526   Meditative Mind                               OM Chanting at 432Hz   \n",
       "3028        Pink Floyd                                             Echoes   \n",
       "4523   Meditative Mind                               OM Chanting at 432Hz   \n",
       "3022        Pink Floyd                                               Dogs   \n",
       "4524   Meditative Mind                               OM Chanting at 432Hz   \n",
       "4390       Krishna Das                                   Om Namah Shivaya   \n",
       "2920     Joseph Murphy                      The Treasure House Within You   \n",
       "3042        Pink Floyd                             A Saucerful of Secrets   \n",
       "2927     Joseph Murphy                            How Your Own Mind Works   \n",
       "105      Billie Eilish                       bad guy (with Justin Bieber)   \n",
       "1961     Daniel Caesar                                           Freudian   \n",
       "4597  Rakesh Chaurasia                                          Gratitude   \n",
       "4596  Rakesh Chaurasia                                          Gratitude   \n",
       "199       Lana Del Rey                                       Venice Bitch   \n",
       "194       Lana Del Rey                                       Venice Bitch   \n",
       "195       Lana Del Rey                                       Venice Bitch   \n",
       "198       Lana Del Rey                                       Venice Bitch   \n",
       "1826      Arijit Singh  Bekhayali (Arijit Singh Version) [From \"Kabir ...   \n",
       "\n",
       "      minutes_played        date      time  \n",
       "4242       30.948317  2020-06-29  06:03:00  \n",
       "4527       29.813883  2020-08-12  12:20:00  \n",
       "4526       27.621533  2020-08-11  02:34:00  \n",
       "3028       23.540850  2020-02-06  06:30:00  \n",
       "4523       19.523833  2020-07-28  02:44:00  \n",
       "3022       17.088000  2020-02-03  13:13:00  \n",
       "4524       15.136500  2020-07-30  02:29:00  \n",
       "4390       13.494217  2020-07-08  02:27:00  \n",
       "2920       13.479950  2020-01-22  10:31:00  \n",
       "3042       11.944883  2020-02-07  09:44:00  \n",
       "2927       11.827200  2020-01-22  10:49:00  \n",
       "105        10.317267  2019-10-18  15:43:00  \n",
       "1961       10.038267  2019-11-07  06:38:00  \n",
       "4597        9.936350  2020-08-31  02:42:00  \n",
       "4596        9.936350  2020-08-23  02:51:00  \n",
       "199         9.619983  2020-02-13  07:25:00  \n",
       "194         9.619983  2019-10-08  11:03:00  \n",
       "195         9.619983  2019-10-17  11:34:00  \n",
       "198         9.619983  2020-01-30  06:42:00  \n",
       "1826        9.543083  2020-01-28  14:09:00  "
      ]
     },
     "execution_count": 78,
     "metadata": {},
     "output_type": "execute_result"
    }
   ],
   "source": [
    "df_mine.sort_values(by='minutes_played', ascending=False).head(20)"
   ]
  },
  {
   "cell_type": "markdown",
   "metadata": {},
   "source": [
    "## Popularity of artist based on the number of times their songs were clicked and played"
   ]
  },
  {
   "cell_type": "code",
   "execution_count": 79,
   "metadata": {},
   "outputs": [
    {
     "name": "stdout",
     "output_type": "stream",
     "text": [
      "The most popular artists by number of times their songs were played were: \n",
      "\n",
      "artist_name\n",
      "Lana Del Rey              361\n",
      "Yuvan Shankar Raja        279\n",
      "A.R. Rahman               170\n",
      "Govind Vasantha           169\n",
      "Napoleon Hill             168\n",
      "Billie Eilish             152\n",
      "S. P. Balasubrahmanyam    132\n",
      "Sid Sriram                106\n",
      "Hariharan                  91\n",
      "Pradeep Kumar              90\n",
      "Unnikrishnan               68\n",
      "Arijit Singh               65\n",
      "Harris Jayaraj             58\n",
      "Harish Raghavendra         57\n",
      "Anirudh Ravichander        53\n",
      "Name: track_name, dtype: int64\n"
     ]
    }
   ],
   "source": [
    "\n",
    "most_played_artists_by_count = df_mine.groupby(by='artist_name')['track_name'].count().sort_values(ascending=False)[:15]\n",
    "\n",
    "print('The most popular artists by number of times their songs were played were: \\n\\n{}'.format(most_played_artists_by_count))"
   ]
  },
  {
   "cell_type": "code",
   "execution_count": 176,
   "metadata": {},
   "outputs": [
    {
     "data": {
      "application/vnd.plotly.v1+json": {
       "config": {
        "plotlyServerURL": "https://plot.ly"
       },
       "data": [
        {
         "marker": {
          "color": [
           "RGB(103, 0, 31)",
           "RGB(178, 24, 43)",
           "RGB(214, 96, 77)",
           "RGB(244, 165, 130)",
           "RGB(253, 219, 199)",
           "RGB(247, 247, 247)",
           "RGB(209, 229, 240)",
           "RGB(146, 197, 222)",
           "RGB(67, 147, 195)",
           "RGB(33, 102, 172)",
           "RGB(5, 48, 97)"
          ]
         },
         "opacity": 1,
         "type": "bar",
         "x": [
          "Lana Del Rey",
          "Yuvan Shankar Raja",
          "A.R. Rahman",
          "S. P. Balasubrahmanyam",
          "Billie Eilish",
          "Pradeep Kumar",
          "Napoleon Hill",
          "Hariharan",
          "Sid Sriram",
          "Arijit Singh",
          "Unnikrishnan",
          "Govind Vasantha",
          "Kadhal Desam",
          "Vishal Mishra",
          "Harris Jayaraj"
         ],
         "y": [
          1352.7679833333334,
          630.0913166666667,
          501.5480166666667,
          369.09503333333333,
          368.40698333333336,
          324.9098333333333,
          292.9677,
          289.2946166666667,
          262.0152,
          231.94828333333334,
          227.67725000000002,
          226.03215,
          157.80628333333334,
          142.14763333333335,
          141.11876666666666
         ]
        }
       ],
       "layout": {
        "template": {
         "data": {
          "bar": [
           {
            "error_x": {
             "color": "#2a3f5f"
            },
            "error_y": {
             "color": "#2a3f5f"
            },
            "marker": {
             "line": {
              "color": "#E5ECF6",
              "width": 0.5
             },
             "pattern": {
              "fillmode": "overlay",
              "size": 10,
              "solidity": 0.2
             }
            },
            "type": "bar"
           }
          ],
          "barpolar": [
           {
            "marker": {
             "line": {
              "color": "#E5ECF6",
              "width": 0.5
             },
             "pattern": {
              "fillmode": "overlay",
              "size": 10,
              "solidity": 0.2
             }
            },
            "type": "barpolar"
           }
          ],
          "carpet": [
           {
            "aaxis": {
             "endlinecolor": "#2a3f5f",
             "gridcolor": "white",
             "linecolor": "white",
             "minorgridcolor": "white",
             "startlinecolor": "#2a3f5f"
            },
            "baxis": {
             "endlinecolor": "#2a3f5f",
             "gridcolor": "white",
             "linecolor": "white",
             "minorgridcolor": "white",
             "startlinecolor": "#2a3f5f"
            },
            "type": "carpet"
           }
          ],
          "choropleth": [
           {
            "colorbar": {
             "outlinewidth": 0,
             "ticks": ""
            },
            "type": "choropleth"
           }
          ],
          "contour": [
           {
            "colorbar": {
             "outlinewidth": 0,
             "ticks": ""
            },
            "colorscale": [
             [
              0,
              "#0d0887"
             ],
             [
              0.1111111111111111,
              "#46039f"
             ],
             [
              0.2222222222222222,
              "#7201a8"
             ],
             [
              0.3333333333333333,
              "#9c179e"
             ],
             [
              0.4444444444444444,
              "#bd3786"
             ],
             [
              0.5555555555555556,
              "#d8576b"
             ],
             [
              0.6666666666666666,
              "#ed7953"
             ],
             [
              0.7777777777777778,
              "#fb9f3a"
             ],
             [
              0.8888888888888888,
              "#fdca26"
             ],
             [
              1,
              "#f0f921"
             ]
            ],
            "type": "contour"
           }
          ],
          "contourcarpet": [
           {
            "colorbar": {
             "outlinewidth": 0,
             "ticks": ""
            },
            "type": "contourcarpet"
           }
          ],
          "heatmap": [
           {
            "colorbar": {
             "outlinewidth": 0,
             "ticks": ""
            },
            "colorscale": [
             [
              0,
              "#0d0887"
             ],
             [
              0.1111111111111111,
              "#46039f"
             ],
             [
              0.2222222222222222,
              "#7201a8"
             ],
             [
              0.3333333333333333,
              "#9c179e"
             ],
             [
              0.4444444444444444,
              "#bd3786"
             ],
             [
              0.5555555555555556,
              "#d8576b"
             ],
             [
              0.6666666666666666,
              "#ed7953"
             ],
             [
              0.7777777777777778,
              "#fb9f3a"
             ],
             [
              0.8888888888888888,
              "#fdca26"
             ],
             [
              1,
              "#f0f921"
             ]
            ],
            "type": "heatmap"
           }
          ],
          "heatmapgl": [
           {
            "colorbar": {
             "outlinewidth": 0,
             "ticks": ""
            },
            "colorscale": [
             [
              0,
              "#0d0887"
             ],
             [
              0.1111111111111111,
              "#46039f"
             ],
             [
              0.2222222222222222,
              "#7201a8"
             ],
             [
              0.3333333333333333,
              "#9c179e"
             ],
             [
              0.4444444444444444,
              "#bd3786"
             ],
             [
              0.5555555555555556,
              "#d8576b"
             ],
             [
              0.6666666666666666,
              "#ed7953"
             ],
             [
              0.7777777777777778,
              "#fb9f3a"
             ],
             [
              0.8888888888888888,
              "#fdca26"
             ],
             [
              1,
              "#f0f921"
             ]
            ],
            "type": "heatmapgl"
           }
          ],
          "histogram": [
           {
            "marker": {
             "pattern": {
              "fillmode": "overlay",
              "size": 10,
              "solidity": 0.2
             }
            },
            "type": "histogram"
           }
          ],
          "histogram2d": [
           {
            "colorbar": {
             "outlinewidth": 0,
             "ticks": ""
            },
            "colorscale": [
             [
              0,
              "#0d0887"
             ],
             [
              0.1111111111111111,
              "#46039f"
             ],
             [
              0.2222222222222222,
              "#7201a8"
             ],
             [
              0.3333333333333333,
              "#9c179e"
             ],
             [
              0.4444444444444444,
              "#bd3786"
             ],
             [
              0.5555555555555556,
              "#d8576b"
             ],
             [
              0.6666666666666666,
              "#ed7953"
             ],
             [
              0.7777777777777778,
              "#fb9f3a"
             ],
             [
              0.8888888888888888,
              "#fdca26"
             ],
             [
              1,
              "#f0f921"
             ]
            ],
            "type": "histogram2d"
           }
          ],
          "histogram2dcontour": [
           {
            "colorbar": {
             "outlinewidth": 0,
             "ticks": ""
            },
            "colorscale": [
             [
              0,
              "#0d0887"
             ],
             [
              0.1111111111111111,
              "#46039f"
             ],
             [
              0.2222222222222222,
              "#7201a8"
             ],
             [
              0.3333333333333333,
              "#9c179e"
             ],
             [
              0.4444444444444444,
              "#bd3786"
             ],
             [
              0.5555555555555556,
              "#d8576b"
             ],
             [
              0.6666666666666666,
              "#ed7953"
             ],
             [
              0.7777777777777778,
              "#fb9f3a"
             ],
             [
              0.8888888888888888,
              "#fdca26"
             ],
             [
              1,
              "#f0f921"
             ]
            ],
            "type": "histogram2dcontour"
           }
          ],
          "mesh3d": [
           {
            "colorbar": {
             "outlinewidth": 0,
             "ticks": ""
            },
            "type": "mesh3d"
           }
          ],
          "parcoords": [
           {
            "line": {
             "colorbar": {
              "outlinewidth": 0,
              "ticks": ""
             }
            },
            "type": "parcoords"
           }
          ],
          "pie": [
           {
            "automargin": true,
            "type": "pie"
           }
          ],
          "scatter": [
           {
            "fillpattern": {
             "fillmode": "overlay",
             "size": 10,
             "solidity": 0.2
            },
            "type": "scatter"
           }
          ],
          "scatter3d": [
           {
            "line": {
             "colorbar": {
              "outlinewidth": 0,
              "ticks": ""
             }
            },
            "marker": {
             "colorbar": {
              "outlinewidth": 0,
              "ticks": ""
             }
            },
            "type": "scatter3d"
           }
          ],
          "scattercarpet": [
           {
            "marker": {
             "colorbar": {
              "outlinewidth": 0,
              "ticks": ""
             }
            },
            "type": "scattercarpet"
           }
          ],
          "scattergeo": [
           {
            "marker": {
             "colorbar": {
              "outlinewidth": 0,
              "ticks": ""
             }
            },
            "type": "scattergeo"
           }
          ],
          "scattergl": [
           {
            "marker": {
             "colorbar": {
              "outlinewidth": 0,
              "ticks": ""
             }
            },
            "type": "scattergl"
           }
          ],
          "scattermapbox": [
           {
            "marker": {
             "colorbar": {
              "outlinewidth": 0,
              "ticks": ""
             }
            },
            "type": "scattermapbox"
           }
          ],
          "scatterpolar": [
           {
            "marker": {
             "colorbar": {
              "outlinewidth": 0,
              "ticks": ""
             }
            },
            "type": "scatterpolar"
           }
          ],
          "scatterpolargl": [
           {
            "marker": {
             "colorbar": {
              "outlinewidth": 0,
              "ticks": ""
             }
            },
            "type": "scatterpolargl"
           }
          ],
          "scatterternary": [
           {
            "marker": {
             "colorbar": {
              "outlinewidth": 0,
              "ticks": ""
             }
            },
            "type": "scatterternary"
           }
          ],
          "surface": [
           {
            "colorbar": {
             "outlinewidth": 0,
             "ticks": ""
            },
            "colorscale": [
             [
              0,
              "#0d0887"
             ],
             [
              0.1111111111111111,
              "#46039f"
             ],
             [
              0.2222222222222222,
              "#7201a8"
             ],
             [
              0.3333333333333333,
              "#9c179e"
             ],
             [
              0.4444444444444444,
              "#bd3786"
             ],
             [
              0.5555555555555556,
              "#d8576b"
             ],
             [
              0.6666666666666666,
              "#ed7953"
             ],
             [
              0.7777777777777778,
              "#fb9f3a"
             ],
             [
              0.8888888888888888,
              "#fdca26"
             ],
             [
              1,
              "#f0f921"
             ]
            ],
            "type": "surface"
           }
          ],
          "table": [
           {
            "cells": {
             "fill": {
              "color": "#EBF0F8"
             },
             "line": {
              "color": "white"
             }
            },
            "header": {
             "fill": {
              "color": "#C8D4E3"
             },
             "line": {
              "color": "white"
             }
            },
            "type": "table"
           }
          ]
         },
         "layout": {
          "annotationdefaults": {
           "arrowcolor": "#2a3f5f",
           "arrowhead": 0,
           "arrowwidth": 1
          },
          "autotypenumbers": "strict",
          "coloraxis": {
           "colorbar": {
            "outlinewidth": 0,
            "ticks": ""
           }
          },
          "colorscale": {
           "diverging": [
            [
             0,
             "#8e0152"
            ],
            [
             0.1,
             "#c51b7d"
            ],
            [
             0.2,
             "#de77ae"
            ],
            [
             0.3,
             "#f1b6da"
            ],
            [
             0.4,
             "#fde0ef"
            ],
            [
             0.5,
             "#f7f7f7"
            ],
            [
             0.6,
             "#e6f5d0"
            ],
            [
             0.7,
             "#b8e186"
            ],
            [
             0.8,
             "#7fbc41"
            ],
            [
             0.9,
             "#4d9221"
            ],
            [
             1,
             "#276419"
            ]
           ],
           "sequential": [
            [
             0,
             "#0d0887"
            ],
            [
             0.1111111111111111,
             "#46039f"
            ],
            [
             0.2222222222222222,
             "#7201a8"
            ],
            [
             0.3333333333333333,
             "#9c179e"
            ],
            [
             0.4444444444444444,
             "#bd3786"
            ],
            [
             0.5555555555555556,
             "#d8576b"
            ],
            [
             0.6666666666666666,
             "#ed7953"
            ],
            [
             0.7777777777777778,
             "#fb9f3a"
            ],
            [
             0.8888888888888888,
             "#fdca26"
            ],
            [
             1,
             "#f0f921"
            ]
           ],
           "sequentialminus": [
            [
             0,
             "#0d0887"
            ],
            [
             0.1111111111111111,
             "#46039f"
            ],
            [
             0.2222222222222222,
             "#7201a8"
            ],
            [
             0.3333333333333333,
             "#9c179e"
            ],
            [
             0.4444444444444444,
             "#bd3786"
            ],
            [
             0.5555555555555556,
             "#d8576b"
            ],
            [
             0.6666666666666666,
             "#ed7953"
            ],
            [
             0.7777777777777778,
             "#fb9f3a"
            ],
            [
             0.8888888888888888,
             "#fdca26"
            ],
            [
             1,
             "#f0f921"
            ]
           ]
          },
          "colorway": [
           "#636efa",
           "#EF553B",
           "#00cc96",
           "#ab63fa",
           "#FFA15A",
           "#19d3f3",
           "#FF6692",
           "#B6E880",
           "#FF97FF",
           "#FECB52"
          ],
          "font": {
           "color": "#2a3f5f"
          },
          "geo": {
           "bgcolor": "white",
           "lakecolor": "white",
           "landcolor": "#E5ECF6",
           "showlakes": true,
           "showland": true,
           "subunitcolor": "white"
          },
          "hoverlabel": {
           "align": "left"
          },
          "hovermode": "closest",
          "mapbox": {
           "style": "light"
          },
          "paper_bgcolor": "white",
          "plot_bgcolor": "#E5ECF6",
          "polar": {
           "angularaxis": {
            "gridcolor": "white",
            "linecolor": "white",
            "ticks": ""
           },
           "bgcolor": "#E5ECF6",
           "radialaxis": {
            "gridcolor": "white",
            "linecolor": "white",
            "ticks": ""
           }
          },
          "scene": {
           "xaxis": {
            "backgroundcolor": "#E5ECF6",
            "gridcolor": "white",
            "gridwidth": 2,
            "linecolor": "white",
            "showbackground": true,
            "ticks": "",
            "zerolinecolor": "white"
           },
           "yaxis": {
            "backgroundcolor": "#E5ECF6",
            "gridcolor": "white",
            "gridwidth": 2,
            "linecolor": "white",
            "showbackground": true,
            "ticks": "",
            "zerolinecolor": "white"
           },
           "zaxis": {
            "backgroundcolor": "#E5ECF6",
            "gridcolor": "white",
            "gridwidth": 2,
            "linecolor": "white",
            "showbackground": true,
            "ticks": "",
            "zerolinecolor": "white"
           }
          },
          "shapedefaults": {
           "line": {
            "color": "#2a3f5f"
           }
          },
          "ternary": {
           "aaxis": {
            "gridcolor": "white",
            "linecolor": "white",
            "ticks": ""
           },
           "baxis": {
            "gridcolor": "white",
            "linecolor": "white",
            "ticks": ""
           },
           "bgcolor": "#E5ECF6",
           "caxis": {
            "gridcolor": "white",
            "linecolor": "white",
            "ticks": ""
           }
          },
          "title": {
           "x": 0.05
          },
          "xaxis": {
           "automargin": true,
           "gridcolor": "white",
           "linecolor": "white",
           "ticks": "",
           "title": {
            "standoff": 15
           },
           "zerolinecolor": "white",
           "zerolinewidth": 2
          },
          "yaxis": {
           "automargin": true,
           "gridcolor": "white",
           "linecolor": "white",
           "ticks": "",
           "title": {
            "standoff": 15
           },
           "zerolinecolor": "white",
           "zerolinewidth": 2
          }
         }
        },
        "title": {
         "text": "Popularity Of Artists By Number Of Times Their Song Was Played"
        },
        "xaxis": {
         "title": {
          "text": "Artist Name"
         }
        },
        "yaxis": {
         "gridcolor": "rgb(255, 255, 255)",
         "gridwidth": 2,
         "ticklen": 5,
         "title": {
          "font": {
           "size": 15
          },
          "text": "Number of Times Played"
         },
         "zerolinewidth": 1
        }
       }
      },
      "text/html": [
       "<div>                            <div id=\"d52ae929-c33a-4202-913b-b9ce00d06689\" class=\"plotly-graph-div\" style=\"height:525px; width:100%;\"></div>            <script type=\"text/javascript\">                require([\"plotly\"], function(Plotly) {                    window.PLOTLYENV=window.PLOTLYENV || {};                                    if (document.getElementById(\"d52ae929-c33a-4202-913b-b9ce00d06689\")) {                    Plotly.newPlot(                        \"d52ae929-c33a-4202-913b-b9ce00d06689\",                        [{\"marker\":{\"color\":[\"RGB(103, 0, 31)\",\"RGB(178, 24, 43)\",\"RGB(214, 96, 77)\",\"RGB(244, 165, 130)\",\"RGB(253, 219, 199)\",\"RGB(247, 247, 247)\",\"RGB(209, 229, 240)\",\"RGB(146, 197, 222)\",\"RGB(67, 147, 195)\",\"RGB(33, 102, 172)\",\"RGB(5, 48, 97)\"]},\"opacity\":1,\"x\":[\"Lana Del Rey\",\"Yuvan Shankar Raja\",\"A.R. Rahman\",\"S. P. Balasubrahmanyam\",\"Billie Eilish\",\"Pradeep Kumar\",\"Napoleon Hill\",\"Hariharan\",\"Sid Sriram\",\"Arijit Singh\",\"Unnikrishnan\",\"Govind Vasantha\",\"Kadhal Desam\",\"Vishal Mishra\",\"Harris Jayaraj\"],\"y\":[1352.7679833333334,630.0913166666667,501.5480166666667,369.09503333333333,368.40698333333336,324.9098333333333,292.9677,289.2946166666667,262.0152,231.94828333333334,227.67725000000002,226.03215,157.80628333333334,142.14763333333335,141.11876666666666],\"type\":\"bar\"}],                        {\"title\":{\"text\":\"Popularity Of Artists By Number Of Times Their Song Was Played\"},\"xaxis\":{\"title\":{\"text\":\"Artist Name\"}},\"yaxis\":{\"gridcolor\":\"rgb(255, 255, 255)\",\"gridwidth\":2,\"ticklen\":5,\"title\":{\"font\":{\"size\":15},\"text\":\"Number of Times Played\"},\"zerolinewidth\":1},\"template\":{\"data\":{\"histogram2dcontour\":[{\"type\":\"histogram2dcontour\",\"colorbar\":{\"outlinewidth\":0,\"ticks\":\"\"},\"colorscale\":[[0.0,\"#0d0887\"],[0.1111111111111111,\"#46039f\"],[0.2222222222222222,\"#7201a8\"],[0.3333333333333333,\"#9c179e\"],[0.4444444444444444,\"#bd3786\"],[0.5555555555555556,\"#d8576b\"],[0.6666666666666666,\"#ed7953\"],[0.7777777777777778,\"#fb9f3a\"],[0.8888888888888888,\"#fdca26\"],[1.0,\"#f0f921\"]]}],\"choropleth\":[{\"type\":\"choropleth\",\"colorbar\":{\"outlinewidth\":0,\"ticks\":\"\"}}],\"histogram2d\":[{\"type\":\"histogram2d\",\"colorbar\":{\"outlinewidth\":0,\"ticks\":\"\"},\"colorscale\":[[0.0,\"#0d0887\"],[0.1111111111111111,\"#46039f\"],[0.2222222222222222,\"#7201a8\"],[0.3333333333333333,\"#9c179e\"],[0.4444444444444444,\"#bd3786\"],[0.5555555555555556,\"#d8576b\"],[0.6666666666666666,\"#ed7953\"],[0.7777777777777778,\"#fb9f3a\"],[0.8888888888888888,\"#fdca26\"],[1.0,\"#f0f921\"]]}],\"heatmap\":[{\"type\":\"heatmap\",\"colorbar\":{\"outlinewidth\":0,\"ticks\":\"\"},\"colorscale\":[[0.0,\"#0d0887\"],[0.1111111111111111,\"#46039f\"],[0.2222222222222222,\"#7201a8\"],[0.3333333333333333,\"#9c179e\"],[0.4444444444444444,\"#bd3786\"],[0.5555555555555556,\"#d8576b\"],[0.6666666666666666,\"#ed7953\"],[0.7777777777777778,\"#fb9f3a\"],[0.8888888888888888,\"#fdca26\"],[1.0,\"#f0f921\"]]}],\"heatmapgl\":[{\"type\":\"heatmapgl\",\"colorbar\":{\"outlinewidth\":0,\"ticks\":\"\"},\"colorscale\":[[0.0,\"#0d0887\"],[0.1111111111111111,\"#46039f\"],[0.2222222222222222,\"#7201a8\"],[0.3333333333333333,\"#9c179e\"],[0.4444444444444444,\"#bd3786\"],[0.5555555555555556,\"#d8576b\"],[0.6666666666666666,\"#ed7953\"],[0.7777777777777778,\"#fb9f3a\"],[0.8888888888888888,\"#fdca26\"],[1.0,\"#f0f921\"]]}],\"contourcarpet\":[{\"type\":\"contourcarpet\",\"colorbar\":{\"outlinewidth\":0,\"ticks\":\"\"}}],\"contour\":[{\"type\":\"contour\",\"colorbar\":{\"outlinewidth\":0,\"ticks\":\"\"},\"colorscale\":[[0.0,\"#0d0887\"],[0.1111111111111111,\"#46039f\"],[0.2222222222222222,\"#7201a8\"],[0.3333333333333333,\"#9c179e\"],[0.4444444444444444,\"#bd3786\"],[0.5555555555555556,\"#d8576b\"],[0.6666666666666666,\"#ed7953\"],[0.7777777777777778,\"#fb9f3a\"],[0.8888888888888888,\"#fdca26\"],[1.0,\"#f0f921\"]]}],\"surface\":[{\"type\":\"surface\",\"colorbar\":{\"outlinewidth\":0,\"ticks\":\"\"},\"colorscale\":[[0.0,\"#0d0887\"],[0.1111111111111111,\"#46039f\"],[0.2222222222222222,\"#7201a8\"],[0.3333333333333333,\"#9c179e\"],[0.4444444444444444,\"#bd3786\"],[0.5555555555555556,\"#d8576b\"],[0.6666666666666666,\"#ed7953\"],[0.7777777777777778,\"#fb9f3a\"],[0.8888888888888888,\"#fdca26\"],[1.0,\"#f0f921\"]]}],\"mesh3d\":[{\"type\":\"mesh3d\",\"colorbar\":{\"outlinewidth\":0,\"ticks\":\"\"}}],\"scatter\":[{\"fillpattern\":{\"fillmode\":\"overlay\",\"size\":10,\"solidity\":0.2},\"type\":\"scatter\"}],\"parcoords\":[{\"type\":\"parcoords\",\"line\":{\"colorbar\":{\"outlinewidth\":0,\"ticks\":\"\"}}}],\"scatterpolargl\":[{\"type\":\"scatterpolargl\",\"marker\":{\"colorbar\":{\"outlinewidth\":0,\"ticks\":\"\"}}}],\"bar\":[{\"error_x\":{\"color\":\"#2a3f5f\"},\"error_y\":{\"color\":\"#2a3f5f\"},\"marker\":{\"line\":{\"color\":\"#E5ECF6\",\"width\":0.5},\"pattern\":{\"fillmode\":\"overlay\",\"size\":10,\"solidity\":0.2}},\"type\":\"bar\"}],\"scattergeo\":[{\"type\":\"scattergeo\",\"marker\":{\"colorbar\":{\"outlinewidth\":0,\"ticks\":\"\"}}}],\"scatterpolar\":[{\"type\":\"scatterpolar\",\"marker\":{\"colorbar\":{\"outlinewidth\":0,\"ticks\":\"\"}}}],\"histogram\":[{\"marker\":{\"pattern\":{\"fillmode\":\"overlay\",\"size\":10,\"solidity\":0.2}},\"type\":\"histogram\"}],\"scattergl\":[{\"type\":\"scattergl\",\"marker\":{\"colorbar\":{\"outlinewidth\":0,\"ticks\":\"\"}}}],\"scatter3d\":[{\"type\":\"scatter3d\",\"line\":{\"colorbar\":{\"outlinewidth\":0,\"ticks\":\"\"}},\"marker\":{\"colorbar\":{\"outlinewidth\":0,\"ticks\":\"\"}}}],\"scattermapbox\":[{\"type\":\"scattermapbox\",\"marker\":{\"colorbar\":{\"outlinewidth\":0,\"ticks\":\"\"}}}],\"scatterternary\":[{\"type\":\"scatterternary\",\"marker\":{\"colorbar\":{\"outlinewidth\":0,\"ticks\":\"\"}}}],\"scattercarpet\":[{\"type\":\"scattercarpet\",\"marker\":{\"colorbar\":{\"outlinewidth\":0,\"ticks\":\"\"}}}],\"carpet\":[{\"aaxis\":{\"endlinecolor\":\"#2a3f5f\",\"gridcolor\":\"white\",\"linecolor\":\"white\",\"minorgridcolor\":\"white\",\"startlinecolor\":\"#2a3f5f\"},\"baxis\":{\"endlinecolor\":\"#2a3f5f\",\"gridcolor\":\"white\",\"linecolor\":\"white\",\"minorgridcolor\":\"white\",\"startlinecolor\":\"#2a3f5f\"},\"type\":\"carpet\"}],\"table\":[{\"cells\":{\"fill\":{\"color\":\"#EBF0F8\"},\"line\":{\"color\":\"white\"}},\"header\":{\"fill\":{\"color\":\"#C8D4E3\"},\"line\":{\"color\":\"white\"}},\"type\":\"table\"}],\"barpolar\":[{\"marker\":{\"line\":{\"color\":\"#E5ECF6\",\"width\":0.5},\"pattern\":{\"fillmode\":\"overlay\",\"size\":10,\"solidity\":0.2}},\"type\":\"barpolar\"}],\"pie\":[{\"automargin\":true,\"type\":\"pie\"}]},\"layout\":{\"autotypenumbers\":\"strict\",\"colorway\":[\"#636efa\",\"#EF553B\",\"#00cc96\",\"#ab63fa\",\"#FFA15A\",\"#19d3f3\",\"#FF6692\",\"#B6E880\",\"#FF97FF\",\"#FECB52\"],\"font\":{\"color\":\"#2a3f5f\"},\"hovermode\":\"closest\",\"hoverlabel\":{\"align\":\"left\"},\"paper_bgcolor\":\"white\",\"plot_bgcolor\":\"#E5ECF6\",\"polar\":{\"bgcolor\":\"#E5ECF6\",\"angularaxis\":{\"gridcolor\":\"white\",\"linecolor\":\"white\",\"ticks\":\"\"},\"radialaxis\":{\"gridcolor\":\"white\",\"linecolor\":\"white\",\"ticks\":\"\"}},\"ternary\":{\"bgcolor\":\"#E5ECF6\",\"aaxis\":{\"gridcolor\":\"white\",\"linecolor\":\"white\",\"ticks\":\"\"},\"baxis\":{\"gridcolor\":\"white\",\"linecolor\":\"white\",\"ticks\":\"\"},\"caxis\":{\"gridcolor\":\"white\",\"linecolor\":\"white\",\"ticks\":\"\"}},\"coloraxis\":{\"colorbar\":{\"outlinewidth\":0,\"ticks\":\"\"}},\"colorscale\":{\"sequential\":[[0.0,\"#0d0887\"],[0.1111111111111111,\"#46039f\"],[0.2222222222222222,\"#7201a8\"],[0.3333333333333333,\"#9c179e\"],[0.4444444444444444,\"#bd3786\"],[0.5555555555555556,\"#d8576b\"],[0.6666666666666666,\"#ed7953\"],[0.7777777777777778,\"#fb9f3a\"],[0.8888888888888888,\"#fdca26\"],[1.0,\"#f0f921\"]],\"sequentialminus\":[[0.0,\"#0d0887\"],[0.1111111111111111,\"#46039f\"],[0.2222222222222222,\"#7201a8\"],[0.3333333333333333,\"#9c179e\"],[0.4444444444444444,\"#bd3786\"],[0.5555555555555556,\"#d8576b\"],[0.6666666666666666,\"#ed7953\"],[0.7777777777777778,\"#fb9f3a\"],[0.8888888888888888,\"#fdca26\"],[1.0,\"#f0f921\"]],\"diverging\":[[0,\"#8e0152\"],[0.1,\"#c51b7d\"],[0.2,\"#de77ae\"],[0.3,\"#f1b6da\"],[0.4,\"#fde0ef\"],[0.5,\"#f7f7f7\"],[0.6,\"#e6f5d0\"],[0.7,\"#b8e186\"],[0.8,\"#7fbc41\"],[0.9,\"#4d9221\"],[1,\"#276419\"]]},\"xaxis\":{\"gridcolor\":\"white\",\"linecolor\":\"white\",\"ticks\":\"\",\"title\":{\"standoff\":15},\"zerolinecolor\":\"white\",\"automargin\":true,\"zerolinewidth\":2},\"yaxis\":{\"gridcolor\":\"white\",\"linecolor\":\"white\",\"ticks\":\"\",\"title\":{\"standoff\":15},\"zerolinecolor\":\"white\",\"automargin\":true,\"zerolinewidth\":2},\"scene\":{\"xaxis\":{\"backgroundcolor\":\"#E5ECF6\",\"gridcolor\":\"white\",\"linecolor\":\"white\",\"showbackground\":true,\"ticks\":\"\",\"zerolinecolor\":\"white\",\"gridwidth\":2},\"yaxis\":{\"backgroundcolor\":\"#E5ECF6\",\"gridcolor\":\"white\",\"linecolor\":\"white\",\"showbackground\":true,\"ticks\":\"\",\"zerolinecolor\":\"white\",\"gridwidth\":2},\"zaxis\":{\"backgroundcolor\":\"#E5ECF6\",\"gridcolor\":\"white\",\"linecolor\":\"white\",\"showbackground\":true,\"ticks\":\"\",\"zerolinecolor\":\"white\",\"gridwidth\":2}},\"shapedefaults\":{\"line\":{\"color\":\"#2a3f5f\"}},\"annotationdefaults\":{\"arrowcolor\":\"#2a3f5f\",\"arrowhead\":0,\"arrowwidth\":1},\"geo\":{\"bgcolor\":\"white\",\"landcolor\":\"#E5ECF6\",\"subunitcolor\":\"white\",\"showland\":true,\"showlakes\":true,\"lakecolor\":\"white\"},\"title\":{\"x\":0.05},\"mapbox\":{\"style\":\"light\"}}}},                        {\"responsive\": true}                    ).then(function(){\n",
       "                            \n",
       "var gd = document.getElementById('d52ae929-c33a-4202-913b-b9ce00d06689');\n",
       "var x = new MutationObserver(function (mutations, observer) {{\n",
       "        var display = window.getComputedStyle(gd).display;\n",
       "        if (!display || display === 'none') {{\n",
       "            console.log([gd, 'removed!']);\n",
       "            Plotly.purge(gd);\n",
       "            observer.disconnect();\n",
       "        }}\n",
       "}});\n",
       "\n",
       "// Listen for the removal of the full notebook cells\n",
       "var notebookContainer = gd.closest('#notebook-container');\n",
       "if (notebookContainer) {{\n",
       "    x.observe(notebookContainer, {childList: true});\n",
       "}}\n",
       "\n",
       "// Listen for the clearing of the current output cell\n",
       "var outputEl = gd.closest('.output');\n",
       "if (outputEl) {{\n",
       "    x.observe(outputEl, {childList: true});\n",
       "}}\n",
       "\n",
       "                        })                };                });            </script>        </div>"
      ]
     },
     "metadata": {},
     "output_type": "display_data"
    }
   ],
   "source": [
    "# Visualize the most popular artists with a standard bar chart\n",
    "\n",
    "colors = ['RGB(103, 0, 31)', 'RGB(178, 24, 43)', 'RGB(214, 96, 77)', 'RGB(244, 165, 130)', 'RGB(253, 219, 199)',\n",
    "          'RGB(247, 247, 247)', 'RGB(209, 229, 240)', 'RGB(146, 197, 222)', 'RGB(67, 147, 195)', 'RGB(33, 102, 172)',\n",
    "          'RGB(5, 48, 97)']\n",
    "\n",
    "amount_of_time = amount_of_time\n",
    "\n",
    "layout = go.Layout(\n",
    "    title='Popularity Of Artists By Number Of Times Their Song Was Played',\n",
    "    yaxis=dict(\n",
    "        title='Number of Times Played',\n",
    "        gridcolor='rgb(255, 255, 255)',\n",
    "        zerolinewidth=1,\n",
    "        ticklen=5,\n",
    "        gridwidth=2,\n",
    "        titlefont=dict(size=15)),\n",
    "    xaxis=dict(\n",
    "        title='Artist Name'))\n",
    "\n",
    "fig = go.Figure(data=[go.Bar(x=amount_of_time.index,\n",
    "                             y=amount_of_time,\n",
    "                             opacity=1,\n",
    "                             marker_color=colors)],\n",
    "                layout=layout)  # Include layout in the Figure\n",
    "\n",
    "fig.show()\n"
   ]
  },
  {
   "cell_type": "markdown",
   "metadata": {},
   "source": [
    "## Popularity of artist based on the total amount of time spent listening to their songs"
   ]
  },
  {
   "cell_type": "code",
   "execution_count": 81,
   "metadata": {},
   "outputs": [
    {
     "data": {
      "text/plain": [
       "artist_name\n",
       "Lana Del Rey              1352.767983\n",
       "Yuvan Shankar Raja         630.091317\n",
       "A.R. Rahman                501.548017\n",
       "S. P. Balasubrahmanyam     369.095033\n",
       "Billie Eilish              368.406983\n",
       "Pradeep Kumar              324.909833\n",
       "Napoleon Hill              292.967700\n",
       "Hariharan                  289.294617\n",
       "Sid Sriram                 262.015200\n",
       "Arijit Singh               231.948283\n",
       "Unnikrishnan               227.677250\n",
       "Govind Vasantha            226.032150\n",
       "Kadhal Desam               157.806283\n",
       "Vishal Mishra              142.147633\n",
       "Harris Jayaraj             141.118767\n",
       "Name: minutes_played, dtype: float64"
      ]
     },
     "execution_count": 81,
     "metadata": {},
     "output_type": "execute_result"
    }
   ],
   "source": [
    "# Look at most popular artists by amount of time spent listening to their songs\n",
    "\n",
    "amount_of_time = df_mine.groupby(by='artist_name')['minutes_played'].sum().sort_values(ascending=False)[:15]\n",
    "\n",
    "amount_of_time"
   ]
  },
  {
   "cell_type": "code",
   "execution_count": 175,
   "metadata": {},
   "outputs": [
    {
     "data": {
      "application/vnd.plotly.v1+json": {
       "config": {
        "plotlyServerURL": "https://plot.ly"
       },
       "data": [
        {
         "marker": {
          "color": [
           "RGB(103, 0, 31)",
           "RGB(178, 24, 43)",
           "RGB(214, 96, 77)",
           "RGB(244, 165, 130)",
           "RGB(253, 219, 199)",
           "RGB(247, 247, 247)",
           "RGB(209, 229, 240)",
           "RGB(146, 197, 222)",
           "RGB(67, 147, 195)",
           "RGB(33, 102, 172)",
           "RGB(5, 48, 97)"
          ]
         },
         "opacity": 1,
         "type": "bar",
         "x": [
          "Lana Del Rey",
          "Yuvan Shankar Raja",
          "A.R. Rahman",
          "S. P. Balasubrahmanyam",
          "Billie Eilish",
          "Pradeep Kumar",
          "Napoleon Hill",
          "Hariharan",
          "Sid Sriram",
          "Arijit Singh",
          "Unnikrishnan",
          "Govind Vasantha",
          "Kadhal Desam",
          "Vishal Mishra",
          "Harris Jayaraj"
         ],
         "y": [
          1352.7679833333334,
          630.0913166666667,
          501.5480166666667,
          369.09503333333333,
          368.40698333333336,
          324.9098333333333,
          292.9677,
          289.2946166666667,
          262.0152,
          231.94828333333334,
          227.67725000000002,
          226.03215,
          157.80628333333334,
          142.14763333333335,
          141.11876666666666
         ]
        }
       ],
       "layout": {
        "template": {
         "data": {
          "bar": [
           {
            "error_x": {
             "color": "#2a3f5f"
            },
            "error_y": {
             "color": "#2a3f5f"
            },
            "marker": {
             "line": {
              "color": "#E5ECF6",
              "width": 0.5
             },
             "pattern": {
              "fillmode": "overlay",
              "size": 10,
              "solidity": 0.2
             }
            },
            "type": "bar"
           }
          ],
          "barpolar": [
           {
            "marker": {
             "line": {
              "color": "#E5ECF6",
              "width": 0.5
             },
             "pattern": {
              "fillmode": "overlay",
              "size": 10,
              "solidity": 0.2
             }
            },
            "type": "barpolar"
           }
          ],
          "carpet": [
           {
            "aaxis": {
             "endlinecolor": "#2a3f5f",
             "gridcolor": "white",
             "linecolor": "white",
             "minorgridcolor": "white",
             "startlinecolor": "#2a3f5f"
            },
            "baxis": {
             "endlinecolor": "#2a3f5f",
             "gridcolor": "white",
             "linecolor": "white",
             "minorgridcolor": "white",
             "startlinecolor": "#2a3f5f"
            },
            "type": "carpet"
           }
          ],
          "choropleth": [
           {
            "colorbar": {
             "outlinewidth": 0,
             "ticks": ""
            },
            "type": "choropleth"
           }
          ],
          "contour": [
           {
            "colorbar": {
             "outlinewidth": 0,
             "ticks": ""
            },
            "colorscale": [
             [
              0,
              "#0d0887"
             ],
             [
              0.1111111111111111,
              "#46039f"
             ],
             [
              0.2222222222222222,
              "#7201a8"
             ],
             [
              0.3333333333333333,
              "#9c179e"
             ],
             [
              0.4444444444444444,
              "#bd3786"
             ],
             [
              0.5555555555555556,
              "#d8576b"
             ],
             [
              0.6666666666666666,
              "#ed7953"
             ],
             [
              0.7777777777777778,
              "#fb9f3a"
             ],
             [
              0.8888888888888888,
              "#fdca26"
             ],
             [
              1,
              "#f0f921"
             ]
            ],
            "type": "contour"
           }
          ],
          "contourcarpet": [
           {
            "colorbar": {
             "outlinewidth": 0,
             "ticks": ""
            },
            "type": "contourcarpet"
           }
          ],
          "heatmap": [
           {
            "colorbar": {
             "outlinewidth": 0,
             "ticks": ""
            },
            "colorscale": [
             [
              0,
              "#0d0887"
             ],
             [
              0.1111111111111111,
              "#46039f"
             ],
             [
              0.2222222222222222,
              "#7201a8"
             ],
             [
              0.3333333333333333,
              "#9c179e"
             ],
             [
              0.4444444444444444,
              "#bd3786"
             ],
             [
              0.5555555555555556,
              "#d8576b"
             ],
             [
              0.6666666666666666,
              "#ed7953"
             ],
             [
              0.7777777777777778,
              "#fb9f3a"
             ],
             [
              0.8888888888888888,
              "#fdca26"
             ],
             [
              1,
              "#f0f921"
             ]
            ],
            "type": "heatmap"
           }
          ],
          "heatmapgl": [
           {
            "colorbar": {
             "outlinewidth": 0,
             "ticks": ""
            },
            "colorscale": [
             [
              0,
              "#0d0887"
             ],
             [
              0.1111111111111111,
              "#46039f"
             ],
             [
              0.2222222222222222,
              "#7201a8"
             ],
             [
              0.3333333333333333,
              "#9c179e"
             ],
             [
              0.4444444444444444,
              "#bd3786"
             ],
             [
              0.5555555555555556,
              "#d8576b"
             ],
             [
              0.6666666666666666,
              "#ed7953"
             ],
             [
              0.7777777777777778,
              "#fb9f3a"
             ],
             [
              0.8888888888888888,
              "#fdca26"
             ],
             [
              1,
              "#f0f921"
             ]
            ],
            "type": "heatmapgl"
           }
          ],
          "histogram": [
           {
            "marker": {
             "pattern": {
              "fillmode": "overlay",
              "size": 10,
              "solidity": 0.2
             }
            },
            "type": "histogram"
           }
          ],
          "histogram2d": [
           {
            "colorbar": {
             "outlinewidth": 0,
             "ticks": ""
            },
            "colorscale": [
             [
              0,
              "#0d0887"
             ],
             [
              0.1111111111111111,
              "#46039f"
             ],
             [
              0.2222222222222222,
              "#7201a8"
             ],
             [
              0.3333333333333333,
              "#9c179e"
             ],
             [
              0.4444444444444444,
              "#bd3786"
             ],
             [
              0.5555555555555556,
              "#d8576b"
             ],
             [
              0.6666666666666666,
              "#ed7953"
             ],
             [
              0.7777777777777778,
              "#fb9f3a"
             ],
             [
              0.8888888888888888,
              "#fdca26"
             ],
             [
              1,
              "#f0f921"
             ]
            ],
            "type": "histogram2d"
           }
          ],
          "histogram2dcontour": [
           {
            "colorbar": {
             "outlinewidth": 0,
             "ticks": ""
            },
            "colorscale": [
             [
              0,
              "#0d0887"
             ],
             [
              0.1111111111111111,
              "#46039f"
             ],
             [
              0.2222222222222222,
              "#7201a8"
             ],
             [
              0.3333333333333333,
              "#9c179e"
             ],
             [
              0.4444444444444444,
              "#bd3786"
             ],
             [
              0.5555555555555556,
              "#d8576b"
             ],
             [
              0.6666666666666666,
              "#ed7953"
             ],
             [
              0.7777777777777778,
              "#fb9f3a"
             ],
             [
              0.8888888888888888,
              "#fdca26"
             ],
             [
              1,
              "#f0f921"
             ]
            ],
            "type": "histogram2dcontour"
           }
          ],
          "mesh3d": [
           {
            "colorbar": {
             "outlinewidth": 0,
             "ticks": ""
            },
            "type": "mesh3d"
           }
          ],
          "parcoords": [
           {
            "line": {
             "colorbar": {
              "outlinewidth": 0,
              "ticks": ""
             }
            },
            "type": "parcoords"
           }
          ],
          "pie": [
           {
            "automargin": true,
            "type": "pie"
           }
          ],
          "scatter": [
           {
            "fillpattern": {
             "fillmode": "overlay",
             "size": 10,
             "solidity": 0.2
            },
            "type": "scatter"
           }
          ],
          "scatter3d": [
           {
            "line": {
             "colorbar": {
              "outlinewidth": 0,
              "ticks": ""
             }
            },
            "marker": {
             "colorbar": {
              "outlinewidth": 0,
              "ticks": ""
             }
            },
            "type": "scatter3d"
           }
          ],
          "scattercarpet": [
           {
            "marker": {
             "colorbar": {
              "outlinewidth": 0,
              "ticks": ""
             }
            },
            "type": "scattercarpet"
           }
          ],
          "scattergeo": [
           {
            "marker": {
             "colorbar": {
              "outlinewidth": 0,
              "ticks": ""
             }
            },
            "type": "scattergeo"
           }
          ],
          "scattergl": [
           {
            "marker": {
             "colorbar": {
              "outlinewidth": 0,
              "ticks": ""
             }
            },
            "type": "scattergl"
           }
          ],
          "scattermapbox": [
           {
            "marker": {
             "colorbar": {
              "outlinewidth": 0,
              "ticks": ""
             }
            },
            "type": "scattermapbox"
           }
          ],
          "scatterpolar": [
           {
            "marker": {
             "colorbar": {
              "outlinewidth": 0,
              "ticks": ""
             }
            },
            "type": "scatterpolar"
           }
          ],
          "scatterpolargl": [
           {
            "marker": {
             "colorbar": {
              "outlinewidth": 0,
              "ticks": ""
             }
            },
            "type": "scatterpolargl"
           }
          ],
          "scatterternary": [
           {
            "marker": {
             "colorbar": {
              "outlinewidth": 0,
              "ticks": ""
             }
            },
            "type": "scatterternary"
           }
          ],
          "surface": [
           {
            "colorbar": {
             "outlinewidth": 0,
             "ticks": ""
            },
            "colorscale": [
             [
              0,
              "#0d0887"
             ],
             [
              0.1111111111111111,
              "#46039f"
             ],
             [
              0.2222222222222222,
              "#7201a8"
             ],
             [
              0.3333333333333333,
              "#9c179e"
             ],
             [
              0.4444444444444444,
              "#bd3786"
             ],
             [
              0.5555555555555556,
              "#d8576b"
             ],
             [
              0.6666666666666666,
              "#ed7953"
             ],
             [
              0.7777777777777778,
              "#fb9f3a"
             ],
             [
              0.8888888888888888,
              "#fdca26"
             ],
             [
              1,
              "#f0f921"
             ]
            ],
            "type": "surface"
           }
          ],
          "table": [
           {
            "cells": {
             "fill": {
              "color": "#EBF0F8"
             },
             "line": {
              "color": "white"
             }
            },
            "header": {
             "fill": {
              "color": "#C8D4E3"
             },
             "line": {
              "color": "white"
             }
            },
            "type": "table"
           }
          ]
         },
         "layout": {
          "annotationdefaults": {
           "arrowcolor": "#2a3f5f",
           "arrowhead": 0,
           "arrowwidth": 1
          },
          "autotypenumbers": "strict",
          "coloraxis": {
           "colorbar": {
            "outlinewidth": 0,
            "ticks": ""
           }
          },
          "colorscale": {
           "diverging": [
            [
             0,
             "#8e0152"
            ],
            [
             0.1,
             "#c51b7d"
            ],
            [
             0.2,
             "#de77ae"
            ],
            [
             0.3,
             "#f1b6da"
            ],
            [
             0.4,
             "#fde0ef"
            ],
            [
             0.5,
             "#f7f7f7"
            ],
            [
             0.6,
             "#e6f5d0"
            ],
            [
             0.7,
             "#b8e186"
            ],
            [
             0.8,
             "#7fbc41"
            ],
            [
             0.9,
             "#4d9221"
            ],
            [
             1,
             "#276419"
            ]
           ],
           "sequential": [
            [
             0,
             "#0d0887"
            ],
            [
             0.1111111111111111,
             "#46039f"
            ],
            [
             0.2222222222222222,
             "#7201a8"
            ],
            [
             0.3333333333333333,
             "#9c179e"
            ],
            [
             0.4444444444444444,
             "#bd3786"
            ],
            [
             0.5555555555555556,
             "#d8576b"
            ],
            [
             0.6666666666666666,
             "#ed7953"
            ],
            [
             0.7777777777777778,
             "#fb9f3a"
            ],
            [
             0.8888888888888888,
             "#fdca26"
            ],
            [
             1,
             "#f0f921"
            ]
           ],
           "sequentialminus": [
            [
             0,
             "#0d0887"
            ],
            [
             0.1111111111111111,
             "#46039f"
            ],
            [
             0.2222222222222222,
             "#7201a8"
            ],
            [
             0.3333333333333333,
             "#9c179e"
            ],
            [
             0.4444444444444444,
             "#bd3786"
            ],
            [
             0.5555555555555556,
             "#d8576b"
            ],
            [
             0.6666666666666666,
             "#ed7953"
            ],
            [
             0.7777777777777778,
             "#fb9f3a"
            ],
            [
             0.8888888888888888,
             "#fdca26"
            ],
            [
             1,
             "#f0f921"
            ]
           ]
          },
          "colorway": [
           "#636efa",
           "#EF553B",
           "#00cc96",
           "#ab63fa",
           "#FFA15A",
           "#19d3f3",
           "#FF6692",
           "#B6E880",
           "#FF97FF",
           "#FECB52"
          ],
          "font": {
           "color": "#2a3f5f"
          },
          "geo": {
           "bgcolor": "white",
           "lakecolor": "white",
           "landcolor": "#E5ECF6",
           "showlakes": true,
           "showland": true,
           "subunitcolor": "white"
          },
          "hoverlabel": {
           "align": "left"
          },
          "hovermode": "closest",
          "mapbox": {
           "style": "light"
          },
          "paper_bgcolor": "white",
          "plot_bgcolor": "#E5ECF6",
          "polar": {
           "angularaxis": {
            "gridcolor": "white",
            "linecolor": "white",
            "ticks": ""
           },
           "bgcolor": "#E5ECF6",
           "radialaxis": {
            "gridcolor": "white",
            "linecolor": "white",
            "ticks": ""
           }
          },
          "scene": {
           "xaxis": {
            "backgroundcolor": "#E5ECF6",
            "gridcolor": "white",
            "gridwidth": 2,
            "linecolor": "white",
            "showbackground": true,
            "ticks": "",
            "zerolinecolor": "white"
           },
           "yaxis": {
            "backgroundcolor": "#E5ECF6",
            "gridcolor": "white",
            "gridwidth": 2,
            "linecolor": "white",
            "showbackground": true,
            "ticks": "",
            "zerolinecolor": "white"
           },
           "zaxis": {
            "backgroundcolor": "#E5ECF6",
            "gridcolor": "white",
            "gridwidth": 2,
            "linecolor": "white",
            "showbackground": true,
            "ticks": "",
            "zerolinecolor": "white"
           }
          },
          "shapedefaults": {
           "line": {
            "color": "#2a3f5f"
           }
          },
          "ternary": {
           "aaxis": {
            "gridcolor": "white",
            "linecolor": "white",
            "ticks": ""
           },
           "baxis": {
            "gridcolor": "white",
            "linecolor": "white",
            "ticks": ""
           },
           "bgcolor": "#E5ECF6",
           "caxis": {
            "gridcolor": "white",
            "linecolor": "white",
            "ticks": ""
           }
          },
          "title": {
           "x": 0.05
          },
          "xaxis": {
           "automargin": true,
           "gridcolor": "white",
           "linecolor": "white",
           "ticks": "",
           "title": {
            "standoff": 15
           },
           "zerolinecolor": "white",
           "zerolinewidth": 2
          },
          "yaxis": {
           "automargin": true,
           "gridcolor": "white",
           "linecolor": "white",
           "ticks": "",
           "title": {
            "standoff": 15
           },
           "zerolinecolor": "white",
           "zerolinewidth": 2
          }
         }
        },
        "title": {
         "text": "Popularity of artists by amount of time spent listening to their song"
        },
        "xaxis": {
         "title": {
          "text": "Artist Name"
         }
        },
        "yaxis": {
         "gridcolor": "rgb(255, 255, 255)",
         "gridwidth": 2,
         "ticklen": 5,
         "title": {
          "font": {
           "size": 15
          },
          "text": "Amount of time (in minutes)"
         },
         "zerolinewidth": 1
        }
       }
      },
      "text/html": [
       "<div>                            <div id=\"8e5b7a0b-d927-4928-aa19-e63ae1a79a3e\" class=\"plotly-graph-div\" style=\"height:525px; width:100%;\"></div>            <script type=\"text/javascript\">                require([\"plotly\"], function(Plotly) {                    window.PLOTLYENV=window.PLOTLYENV || {};                                    if (document.getElementById(\"8e5b7a0b-d927-4928-aa19-e63ae1a79a3e\")) {                    Plotly.newPlot(                        \"8e5b7a0b-d927-4928-aa19-e63ae1a79a3e\",                        [{\"marker\":{\"color\":[\"RGB(103, 0, 31)\",\"RGB(178, 24, 43)\",\"RGB(214, 96, 77)\",\"RGB(244, 165, 130)\",\"RGB(253, 219, 199)\",\"RGB(247, 247, 247)\",\"RGB(209, 229, 240)\",\"RGB(146, 197, 222)\",\"RGB(67, 147, 195)\",\"RGB(33, 102, 172)\",\"RGB(5, 48, 97)\"]},\"opacity\":1,\"x\":[\"Lana Del Rey\",\"Yuvan Shankar Raja\",\"A.R. Rahman\",\"S. P. Balasubrahmanyam\",\"Billie Eilish\",\"Pradeep Kumar\",\"Napoleon Hill\",\"Hariharan\",\"Sid Sriram\",\"Arijit Singh\",\"Unnikrishnan\",\"Govind Vasantha\",\"Kadhal Desam\",\"Vishal Mishra\",\"Harris Jayaraj\"],\"y\":[1352.7679833333334,630.0913166666667,501.5480166666667,369.09503333333333,368.40698333333336,324.9098333333333,292.9677,289.2946166666667,262.0152,231.94828333333334,227.67725000000002,226.03215,157.80628333333334,142.14763333333335,141.11876666666666],\"type\":\"bar\"}],                        {\"title\":{\"text\":\"Popularity of artists by amount of time spent listening to their song\"},\"xaxis\":{\"title\":{\"text\":\"Artist Name\"}},\"yaxis\":{\"gridcolor\":\"rgb(255, 255, 255)\",\"gridwidth\":2,\"ticklen\":5,\"title\":{\"font\":{\"size\":15},\"text\":\"Amount of time (in minutes)\"},\"zerolinewidth\":1},\"template\":{\"data\":{\"histogram2dcontour\":[{\"type\":\"histogram2dcontour\",\"colorbar\":{\"outlinewidth\":0,\"ticks\":\"\"},\"colorscale\":[[0.0,\"#0d0887\"],[0.1111111111111111,\"#46039f\"],[0.2222222222222222,\"#7201a8\"],[0.3333333333333333,\"#9c179e\"],[0.4444444444444444,\"#bd3786\"],[0.5555555555555556,\"#d8576b\"],[0.6666666666666666,\"#ed7953\"],[0.7777777777777778,\"#fb9f3a\"],[0.8888888888888888,\"#fdca26\"],[1.0,\"#f0f921\"]]}],\"choropleth\":[{\"type\":\"choropleth\",\"colorbar\":{\"outlinewidth\":0,\"ticks\":\"\"}}],\"histogram2d\":[{\"type\":\"histogram2d\",\"colorbar\":{\"outlinewidth\":0,\"ticks\":\"\"},\"colorscale\":[[0.0,\"#0d0887\"],[0.1111111111111111,\"#46039f\"],[0.2222222222222222,\"#7201a8\"],[0.3333333333333333,\"#9c179e\"],[0.4444444444444444,\"#bd3786\"],[0.5555555555555556,\"#d8576b\"],[0.6666666666666666,\"#ed7953\"],[0.7777777777777778,\"#fb9f3a\"],[0.8888888888888888,\"#fdca26\"],[1.0,\"#f0f921\"]]}],\"heatmap\":[{\"type\":\"heatmap\",\"colorbar\":{\"outlinewidth\":0,\"ticks\":\"\"},\"colorscale\":[[0.0,\"#0d0887\"],[0.1111111111111111,\"#46039f\"],[0.2222222222222222,\"#7201a8\"],[0.3333333333333333,\"#9c179e\"],[0.4444444444444444,\"#bd3786\"],[0.5555555555555556,\"#d8576b\"],[0.6666666666666666,\"#ed7953\"],[0.7777777777777778,\"#fb9f3a\"],[0.8888888888888888,\"#fdca26\"],[1.0,\"#f0f921\"]]}],\"heatmapgl\":[{\"type\":\"heatmapgl\",\"colorbar\":{\"outlinewidth\":0,\"ticks\":\"\"},\"colorscale\":[[0.0,\"#0d0887\"],[0.1111111111111111,\"#46039f\"],[0.2222222222222222,\"#7201a8\"],[0.3333333333333333,\"#9c179e\"],[0.4444444444444444,\"#bd3786\"],[0.5555555555555556,\"#d8576b\"],[0.6666666666666666,\"#ed7953\"],[0.7777777777777778,\"#fb9f3a\"],[0.8888888888888888,\"#fdca26\"],[1.0,\"#f0f921\"]]}],\"contourcarpet\":[{\"type\":\"contourcarpet\",\"colorbar\":{\"outlinewidth\":0,\"ticks\":\"\"}}],\"contour\":[{\"type\":\"contour\",\"colorbar\":{\"outlinewidth\":0,\"ticks\":\"\"},\"colorscale\":[[0.0,\"#0d0887\"],[0.1111111111111111,\"#46039f\"],[0.2222222222222222,\"#7201a8\"],[0.3333333333333333,\"#9c179e\"],[0.4444444444444444,\"#bd3786\"],[0.5555555555555556,\"#d8576b\"],[0.6666666666666666,\"#ed7953\"],[0.7777777777777778,\"#fb9f3a\"],[0.8888888888888888,\"#fdca26\"],[1.0,\"#f0f921\"]]}],\"surface\":[{\"type\":\"surface\",\"colorbar\":{\"outlinewidth\":0,\"ticks\":\"\"},\"colorscale\":[[0.0,\"#0d0887\"],[0.1111111111111111,\"#46039f\"],[0.2222222222222222,\"#7201a8\"],[0.3333333333333333,\"#9c179e\"],[0.4444444444444444,\"#bd3786\"],[0.5555555555555556,\"#d8576b\"],[0.6666666666666666,\"#ed7953\"],[0.7777777777777778,\"#fb9f3a\"],[0.8888888888888888,\"#fdca26\"],[1.0,\"#f0f921\"]]}],\"mesh3d\":[{\"type\":\"mesh3d\",\"colorbar\":{\"outlinewidth\":0,\"ticks\":\"\"}}],\"scatter\":[{\"fillpattern\":{\"fillmode\":\"overlay\",\"size\":10,\"solidity\":0.2},\"type\":\"scatter\"}],\"parcoords\":[{\"type\":\"parcoords\",\"line\":{\"colorbar\":{\"outlinewidth\":0,\"ticks\":\"\"}}}],\"scatterpolargl\":[{\"type\":\"scatterpolargl\",\"marker\":{\"colorbar\":{\"outlinewidth\":0,\"ticks\":\"\"}}}],\"bar\":[{\"error_x\":{\"color\":\"#2a3f5f\"},\"error_y\":{\"color\":\"#2a3f5f\"},\"marker\":{\"line\":{\"color\":\"#E5ECF6\",\"width\":0.5},\"pattern\":{\"fillmode\":\"overlay\",\"size\":10,\"solidity\":0.2}},\"type\":\"bar\"}],\"scattergeo\":[{\"type\":\"scattergeo\",\"marker\":{\"colorbar\":{\"outlinewidth\":0,\"ticks\":\"\"}}}],\"scatterpolar\":[{\"type\":\"scatterpolar\",\"marker\":{\"colorbar\":{\"outlinewidth\":0,\"ticks\":\"\"}}}],\"histogram\":[{\"marker\":{\"pattern\":{\"fillmode\":\"overlay\",\"size\":10,\"solidity\":0.2}},\"type\":\"histogram\"}],\"scattergl\":[{\"type\":\"scattergl\",\"marker\":{\"colorbar\":{\"outlinewidth\":0,\"ticks\":\"\"}}}],\"scatter3d\":[{\"type\":\"scatter3d\",\"line\":{\"colorbar\":{\"outlinewidth\":0,\"ticks\":\"\"}},\"marker\":{\"colorbar\":{\"outlinewidth\":0,\"ticks\":\"\"}}}],\"scattermapbox\":[{\"type\":\"scattermapbox\",\"marker\":{\"colorbar\":{\"outlinewidth\":0,\"ticks\":\"\"}}}],\"scatterternary\":[{\"type\":\"scatterternary\",\"marker\":{\"colorbar\":{\"outlinewidth\":0,\"ticks\":\"\"}}}],\"scattercarpet\":[{\"type\":\"scattercarpet\",\"marker\":{\"colorbar\":{\"outlinewidth\":0,\"ticks\":\"\"}}}],\"carpet\":[{\"aaxis\":{\"endlinecolor\":\"#2a3f5f\",\"gridcolor\":\"white\",\"linecolor\":\"white\",\"minorgridcolor\":\"white\",\"startlinecolor\":\"#2a3f5f\"},\"baxis\":{\"endlinecolor\":\"#2a3f5f\",\"gridcolor\":\"white\",\"linecolor\":\"white\",\"minorgridcolor\":\"white\",\"startlinecolor\":\"#2a3f5f\"},\"type\":\"carpet\"}],\"table\":[{\"cells\":{\"fill\":{\"color\":\"#EBF0F8\"},\"line\":{\"color\":\"white\"}},\"header\":{\"fill\":{\"color\":\"#C8D4E3\"},\"line\":{\"color\":\"white\"}},\"type\":\"table\"}],\"barpolar\":[{\"marker\":{\"line\":{\"color\":\"#E5ECF6\",\"width\":0.5},\"pattern\":{\"fillmode\":\"overlay\",\"size\":10,\"solidity\":0.2}},\"type\":\"barpolar\"}],\"pie\":[{\"automargin\":true,\"type\":\"pie\"}]},\"layout\":{\"autotypenumbers\":\"strict\",\"colorway\":[\"#636efa\",\"#EF553B\",\"#00cc96\",\"#ab63fa\",\"#FFA15A\",\"#19d3f3\",\"#FF6692\",\"#B6E880\",\"#FF97FF\",\"#FECB52\"],\"font\":{\"color\":\"#2a3f5f\"},\"hovermode\":\"closest\",\"hoverlabel\":{\"align\":\"left\"},\"paper_bgcolor\":\"white\",\"plot_bgcolor\":\"#E5ECF6\",\"polar\":{\"bgcolor\":\"#E5ECF6\",\"angularaxis\":{\"gridcolor\":\"white\",\"linecolor\":\"white\",\"ticks\":\"\"},\"radialaxis\":{\"gridcolor\":\"white\",\"linecolor\":\"white\",\"ticks\":\"\"}},\"ternary\":{\"bgcolor\":\"#E5ECF6\",\"aaxis\":{\"gridcolor\":\"white\",\"linecolor\":\"white\",\"ticks\":\"\"},\"baxis\":{\"gridcolor\":\"white\",\"linecolor\":\"white\",\"ticks\":\"\"},\"caxis\":{\"gridcolor\":\"white\",\"linecolor\":\"white\",\"ticks\":\"\"}},\"coloraxis\":{\"colorbar\":{\"outlinewidth\":0,\"ticks\":\"\"}},\"colorscale\":{\"sequential\":[[0.0,\"#0d0887\"],[0.1111111111111111,\"#46039f\"],[0.2222222222222222,\"#7201a8\"],[0.3333333333333333,\"#9c179e\"],[0.4444444444444444,\"#bd3786\"],[0.5555555555555556,\"#d8576b\"],[0.6666666666666666,\"#ed7953\"],[0.7777777777777778,\"#fb9f3a\"],[0.8888888888888888,\"#fdca26\"],[1.0,\"#f0f921\"]],\"sequentialminus\":[[0.0,\"#0d0887\"],[0.1111111111111111,\"#46039f\"],[0.2222222222222222,\"#7201a8\"],[0.3333333333333333,\"#9c179e\"],[0.4444444444444444,\"#bd3786\"],[0.5555555555555556,\"#d8576b\"],[0.6666666666666666,\"#ed7953\"],[0.7777777777777778,\"#fb9f3a\"],[0.8888888888888888,\"#fdca26\"],[1.0,\"#f0f921\"]],\"diverging\":[[0,\"#8e0152\"],[0.1,\"#c51b7d\"],[0.2,\"#de77ae\"],[0.3,\"#f1b6da\"],[0.4,\"#fde0ef\"],[0.5,\"#f7f7f7\"],[0.6,\"#e6f5d0\"],[0.7,\"#b8e186\"],[0.8,\"#7fbc41\"],[0.9,\"#4d9221\"],[1,\"#276419\"]]},\"xaxis\":{\"gridcolor\":\"white\",\"linecolor\":\"white\",\"ticks\":\"\",\"title\":{\"standoff\":15},\"zerolinecolor\":\"white\",\"automargin\":true,\"zerolinewidth\":2},\"yaxis\":{\"gridcolor\":\"white\",\"linecolor\":\"white\",\"ticks\":\"\",\"title\":{\"standoff\":15},\"zerolinecolor\":\"white\",\"automargin\":true,\"zerolinewidth\":2},\"scene\":{\"xaxis\":{\"backgroundcolor\":\"#E5ECF6\",\"gridcolor\":\"white\",\"linecolor\":\"white\",\"showbackground\":true,\"ticks\":\"\",\"zerolinecolor\":\"white\",\"gridwidth\":2},\"yaxis\":{\"backgroundcolor\":\"#E5ECF6\",\"gridcolor\":\"white\",\"linecolor\":\"white\",\"showbackground\":true,\"ticks\":\"\",\"zerolinecolor\":\"white\",\"gridwidth\":2},\"zaxis\":{\"backgroundcolor\":\"#E5ECF6\",\"gridcolor\":\"white\",\"linecolor\":\"white\",\"showbackground\":true,\"ticks\":\"\",\"zerolinecolor\":\"white\",\"gridwidth\":2}},\"shapedefaults\":{\"line\":{\"color\":\"#2a3f5f\"}},\"annotationdefaults\":{\"arrowcolor\":\"#2a3f5f\",\"arrowhead\":0,\"arrowwidth\":1},\"geo\":{\"bgcolor\":\"white\",\"landcolor\":\"#E5ECF6\",\"subunitcolor\":\"white\",\"showland\":true,\"showlakes\":true,\"lakecolor\":\"white\"},\"title\":{\"x\":0.05},\"mapbox\":{\"style\":\"light\"}}}},                        {\"responsive\": true}                    ).then(function(){\n",
       "                            \n",
       "var gd = document.getElementById('8e5b7a0b-d927-4928-aa19-e63ae1a79a3e');\n",
       "var x = new MutationObserver(function (mutations, observer) {{\n",
       "        var display = window.getComputedStyle(gd).display;\n",
       "        if (!display || display === 'none') {{\n",
       "            console.log([gd, 'removed!']);\n",
       "            Plotly.purge(gd);\n",
       "            observer.disconnect();\n",
       "        }}\n",
       "}});\n",
       "\n",
       "// Listen for the removal of the full notebook cells\n",
       "var notebookContainer = gd.closest('#notebook-container');\n",
       "if (notebookContainer) {{\n",
       "    x.observe(notebookContainer, {childList: true});\n",
       "}}\n",
       "\n",
       "// Listen for the clearing of the current output cell\n",
       "var outputEl = gd.closest('.output');\n",
       "if (outputEl) {{\n",
       "    x.observe(outputEl, {childList: true});\n",
       "}}\n",
       "\n",
       "                        })                };                });            </script>        </div>"
      ]
     },
     "metadata": {},
     "output_type": "display_data"
    }
   ],
   "source": [
    "colors = ['RGB(103, 0, 31)', 'RGB(178, 24, 43)', 'RGB(214, 96, 77)', 'RGB(244, 165, 130)', 'RGB(253, 219, 199)',\n",
    "          'RGB(247, 247, 247)', 'RGB(209, 229, 240)', 'RGB(146, 197, 222)', 'RGB(67, 147, 195)', 'RGB(33, 102, 172)',\n",
    "          'RGB(5, 48, 97)']\n",
    "\n",
    "amount_of_time = amount_of_time\n",
    "\n",
    "layout = go.Layout(\n",
    "    title='Popularity of artists by amount of time spent listening to their song',\n",
    "    yaxis=dict(\n",
    "        title='Amount of time (in minutes)',\n",
    "        gridcolor='rgb(255, 255, 255)',\n",
    "        zerolinewidth=1,\n",
    "        ticklen=5,\n",
    "        gridwidth=2,\n",
    "        titlefont=dict(size=15)),\n",
    "    xaxis=dict(\n",
    "        title='Artist Name'))\n",
    "\n",
    "fig = go.Figure(data=[go.Bar(x=amount_of_time.index,\n",
    "                             y=amount_of_time,\n",
    "                             opacity=1,\n",
    "                             marker_color=colors)],\n",
    "                layout=layout)  # Include layout in the Figure\n",
    "\n",
    "fig.show()\n",
    "\n"
   ]
  },
  {
   "cell_type": "markdown",
   "metadata": {},
   "source": [
    "## Total amount of time spent listening to music each day"
   ]
  },
  {
   "cell_type": "code",
   "execution_count": 83,
   "metadata": {},
   "outputs": [
    {
     "data": {
      "text/html": [
       "<div>\n",
       "<style scoped>\n",
       "    .dataframe tbody tr th:only-of-type {\n",
       "        vertical-align: middle;\n",
       "    }\n",
       "\n",
       "    .dataframe tbody tr th {\n",
       "        vertical-align: top;\n",
       "    }\n",
       "\n",
       "    .dataframe thead th {\n",
       "        text-align: right;\n",
       "    }\n",
       "</style>\n",
       "<table border=\"1\" class=\"dataframe\">\n",
       "  <thead>\n",
       "    <tr style=\"text-align: right;\">\n",
       "      <th></th>\n",
       "      <th>artist_name</th>\n",
       "      <th>track_name</th>\n",
       "      <th>minutes_played</th>\n",
       "      <th>date</th>\n",
       "      <th>time</th>\n",
       "    </tr>\n",
       "  </thead>\n",
       "  <tbody>\n",
       "    <tr>\n",
       "      <th>4103</th>\n",
       "      <td>Coldplay</td>\n",
       "      <td>Magic</td>\n",
       "      <td>2.875517</td>\n",
       "      <td>2020-08-02</td>\n",
       "      <td>23:48:00</td>\n",
       "    </tr>\n",
       "    <tr>\n",
       "      <th>4095</th>\n",
       "      <td>Bilal Saeed</td>\n",
       "      <td>Baari</td>\n",
       "      <td>3.921617</td>\n",
       "      <td>2020-08-02</td>\n",
       "      <td>23:45:00</td>\n",
       "    </tr>\n",
       "    <tr>\n",
       "      <th>4553</th>\n",
       "      <td>Pritam</td>\n",
       "      <td>Yeh Dooriyan</td>\n",
       "      <td>4.027267</td>\n",
       "      <td>2020-08-02</td>\n",
       "      <td>23:41:00</td>\n",
       "    </tr>\n",
       "    <tr>\n",
       "      <th>4036</th>\n",
       "      <td>Coldplay</td>\n",
       "      <td>Fix You</td>\n",
       "      <td>4.925550</td>\n",
       "      <td>2020-08-02</td>\n",
       "      <td>23:37:00</td>\n",
       "    </tr>\n",
       "    <tr>\n",
       "      <th>4038</th>\n",
       "      <td>Charles Givings</td>\n",
       "      <td>I Can't Smile Without You</td>\n",
       "      <td>3.277767</td>\n",
       "      <td>2020-08-02</td>\n",
       "      <td>23:31:00</td>\n",
       "    </tr>\n",
       "    <tr>\n",
       "      <th>...</th>\n",
       "      <td>...</td>\n",
       "      <td>...</td>\n",
       "      <td>...</td>\n",
       "      <td>...</td>\n",
       "      <td>...</td>\n",
       "    </tr>\n",
       "    <tr>\n",
       "      <th>2094</th>\n",
       "      <td>Santhosh Narayanan</td>\n",
       "      <td>Akkam Pakkam Paar</td>\n",
       "      <td>3.290000</td>\n",
       "      <td>2020-01-18</td>\n",
       "      <td>00:13:00</td>\n",
       "    </tr>\n",
       "    <tr>\n",
       "      <th>1591</th>\n",
       "      <td>L. V. Revanth</td>\n",
       "      <td>Telisiney Na Nuvvey</td>\n",
       "      <td>4.204767</td>\n",
       "      <td>2020-01-18</td>\n",
       "      <td>00:09:00</td>\n",
       "    </tr>\n",
       "    <tr>\n",
       "      <th>978</th>\n",
       "      <td>Nikkil Mathew</td>\n",
       "      <td>Enadhuyire (From \"Bheema\")</td>\n",
       "      <td>0.124600</td>\n",
       "      <td>2020-01-18</td>\n",
       "      <td>00:05:00</td>\n",
       "    </tr>\n",
       "    <tr>\n",
       "      <th>1476</th>\n",
       "      <td>Lana Del Rey</td>\n",
       "      <td>High By The Beach</td>\n",
       "      <td>0.019333</td>\n",
       "      <td>2020-01-18</td>\n",
       "      <td>00:05:00</td>\n",
       "    </tr>\n",
       "    <tr>\n",
       "      <th>68</th>\n",
       "      <td>Vishal Mishra</td>\n",
       "      <td>Kaise Hua (From \"Kabir Singh\")</td>\n",
       "      <td>0.060367</td>\n",
       "      <td>2020-01-18</td>\n",
       "      <td>00:05:00</td>\n",
       "    </tr>\n",
       "  </tbody>\n",
       "</table>\n",
       "<p>4637 rows × 5 columns</p>\n",
       "</div>"
      ],
      "text/plain": [
       "             artist_name                      track_name  minutes_played  \\\n",
       "4103            Coldplay                           Magic        2.875517   \n",
       "4095         Bilal Saeed                           Baari        3.921617   \n",
       "4553              Pritam                    Yeh Dooriyan        4.027267   \n",
       "4036            Coldplay                         Fix You        4.925550   \n",
       "4038     Charles Givings       I Can't Smile Without You        3.277767   \n",
       "...                  ...                             ...             ...   \n",
       "2094  Santhosh Narayanan               Akkam Pakkam Paar        3.290000   \n",
       "1591       L. V. Revanth             Telisiney Na Nuvvey        4.204767   \n",
       "978        Nikkil Mathew      Enadhuyire (From \"Bheema\")        0.124600   \n",
       "1476        Lana Del Rey               High By The Beach        0.019333   \n",
       "68         Vishal Mishra  Kaise Hua (From \"Kabir Singh\")        0.060367   \n",
       "\n",
       "            date      time  \n",
       "4103  2020-08-02  23:48:00  \n",
       "4095  2020-08-02  23:45:00  \n",
       "4553  2020-08-02  23:41:00  \n",
       "4036  2020-08-02  23:37:00  \n",
       "4038  2020-08-02  23:31:00  \n",
       "...          ...       ...  \n",
       "2094  2020-01-18  00:13:00  \n",
       "1591  2020-01-18  00:09:00  \n",
       "978   2020-01-18  00:05:00  \n",
       "1476  2020-01-18  00:05:00  \n",
       "68    2020-01-18  00:05:00  \n",
       "\n",
       "[4637 rows x 5 columns]"
      ]
     },
     "execution_count": 83,
     "metadata": {},
     "output_type": "execute_result"
    }
   ],
   "source": [
    "df_mine.sort_values(by='time',ascending=False)"
   ]
  },
  {
   "cell_type": "code",
   "execution_count": 85,
   "metadata": {},
   "outputs": [
    {
     "name": "stderr",
     "output_type": "stream",
     "text": [
      "C:\\Users\\Niveatha\\AppData\\Local\\Temp\\ipykernel_53856\\1158552728.py:1: FutureWarning:\n",
      "\n",
      "The default value of numeric_only in DataFrameGroupBy.sum is deprecated. In a future version, numeric_only will default to False. Either specify numeric_only or select only columns which should be valid for the function.\n",
      "\n"
     ]
    },
    {
     "data": {
      "text/html": [
       "<div>\n",
       "<style scoped>\n",
       "    .dataframe tbody tr th:only-of-type {\n",
       "        vertical-align: middle;\n",
       "    }\n",
       "\n",
       "    .dataframe tbody tr th {\n",
       "        vertical-align: top;\n",
       "    }\n",
       "\n",
       "    .dataframe thead th {\n",
       "        text-align: right;\n",
       "    }\n",
       "</style>\n",
       "<table border=\"1\" class=\"dataframe\">\n",
       "  <thead>\n",
       "    <tr style=\"text-align: right;\">\n",
       "      <th></th>\n",
       "      <th>date</th>\n",
       "      <th>minutes_played</th>\n",
       "    </tr>\n",
       "  </thead>\n",
       "  <tbody>\n",
       "    <tr>\n",
       "      <th>0</th>\n",
       "      <td>2019-09-14</td>\n",
       "      <td>0.395500</td>\n",
       "    </tr>\n",
       "    <tr>\n",
       "      <th>1</th>\n",
       "      <td>2019-09-15</td>\n",
       "      <td>24.532900</td>\n",
       "    </tr>\n",
       "    <tr>\n",
       "      <th>2</th>\n",
       "      <td>2019-09-16</td>\n",
       "      <td>9.274967</td>\n",
       "    </tr>\n",
       "    <tr>\n",
       "      <th>3</th>\n",
       "      <td>2019-09-17</td>\n",
       "      <td>5.086317</td>\n",
       "    </tr>\n",
       "    <tr>\n",
       "      <th>4</th>\n",
       "      <td>2019-09-18</td>\n",
       "      <td>64.352017</td>\n",
       "    </tr>\n",
       "  </tbody>\n",
       "</table>\n",
       "</div>"
      ],
      "text/plain": [
       "         date  minutes_played\n",
       "0  2019-09-14        0.395500\n",
       "1  2019-09-15       24.532900\n",
       "2  2019-09-16        9.274967\n",
       "3  2019-09-17        5.086317\n",
       "4  2019-09-18       64.352017"
      ]
     },
     "execution_count": 85,
     "metadata": {},
     "output_type": "execute_result"
    }
   ],
   "source": [
    "day = df_mine.groupby(by=['date'], as_index=False).sum()\n",
    "day.head()"
   ]
  },
  {
   "cell_type": "code",
   "execution_count": 86,
   "metadata": {},
   "outputs": [
    {
     "data": {
      "application/vnd.plotly.v1+json": {
       "config": {
        "plotlyServerURL": "https://plot.ly"
       },
       "data": [
        {
         "hovertemplate": "Month=%{x}<br>Minutes Played=%{y}<extra></extra>",
         "legendgroup": "",
         "line": {
          "color": "rgb(103,0,31)",
          "dash": "solid"
         },
         "marker": {
          "symbol": "circle"
         },
         "mode": "lines",
         "name": "",
         "orientation": "v",
         "showlegend": false,
         "type": "scatter",
         "x": [
          "2019-09-14",
          "2019-09-15",
          "2019-09-16",
          "2019-09-17",
          "2019-09-18",
          "2019-09-19",
          "2019-09-20",
          "2019-09-23",
          "2019-09-24",
          "2019-09-25",
          "2019-09-26",
          "2019-09-27",
          "2019-09-28",
          "2019-09-29",
          "2019-09-30",
          "2019-10-01",
          "2019-10-02",
          "2019-10-04",
          "2019-10-06",
          "2019-10-07",
          "2019-10-08",
          "2019-10-09",
          "2019-10-12",
          "2019-10-13",
          "2019-10-14",
          "2019-10-15",
          "2019-10-16",
          "2019-10-17",
          "2019-10-18",
          "2019-10-20",
          "2019-10-21",
          "2019-10-22",
          "2019-10-24",
          "2019-10-27",
          "2019-10-29",
          "2019-10-30",
          "2019-10-31",
          "2019-11-01",
          "2019-11-04",
          "2019-11-05",
          "2019-11-06",
          "2019-11-07",
          "2019-11-10",
          "2019-11-11",
          "2019-11-12",
          "2019-11-13",
          "2019-11-14",
          "2019-11-15",
          "2019-11-17",
          "2019-11-18",
          "2019-11-20",
          "2019-11-21",
          "2019-11-25",
          "2019-11-26",
          "2019-11-27",
          "2019-11-28",
          "2019-11-29",
          "2019-11-30",
          "2019-12-02",
          "2019-12-03",
          "2019-12-04",
          "2019-12-05",
          "2019-12-08",
          "2019-12-09",
          "2019-12-11",
          "2019-12-12",
          "2019-12-13",
          "2019-12-14",
          "2019-12-16",
          "2019-12-17",
          "2019-12-18",
          "2019-12-20",
          "2019-12-22",
          "2019-12-23",
          "2019-12-24",
          "2019-12-25",
          "2019-12-27",
          "2019-12-28",
          "2019-12-29",
          "2020-01-01",
          "2020-01-02",
          "2020-01-03",
          "2020-01-06",
          "2020-01-08",
          "2020-01-09",
          "2020-01-10",
          "2020-01-11",
          "2020-01-12",
          "2020-01-13",
          "2020-01-14",
          "2020-01-16",
          "2020-01-18",
          "2020-01-20",
          "2020-01-21",
          "2020-01-22",
          "2020-01-23",
          "2020-01-24",
          "2020-01-28",
          "2020-01-29",
          "2020-01-30",
          "2020-01-31",
          "2020-02-01",
          "2020-02-03",
          "2020-02-06",
          "2020-02-07",
          "2020-02-10",
          "2020-02-11",
          "2020-02-12",
          "2020-02-13",
          "2020-02-14",
          "2020-02-15",
          "2020-02-18",
          "2020-02-19",
          "2020-02-21",
          "2020-02-22",
          "2020-02-29",
          "2020-03-01",
          "2020-03-03",
          "2020-03-05",
          "2020-03-07",
          "2020-03-08",
          "2020-03-09",
          "2020-03-10",
          "2020-03-11",
          "2020-03-13",
          "2020-03-14",
          "2020-03-15",
          "2020-03-16",
          "2020-03-17",
          "2020-03-18",
          "2020-03-23",
          "2020-03-24",
          "2020-03-25",
          "2020-03-27",
          "2020-03-29",
          "2020-03-30",
          "2020-03-31",
          "2020-04-02",
          "2020-04-03",
          "2020-04-05",
          "2020-04-06",
          "2020-04-07",
          "2020-04-08",
          "2020-04-09",
          "2020-04-10",
          "2020-04-14",
          "2020-04-15",
          "2020-04-16",
          "2020-04-18",
          "2020-04-19",
          "2020-04-21",
          "2020-04-22",
          "2020-04-23",
          "2020-04-24",
          "2020-04-26",
          "2020-04-28",
          "2020-04-29",
          "2020-04-30",
          "2020-05-01",
          "2020-05-03",
          "2020-05-04",
          "2020-05-05",
          "2020-05-06",
          "2020-05-07",
          "2020-05-08",
          "2020-05-10",
          "2020-05-11",
          "2020-05-13",
          "2020-05-14",
          "2020-05-15",
          "2020-05-16",
          "2020-05-18",
          "2020-05-19",
          "2020-05-20",
          "2020-05-21",
          "2020-05-22",
          "2020-05-24",
          "2020-05-25",
          "2020-05-26",
          "2020-05-27",
          "2020-05-28",
          "2020-05-29",
          "2020-06-01",
          "2020-06-02",
          "2020-06-03",
          "2020-06-04",
          "2020-06-05",
          "2020-06-08",
          "2020-06-09",
          "2020-06-10",
          "2020-06-12",
          "2020-06-14",
          "2020-06-15",
          "2020-06-18",
          "2020-06-19",
          "2020-06-20",
          "2020-06-21",
          "2020-06-22",
          "2020-06-26",
          "2020-06-27",
          "2020-06-28",
          "2020-06-29",
          "2020-07-02",
          "2020-07-03",
          "2020-07-04",
          "2020-07-05",
          "2020-07-06",
          "2020-07-07",
          "2020-07-08",
          "2020-07-12",
          "2020-07-16",
          "2020-07-17",
          "2020-07-20",
          "2020-07-21",
          "2020-07-22",
          "2020-07-23",
          "2020-07-24",
          "2020-07-25",
          "2020-07-26",
          "2020-07-28",
          "2020-07-30",
          "2020-08-01",
          "2020-08-02",
          "2020-08-03",
          "2020-08-04",
          "2020-08-05",
          "2020-08-10",
          "2020-08-11",
          "2020-08-12",
          "2020-08-13",
          "2020-08-15",
          "2020-08-17",
          "2020-08-21",
          "2020-08-22",
          "2020-08-23",
          "2020-08-26",
          "2020-08-30",
          "2020-08-31",
          "2020-09-01",
          "2020-09-02",
          "2020-09-13",
          "2020-09-14",
          "2020-09-15"
         ],
         "xaxis": "x",
         "y": [
          0.3955,
          24.5329,
          9.274966666666666,
          5.086316666666667,
          64.35201666666667,
          108.60093333333333,
          15.790083333333333,
          19.92605,
          116.71305,
          75.66006666666667,
          85.1662,
          66.32795,
          23.955483333333333,
          39.53378333333333,
          5.219733333333333,
          74.16788333333334,
          30.832283333333333,
          133.47961666666666,
          60.142149999999994,
          16.133516666666665,
          96.68578333333333,
          34.88968333333333,
          39.190866666666665,
          37.23673333333333,
          56.01858333333333,
          53.193533333333335,
          60.265766666666664,
          72.86541666666666,
          82.0133,
          19.549933333333335,
          6.9887999999999995,
          34.39033333333333,
          24.021,
          42.79801666666667,
          57.4178,
          72.30708333333334,
          38.46855,
          27.808300000000003,
          90.1706,
          77.62036666666667,
          152.94893333333334,
          126.13568333333333,
          15.397833333333333,
          52.093016666666664,
          63.58,
          39.43536666666667,
          114.86576666666666,
          21.997183333333332,
          79.43498333333334,
          49.89825,
          38.456199999999995,
          53.955133333333336,
          193.39008333333334,
          59.59935,
          43.87866666666667,
          47.25353333333334,
          21.128516666666666,
          19.947766666666666,
          82.78094999999999,
          29.57135,
          93.21795,
          79.17316666666666,
          67.08383333333333,
          33.23115,
          22.7318,
          5.878866666666666,
          74.35363333333333,
          9.719066666666667,
          6.202133333333333,
          139.666,
          128.68973333333332,
          125.19683333333333,
          6.925583333333333,
          6.247783333333333,
          2.7153666666666667,
          15.387149999999998,
          41.785983333333334,
          21.114783333333335,
          19.929133333333333,
          18.680266666666668,
          32.33578333333333,
          6.566783333333333,
          108.69638333333333,
          7.10335,
          43.72111666666667,
          31.952316666666665,
          32.651450000000004,
          68.77348333333333,
          64.96463333333334,
          43.49981666666667,
          8.256733333333333,
          113.98271666666666,
          85.88636666666666,
          117.60228333333333,
          50.584983333333334,
          56.104,
          47.41081666666666,
          88.03383333333333,
          115.72736666666667,
          175.25711666666666,
          27.598466666666667,
          35.655833333333334,
          43.82038333333333,
          38.24883333333333,
          60.355783333333335,
          44.632999999999996,
          34.981183333333334,
          30.537816666666668,
          49.59418333333333,
          38.50141666666667,
          63.21436666666666,
          8.395733333333332,
          23.447433333333336,
          74.49628333333334,
          38.75476666666667,
          44.16773333333333,
          0.4229833333333333,
          43.12565,
          7.985199999999999,
          36.09611666666667,
          20.7104,
          45.881550000000004,
          67.33888333333333,
          60.35858333333333,
          25.609199999999998,
          21.5111,
          6.474983333333333,
          73.78968333333333,
          26.450133333333333,
          5.047483333333333,
          10.923416666666666,
          109.23885,
          100.06981666666667,
          0.1624166666666666,
          51.1971,
          102.24476666666666,
          123.53353333333334,
          54.03126666666667,
          17.6892,
          82.60513333333333,
          60.82965,
          11.257033333333334,
          11.932033333333333,
          73.74826666666667,
          0.1466666666666666,
          20.717866666666666,
          119.30016666666667,
          55.3979,
          38.2127,
          27.702233333333332,
          23.883633333333332,
          26.631316666666667,
          261.0901,
          87.23855,
          28.8285,
          2.3916666666666666,
          91.42778333333334,
          95.2197,
          14.729366666666666,
          5.4892666666666665,
          41.49665,
          16.041833333333333,
          90.6562,
          25.76025,
          14.676066666666665,
          7.152666666666667,
          15.128933333333334,
          67.55221666666667,
          38.45668333333333,
          120.33876666666667,
          40.469316666666664,
          32.76603333333333,
          42.562266666666666,
          66.16546666666666,
          8.876249999999999,
          26.79355,
          2.04,
          29.043516666666665,
          166.45136666666667,
          118.51228333333333,
          97.50206666666666,
          44.77836666666667,
          62.99353333333333,
          66.66078333333333,
          72.32753333333334,
          39.08501666666667,
          6.4931833333333335,
          11.222966666666666,
          194.50558333333333,
          109.05706666666667,
          39.6511,
          34.431983333333335,
          112.17186666666666,
          141.73278333333334,
          21.442633333333333,
          36.413516666666666,
          0.8294999999999999,
          23.676883333333333,
          18.032149999999998,
          39.1338,
          20.816516666666665,
          141.03485,
          24.22758333333333,
          54.573366666666665,
          0.0993333333333332,
          12.210749999999999,
          93.80738333333333,
          57.07496666666667,
          29.3621,
          4.5804,
          144.62768333333332,
          24.746033333333333,
          42.33855,
          121.3026,
          76.06693333333334,
          53.159166666666664,
          187.42965,
          34.1397,
          46.487,
          50.363483333333335,
          20.294666666666664,
          68.90601666666666,
          24.022333333333332,
          28.3706,
          101.84774999999999,
          138.27248333333333,
          95.12291666666667,
          70.66008333333333,
          29.813883333333333,
          30.998566666666665,
          28.132283333333334,
          0.4190499999999998,
          62.43921666666667,
          6.209199999999999,
          36.041516666666666,
          28.815766666666665,
          31.700116666666666,
          26.411649999999998,
          0,
          19.814083333333333,
          75.45241666666666,
          82.45116666666667,
          9.322966666666668
         ],
         "yaxis": "y"
        }
       ],
       "layout": {
        "legend": {
         "tracegroupgap": 0
        },
        "template": {
         "data": {
          "bar": [
           {
            "error_x": {
             "color": "#2a3f5f"
            },
            "error_y": {
             "color": "#2a3f5f"
            },
            "marker": {
             "line": {
              "color": "#E5ECF6",
              "width": 0.5
             },
             "pattern": {
              "fillmode": "overlay",
              "size": 10,
              "solidity": 0.2
             }
            },
            "type": "bar"
           }
          ],
          "barpolar": [
           {
            "marker": {
             "line": {
              "color": "#E5ECF6",
              "width": 0.5
             },
             "pattern": {
              "fillmode": "overlay",
              "size": 10,
              "solidity": 0.2
             }
            },
            "type": "barpolar"
           }
          ],
          "carpet": [
           {
            "aaxis": {
             "endlinecolor": "#2a3f5f",
             "gridcolor": "white",
             "linecolor": "white",
             "minorgridcolor": "white",
             "startlinecolor": "#2a3f5f"
            },
            "baxis": {
             "endlinecolor": "#2a3f5f",
             "gridcolor": "white",
             "linecolor": "white",
             "minorgridcolor": "white",
             "startlinecolor": "#2a3f5f"
            },
            "type": "carpet"
           }
          ],
          "choropleth": [
           {
            "colorbar": {
             "outlinewidth": 0,
             "ticks": ""
            },
            "type": "choropleth"
           }
          ],
          "contour": [
           {
            "colorbar": {
             "outlinewidth": 0,
             "ticks": ""
            },
            "colorscale": [
             [
              0,
              "#0d0887"
             ],
             [
              0.1111111111111111,
              "#46039f"
             ],
             [
              0.2222222222222222,
              "#7201a8"
             ],
             [
              0.3333333333333333,
              "#9c179e"
             ],
             [
              0.4444444444444444,
              "#bd3786"
             ],
             [
              0.5555555555555556,
              "#d8576b"
             ],
             [
              0.6666666666666666,
              "#ed7953"
             ],
             [
              0.7777777777777778,
              "#fb9f3a"
             ],
             [
              0.8888888888888888,
              "#fdca26"
             ],
             [
              1,
              "#f0f921"
             ]
            ],
            "type": "contour"
           }
          ],
          "contourcarpet": [
           {
            "colorbar": {
             "outlinewidth": 0,
             "ticks": ""
            },
            "type": "contourcarpet"
           }
          ],
          "heatmap": [
           {
            "colorbar": {
             "outlinewidth": 0,
             "ticks": ""
            },
            "colorscale": [
             [
              0,
              "#0d0887"
             ],
             [
              0.1111111111111111,
              "#46039f"
             ],
             [
              0.2222222222222222,
              "#7201a8"
             ],
             [
              0.3333333333333333,
              "#9c179e"
             ],
             [
              0.4444444444444444,
              "#bd3786"
             ],
             [
              0.5555555555555556,
              "#d8576b"
             ],
             [
              0.6666666666666666,
              "#ed7953"
             ],
             [
              0.7777777777777778,
              "#fb9f3a"
             ],
             [
              0.8888888888888888,
              "#fdca26"
             ],
             [
              1,
              "#f0f921"
             ]
            ],
            "type": "heatmap"
           }
          ],
          "heatmapgl": [
           {
            "colorbar": {
             "outlinewidth": 0,
             "ticks": ""
            },
            "colorscale": [
             [
              0,
              "#0d0887"
             ],
             [
              0.1111111111111111,
              "#46039f"
             ],
             [
              0.2222222222222222,
              "#7201a8"
             ],
             [
              0.3333333333333333,
              "#9c179e"
             ],
             [
              0.4444444444444444,
              "#bd3786"
             ],
             [
              0.5555555555555556,
              "#d8576b"
             ],
             [
              0.6666666666666666,
              "#ed7953"
             ],
             [
              0.7777777777777778,
              "#fb9f3a"
             ],
             [
              0.8888888888888888,
              "#fdca26"
             ],
             [
              1,
              "#f0f921"
             ]
            ],
            "type": "heatmapgl"
           }
          ],
          "histogram": [
           {
            "marker": {
             "pattern": {
              "fillmode": "overlay",
              "size": 10,
              "solidity": 0.2
             }
            },
            "type": "histogram"
           }
          ],
          "histogram2d": [
           {
            "colorbar": {
             "outlinewidth": 0,
             "ticks": ""
            },
            "colorscale": [
             [
              0,
              "#0d0887"
             ],
             [
              0.1111111111111111,
              "#46039f"
             ],
             [
              0.2222222222222222,
              "#7201a8"
             ],
             [
              0.3333333333333333,
              "#9c179e"
             ],
             [
              0.4444444444444444,
              "#bd3786"
             ],
             [
              0.5555555555555556,
              "#d8576b"
             ],
             [
              0.6666666666666666,
              "#ed7953"
             ],
             [
              0.7777777777777778,
              "#fb9f3a"
             ],
             [
              0.8888888888888888,
              "#fdca26"
             ],
             [
              1,
              "#f0f921"
             ]
            ],
            "type": "histogram2d"
           }
          ],
          "histogram2dcontour": [
           {
            "colorbar": {
             "outlinewidth": 0,
             "ticks": ""
            },
            "colorscale": [
             [
              0,
              "#0d0887"
             ],
             [
              0.1111111111111111,
              "#46039f"
             ],
             [
              0.2222222222222222,
              "#7201a8"
             ],
             [
              0.3333333333333333,
              "#9c179e"
             ],
             [
              0.4444444444444444,
              "#bd3786"
             ],
             [
              0.5555555555555556,
              "#d8576b"
             ],
             [
              0.6666666666666666,
              "#ed7953"
             ],
             [
              0.7777777777777778,
              "#fb9f3a"
             ],
             [
              0.8888888888888888,
              "#fdca26"
             ],
             [
              1,
              "#f0f921"
             ]
            ],
            "type": "histogram2dcontour"
           }
          ],
          "mesh3d": [
           {
            "colorbar": {
             "outlinewidth": 0,
             "ticks": ""
            },
            "type": "mesh3d"
           }
          ],
          "parcoords": [
           {
            "line": {
             "colorbar": {
              "outlinewidth": 0,
              "ticks": ""
             }
            },
            "type": "parcoords"
           }
          ],
          "pie": [
           {
            "automargin": true,
            "type": "pie"
           }
          ],
          "scatter": [
           {
            "fillpattern": {
             "fillmode": "overlay",
             "size": 10,
             "solidity": 0.2
            },
            "type": "scatter"
           }
          ],
          "scatter3d": [
           {
            "line": {
             "colorbar": {
              "outlinewidth": 0,
              "ticks": ""
             }
            },
            "marker": {
             "colorbar": {
              "outlinewidth": 0,
              "ticks": ""
             }
            },
            "type": "scatter3d"
           }
          ],
          "scattercarpet": [
           {
            "marker": {
             "colorbar": {
              "outlinewidth": 0,
              "ticks": ""
             }
            },
            "type": "scattercarpet"
           }
          ],
          "scattergeo": [
           {
            "marker": {
             "colorbar": {
              "outlinewidth": 0,
              "ticks": ""
             }
            },
            "type": "scattergeo"
           }
          ],
          "scattergl": [
           {
            "marker": {
             "colorbar": {
              "outlinewidth": 0,
              "ticks": ""
             }
            },
            "type": "scattergl"
           }
          ],
          "scattermapbox": [
           {
            "marker": {
             "colorbar": {
              "outlinewidth": 0,
              "ticks": ""
             }
            },
            "type": "scattermapbox"
           }
          ],
          "scatterpolar": [
           {
            "marker": {
             "colorbar": {
              "outlinewidth": 0,
              "ticks": ""
             }
            },
            "type": "scatterpolar"
           }
          ],
          "scatterpolargl": [
           {
            "marker": {
             "colorbar": {
              "outlinewidth": 0,
              "ticks": ""
             }
            },
            "type": "scatterpolargl"
           }
          ],
          "scatterternary": [
           {
            "marker": {
             "colorbar": {
              "outlinewidth": 0,
              "ticks": ""
             }
            },
            "type": "scatterternary"
           }
          ],
          "surface": [
           {
            "colorbar": {
             "outlinewidth": 0,
             "ticks": ""
            },
            "colorscale": [
             [
              0,
              "#0d0887"
             ],
             [
              0.1111111111111111,
              "#46039f"
             ],
             [
              0.2222222222222222,
              "#7201a8"
             ],
             [
              0.3333333333333333,
              "#9c179e"
             ],
             [
              0.4444444444444444,
              "#bd3786"
             ],
             [
              0.5555555555555556,
              "#d8576b"
             ],
             [
              0.6666666666666666,
              "#ed7953"
             ],
             [
              0.7777777777777778,
              "#fb9f3a"
             ],
             [
              0.8888888888888888,
              "#fdca26"
             ],
             [
              1,
              "#f0f921"
             ]
            ],
            "type": "surface"
           }
          ],
          "table": [
           {
            "cells": {
             "fill": {
              "color": "#EBF0F8"
             },
             "line": {
              "color": "white"
             }
            },
            "header": {
             "fill": {
              "color": "#C8D4E3"
             },
             "line": {
              "color": "white"
             }
            },
            "type": "table"
           }
          ]
         },
         "layout": {
          "annotationdefaults": {
           "arrowcolor": "#2a3f5f",
           "arrowhead": 0,
           "arrowwidth": 1
          },
          "autotypenumbers": "strict",
          "coloraxis": {
           "colorbar": {
            "outlinewidth": 0,
            "ticks": ""
           }
          },
          "colorscale": {
           "diverging": [
            [
             0,
             "#8e0152"
            ],
            [
             0.1,
             "#c51b7d"
            ],
            [
             0.2,
             "#de77ae"
            ],
            [
             0.3,
             "#f1b6da"
            ],
            [
             0.4,
             "#fde0ef"
            ],
            [
             0.5,
             "#f7f7f7"
            ],
            [
             0.6,
             "#e6f5d0"
            ],
            [
             0.7,
             "#b8e186"
            ],
            [
             0.8,
             "#7fbc41"
            ],
            [
             0.9,
             "#4d9221"
            ],
            [
             1,
             "#276419"
            ]
           ],
           "sequential": [
            [
             0,
             "#0d0887"
            ],
            [
             0.1111111111111111,
             "#46039f"
            ],
            [
             0.2222222222222222,
             "#7201a8"
            ],
            [
             0.3333333333333333,
             "#9c179e"
            ],
            [
             0.4444444444444444,
             "#bd3786"
            ],
            [
             0.5555555555555556,
             "#d8576b"
            ],
            [
             0.6666666666666666,
             "#ed7953"
            ],
            [
             0.7777777777777778,
             "#fb9f3a"
            ],
            [
             0.8888888888888888,
             "#fdca26"
            ],
            [
             1,
             "#f0f921"
            ]
           ],
           "sequentialminus": [
            [
             0,
             "#0d0887"
            ],
            [
             0.1111111111111111,
             "#46039f"
            ],
            [
             0.2222222222222222,
             "#7201a8"
            ],
            [
             0.3333333333333333,
             "#9c179e"
            ],
            [
             0.4444444444444444,
             "#bd3786"
            ],
            [
             0.5555555555555556,
             "#d8576b"
            ],
            [
             0.6666666666666666,
             "#ed7953"
            ],
            [
             0.7777777777777778,
             "#fb9f3a"
            ],
            [
             0.8888888888888888,
             "#fdca26"
            ],
            [
             1,
             "#f0f921"
            ]
           ]
          },
          "colorway": [
           "#636efa",
           "#EF553B",
           "#00cc96",
           "#ab63fa",
           "#FFA15A",
           "#19d3f3",
           "#FF6692",
           "#B6E880",
           "#FF97FF",
           "#FECB52"
          ],
          "font": {
           "color": "#2a3f5f"
          },
          "geo": {
           "bgcolor": "white",
           "lakecolor": "white",
           "landcolor": "#E5ECF6",
           "showlakes": true,
           "showland": true,
           "subunitcolor": "white"
          },
          "hoverlabel": {
           "align": "left"
          },
          "hovermode": "closest",
          "mapbox": {
           "style": "light"
          },
          "paper_bgcolor": "white",
          "plot_bgcolor": "#E5ECF6",
          "polar": {
           "angularaxis": {
            "gridcolor": "white",
            "linecolor": "white",
            "ticks": ""
           },
           "bgcolor": "#E5ECF6",
           "radialaxis": {
            "gridcolor": "white",
            "linecolor": "white",
            "ticks": ""
           }
          },
          "scene": {
           "xaxis": {
            "backgroundcolor": "#E5ECF6",
            "gridcolor": "white",
            "gridwidth": 2,
            "linecolor": "white",
            "showbackground": true,
            "ticks": "",
            "zerolinecolor": "white"
           },
           "yaxis": {
            "backgroundcolor": "#E5ECF6",
            "gridcolor": "white",
            "gridwidth": 2,
            "linecolor": "white",
            "showbackground": true,
            "ticks": "",
            "zerolinecolor": "white"
           },
           "zaxis": {
            "backgroundcolor": "#E5ECF6",
            "gridcolor": "white",
            "gridwidth": 2,
            "linecolor": "white",
            "showbackground": true,
            "ticks": "",
            "zerolinecolor": "white"
           }
          },
          "shapedefaults": {
           "line": {
            "color": "#2a3f5f"
           }
          },
          "ternary": {
           "aaxis": {
            "gridcolor": "white",
            "linecolor": "white",
            "ticks": ""
           },
           "baxis": {
            "gridcolor": "white",
            "linecolor": "white",
            "ticks": ""
           },
           "bgcolor": "#E5ECF6",
           "caxis": {
            "gridcolor": "white",
            "linecolor": "white",
            "ticks": ""
           }
          },
          "title": {
           "x": 0.05
          },
          "xaxis": {
           "automargin": true,
           "gridcolor": "white",
           "linecolor": "white",
           "ticks": "",
           "title": {
            "standoff": 15
           },
           "zerolinecolor": "white",
           "zerolinewidth": 2
          },
          "yaxis": {
           "automargin": true,
           "gridcolor": "white",
           "linecolor": "white",
           "ticks": "",
           "title": {
            "standoff": 15
           },
           "zerolinecolor": "white",
           "zerolinewidth": 2
          }
         }
        },
        "title": {
         "text": "Timeline Of My Streaming History"
        },
        "xaxis": {
         "anchor": "y",
         "domain": [
          0,
          1
         ],
         "title": {
          "text": "Month"
         }
        },
        "yaxis": {
         "anchor": "x",
         "domain": [
          0,
          1
         ],
         "title": {
          "text": "Minutes Played"
         }
        }
       }
      },
      "text/html": [
       "<div>                            <div id=\"aa05ff52-7e6e-4086-aa78-5a910fd90a78\" class=\"plotly-graph-div\" style=\"height:525px; width:100%;\"></div>            <script type=\"text/javascript\">                require([\"plotly\"], function(Plotly) {                    window.PLOTLYENV=window.PLOTLYENV || {};                                    if (document.getElementById(\"aa05ff52-7e6e-4086-aa78-5a910fd90a78\")) {                    Plotly.newPlot(                        \"aa05ff52-7e6e-4086-aa78-5a910fd90a78\",                        [{\"hovertemplate\":\"Month=%{x}<br>Minutes Played=%{y}<extra></extra>\",\"legendgroup\":\"\",\"line\":{\"color\":\"rgb(103,0,31)\",\"dash\":\"solid\"},\"marker\":{\"symbol\":\"circle\"},\"mode\":\"lines\",\"name\":\"\",\"orientation\":\"v\",\"showlegend\":false,\"x\":[\"2019-09-14\",\"2019-09-15\",\"2019-09-16\",\"2019-09-17\",\"2019-09-18\",\"2019-09-19\",\"2019-09-20\",\"2019-09-23\",\"2019-09-24\",\"2019-09-25\",\"2019-09-26\",\"2019-09-27\",\"2019-09-28\",\"2019-09-29\",\"2019-09-30\",\"2019-10-01\",\"2019-10-02\",\"2019-10-04\",\"2019-10-06\",\"2019-10-07\",\"2019-10-08\",\"2019-10-09\",\"2019-10-12\",\"2019-10-13\",\"2019-10-14\",\"2019-10-15\",\"2019-10-16\",\"2019-10-17\",\"2019-10-18\",\"2019-10-20\",\"2019-10-21\",\"2019-10-22\",\"2019-10-24\",\"2019-10-27\",\"2019-10-29\",\"2019-10-30\",\"2019-10-31\",\"2019-11-01\",\"2019-11-04\",\"2019-11-05\",\"2019-11-06\",\"2019-11-07\",\"2019-11-10\",\"2019-11-11\",\"2019-11-12\",\"2019-11-13\",\"2019-11-14\",\"2019-11-15\",\"2019-11-17\",\"2019-11-18\",\"2019-11-20\",\"2019-11-21\",\"2019-11-25\",\"2019-11-26\",\"2019-11-27\",\"2019-11-28\",\"2019-11-29\",\"2019-11-30\",\"2019-12-02\",\"2019-12-03\",\"2019-12-04\",\"2019-12-05\",\"2019-12-08\",\"2019-12-09\",\"2019-12-11\",\"2019-12-12\",\"2019-12-13\",\"2019-12-14\",\"2019-12-16\",\"2019-12-17\",\"2019-12-18\",\"2019-12-20\",\"2019-12-22\",\"2019-12-23\",\"2019-12-24\",\"2019-12-25\",\"2019-12-27\",\"2019-12-28\",\"2019-12-29\",\"2020-01-01\",\"2020-01-02\",\"2020-01-03\",\"2020-01-06\",\"2020-01-08\",\"2020-01-09\",\"2020-01-10\",\"2020-01-11\",\"2020-01-12\",\"2020-01-13\",\"2020-01-14\",\"2020-01-16\",\"2020-01-18\",\"2020-01-20\",\"2020-01-21\",\"2020-01-22\",\"2020-01-23\",\"2020-01-24\",\"2020-01-28\",\"2020-01-29\",\"2020-01-30\",\"2020-01-31\",\"2020-02-01\",\"2020-02-03\",\"2020-02-06\",\"2020-02-07\",\"2020-02-10\",\"2020-02-11\",\"2020-02-12\",\"2020-02-13\",\"2020-02-14\",\"2020-02-15\",\"2020-02-18\",\"2020-02-19\",\"2020-02-21\",\"2020-02-22\",\"2020-02-29\",\"2020-03-01\",\"2020-03-03\",\"2020-03-05\",\"2020-03-07\",\"2020-03-08\",\"2020-03-09\",\"2020-03-10\",\"2020-03-11\",\"2020-03-13\",\"2020-03-14\",\"2020-03-15\",\"2020-03-16\",\"2020-03-17\",\"2020-03-18\",\"2020-03-23\",\"2020-03-24\",\"2020-03-25\",\"2020-03-27\",\"2020-03-29\",\"2020-03-30\",\"2020-03-31\",\"2020-04-02\",\"2020-04-03\",\"2020-04-05\",\"2020-04-06\",\"2020-04-07\",\"2020-04-08\",\"2020-04-09\",\"2020-04-10\",\"2020-04-14\",\"2020-04-15\",\"2020-04-16\",\"2020-04-18\",\"2020-04-19\",\"2020-04-21\",\"2020-04-22\",\"2020-04-23\",\"2020-04-24\",\"2020-04-26\",\"2020-04-28\",\"2020-04-29\",\"2020-04-30\",\"2020-05-01\",\"2020-05-03\",\"2020-05-04\",\"2020-05-05\",\"2020-05-06\",\"2020-05-07\",\"2020-05-08\",\"2020-05-10\",\"2020-05-11\",\"2020-05-13\",\"2020-05-14\",\"2020-05-15\",\"2020-05-16\",\"2020-05-18\",\"2020-05-19\",\"2020-05-20\",\"2020-05-21\",\"2020-05-22\",\"2020-05-24\",\"2020-05-25\",\"2020-05-26\",\"2020-05-27\",\"2020-05-28\",\"2020-05-29\",\"2020-06-01\",\"2020-06-02\",\"2020-06-03\",\"2020-06-04\",\"2020-06-05\",\"2020-06-08\",\"2020-06-09\",\"2020-06-10\",\"2020-06-12\",\"2020-06-14\",\"2020-06-15\",\"2020-06-18\",\"2020-06-19\",\"2020-06-20\",\"2020-06-21\",\"2020-06-22\",\"2020-06-26\",\"2020-06-27\",\"2020-06-28\",\"2020-06-29\",\"2020-07-02\",\"2020-07-03\",\"2020-07-04\",\"2020-07-05\",\"2020-07-06\",\"2020-07-07\",\"2020-07-08\",\"2020-07-12\",\"2020-07-16\",\"2020-07-17\",\"2020-07-20\",\"2020-07-21\",\"2020-07-22\",\"2020-07-23\",\"2020-07-24\",\"2020-07-25\",\"2020-07-26\",\"2020-07-28\",\"2020-07-30\",\"2020-08-01\",\"2020-08-02\",\"2020-08-03\",\"2020-08-04\",\"2020-08-05\",\"2020-08-10\",\"2020-08-11\",\"2020-08-12\",\"2020-08-13\",\"2020-08-15\",\"2020-08-17\",\"2020-08-21\",\"2020-08-22\",\"2020-08-23\",\"2020-08-26\",\"2020-08-30\",\"2020-08-31\",\"2020-09-01\",\"2020-09-02\",\"2020-09-13\",\"2020-09-14\",\"2020-09-15\"],\"xaxis\":\"x\",\"y\":[0.3955,24.5329,9.274966666666666,5.086316666666667,64.35201666666667,108.60093333333333,15.790083333333333,19.92605,116.71305,75.66006666666667,85.1662,66.32795,23.955483333333333,39.53378333333333,5.219733333333333,74.16788333333334,30.832283333333333,133.47961666666666,60.142149999999994,16.133516666666665,96.68578333333333,34.88968333333333,39.190866666666665,37.23673333333333,56.01858333333333,53.193533333333335,60.265766666666664,72.86541666666666,82.0133,19.549933333333335,6.9887999999999995,34.39033333333333,24.021,42.79801666666667,57.4178,72.30708333333334,38.46855,27.808300000000003,90.1706,77.62036666666667,152.94893333333334,126.13568333333333,15.397833333333333,52.093016666666664,63.58,39.43536666666667,114.86576666666666,21.997183333333332,79.43498333333334,49.89825,38.456199999999995,53.955133333333336,193.39008333333334,59.59935,43.87866666666667,47.25353333333334,21.128516666666666,19.947766666666666,82.78094999999999,29.57135,93.21795,79.17316666666666,67.08383333333333,33.23115,22.7318,5.878866666666666,74.35363333333333,9.719066666666667,6.202133333333333,139.666,128.68973333333332,125.19683333333333,6.925583333333333,6.247783333333333,2.7153666666666667,15.387149999999998,41.785983333333334,21.114783333333335,19.929133333333333,18.680266666666668,32.33578333333333,6.566783333333333,108.69638333333333,7.10335,43.72111666666667,31.952316666666665,32.651450000000004,68.77348333333333,64.96463333333334,43.49981666666667,8.256733333333333,113.98271666666666,85.88636666666666,117.60228333333333,50.584983333333334,56.104,47.41081666666666,88.03383333333333,115.72736666666667,175.25711666666666,27.598466666666667,35.655833333333334,43.82038333333333,38.24883333333333,60.355783333333335,44.632999999999996,34.981183333333334,30.537816666666668,49.59418333333333,38.50141666666667,63.21436666666666,8.395733333333332,23.447433333333336,74.49628333333334,38.75476666666667,44.16773333333333,0.4229833333333333,43.12565,7.985199999999999,36.09611666666667,20.7104,45.881550000000004,67.33888333333333,60.35858333333333,25.609199999999998,21.5111,6.474983333333333,73.78968333333333,26.450133333333333,5.047483333333333,10.923416666666666,109.23885,100.06981666666667,0.1624166666666666,51.1971,102.24476666666666,123.53353333333334,54.03126666666667,17.6892,82.60513333333333,60.82965,11.257033333333334,11.932033333333333,73.74826666666667,0.1466666666666666,20.717866666666666,119.30016666666667,55.3979,38.2127,27.702233333333332,23.883633333333332,26.631316666666667,261.0901,87.23855,28.8285,2.3916666666666666,91.42778333333334,95.2197,14.729366666666666,5.4892666666666665,41.49665,16.041833333333333,90.6562,25.76025,14.676066666666665,7.152666666666667,15.128933333333334,67.55221666666667,38.45668333333333,120.33876666666667,40.469316666666664,32.76603333333333,42.562266666666666,66.16546666666666,8.876249999999999,26.79355,2.04,29.043516666666665,166.45136666666667,118.51228333333333,97.50206666666666,44.77836666666667,62.99353333333333,66.66078333333333,72.32753333333334,39.08501666666667,6.4931833333333335,11.222966666666666,194.50558333333333,109.05706666666667,39.6511,34.431983333333335,112.17186666666666,141.73278333333334,21.442633333333333,36.413516666666666,0.8294999999999999,23.676883333333333,18.032149999999998,39.1338,20.816516666666665,141.03485,24.22758333333333,54.573366666666665,0.0993333333333332,12.210749999999999,93.80738333333333,57.07496666666667,29.3621,4.5804,144.62768333333332,24.746033333333333,42.33855,121.3026,76.06693333333334,53.159166666666664,187.42965,34.1397,46.487,50.363483333333335,20.294666666666664,68.90601666666666,24.022333333333332,28.3706,101.84774999999999,138.27248333333333,95.12291666666667,70.66008333333333,29.813883333333333,30.998566666666665,28.132283333333334,0.4190499999999998,62.43921666666667,6.209199999999999,36.041516666666666,28.815766666666665,31.700116666666666,26.411649999999998,0.0,19.814083333333333,75.45241666666666,82.45116666666667,9.322966666666668],\"yaxis\":\"y\",\"type\":\"scatter\"}],                        {\"template\":{\"data\":{\"histogram2dcontour\":[{\"type\":\"histogram2dcontour\",\"colorbar\":{\"outlinewidth\":0,\"ticks\":\"\"},\"colorscale\":[[0.0,\"#0d0887\"],[0.1111111111111111,\"#46039f\"],[0.2222222222222222,\"#7201a8\"],[0.3333333333333333,\"#9c179e\"],[0.4444444444444444,\"#bd3786\"],[0.5555555555555556,\"#d8576b\"],[0.6666666666666666,\"#ed7953\"],[0.7777777777777778,\"#fb9f3a\"],[0.8888888888888888,\"#fdca26\"],[1.0,\"#f0f921\"]]}],\"choropleth\":[{\"type\":\"choropleth\",\"colorbar\":{\"outlinewidth\":0,\"ticks\":\"\"}}],\"histogram2d\":[{\"type\":\"histogram2d\",\"colorbar\":{\"outlinewidth\":0,\"ticks\":\"\"},\"colorscale\":[[0.0,\"#0d0887\"],[0.1111111111111111,\"#46039f\"],[0.2222222222222222,\"#7201a8\"],[0.3333333333333333,\"#9c179e\"],[0.4444444444444444,\"#bd3786\"],[0.5555555555555556,\"#d8576b\"],[0.6666666666666666,\"#ed7953\"],[0.7777777777777778,\"#fb9f3a\"],[0.8888888888888888,\"#fdca26\"],[1.0,\"#f0f921\"]]}],\"heatmap\":[{\"type\":\"heatmap\",\"colorbar\":{\"outlinewidth\":0,\"ticks\":\"\"},\"colorscale\":[[0.0,\"#0d0887\"],[0.1111111111111111,\"#46039f\"],[0.2222222222222222,\"#7201a8\"],[0.3333333333333333,\"#9c179e\"],[0.4444444444444444,\"#bd3786\"],[0.5555555555555556,\"#d8576b\"],[0.6666666666666666,\"#ed7953\"],[0.7777777777777778,\"#fb9f3a\"],[0.8888888888888888,\"#fdca26\"],[1.0,\"#f0f921\"]]}],\"heatmapgl\":[{\"type\":\"heatmapgl\",\"colorbar\":{\"outlinewidth\":0,\"ticks\":\"\"},\"colorscale\":[[0.0,\"#0d0887\"],[0.1111111111111111,\"#46039f\"],[0.2222222222222222,\"#7201a8\"],[0.3333333333333333,\"#9c179e\"],[0.4444444444444444,\"#bd3786\"],[0.5555555555555556,\"#d8576b\"],[0.6666666666666666,\"#ed7953\"],[0.7777777777777778,\"#fb9f3a\"],[0.8888888888888888,\"#fdca26\"],[1.0,\"#f0f921\"]]}],\"contourcarpet\":[{\"type\":\"contourcarpet\",\"colorbar\":{\"outlinewidth\":0,\"ticks\":\"\"}}],\"contour\":[{\"type\":\"contour\",\"colorbar\":{\"outlinewidth\":0,\"ticks\":\"\"},\"colorscale\":[[0.0,\"#0d0887\"],[0.1111111111111111,\"#46039f\"],[0.2222222222222222,\"#7201a8\"],[0.3333333333333333,\"#9c179e\"],[0.4444444444444444,\"#bd3786\"],[0.5555555555555556,\"#d8576b\"],[0.6666666666666666,\"#ed7953\"],[0.7777777777777778,\"#fb9f3a\"],[0.8888888888888888,\"#fdca26\"],[1.0,\"#f0f921\"]]}],\"surface\":[{\"type\":\"surface\",\"colorbar\":{\"outlinewidth\":0,\"ticks\":\"\"},\"colorscale\":[[0.0,\"#0d0887\"],[0.1111111111111111,\"#46039f\"],[0.2222222222222222,\"#7201a8\"],[0.3333333333333333,\"#9c179e\"],[0.4444444444444444,\"#bd3786\"],[0.5555555555555556,\"#d8576b\"],[0.6666666666666666,\"#ed7953\"],[0.7777777777777778,\"#fb9f3a\"],[0.8888888888888888,\"#fdca26\"],[1.0,\"#f0f921\"]]}],\"mesh3d\":[{\"type\":\"mesh3d\",\"colorbar\":{\"outlinewidth\":0,\"ticks\":\"\"}}],\"scatter\":[{\"fillpattern\":{\"fillmode\":\"overlay\",\"size\":10,\"solidity\":0.2},\"type\":\"scatter\"}],\"parcoords\":[{\"type\":\"parcoords\",\"line\":{\"colorbar\":{\"outlinewidth\":0,\"ticks\":\"\"}}}],\"scatterpolargl\":[{\"type\":\"scatterpolargl\",\"marker\":{\"colorbar\":{\"outlinewidth\":0,\"ticks\":\"\"}}}],\"bar\":[{\"error_x\":{\"color\":\"#2a3f5f\"},\"error_y\":{\"color\":\"#2a3f5f\"},\"marker\":{\"line\":{\"color\":\"#E5ECF6\",\"width\":0.5},\"pattern\":{\"fillmode\":\"overlay\",\"size\":10,\"solidity\":0.2}},\"type\":\"bar\"}],\"scattergeo\":[{\"type\":\"scattergeo\",\"marker\":{\"colorbar\":{\"outlinewidth\":0,\"ticks\":\"\"}}}],\"scatterpolar\":[{\"type\":\"scatterpolar\",\"marker\":{\"colorbar\":{\"outlinewidth\":0,\"ticks\":\"\"}}}],\"histogram\":[{\"marker\":{\"pattern\":{\"fillmode\":\"overlay\",\"size\":10,\"solidity\":0.2}},\"type\":\"histogram\"}],\"scattergl\":[{\"type\":\"scattergl\",\"marker\":{\"colorbar\":{\"outlinewidth\":0,\"ticks\":\"\"}}}],\"scatter3d\":[{\"type\":\"scatter3d\",\"line\":{\"colorbar\":{\"outlinewidth\":0,\"ticks\":\"\"}},\"marker\":{\"colorbar\":{\"outlinewidth\":0,\"ticks\":\"\"}}}],\"scattermapbox\":[{\"type\":\"scattermapbox\",\"marker\":{\"colorbar\":{\"outlinewidth\":0,\"ticks\":\"\"}}}],\"scatterternary\":[{\"type\":\"scatterternary\",\"marker\":{\"colorbar\":{\"outlinewidth\":0,\"ticks\":\"\"}}}],\"scattercarpet\":[{\"type\":\"scattercarpet\",\"marker\":{\"colorbar\":{\"outlinewidth\":0,\"ticks\":\"\"}}}],\"carpet\":[{\"aaxis\":{\"endlinecolor\":\"#2a3f5f\",\"gridcolor\":\"white\",\"linecolor\":\"white\",\"minorgridcolor\":\"white\",\"startlinecolor\":\"#2a3f5f\"},\"baxis\":{\"endlinecolor\":\"#2a3f5f\",\"gridcolor\":\"white\",\"linecolor\":\"white\",\"minorgridcolor\":\"white\",\"startlinecolor\":\"#2a3f5f\"},\"type\":\"carpet\"}],\"table\":[{\"cells\":{\"fill\":{\"color\":\"#EBF0F8\"},\"line\":{\"color\":\"white\"}},\"header\":{\"fill\":{\"color\":\"#C8D4E3\"},\"line\":{\"color\":\"white\"}},\"type\":\"table\"}],\"barpolar\":[{\"marker\":{\"line\":{\"color\":\"#E5ECF6\",\"width\":0.5},\"pattern\":{\"fillmode\":\"overlay\",\"size\":10,\"solidity\":0.2}},\"type\":\"barpolar\"}],\"pie\":[{\"automargin\":true,\"type\":\"pie\"}]},\"layout\":{\"autotypenumbers\":\"strict\",\"colorway\":[\"#636efa\",\"#EF553B\",\"#00cc96\",\"#ab63fa\",\"#FFA15A\",\"#19d3f3\",\"#FF6692\",\"#B6E880\",\"#FF97FF\",\"#FECB52\"],\"font\":{\"color\":\"#2a3f5f\"},\"hovermode\":\"closest\",\"hoverlabel\":{\"align\":\"left\"},\"paper_bgcolor\":\"white\",\"plot_bgcolor\":\"#E5ECF6\",\"polar\":{\"bgcolor\":\"#E5ECF6\",\"angularaxis\":{\"gridcolor\":\"white\",\"linecolor\":\"white\",\"ticks\":\"\"},\"radialaxis\":{\"gridcolor\":\"white\",\"linecolor\":\"white\",\"ticks\":\"\"}},\"ternary\":{\"bgcolor\":\"#E5ECF6\",\"aaxis\":{\"gridcolor\":\"white\",\"linecolor\":\"white\",\"ticks\":\"\"},\"baxis\":{\"gridcolor\":\"white\",\"linecolor\":\"white\",\"ticks\":\"\"},\"caxis\":{\"gridcolor\":\"white\",\"linecolor\":\"white\",\"ticks\":\"\"}},\"coloraxis\":{\"colorbar\":{\"outlinewidth\":0,\"ticks\":\"\"}},\"colorscale\":{\"sequential\":[[0.0,\"#0d0887\"],[0.1111111111111111,\"#46039f\"],[0.2222222222222222,\"#7201a8\"],[0.3333333333333333,\"#9c179e\"],[0.4444444444444444,\"#bd3786\"],[0.5555555555555556,\"#d8576b\"],[0.6666666666666666,\"#ed7953\"],[0.7777777777777778,\"#fb9f3a\"],[0.8888888888888888,\"#fdca26\"],[1.0,\"#f0f921\"]],\"sequentialminus\":[[0.0,\"#0d0887\"],[0.1111111111111111,\"#46039f\"],[0.2222222222222222,\"#7201a8\"],[0.3333333333333333,\"#9c179e\"],[0.4444444444444444,\"#bd3786\"],[0.5555555555555556,\"#d8576b\"],[0.6666666666666666,\"#ed7953\"],[0.7777777777777778,\"#fb9f3a\"],[0.8888888888888888,\"#fdca26\"],[1.0,\"#f0f921\"]],\"diverging\":[[0,\"#8e0152\"],[0.1,\"#c51b7d\"],[0.2,\"#de77ae\"],[0.3,\"#f1b6da\"],[0.4,\"#fde0ef\"],[0.5,\"#f7f7f7\"],[0.6,\"#e6f5d0\"],[0.7,\"#b8e186\"],[0.8,\"#7fbc41\"],[0.9,\"#4d9221\"],[1,\"#276419\"]]},\"xaxis\":{\"gridcolor\":\"white\",\"linecolor\":\"white\",\"ticks\":\"\",\"title\":{\"standoff\":15},\"zerolinecolor\":\"white\",\"automargin\":true,\"zerolinewidth\":2},\"yaxis\":{\"gridcolor\":\"white\",\"linecolor\":\"white\",\"ticks\":\"\",\"title\":{\"standoff\":15},\"zerolinecolor\":\"white\",\"automargin\":true,\"zerolinewidth\":2},\"scene\":{\"xaxis\":{\"backgroundcolor\":\"#E5ECF6\",\"gridcolor\":\"white\",\"linecolor\":\"white\",\"showbackground\":true,\"ticks\":\"\",\"zerolinecolor\":\"white\",\"gridwidth\":2},\"yaxis\":{\"backgroundcolor\":\"#E5ECF6\",\"gridcolor\":\"white\",\"linecolor\":\"white\",\"showbackground\":true,\"ticks\":\"\",\"zerolinecolor\":\"white\",\"gridwidth\":2},\"zaxis\":{\"backgroundcolor\":\"#E5ECF6\",\"gridcolor\":\"white\",\"linecolor\":\"white\",\"showbackground\":true,\"ticks\":\"\",\"zerolinecolor\":\"white\",\"gridwidth\":2}},\"shapedefaults\":{\"line\":{\"color\":\"#2a3f5f\"}},\"annotationdefaults\":{\"arrowcolor\":\"#2a3f5f\",\"arrowhead\":0,\"arrowwidth\":1},\"geo\":{\"bgcolor\":\"white\",\"landcolor\":\"#E5ECF6\",\"subunitcolor\":\"white\",\"showland\":true,\"showlakes\":true,\"lakecolor\":\"white\"},\"title\":{\"x\":0.05},\"mapbox\":{\"style\":\"light\"}}},\"xaxis\":{\"anchor\":\"y\",\"domain\":[0.0,1.0],\"title\":{\"text\":\"Month\"}},\"yaxis\":{\"anchor\":\"x\",\"domain\":[0.0,1.0],\"title\":{\"text\":\"Minutes Played\"}},\"legend\":{\"tracegroupgap\":0},\"title\":{\"text\":\"Timeline Of My Streaming History\"}},                        {\"responsive\": true}                    ).then(function(){\n",
       "                            \n",
       "var gd = document.getElementById('aa05ff52-7e6e-4086-aa78-5a910fd90a78');\n",
       "var x = new MutationObserver(function (mutations, observer) {{\n",
       "        var display = window.getComputedStyle(gd).display;\n",
       "        if (!display || display === 'none') {{\n",
       "            console.log([gd, 'removed!']);\n",
       "            Plotly.purge(gd);\n",
       "            observer.disconnect();\n",
       "        }}\n",
       "}});\n",
       "\n",
       "// Listen for the removal of the full notebook cells\n",
       "var notebookContainer = gd.closest('#notebook-container');\n",
       "if (notebookContainer) {{\n",
       "    x.observe(notebookContainer, {childList: true});\n",
       "}}\n",
       "\n",
       "// Listen for the clearing of the current output cell\n",
       "var outputEl = gd.closest('.output');\n",
       "if (outputEl) {{\n",
       "    x.observe(outputEl, {childList: true});\n",
       "}}\n",
       "\n",
       "                        })                };                });            </script>        </div>"
      ]
     },
     "metadata": {},
     "output_type": "display_data"
    }
   ],
   "source": [
    "fig = px.line(day, x=\"date\", y=\"minutes_played\",\n",
    "              labels={\n",
    "                     \"date\": \"Month\",\n",
    "                     \"minutes_played\": \"Minutes Played\"},\n",
    "              color_discrete_sequence=px.colors.sequential.RdBu, title=\"Timeline Of My Streaming History\")\n",
    "\n",
    "fig.show()"
   ]
  },
  {
   "cell_type": "markdown",
   "metadata": {},
   "source": [
    "### Total minutes played day wise"
   ]
  },
  {
   "cell_type": "code",
   "execution_count": 87,
   "metadata": {},
   "outputs": [
    {
     "data": {
      "text/html": [
       "<div>\n",
       "<style scoped>\n",
       "    .dataframe tbody tr th:only-of-type {\n",
       "        vertical-align: middle;\n",
       "    }\n",
       "\n",
       "    .dataframe tbody tr th {\n",
       "        vertical-align: top;\n",
       "    }\n",
       "\n",
       "    .dataframe thead th {\n",
       "        text-align: right;\n",
       "    }\n",
       "</style>\n",
       "<table border=\"1\" class=\"dataframe\">\n",
       "  <thead>\n",
       "    <tr style=\"text-align: right;\">\n",
       "      <th></th>\n",
       "      <th>artist_name</th>\n",
       "      <th>track_name</th>\n",
       "      <th>minutes_played</th>\n",
       "      <th>date</th>\n",
       "      <th>day</th>\n",
       "    </tr>\n",
       "  </thead>\n",
       "  <tbody>\n",
       "    <tr>\n",
       "      <th>0</th>\n",
       "      <td>Sid Sriram</td>\n",
       "      <td>Inkem Inkem Inkem Kaavaale</td>\n",
       "      <td>0.395500</td>\n",
       "      <td>2019-09-14</td>\n",
       "      <td>Saturday</td>\n",
       "    </tr>\n",
       "    <tr>\n",
       "      <th>1</th>\n",
       "      <td>Sabrina Carpenter</td>\n",
       "      <td>In My Bed</td>\n",
       "      <td>0.224450</td>\n",
       "      <td>2019-09-15</td>\n",
       "      <td>Sunday</td>\n",
       "    </tr>\n",
       "    <tr>\n",
       "      <th>2</th>\n",
       "      <td>Emile Haynie</td>\n",
       "      <td>Wait For Life</td>\n",
       "      <td>4.871333</td>\n",
       "      <td>2019-09-15</td>\n",
       "      <td>Sunday</td>\n",
       "    </tr>\n",
       "    <tr>\n",
       "      <th>3</th>\n",
       "      <td>Emile Haynie</td>\n",
       "      <td>Wait For Life</td>\n",
       "      <td>4.871333</td>\n",
       "      <td>2020-01-06</td>\n",
       "      <td>Monday</td>\n",
       "    </tr>\n",
       "    <tr>\n",
       "      <th>4</th>\n",
       "      <td>Emile Haynie</td>\n",
       "      <td>Wait For Life</td>\n",
       "      <td>4.871333</td>\n",
       "      <td>2020-01-24</td>\n",
       "      <td>Friday</td>\n",
       "    </tr>\n",
       "    <tr>\n",
       "      <th>5</th>\n",
       "      <td>Emile Haynie</td>\n",
       "      <td>Wait For Life</td>\n",
       "      <td>4.510517</td>\n",
       "      <td>2020-02-18</td>\n",
       "      <td>Tuesday</td>\n",
       "    </tr>\n",
       "    <tr>\n",
       "      <th>6</th>\n",
       "      <td>Emile Haynie</td>\n",
       "      <td>Wait For Life</td>\n",
       "      <td>0.358817</td>\n",
       "      <td>2020-02-19</td>\n",
       "      <td>Wednesday</td>\n",
       "    </tr>\n",
       "    <tr>\n",
       "      <th>7</th>\n",
       "      <td>Emile Haynie</td>\n",
       "      <td>Wait For Life</td>\n",
       "      <td>4.871333</td>\n",
       "      <td>2020-03-31</td>\n",
       "      <td>Tuesday</td>\n",
       "    </tr>\n",
       "    <tr>\n",
       "      <th>8</th>\n",
       "      <td>Emile Haynie</td>\n",
       "      <td>Wait For Life</td>\n",
       "      <td>2.815217</td>\n",
       "      <td>2020-05-06</td>\n",
       "      <td>Wednesday</td>\n",
       "    </tr>\n",
       "    <tr>\n",
       "      <th>9</th>\n",
       "      <td>Emile Haynie</td>\n",
       "      <td>Wait For Life</td>\n",
       "      <td>0.006000</td>\n",
       "      <td>2020-08-01</td>\n",
       "      <td>Saturday</td>\n",
       "    </tr>\n",
       "    <tr>\n",
       "      <th>10</th>\n",
       "      <td>Emile Haynie</td>\n",
       "      <td>Wait For Life</td>\n",
       "      <td>0.025917</td>\n",
       "      <td>2020-08-04</td>\n",
       "      <td>Tuesday</td>\n",
       "    </tr>\n",
       "    <tr>\n",
       "      <th>11</th>\n",
       "      <td>Emile Haynie</td>\n",
       "      <td>Wait For Life</td>\n",
       "      <td>4.871333</td>\n",
       "      <td>2020-08-04</td>\n",
       "      <td>Tuesday</td>\n",
       "    </tr>\n",
       "    <tr>\n",
       "      <th>12</th>\n",
       "      <td>5 Seconds of Summer</td>\n",
       "      <td>Teeth</td>\n",
       "      <td>0.176467</td>\n",
       "      <td>2019-09-15</td>\n",
       "      <td>Sunday</td>\n",
       "    </tr>\n",
       "    <tr>\n",
       "      <th>13</th>\n",
       "      <td>Pradeep</td>\n",
       "      <td>Aasai Oru Pulveli</td>\n",
       "      <td>3.837800</td>\n",
       "      <td>2019-09-15</td>\n",
       "      <td>Sunday</td>\n",
       "    </tr>\n",
       "    <tr>\n",
       "      <th>14</th>\n",
       "      <td>Pradeep</td>\n",
       "      <td>Aasai Oru Pulveli</td>\n",
       "      <td>3.837800</td>\n",
       "      <td>2019-12-08</td>\n",
       "      <td>Sunday</td>\n",
       "    </tr>\n",
       "    <tr>\n",
       "      <th>15</th>\n",
       "      <td>Pradeep</td>\n",
       "      <td>Aasai Oru Pulveli</td>\n",
       "      <td>3.837800</td>\n",
       "      <td>2019-12-17</td>\n",
       "      <td>Tuesday</td>\n",
       "    </tr>\n",
       "    <tr>\n",
       "      <th>16</th>\n",
       "      <td>Pradeep</td>\n",
       "      <td>Aasai Oru Pulveli</td>\n",
       "      <td>0.060750</td>\n",
       "      <td>2020-01-20</td>\n",
       "      <td>Monday</td>\n",
       "    </tr>\n",
       "    <tr>\n",
       "      <th>17</th>\n",
       "      <td>Pradeep</td>\n",
       "      <td>Aasai Oru Pulveli</td>\n",
       "      <td>3.837800</td>\n",
       "      <td>2020-02-19</td>\n",
       "      <td>Wednesday</td>\n",
       "    </tr>\n",
       "    <tr>\n",
       "      <th>18</th>\n",
       "      <td>Pradeep</td>\n",
       "      <td>Aasai Oru Pulveli</td>\n",
       "      <td>0.000000</td>\n",
       "      <td>2020-04-09</td>\n",
       "      <td>Thursday</td>\n",
       "    </tr>\n",
       "    <tr>\n",
       "      <th>19</th>\n",
       "      <td>Pradeep</td>\n",
       "      <td>Aasai Oru Pulveli</td>\n",
       "      <td>3.255217</td>\n",
       "      <td>2020-04-09</td>\n",
       "      <td>Thursday</td>\n",
       "    </tr>\n",
       "  </tbody>\n",
       "</table>\n",
       "</div>"
      ],
      "text/plain": [
       "            artist_name                  track_name  minutes_played  \\\n",
       "0            Sid Sriram  Inkem Inkem Inkem Kaavaale        0.395500   \n",
       "1     Sabrina Carpenter                   In My Bed        0.224450   \n",
       "2          Emile Haynie               Wait For Life        4.871333   \n",
       "3          Emile Haynie               Wait For Life        4.871333   \n",
       "4          Emile Haynie               Wait For Life        4.871333   \n",
       "5          Emile Haynie               Wait For Life        4.510517   \n",
       "6          Emile Haynie               Wait For Life        0.358817   \n",
       "7          Emile Haynie               Wait For Life        4.871333   \n",
       "8          Emile Haynie               Wait For Life        2.815217   \n",
       "9          Emile Haynie               Wait For Life        0.006000   \n",
       "10         Emile Haynie               Wait For Life        0.025917   \n",
       "11         Emile Haynie               Wait For Life        4.871333   \n",
       "12  5 Seconds of Summer                       Teeth        0.176467   \n",
       "13              Pradeep           Aasai Oru Pulveli        3.837800   \n",
       "14              Pradeep           Aasai Oru Pulveli        3.837800   \n",
       "15              Pradeep           Aasai Oru Pulveli        3.837800   \n",
       "16              Pradeep           Aasai Oru Pulveli        0.060750   \n",
       "17              Pradeep           Aasai Oru Pulveli        3.837800   \n",
       "18              Pradeep           Aasai Oru Pulveli        0.000000   \n",
       "19              Pradeep           Aasai Oru Pulveli        3.255217   \n",
       "\n",
       "          date        day  \n",
       "0   2019-09-14   Saturday  \n",
       "1   2019-09-15     Sunday  \n",
       "2   2019-09-15     Sunday  \n",
       "3   2020-01-06     Monday  \n",
       "4   2020-01-24     Friday  \n",
       "5   2020-02-18    Tuesday  \n",
       "6   2020-02-19  Wednesday  \n",
       "7   2020-03-31    Tuesday  \n",
       "8   2020-05-06  Wednesday  \n",
       "9   2020-08-01   Saturday  \n",
       "10  2020-08-04    Tuesday  \n",
       "11  2020-08-04    Tuesday  \n",
       "12  2019-09-15     Sunday  \n",
       "13  2019-09-15     Sunday  \n",
       "14  2019-12-08     Sunday  \n",
       "15  2019-12-17    Tuesday  \n",
       "16  2020-01-20     Monday  \n",
       "17  2020-02-19  Wednesday  \n",
       "18  2020-04-09   Thursday  \n",
       "19  2020-04-09   Thursday  "
      ]
     },
     "execution_count": 87,
     "metadata": {},
     "output_type": "execute_result"
    }
   ],
   "source": [
    "daywise_time = df_mine.copy()\n",
    "daywise_time['day'] = daywise_time.loc[:, 'date']\n",
    "daywise_time['day'] = pd.DatetimeIndex(daywise_time['date']).day_name()\n",
    "daywise_time.drop('time',axis=1, inplace= True)\n",
    "\n",
    "daywise_time.head(20)"
   ]
  },
  {
   "cell_type": "code",
   "execution_count": 88,
   "metadata": {},
   "outputs": [
    {
     "name": "stderr",
     "output_type": "stream",
     "text": [
      "C:\\Users\\Niveatha\\AppData\\Local\\Temp\\ipykernel_53856\\3545064898.py:1: FutureWarning:\n",
      "\n",
      "The default value of numeric_only in DataFrameGroupBy.sum is deprecated. In a future version, numeric_only will default to False. Either specify numeric_only or select only columns which should be valid for the function.\n",
      "\n"
     ]
    },
    {
     "data": {
      "text/html": [
       "<div>\n",
       "<style scoped>\n",
       "    .dataframe tbody tr th:only-of-type {\n",
       "        vertical-align: middle;\n",
       "    }\n",
       "\n",
       "    .dataframe tbody tr th {\n",
       "        vertical-align: top;\n",
       "    }\n",
       "\n",
       "    .dataframe thead th {\n",
       "        text-align: right;\n",
       "    }\n",
       "</style>\n",
       "<table border=\"1\" class=\"dataframe\">\n",
       "  <thead>\n",
       "    <tr style=\"text-align: right;\">\n",
       "      <th></th>\n",
       "      <th>day</th>\n",
       "      <th>minutes_played</th>\n",
       "    </tr>\n",
       "  </thead>\n",
       "  <tbody>\n",
       "    <tr>\n",
       "      <th>5</th>\n",
       "      <td>Tuesday</td>\n",
       "      <td>2427.650917</td>\n",
       "    </tr>\n",
       "    <tr>\n",
       "      <th>6</th>\n",
       "      <td>Wednesday</td>\n",
       "      <td>2380.317117</td>\n",
       "    </tr>\n",
       "    <tr>\n",
       "      <th>4</th>\n",
       "      <td>Thursday</td>\n",
       "      <td>2332.095167</td>\n",
       "    </tr>\n",
       "    <tr>\n",
       "      <th>1</th>\n",
       "      <td>Monday</td>\n",
       "      <td>2107.702000</td>\n",
       "    </tr>\n",
       "    <tr>\n",
       "      <th>0</th>\n",
       "      <td>Friday</td>\n",
       "      <td>1663.732750</td>\n",
       "    </tr>\n",
       "    <tr>\n",
       "      <th>3</th>\n",
       "      <td>Sunday</td>\n",
       "      <td>1000.534167</td>\n",
       "    </tr>\n",
       "    <tr>\n",
       "      <th>2</th>\n",
       "      <td>Saturday</td>\n",
       "      <td>792.073417</td>\n",
       "    </tr>\n",
       "  </tbody>\n",
       "</table>\n",
       "</div>"
      ],
      "text/plain": [
       "         day  minutes_played\n",
       "5    Tuesday     2427.650917\n",
       "6  Wednesday     2380.317117\n",
       "4   Thursday     2332.095167\n",
       "1     Monday     2107.702000\n",
       "0     Friday     1663.732750\n",
       "3     Sunday     1000.534167\n",
       "2   Saturday      792.073417"
      ]
     },
     "execution_count": 88,
     "metadata": {},
     "output_type": "execute_result"
    }
   ],
   "source": [
    "daywise_time = daywise_time.groupby(by=['day'], as_index=False).sum()\n",
    "\n",
    "daywise_time.sort_values(by=['minutes_played'], ascending=False).head(7)"
   ]
  },
  {
   "cell_type": "markdown",
   "metadata": {},
   "source": [
    "### Popular artist based on number of tracks and time spent"
   ]
  },
  {
   "cell_type": "code",
   "execution_count": 89,
   "metadata": {},
   "outputs": [
    {
     "data": {
      "text/html": [
       "<div>\n",
       "<style scoped>\n",
       "    .dataframe tbody tr th:only-of-type {\n",
       "        vertical-align: middle;\n",
       "    }\n",
       "\n",
       "    .dataframe tbody tr th {\n",
       "        vertical-align: top;\n",
       "    }\n",
       "\n",
       "    .dataframe thead th {\n",
       "        text-align: right;\n",
       "    }\n",
       "</style>\n",
       "<table border=\"1\" class=\"dataframe\">\n",
       "  <thead>\n",
       "    <tr style=\"text-align: right;\">\n",
       "      <th></th>\n",
       "      <th>artist_name</th>\n",
       "      <th>track_name</th>\n",
       "      <th>minutes_played</th>\n",
       "      <th>date</th>\n",
       "      <th>time</th>\n",
       "    </tr>\n",
       "  </thead>\n",
       "  <tbody>\n",
       "    <tr>\n",
       "      <th>0</th>\n",
       "      <td>Sid Sriram</td>\n",
       "      <td>Inkem Inkem Inkem Kaavaale</td>\n",
       "      <td>0.395500</td>\n",
       "      <td>2019-09-14</td>\n",
       "      <td>04:29:00</td>\n",
       "    </tr>\n",
       "    <tr>\n",
       "      <th>1</th>\n",
       "      <td>Sabrina Carpenter</td>\n",
       "      <td>In My Bed</td>\n",
       "      <td>0.224450</td>\n",
       "      <td>2019-09-15</td>\n",
       "      <td>03:47:00</td>\n",
       "    </tr>\n",
       "    <tr>\n",
       "      <th>2</th>\n",
       "      <td>Emile Haynie</td>\n",
       "      <td>Wait For Life</td>\n",
       "      <td>4.871333</td>\n",
       "      <td>2019-09-15</td>\n",
       "      <td>03:52:00</td>\n",
       "    </tr>\n",
       "    <tr>\n",
       "      <th>3</th>\n",
       "      <td>Emile Haynie</td>\n",
       "      <td>Wait For Life</td>\n",
       "      <td>4.871333</td>\n",
       "      <td>2020-01-06</td>\n",
       "      <td>08:57:00</td>\n",
       "    </tr>\n",
       "    <tr>\n",
       "      <th>4</th>\n",
       "      <td>Emile Haynie</td>\n",
       "      <td>Wait For Life</td>\n",
       "      <td>4.871333</td>\n",
       "      <td>2020-01-24</td>\n",
       "      <td>02:21:00</td>\n",
       "    </tr>\n",
       "  </tbody>\n",
       "</table>\n",
       "</div>"
      ],
      "text/plain": [
       "         artist_name                  track_name  minutes_played        date  \\\n",
       "0         Sid Sriram  Inkem Inkem Inkem Kaavaale        0.395500  2019-09-14   \n",
       "1  Sabrina Carpenter                   In My Bed        0.224450  2019-09-15   \n",
       "2       Emile Haynie               Wait For Life        4.871333  2019-09-15   \n",
       "3       Emile Haynie               Wait For Life        4.871333  2020-01-06   \n",
       "4       Emile Haynie               Wait For Life        4.871333  2020-01-24   \n",
       "\n",
       "       time  \n",
       "0  04:29:00  \n",
       "1  03:47:00  \n",
       "2  03:52:00  \n",
       "3  08:57:00  \n",
       "4  02:21:00  "
      ]
     },
     "execution_count": 89,
     "metadata": {},
     "output_type": "execute_result"
    }
   ],
   "source": [
    "artist = df_mine.copy()#.append(df2)\n",
    "\n",
    "artist.head()"
   ]
  },
  {
   "cell_type": "code",
   "execution_count": 90,
   "metadata": {},
   "outputs": [
    {
     "name": "stderr",
     "output_type": "stream",
     "text": [
      "C:\\Users\\Niveatha\\AppData\\Local\\Temp\\ipykernel_53856\\430197723.py:2: SettingWithCopyWarning:\n",
      "\n",
      "\n",
      "A value is trying to be set on a copy of a slice from a DataFrame\n",
      "\n",
      "See the caveats in the documentation: https://pandas.pydata.org/pandas-docs/stable/user_guide/indexing.html#returning-a-view-versus-a-copy\n",
      "\n"
     ]
    },
    {
     "data": {
      "text/html": [
       "<div>\n",
       "<style scoped>\n",
       "    .dataframe tbody tr th:only-of-type {\n",
       "        vertical-align: middle;\n",
       "    }\n",
       "\n",
       "    .dataframe tbody tr th {\n",
       "        vertical-align: top;\n",
       "    }\n",
       "\n",
       "    .dataframe thead th {\n",
       "        text-align: right;\n",
       "    }\n",
       "</style>\n",
       "<table border=\"1\" class=\"dataframe\">\n",
       "  <thead>\n",
       "    <tr style=\"text-align: right;\">\n",
       "      <th></th>\n",
       "      <th>artist_name</th>\n",
       "      <th>track_name</th>\n",
       "    </tr>\n",
       "  </thead>\n",
       "  <tbody>\n",
       "    <tr>\n",
       "      <th>0</th>\n",
       "      <td>Sid Sriram</td>\n",
       "      <td>Inkem Inkem Inkem Kaavaale</td>\n",
       "    </tr>\n",
       "    <tr>\n",
       "      <th>1</th>\n",
       "      <td>Sabrina Carpenter</td>\n",
       "      <td>In My Bed</td>\n",
       "    </tr>\n",
       "    <tr>\n",
       "      <th>2</th>\n",
       "      <td>Emile Haynie</td>\n",
       "      <td>Wait For Life</td>\n",
       "    </tr>\n",
       "    <tr>\n",
       "      <th>12</th>\n",
       "      <td>5 Seconds of Summer</td>\n",
       "      <td>Teeth</td>\n",
       "    </tr>\n",
       "    <tr>\n",
       "      <th>13</th>\n",
       "      <td>Pradeep</td>\n",
       "      <td>Aasai Oru Pulveli</td>\n",
       "    </tr>\n",
       "  </tbody>\n",
       "</table>\n",
       "</div>"
      ],
      "text/plain": [
       "            artist_name                  track_name\n",
       "0            Sid Sriram  Inkem Inkem Inkem Kaavaale\n",
       "1     Sabrina Carpenter                   In My Bed\n",
       "2          Emile Haynie               Wait For Life\n",
       "12  5 Seconds of Summer                       Teeth\n",
       "13              Pradeep           Aasai Oru Pulveli"
      ]
     },
     "execution_count": 90,
     "metadata": {},
     "output_type": "execute_result"
    }
   ],
   "source": [
    "artist_1 = artist.drop_duplicates(subset = [\"track_name\"])\n",
    "artist_1.drop(['minutes_played','date', 'time'], axis=1, inplace=True)\n",
    "artist_1.head()"
   ]
  },
  {
   "cell_type": "code",
   "execution_count": 91,
   "metadata": {},
   "outputs": [
    {
     "data": {
      "text/html": [
       "<div>\n",
       "<style scoped>\n",
       "    .dataframe tbody tr th:only-of-type {\n",
       "        vertical-align: middle;\n",
       "    }\n",
       "\n",
       "    .dataframe tbody tr th {\n",
       "        vertical-align: top;\n",
       "    }\n",
       "\n",
       "    .dataframe thead th {\n",
       "        text-align: right;\n",
       "    }\n",
       "</style>\n",
       "<table border=\"1\" class=\"dataframe\">\n",
       "  <thead>\n",
       "    <tr style=\"text-align: right;\">\n",
       "      <th></th>\n",
       "      <th>artist_name</th>\n",
       "      <th>track_name</th>\n",
       "    </tr>\n",
       "  </thead>\n",
       "  <tbody>\n",
       "    <tr>\n",
       "      <th>0</th>\n",
       "      <td>.ihaveaface</td>\n",
       "      <td>1</td>\n",
       "    </tr>\n",
       "    <tr>\n",
       "      <th>1</th>\n",
       "      <td>5 Seconds of Summer</td>\n",
       "      <td>2</td>\n",
       "    </tr>\n",
       "    <tr>\n",
       "      <th>2</th>\n",
       "      <td>88rising</td>\n",
       "      <td>2</td>\n",
       "    </tr>\n",
       "    <tr>\n",
       "      <th>3</th>\n",
       "      <td>90sFlav</td>\n",
       "      <td>3</td>\n",
       "    </tr>\n",
       "    <tr>\n",
       "      <th>4</th>\n",
       "      <td>A Boogie Wit da Hoodie</td>\n",
       "      <td>1</td>\n",
       "    </tr>\n",
       "    <tr>\n",
       "      <th>...</th>\n",
       "      <td>...</td>\n",
       "      <td>...</td>\n",
       "    </tr>\n",
       "    <tr>\n",
       "      <th>657</th>\n",
       "      <td>Zoe Chambers</td>\n",
       "      <td>3</td>\n",
       "    </tr>\n",
       "    <tr>\n",
       "      <th>658</th>\n",
       "      <td>girl in red</td>\n",
       "      <td>1</td>\n",
       "    </tr>\n",
       "    <tr>\n",
       "      <th>659</th>\n",
       "      <td>lofi.samurai</td>\n",
       "      <td>1</td>\n",
       "    </tr>\n",
       "    <tr>\n",
       "      <th>660</th>\n",
       "      <td>mxmtoon</td>\n",
       "      <td>1</td>\n",
       "    </tr>\n",
       "    <tr>\n",
       "      <th>661</th>\n",
       "      <td>steezy prime</td>\n",
       "      <td>1</td>\n",
       "    </tr>\n",
       "  </tbody>\n",
       "</table>\n",
       "<p>662 rows × 2 columns</p>\n",
       "</div>"
      ],
      "text/plain": [
       "                artist_name  track_name\n",
       "0               .ihaveaface           1\n",
       "1       5 Seconds of Summer           2\n",
       "2                  88rising           2\n",
       "3                   90sFlav           3\n",
       "4    A Boogie Wit da Hoodie           1\n",
       "..                      ...         ...\n",
       "657            Zoe Chambers           3\n",
       "658             girl in red           1\n",
       "659            lofi.samurai           1\n",
       "660                 mxmtoon           1\n",
       "661            steezy prime           1\n",
       "\n",
       "[662 rows x 2 columns]"
      ]
     },
     "execution_count": 91,
     "metadata": {},
     "output_type": "execute_result"
    }
   ],
   "source": [
    "artist_1 = artist_1.groupby(['artist_name'], as_index = False).count()\n",
    "\n",
    "artist_1"
   ]
  },
  {
   "cell_type": "code",
   "execution_count": 92,
   "metadata": {},
   "outputs": [
    {
     "data": {
      "text/html": [
       "<div>\n",
       "<style scoped>\n",
       "    .dataframe tbody tr th:only-of-type {\n",
       "        vertical-align: middle;\n",
       "    }\n",
       "\n",
       "    .dataframe tbody tr th {\n",
       "        vertical-align: top;\n",
       "    }\n",
       "\n",
       "    .dataframe thead th {\n",
       "        text-align: right;\n",
       "    }\n",
       "</style>\n",
       "<table border=\"1\" class=\"dataframe\">\n",
       "  <thead>\n",
       "    <tr style=\"text-align: right;\">\n",
       "      <th></th>\n",
       "      <th>artist_name</th>\n",
       "      <th>unique_songs</th>\n",
       "    </tr>\n",
       "  </thead>\n",
       "  <tbody>\n",
       "    <tr>\n",
       "      <th>0</th>\n",
       "      <td>.ihaveaface</td>\n",
       "      <td>1</td>\n",
       "    </tr>\n",
       "    <tr>\n",
       "      <th>1</th>\n",
       "      <td>5 Seconds of Summer</td>\n",
       "      <td>2</td>\n",
       "    </tr>\n",
       "    <tr>\n",
       "      <th>2</th>\n",
       "      <td>88rising</td>\n",
       "      <td>2</td>\n",
       "    </tr>\n",
       "    <tr>\n",
       "      <th>3</th>\n",
       "      <td>90sFlav</td>\n",
       "      <td>3</td>\n",
       "    </tr>\n",
       "    <tr>\n",
       "      <th>4</th>\n",
       "      <td>A Boogie Wit da Hoodie</td>\n",
       "      <td>1</td>\n",
       "    </tr>\n",
       "  </tbody>\n",
       "</table>\n",
       "</div>"
      ],
      "text/plain": [
       "              artist_name  unique_songs\n",
       "0             .ihaveaface             1\n",
       "1     5 Seconds of Summer             2\n",
       "2                88rising             2\n",
       "3                 90sFlav             3\n",
       "4  A Boogie Wit da Hoodie             1"
      ]
     },
     "execution_count": 92,
     "metadata": {},
     "output_type": "execute_result"
    }
   ],
   "source": [
    "artist_1 = artist_1.rename(columns={\"track_name\": \"unique_songs\"})\n",
    "artist_1.head()"
   ]
  },
  {
   "cell_type": "code",
   "execution_count": 93,
   "metadata": {},
   "outputs": [
    {
     "name": "stderr",
     "output_type": "stream",
     "text": [
      "C:\\Users\\Niveatha\\AppData\\Local\\Temp\\ipykernel_53856\\2525344842.py:1: FutureWarning:\n",
      "\n",
      "The default value of numeric_only in DataFrameGroupBy.sum is deprecated. In a future version, numeric_only will default to False. Either specify numeric_only or select only columns which should be valid for the function.\n",
      "\n"
     ]
    },
    {
     "data": {
      "text/html": [
       "<div>\n",
       "<style scoped>\n",
       "    .dataframe tbody tr th:only-of-type {\n",
       "        vertical-align: middle;\n",
       "    }\n",
       "\n",
       "    .dataframe tbody tr th {\n",
       "        vertical-align: top;\n",
       "    }\n",
       "\n",
       "    .dataframe thead th {\n",
       "        text-align: right;\n",
       "    }\n",
       "</style>\n",
       "<table border=\"1\" class=\"dataframe\">\n",
       "  <thead>\n",
       "    <tr style=\"text-align: right;\">\n",
       "      <th></th>\n",
       "      <th>artist_name</th>\n",
       "      <th>minutes_played</th>\n",
       "    </tr>\n",
       "  </thead>\n",
       "  <tbody>\n",
       "    <tr>\n",
       "      <th>0</th>\n",
       "      <td>.ihaveaface</td>\n",
       "      <td>1.552933</td>\n",
       "    </tr>\n",
       "    <tr>\n",
       "      <th>1</th>\n",
       "      <td>5 Seconds of Summer</td>\n",
       "      <td>2.684250</td>\n",
       "    </tr>\n",
       "    <tr>\n",
       "      <th>2</th>\n",
       "      <td>88rising</td>\n",
       "      <td>6.827367</td>\n",
       "    </tr>\n",
       "    <tr>\n",
       "      <th>3</th>\n",
       "      <td>90sFlav</td>\n",
       "      <td>5.466433</td>\n",
       "    </tr>\n",
       "    <tr>\n",
       "      <th>4</th>\n",
       "      <td>A Boogie Wit da Hoodie</td>\n",
       "      <td>3.487817</td>\n",
       "    </tr>\n",
       "  </tbody>\n",
       "</table>\n",
       "</div>"
      ],
      "text/plain": [
       "              artist_name  minutes_played\n",
       "0             .ihaveaface        1.552933\n",
       "1     5 Seconds of Summer        2.684250\n",
       "2                88rising        6.827367\n",
       "3                 90sFlav        5.466433\n",
       "4  A Boogie Wit da Hoodie        3.487817"
      ]
     },
     "execution_count": 93,
     "metadata": {},
     "output_type": "execute_result"
    }
   ],
   "source": [
    "time = artist.groupby(['artist_name'], as_index=False).sum()\n",
    "\n",
    "time.head()"
   ]
  },
  {
   "cell_type": "code",
   "execution_count": 94,
   "metadata": {},
   "outputs": [
    {
     "data": {
      "text/html": [
       "<div>\n",
       "<style scoped>\n",
       "    .dataframe tbody tr th:only-of-type {\n",
       "        vertical-align: middle;\n",
       "    }\n",
       "\n",
       "    .dataframe tbody tr th {\n",
       "        vertical-align: top;\n",
       "    }\n",
       "\n",
       "    .dataframe thead th {\n",
       "        text-align: right;\n",
       "    }\n",
       "</style>\n",
       "<table border=\"1\" class=\"dataframe\">\n",
       "  <thead>\n",
       "    <tr style=\"text-align: right;\">\n",
       "      <th></th>\n",
       "      <th>artist_name</th>\n",
       "      <th>unique_songs</th>\n",
       "      <th>minutes_played</th>\n",
       "    </tr>\n",
       "  </thead>\n",
       "  <tbody>\n",
       "    <tr>\n",
       "      <th>310</th>\n",
       "      <td>Lana Del Rey</td>\n",
       "      <td>64</td>\n",
       "      <td>1352.767983</td>\n",
       "    </tr>\n",
       "    <tr>\n",
       "      <th>650</th>\n",
       "      <td>Yuvan Shankar Raja</td>\n",
       "      <td>51</td>\n",
       "      <td>630.091317</td>\n",
       "    </tr>\n",
       "    <tr>\n",
       "      <th>6</th>\n",
       "      <td>A.R. Rahman</td>\n",
       "      <td>53</td>\n",
       "      <td>501.548017</td>\n",
       "    </tr>\n",
       "    <tr>\n",
       "      <th>484</th>\n",
       "      <td>S. P. Balasubrahmanyam</td>\n",
       "      <td>66</td>\n",
       "      <td>369.095033</td>\n",
       "    </tr>\n",
       "    <tr>\n",
       "      <th>83</th>\n",
       "      <td>Billie Eilish</td>\n",
       "      <td>39</td>\n",
       "      <td>368.406983</td>\n",
       "    </tr>\n",
       "    <tr>\n",
       "      <th>432</th>\n",
       "      <td>Pradeep Kumar</td>\n",
       "      <td>22</td>\n",
       "      <td>324.909833</td>\n",
       "    </tr>\n",
       "    <tr>\n",
       "      <th>378</th>\n",
       "      <td>Napoleon Hill</td>\n",
       "      <td>131</td>\n",
       "      <td>292.967700</td>\n",
       "    </tr>\n",
       "    <tr>\n",
       "      <th>213</th>\n",
       "      <td>Hariharan</td>\n",
       "      <td>38</td>\n",
       "      <td>289.294617</td>\n",
       "    </tr>\n",
       "    <tr>\n",
       "      <th>543</th>\n",
       "      <td>Sid Sriram</td>\n",
       "      <td>27</td>\n",
       "      <td>262.015200</td>\n",
       "    </tr>\n",
       "    <tr>\n",
       "      <th>51</th>\n",
       "      <td>Arijit Singh</td>\n",
       "      <td>18</td>\n",
       "      <td>231.948283</td>\n",
       "    </tr>\n",
       "    <tr>\n",
       "      <th>619</th>\n",
       "      <td>Unnikrishnan</td>\n",
       "      <td>23</td>\n",
       "      <td>227.677250</td>\n",
       "    </tr>\n",
       "    <tr>\n",
       "      <th>199</th>\n",
       "      <td>Govind Vasantha</td>\n",
       "      <td>30</td>\n",
       "      <td>226.032150</td>\n",
       "    </tr>\n",
       "    <tr>\n",
       "      <th>217</th>\n",
       "      <td>Harris Jayaraj</td>\n",
       "      <td>22</td>\n",
       "      <td>141.118767</td>\n",
       "    </tr>\n",
       "    <tr>\n",
       "      <th>427</th>\n",
       "      <td>Pink Floyd</td>\n",
       "      <td>24</td>\n",
       "      <td>139.169583</td>\n",
       "    </tr>\n",
       "    <tr>\n",
       "      <th>229</th>\n",
       "      <td>Ilaiyaraaja</td>\n",
       "      <td>25</td>\n",
       "      <td>128.172900</td>\n",
       "    </tr>\n",
       "    <tr>\n",
       "      <th>435</th>\n",
       "      <td>Prateek Kuhad</td>\n",
       "      <td>17</td>\n",
       "      <td>125.643833</td>\n",
       "    </tr>\n",
       "    <tr>\n",
       "      <th>38</th>\n",
       "      <td>Anirudh Ravichander</td>\n",
       "      <td>27</td>\n",
       "      <td>105.486183</td>\n",
       "    </tr>\n",
       "    <tr>\n",
       "      <th>45</th>\n",
       "      <td>Anthony Lazaro</td>\n",
       "      <td>20</td>\n",
       "      <td>90.961967</td>\n",
       "    </tr>\n",
       "    <tr>\n",
       "      <th>481</th>\n",
       "      <td>S. Janaki</td>\n",
       "      <td>15</td>\n",
       "      <td>83.202117</td>\n",
       "    </tr>\n",
       "    <tr>\n",
       "      <th>403</th>\n",
       "      <td>P. B. Sreenivas</td>\n",
       "      <td>24</td>\n",
       "      <td>80.010083</td>\n",
       "    </tr>\n",
       "  </tbody>\n",
       "</table>\n",
       "</div>"
      ],
      "text/plain": [
       "                artist_name  unique_songs  minutes_played\n",
       "310            Lana Del Rey            64     1352.767983\n",
       "650      Yuvan Shankar Raja            51      630.091317\n",
       "6               A.R. Rahman            53      501.548017\n",
       "484  S. P. Balasubrahmanyam            66      369.095033\n",
       "83            Billie Eilish            39      368.406983\n",
       "432           Pradeep Kumar            22      324.909833\n",
       "378           Napoleon Hill           131      292.967700\n",
       "213               Hariharan            38      289.294617\n",
       "543              Sid Sriram            27      262.015200\n",
       "51             Arijit Singh            18      231.948283\n",
       "619            Unnikrishnan            23      227.677250\n",
       "199         Govind Vasantha            30      226.032150\n",
       "217          Harris Jayaraj            22      141.118767\n",
       "427              Pink Floyd            24      139.169583\n",
       "229             Ilaiyaraaja            25      128.172900\n",
       "435           Prateek Kuhad            17      125.643833\n",
       "38      Anirudh Ravichander            27      105.486183\n",
       "45           Anthony Lazaro            20       90.961967\n",
       "481               S. Janaki            15       83.202117\n",
       "403         P. B. Sreenivas            24       80.010083"
      ]
     },
     "execution_count": 94,
     "metadata": {},
     "output_type": "execute_result"
    }
   ],
   "source": [
    "top_artist = pd.merge(artist_1, time, on='artist_name')\n",
    "top_artist = top_artist.sort_values(by='unique_songs', ascending=False).head(20)\n",
    "top_artist.sort_values(by=['minutes_played'], ascending=False)"
   ]
  },
  {
   "cell_type": "code",
   "execution_count": 95,
   "metadata": {},
   "outputs": [
    {
     "data": {
      "application/vnd.plotly.v1+json": {
       "config": {
        "plotlyServerURL": "https://plot.ly"
       },
       "data": [
        {
         "hovertemplate": "artist_name=%{x}<br>minutes_played=%{y}<br>unique_songs=%{marker.size}<extra></extra>",
         "legendgroup": "",
         "marker": {
          "color": "rgb(103,0,31)",
          "size": [
           131,
           66,
           64,
           53,
           51,
           39,
           38,
           30,
           27,
           27,
           25,
           24,
           24,
           23,
           22,
           22,
           20,
           18,
           17,
           15
          ],
          "sizemode": "area",
          "sizeref": 0.3275,
          "symbol": "circle"
         },
         "mode": "markers",
         "name": "",
         "orientation": "v",
         "showlegend": false,
         "type": "scatter",
         "x": [
          "Napoleon Hill",
          "S. P. Balasubrahmanyam",
          "Lana Del Rey",
          "A.R. Rahman",
          "Yuvan Shankar Raja",
          "Billie Eilish",
          "Hariharan",
          "Govind Vasantha",
          "Anirudh Ravichander",
          "Sid Sriram",
          "Ilaiyaraaja",
          "P. B. Sreenivas",
          "Pink Floyd",
          "Unnikrishnan",
          "Pradeep Kumar",
          "Harris Jayaraj",
          "Anthony Lazaro",
          "Arijit Singh",
          "Prateek Kuhad",
          "S. Janaki"
         ],
         "xaxis": "x",
         "y": [
          292.9677,
          369.09503333333333,
          1352.7679833333334,
          501.5480166666667,
          630.0913166666667,
          368.40698333333336,
          289.2946166666667,
          226.03215,
          105.48618333333333,
          262.0152,
          128.1729,
          80.01008333333333,
          139.16958333333332,
          227.67725000000002,
          324.9098333333333,
          141.11876666666666,
          90.96196666666667,
          231.94828333333334,
          125.64383333333333,
          83.20211666666667
         ],
         "yaxis": "y"
        }
       ],
       "layout": {
        "legend": {
         "itemsizing": "constant",
         "tracegroupgap": 0
        },
        "template": {
         "data": {
          "bar": [
           {
            "error_x": {
             "color": "#2a3f5f"
            },
            "error_y": {
             "color": "#2a3f5f"
            },
            "marker": {
             "line": {
              "color": "#E5ECF6",
              "width": 0.5
             },
             "pattern": {
              "fillmode": "overlay",
              "size": 10,
              "solidity": 0.2
             }
            },
            "type": "bar"
           }
          ],
          "barpolar": [
           {
            "marker": {
             "line": {
              "color": "#E5ECF6",
              "width": 0.5
             },
             "pattern": {
              "fillmode": "overlay",
              "size": 10,
              "solidity": 0.2
             }
            },
            "type": "barpolar"
           }
          ],
          "carpet": [
           {
            "aaxis": {
             "endlinecolor": "#2a3f5f",
             "gridcolor": "white",
             "linecolor": "white",
             "minorgridcolor": "white",
             "startlinecolor": "#2a3f5f"
            },
            "baxis": {
             "endlinecolor": "#2a3f5f",
             "gridcolor": "white",
             "linecolor": "white",
             "minorgridcolor": "white",
             "startlinecolor": "#2a3f5f"
            },
            "type": "carpet"
           }
          ],
          "choropleth": [
           {
            "colorbar": {
             "outlinewidth": 0,
             "ticks": ""
            },
            "type": "choropleth"
           }
          ],
          "contour": [
           {
            "colorbar": {
             "outlinewidth": 0,
             "ticks": ""
            },
            "colorscale": [
             [
              0,
              "#0d0887"
             ],
             [
              0.1111111111111111,
              "#46039f"
             ],
             [
              0.2222222222222222,
              "#7201a8"
             ],
             [
              0.3333333333333333,
              "#9c179e"
             ],
             [
              0.4444444444444444,
              "#bd3786"
             ],
             [
              0.5555555555555556,
              "#d8576b"
             ],
             [
              0.6666666666666666,
              "#ed7953"
             ],
             [
              0.7777777777777778,
              "#fb9f3a"
             ],
             [
              0.8888888888888888,
              "#fdca26"
             ],
             [
              1,
              "#f0f921"
             ]
            ],
            "type": "contour"
           }
          ],
          "contourcarpet": [
           {
            "colorbar": {
             "outlinewidth": 0,
             "ticks": ""
            },
            "type": "contourcarpet"
           }
          ],
          "heatmap": [
           {
            "colorbar": {
             "outlinewidth": 0,
             "ticks": ""
            },
            "colorscale": [
             [
              0,
              "#0d0887"
             ],
             [
              0.1111111111111111,
              "#46039f"
             ],
             [
              0.2222222222222222,
              "#7201a8"
             ],
             [
              0.3333333333333333,
              "#9c179e"
             ],
             [
              0.4444444444444444,
              "#bd3786"
             ],
             [
              0.5555555555555556,
              "#d8576b"
             ],
             [
              0.6666666666666666,
              "#ed7953"
             ],
             [
              0.7777777777777778,
              "#fb9f3a"
             ],
             [
              0.8888888888888888,
              "#fdca26"
             ],
             [
              1,
              "#f0f921"
             ]
            ],
            "type": "heatmap"
           }
          ],
          "heatmapgl": [
           {
            "colorbar": {
             "outlinewidth": 0,
             "ticks": ""
            },
            "colorscale": [
             [
              0,
              "#0d0887"
             ],
             [
              0.1111111111111111,
              "#46039f"
             ],
             [
              0.2222222222222222,
              "#7201a8"
             ],
             [
              0.3333333333333333,
              "#9c179e"
             ],
             [
              0.4444444444444444,
              "#bd3786"
             ],
             [
              0.5555555555555556,
              "#d8576b"
             ],
             [
              0.6666666666666666,
              "#ed7953"
             ],
             [
              0.7777777777777778,
              "#fb9f3a"
             ],
             [
              0.8888888888888888,
              "#fdca26"
             ],
             [
              1,
              "#f0f921"
             ]
            ],
            "type": "heatmapgl"
           }
          ],
          "histogram": [
           {
            "marker": {
             "pattern": {
              "fillmode": "overlay",
              "size": 10,
              "solidity": 0.2
             }
            },
            "type": "histogram"
           }
          ],
          "histogram2d": [
           {
            "colorbar": {
             "outlinewidth": 0,
             "ticks": ""
            },
            "colorscale": [
             [
              0,
              "#0d0887"
             ],
             [
              0.1111111111111111,
              "#46039f"
             ],
             [
              0.2222222222222222,
              "#7201a8"
             ],
             [
              0.3333333333333333,
              "#9c179e"
             ],
             [
              0.4444444444444444,
              "#bd3786"
             ],
             [
              0.5555555555555556,
              "#d8576b"
             ],
             [
              0.6666666666666666,
              "#ed7953"
             ],
             [
              0.7777777777777778,
              "#fb9f3a"
             ],
             [
              0.8888888888888888,
              "#fdca26"
             ],
             [
              1,
              "#f0f921"
             ]
            ],
            "type": "histogram2d"
           }
          ],
          "histogram2dcontour": [
           {
            "colorbar": {
             "outlinewidth": 0,
             "ticks": ""
            },
            "colorscale": [
             [
              0,
              "#0d0887"
             ],
             [
              0.1111111111111111,
              "#46039f"
             ],
             [
              0.2222222222222222,
              "#7201a8"
             ],
             [
              0.3333333333333333,
              "#9c179e"
             ],
             [
              0.4444444444444444,
              "#bd3786"
             ],
             [
              0.5555555555555556,
              "#d8576b"
             ],
             [
              0.6666666666666666,
              "#ed7953"
             ],
             [
              0.7777777777777778,
              "#fb9f3a"
             ],
             [
              0.8888888888888888,
              "#fdca26"
             ],
             [
              1,
              "#f0f921"
             ]
            ],
            "type": "histogram2dcontour"
           }
          ],
          "mesh3d": [
           {
            "colorbar": {
             "outlinewidth": 0,
             "ticks": ""
            },
            "type": "mesh3d"
           }
          ],
          "parcoords": [
           {
            "line": {
             "colorbar": {
              "outlinewidth": 0,
              "ticks": ""
             }
            },
            "type": "parcoords"
           }
          ],
          "pie": [
           {
            "automargin": true,
            "type": "pie"
           }
          ],
          "scatter": [
           {
            "fillpattern": {
             "fillmode": "overlay",
             "size": 10,
             "solidity": 0.2
            },
            "type": "scatter"
           }
          ],
          "scatter3d": [
           {
            "line": {
             "colorbar": {
              "outlinewidth": 0,
              "ticks": ""
             }
            },
            "marker": {
             "colorbar": {
              "outlinewidth": 0,
              "ticks": ""
             }
            },
            "type": "scatter3d"
           }
          ],
          "scattercarpet": [
           {
            "marker": {
             "colorbar": {
              "outlinewidth": 0,
              "ticks": ""
             }
            },
            "type": "scattercarpet"
           }
          ],
          "scattergeo": [
           {
            "marker": {
             "colorbar": {
              "outlinewidth": 0,
              "ticks": ""
             }
            },
            "type": "scattergeo"
           }
          ],
          "scattergl": [
           {
            "marker": {
             "colorbar": {
              "outlinewidth": 0,
              "ticks": ""
             }
            },
            "type": "scattergl"
           }
          ],
          "scattermapbox": [
           {
            "marker": {
             "colorbar": {
              "outlinewidth": 0,
              "ticks": ""
             }
            },
            "type": "scattermapbox"
           }
          ],
          "scatterpolar": [
           {
            "marker": {
             "colorbar": {
              "outlinewidth": 0,
              "ticks": ""
             }
            },
            "type": "scatterpolar"
           }
          ],
          "scatterpolargl": [
           {
            "marker": {
             "colorbar": {
              "outlinewidth": 0,
              "ticks": ""
             }
            },
            "type": "scatterpolargl"
           }
          ],
          "scatterternary": [
           {
            "marker": {
             "colorbar": {
              "outlinewidth": 0,
              "ticks": ""
             }
            },
            "type": "scatterternary"
           }
          ],
          "surface": [
           {
            "colorbar": {
             "outlinewidth": 0,
             "ticks": ""
            },
            "colorscale": [
             [
              0,
              "#0d0887"
             ],
             [
              0.1111111111111111,
              "#46039f"
             ],
             [
              0.2222222222222222,
              "#7201a8"
             ],
             [
              0.3333333333333333,
              "#9c179e"
             ],
             [
              0.4444444444444444,
              "#bd3786"
             ],
             [
              0.5555555555555556,
              "#d8576b"
             ],
             [
              0.6666666666666666,
              "#ed7953"
             ],
             [
              0.7777777777777778,
              "#fb9f3a"
             ],
             [
              0.8888888888888888,
              "#fdca26"
             ],
             [
              1,
              "#f0f921"
             ]
            ],
            "type": "surface"
           }
          ],
          "table": [
           {
            "cells": {
             "fill": {
              "color": "#EBF0F8"
             },
             "line": {
              "color": "white"
             }
            },
            "header": {
             "fill": {
              "color": "#C8D4E3"
             },
             "line": {
              "color": "white"
             }
            },
            "type": "table"
           }
          ]
         },
         "layout": {
          "annotationdefaults": {
           "arrowcolor": "#2a3f5f",
           "arrowhead": 0,
           "arrowwidth": 1
          },
          "autotypenumbers": "strict",
          "coloraxis": {
           "colorbar": {
            "outlinewidth": 0,
            "ticks": ""
           }
          },
          "colorscale": {
           "diverging": [
            [
             0,
             "#8e0152"
            ],
            [
             0.1,
             "#c51b7d"
            ],
            [
             0.2,
             "#de77ae"
            ],
            [
             0.3,
             "#f1b6da"
            ],
            [
             0.4,
             "#fde0ef"
            ],
            [
             0.5,
             "#f7f7f7"
            ],
            [
             0.6,
             "#e6f5d0"
            ],
            [
             0.7,
             "#b8e186"
            ],
            [
             0.8,
             "#7fbc41"
            ],
            [
             0.9,
             "#4d9221"
            ],
            [
             1,
             "#276419"
            ]
           ],
           "sequential": [
            [
             0,
             "#0d0887"
            ],
            [
             0.1111111111111111,
             "#46039f"
            ],
            [
             0.2222222222222222,
             "#7201a8"
            ],
            [
             0.3333333333333333,
             "#9c179e"
            ],
            [
             0.4444444444444444,
             "#bd3786"
            ],
            [
             0.5555555555555556,
             "#d8576b"
            ],
            [
             0.6666666666666666,
             "#ed7953"
            ],
            [
             0.7777777777777778,
             "#fb9f3a"
            ],
            [
             0.8888888888888888,
             "#fdca26"
            ],
            [
             1,
             "#f0f921"
            ]
           ],
           "sequentialminus": [
            [
             0,
             "#0d0887"
            ],
            [
             0.1111111111111111,
             "#46039f"
            ],
            [
             0.2222222222222222,
             "#7201a8"
            ],
            [
             0.3333333333333333,
             "#9c179e"
            ],
            [
             0.4444444444444444,
             "#bd3786"
            ],
            [
             0.5555555555555556,
             "#d8576b"
            ],
            [
             0.6666666666666666,
             "#ed7953"
            ],
            [
             0.7777777777777778,
             "#fb9f3a"
            ],
            [
             0.8888888888888888,
             "#fdca26"
            ],
            [
             1,
             "#f0f921"
            ]
           ]
          },
          "colorway": [
           "#636efa",
           "#EF553B",
           "#00cc96",
           "#ab63fa",
           "#FFA15A",
           "#19d3f3",
           "#FF6692",
           "#B6E880",
           "#FF97FF",
           "#FECB52"
          ],
          "font": {
           "color": "#2a3f5f"
          },
          "geo": {
           "bgcolor": "white",
           "lakecolor": "white",
           "landcolor": "#E5ECF6",
           "showlakes": true,
           "showland": true,
           "subunitcolor": "white"
          },
          "hoverlabel": {
           "align": "left"
          },
          "hovermode": "closest",
          "mapbox": {
           "style": "light"
          },
          "paper_bgcolor": "white",
          "plot_bgcolor": "#E5ECF6",
          "polar": {
           "angularaxis": {
            "gridcolor": "white",
            "linecolor": "white",
            "ticks": ""
           },
           "bgcolor": "#E5ECF6",
           "radialaxis": {
            "gridcolor": "white",
            "linecolor": "white",
            "ticks": ""
           }
          },
          "scene": {
           "xaxis": {
            "backgroundcolor": "#E5ECF6",
            "gridcolor": "white",
            "gridwidth": 2,
            "linecolor": "white",
            "showbackground": true,
            "ticks": "",
            "zerolinecolor": "white"
           },
           "yaxis": {
            "backgroundcolor": "#E5ECF6",
            "gridcolor": "white",
            "gridwidth": 2,
            "linecolor": "white",
            "showbackground": true,
            "ticks": "",
            "zerolinecolor": "white"
           },
           "zaxis": {
            "backgroundcolor": "#E5ECF6",
            "gridcolor": "white",
            "gridwidth": 2,
            "linecolor": "white",
            "showbackground": true,
            "ticks": "",
            "zerolinecolor": "white"
           }
          },
          "shapedefaults": {
           "line": {
            "color": "#2a3f5f"
           }
          },
          "ternary": {
           "aaxis": {
            "gridcolor": "white",
            "linecolor": "white",
            "ticks": ""
           },
           "baxis": {
            "gridcolor": "white",
            "linecolor": "white",
            "ticks": ""
           },
           "bgcolor": "#E5ECF6",
           "caxis": {
            "gridcolor": "white",
            "linecolor": "white",
            "ticks": ""
           }
          },
          "title": {
           "x": 0.05
          },
          "xaxis": {
           "automargin": true,
           "gridcolor": "white",
           "linecolor": "white",
           "ticks": "",
           "title": {
            "standoff": 15
           },
           "zerolinecolor": "white",
           "zerolinewidth": 2
          },
          "yaxis": {
           "automargin": true,
           "gridcolor": "white",
           "linecolor": "white",
           "ticks": "",
           "title": {
            "standoff": 15
           },
           "zerolinecolor": "white",
           "zerolinewidth": 2
          }
         }
        },
        "title": {
         "text": "Total amount of time spent listening to each artist"
        },
        "xaxis": {
         "anchor": "y",
         "domain": [
          0,
          1
         ],
         "title": {
          "text": "artist_name"
         }
        },
        "yaxis": {
         "anchor": "x",
         "domain": [
          0,
          1
         ],
         "title": {
          "text": "minutes_played"
         }
        }
       }
      },
      "text/html": [
       "<div>                            <div id=\"123b6485-62e0-4d3d-9c76-5dba805e385e\" class=\"plotly-graph-div\" style=\"height:525px; width:100%;\"></div>            <script type=\"text/javascript\">                require([\"plotly\"], function(Plotly) {                    window.PLOTLYENV=window.PLOTLYENV || {};                                    if (document.getElementById(\"123b6485-62e0-4d3d-9c76-5dba805e385e\")) {                    Plotly.newPlot(                        \"123b6485-62e0-4d3d-9c76-5dba805e385e\",                        [{\"hovertemplate\":\"artist_name=%{x}<br>minutes_played=%{y}<br>unique_songs=%{marker.size}<extra></extra>\",\"legendgroup\":\"\",\"marker\":{\"color\":\"rgb(103,0,31)\",\"size\":[131,66,64,53,51,39,38,30,27,27,25,24,24,23,22,22,20,18,17,15],\"sizemode\":\"area\",\"sizeref\":0.3275,\"symbol\":\"circle\"},\"mode\":\"markers\",\"name\":\"\",\"orientation\":\"v\",\"showlegend\":false,\"x\":[\"Napoleon Hill\",\"S. P. Balasubrahmanyam\",\"Lana Del Rey\",\"A.R. Rahman\",\"Yuvan Shankar Raja\",\"Billie Eilish\",\"Hariharan\",\"Govind Vasantha\",\"Anirudh Ravichander\",\"Sid Sriram\",\"Ilaiyaraaja\",\"P. B. Sreenivas\",\"Pink Floyd\",\"Unnikrishnan\",\"Pradeep Kumar\",\"Harris Jayaraj\",\"Anthony Lazaro\",\"Arijit Singh\",\"Prateek Kuhad\",\"S. Janaki\"],\"xaxis\":\"x\",\"y\":[292.9677,369.09503333333333,1352.7679833333334,501.5480166666667,630.0913166666667,368.40698333333336,289.2946166666667,226.03215,105.48618333333333,262.0152,128.1729,80.01008333333333,139.16958333333332,227.67725000000002,324.9098333333333,141.11876666666666,90.96196666666667,231.94828333333334,125.64383333333333,83.20211666666667],\"yaxis\":\"y\",\"type\":\"scatter\"}],                        {\"template\":{\"data\":{\"histogram2dcontour\":[{\"type\":\"histogram2dcontour\",\"colorbar\":{\"outlinewidth\":0,\"ticks\":\"\"},\"colorscale\":[[0.0,\"#0d0887\"],[0.1111111111111111,\"#46039f\"],[0.2222222222222222,\"#7201a8\"],[0.3333333333333333,\"#9c179e\"],[0.4444444444444444,\"#bd3786\"],[0.5555555555555556,\"#d8576b\"],[0.6666666666666666,\"#ed7953\"],[0.7777777777777778,\"#fb9f3a\"],[0.8888888888888888,\"#fdca26\"],[1.0,\"#f0f921\"]]}],\"choropleth\":[{\"type\":\"choropleth\",\"colorbar\":{\"outlinewidth\":0,\"ticks\":\"\"}}],\"histogram2d\":[{\"type\":\"histogram2d\",\"colorbar\":{\"outlinewidth\":0,\"ticks\":\"\"},\"colorscale\":[[0.0,\"#0d0887\"],[0.1111111111111111,\"#46039f\"],[0.2222222222222222,\"#7201a8\"],[0.3333333333333333,\"#9c179e\"],[0.4444444444444444,\"#bd3786\"],[0.5555555555555556,\"#d8576b\"],[0.6666666666666666,\"#ed7953\"],[0.7777777777777778,\"#fb9f3a\"],[0.8888888888888888,\"#fdca26\"],[1.0,\"#f0f921\"]]}],\"heatmap\":[{\"type\":\"heatmap\",\"colorbar\":{\"outlinewidth\":0,\"ticks\":\"\"},\"colorscale\":[[0.0,\"#0d0887\"],[0.1111111111111111,\"#46039f\"],[0.2222222222222222,\"#7201a8\"],[0.3333333333333333,\"#9c179e\"],[0.4444444444444444,\"#bd3786\"],[0.5555555555555556,\"#d8576b\"],[0.6666666666666666,\"#ed7953\"],[0.7777777777777778,\"#fb9f3a\"],[0.8888888888888888,\"#fdca26\"],[1.0,\"#f0f921\"]]}],\"heatmapgl\":[{\"type\":\"heatmapgl\",\"colorbar\":{\"outlinewidth\":0,\"ticks\":\"\"},\"colorscale\":[[0.0,\"#0d0887\"],[0.1111111111111111,\"#46039f\"],[0.2222222222222222,\"#7201a8\"],[0.3333333333333333,\"#9c179e\"],[0.4444444444444444,\"#bd3786\"],[0.5555555555555556,\"#d8576b\"],[0.6666666666666666,\"#ed7953\"],[0.7777777777777778,\"#fb9f3a\"],[0.8888888888888888,\"#fdca26\"],[1.0,\"#f0f921\"]]}],\"contourcarpet\":[{\"type\":\"contourcarpet\",\"colorbar\":{\"outlinewidth\":0,\"ticks\":\"\"}}],\"contour\":[{\"type\":\"contour\",\"colorbar\":{\"outlinewidth\":0,\"ticks\":\"\"},\"colorscale\":[[0.0,\"#0d0887\"],[0.1111111111111111,\"#46039f\"],[0.2222222222222222,\"#7201a8\"],[0.3333333333333333,\"#9c179e\"],[0.4444444444444444,\"#bd3786\"],[0.5555555555555556,\"#d8576b\"],[0.6666666666666666,\"#ed7953\"],[0.7777777777777778,\"#fb9f3a\"],[0.8888888888888888,\"#fdca26\"],[1.0,\"#f0f921\"]]}],\"surface\":[{\"type\":\"surface\",\"colorbar\":{\"outlinewidth\":0,\"ticks\":\"\"},\"colorscale\":[[0.0,\"#0d0887\"],[0.1111111111111111,\"#46039f\"],[0.2222222222222222,\"#7201a8\"],[0.3333333333333333,\"#9c179e\"],[0.4444444444444444,\"#bd3786\"],[0.5555555555555556,\"#d8576b\"],[0.6666666666666666,\"#ed7953\"],[0.7777777777777778,\"#fb9f3a\"],[0.8888888888888888,\"#fdca26\"],[1.0,\"#f0f921\"]]}],\"mesh3d\":[{\"type\":\"mesh3d\",\"colorbar\":{\"outlinewidth\":0,\"ticks\":\"\"}}],\"scatter\":[{\"fillpattern\":{\"fillmode\":\"overlay\",\"size\":10,\"solidity\":0.2},\"type\":\"scatter\"}],\"parcoords\":[{\"type\":\"parcoords\",\"line\":{\"colorbar\":{\"outlinewidth\":0,\"ticks\":\"\"}}}],\"scatterpolargl\":[{\"type\":\"scatterpolargl\",\"marker\":{\"colorbar\":{\"outlinewidth\":0,\"ticks\":\"\"}}}],\"bar\":[{\"error_x\":{\"color\":\"#2a3f5f\"},\"error_y\":{\"color\":\"#2a3f5f\"},\"marker\":{\"line\":{\"color\":\"#E5ECF6\",\"width\":0.5},\"pattern\":{\"fillmode\":\"overlay\",\"size\":10,\"solidity\":0.2}},\"type\":\"bar\"}],\"scattergeo\":[{\"type\":\"scattergeo\",\"marker\":{\"colorbar\":{\"outlinewidth\":0,\"ticks\":\"\"}}}],\"scatterpolar\":[{\"type\":\"scatterpolar\",\"marker\":{\"colorbar\":{\"outlinewidth\":0,\"ticks\":\"\"}}}],\"histogram\":[{\"marker\":{\"pattern\":{\"fillmode\":\"overlay\",\"size\":10,\"solidity\":0.2}},\"type\":\"histogram\"}],\"scattergl\":[{\"type\":\"scattergl\",\"marker\":{\"colorbar\":{\"outlinewidth\":0,\"ticks\":\"\"}}}],\"scatter3d\":[{\"type\":\"scatter3d\",\"line\":{\"colorbar\":{\"outlinewidth\":0,\"ticks\":\"\"}},\"marker\":{\"colorbar\":{\"outlinewidth\":0,\"ticks\":\"\"}}}],\"scattermapbox\":[{\"type\":\"scattermapbox\",\"marker\":{\"colorbar\":{\"outlinewidth\":0,\"ticks\":\"\"}}}],\"scatterternary\":[{\"type\":\"scatterternary\",\"marker\":{\"colorbar\":{\"outlinewidth\":0,\"ticks\":\"\"}}}],\"scattercarpet\":[{\"type\":\"scattercarpet\",\"marker\":{\"colorbar\":{\"outlinewidth\":0,\"ticks\":\"\"}}}],\"carpet\":[{\"aaxis\":{\"endlinecolor\":\"#2a3f5f\",\"gridcolor\":\"white\",\"linecolor\":\"white\",\"minorgridcolor\":\"white\",\"startlinecolor\":\"#2a3f5f\"},\"baxis\":{\"endlinecolor\":\"#2a3f5f\",\"gridcolor\":\"white\",\"linecolor\":\"white\",\"minorgridcolor\":\"white\",\"startlinecolor\":\"#2a3f5f\"},\"type\":\"carpet\"}],\"table\":[{\"cells\":{\"fill\":{\"color\":\"#EBF0F8\"},\"line\":{\"color\":\"white\"}},\"header\":{\"fill\":{\"color\":\"#C8D4E3\"},\"line\":{\"color\":\"white\"}},\"type\":\"table\"}],\"barpolar\":[{\"marker\":{\"line\":{\"color\":\"#E5ECF6\",\"width\":0.5},\"pattern\":{\"fillmode\":\"overlay\",\"size\":10,\"solidity\":0.2}},\"type\":\"barpolar\"}],\"pie\":[{\"automargin\":true,\"type\":\"pie\"}]},\"layout\":{\"autotypenumbers\":\"strict\",\"colorway\":[\"#636efa\",\"#EF553B\",\"#00cc96\",\"#ab63fa\",\"#FFA15A\",\"#19d3f3\",\"#FF6692\",\"#B6E880\",\"#FF97FF\",\"#FECB52\"],\"font\":{\"color\":\"#2a3f5f\"},\"hovermode\":\"closest\",\"hoverlabel\":{\"align\":\"left\"},\"paper_bgcolor\":\"white\",\"plot_bgcolor\":\"#E5ECF6\",\"polar\":{\"bgcolor\":\"#E5ECF6\",\"angularaxis\":{\"gridcolor\":\"white\",\"linecolor\":\"white\",\"ticks\":\"\"},\"radialaxis\":{\"gridcolor\":\"white\",\"linecolor\":\"white\",\"ticks\":\"\"}},\"ternary\":{\"bgcolor\":\"#E5ECF6\",\"aaxis\":{\"gridcolor\":\"white\",\"linecolor\":\"white\",\"ticks\":\"\"},\"baxis\":{\"gridcolor\":\"white\",\"linecolor\":\"white\",\"ticks\":\"\"},\"caxis\":{\"gridcolor\":\"white\",\"linecolor\":\"white\",\"ticks\":\"\"}},\"coloraxis\":{\"colorbar\":{\"outlinewidth\":0,\"ticks\":\"\"}},\"colorscale\":{\"sequential\":[[0.0,\"#0d0887\"],[0.1111111111111111,\"#46039f\"],[0.2222222222222222,\"#7201a8\"],[0.3333333333333333,\"#9c179e\"],[0.4444444444444444,\"#bd3786\"],[0.5555555555555556,\"#d8576b\"],[0.6666666666666666,\"#ed7953\"],[0.7777777777777778,\"#fb9f3a\"],[0.8888888888888888,\"#fdca26\"],[1.0,\"#f0f921\"]],\"sequentialminus\":[[0.0,\"#0d0887\"],[0.1111111111111111,\"#46039f\"],[0.2222222222222222,\"#7201a8\"],[0.3333333333333333,\"#9c179e\"],[0.4444444444444444,\"#bd3786\"],[0.5555555555555556,\"#d8576b\"],[0.6666666666666666,\"#ed7953\"],[0.7777777777777778,\"#fb9f3a\"],[0.8888888888888888,\"#fdca26\"],[1.0,\"#f0f921\"]],\"diverging\":[[0,\"#8e0152\"],[0.1,\"#c51b7d\"],[0.2,\"#de77ae\"],[0.3,\"#f1b6da\"],[0.4,\"#fde0ef\"],[0.5,\"#f7f7f7\"],[0.6,\"#e6f5d0\"],[0.7,\"#b8e186\"],[0.8,\"#7fbc41\"],[0.9,\"#4d9221\"],[1,\"#276419\"]]},\"xaxis\":{\"gridcolor\":\"white\",\"linecolor\":\"white\",\"ticks\":\"\",\"title\":{\"standoff\":15},\"zerolinecolor\":\"white\",\"automargin\":true,\"zerolinewidth\":2},\"yaxis\":{\"gridcolor\":\"white\",\"linecolor\":\"white\",\"ticks\":\"\",\"title\":{\"standoff\":15},\"zerolinecolor\":\"white\",\"automargin\":true,\"zerolinewidth\":2},\"scene\":{\"xaxis\":{\"backgroundcolor\":\"#E5ECF6\",\"gridcolor\":\"white\",\"linecolor\":\"white\",\"showbackground\":true,\"ticks\":\"\",\"zerolinecolor\":\"white\",\"gridwidth\":2},\"yaxis\":{\"backgroundcolor\":\"#E5ECF6\",\"gridcolor\":\"white\",\"linecolor\":\"white\",\"showbackground\":true,\"ticks\":\"\",\"zerolinecolor\":\"white\",\"gridwidth\":2},\"zaxis\":{\"backgroundcolor\":\"#E5ECF6\",\"gridcolor\":\"white\",\"linecolor\":\"white\",\"showbackground\":true,\"ticks\":\"\",\"zerolinecolor\":\"white\",\"gridwidth\":2}},\"shapedefaults\":{\"line\":{\"color\":\"#2a3f5f\"}},\"annotationdefaults\":{\"arrowcolor\":\"#2a3f5f\",\"arrowhead\":0,\"arrowwidth\":1},\"geo\":{\"bgcolor\":\"white\",\"landcolor\":\"#E5ECF6\",\"subunitcolor\":\"white\",\"showland\":true,\"showlakes\":true,\"lakecolor\":\"white\"},\"title\":{\"x\":0.05},\"mapbox\":{\"style\":\"light\"}}},\"xaxis\":{\"anchor\":\"y\",\"domain\":[0.0,1.0],\"title\":{\"text\":\"artist_name\"}},\"yaxis\":{\"anchor\":\"x\",\"domain\":[0.0,1.0],\"title\":{\"text\":\"minutes_played\"}},\"legend\":{\"tracegroupgap\":0,\"itemsizing\":\"constant\"},\"title\":{\"text\":\"Total amount of time spent listening to each artist\"}},                        {\"responsive\": true}                    ).then(function(){\n",
       "                            \n",
       "var gd = document.getElementById('123b6485-62e0-4d3d-9c76-5dba805e385e');\n",
       "var x = new MutationObserver(function (mutations, observer) {{\n",
       "        var display = window.getComputedStyle(gd).display;\n",
       "        if (!display || display === 'none') {{\n",
       "            console.log([gd, 'removed!']);\n",
       "            Plotly.purge(gd);\n",
       "            observer.disconnect();\n",
       "        }}\n",
       "}});\n",
       "\n",
       "// Listen for the removal of the full notebook cells\n",
       "var notebookContainer = gd.closest('#notebook-container');\n",
       "if (notebookContainer) {{\n",
       "    x.observe(notebookContainer, {childList: true});\n",
       "}}\n",
       "\n",
       "// Listen for the clearing of the current output cell\n",
       "var outputEl = gd.closest('.output');\n",
       "if (outputEl) {{\n",
       "    x.observe(outputEl, {childList: true});\n",
       "}}\n",
       "\n",
       "                        })                };                });            </script>        </div>"
      ]
     },
     "metadata": {},
     "output_type": "display_data"
    }
   ],
   "source": [
    "fig = px.scatter(top_artist, x=\"artist_name\", y=\"minutes_played\", title='Total amount of time spent listening to each artist', size=\"unique_songs\", color_discrete_sequence=px.colors.sequential.RdBu)\n",
    "fig.show()"
   ]
  },
  {
   "cell_type": "code",
   "execution_count": 97,
   "metadata": {},
   "outputs": [
    {
     "data": {
      "text/html": [
       "<div>\n",
       "<style scoped>\n",
       "    .dataframe tbody tr th:only-of-type {\n",
       "        vertical-align: middle;\n",
       "    }\n",
       "\n",
       "    .dataframe tbody tr th {\n",
       "        vertical-align: top;\n",
       "    }\n",
       "\n",
       "    .dataframe thead th {\n",
       "        text-align: right;\n",
       "    }\n",
       "</style>\n",
       "<table border=\"1\" class=\"dataframe\">\n",
       "  <thead>\n",
       "    <tr style=\"text-align: right;\">\n",
       "      <th></th>\n",
       "      <th>artist_name</th>\n",
       "      <th>track_name</th>\n",
       "      <th>minutes_played</th>\n",
       "      <th>date</th>\n",
       "    </tr>\n",
       "  </thead>\n",
       "  <tbody>\n",
       "    <tr>\n",
       "      <th>4242</th>\n",
       "      <td>Sleep Deep Music</td>\n",
       "      <td>Relaxing music river Flute</td>\n",
       "      <td>30.948317</td>\n",
       "      <td>2020-06-29</td>\n",
       "    </tr>\n",
       "    <tr>\n",
       "      <th>4527</th>\n",
       "      <td>Meditative Mind</td>\n",
       "      <td>OM Chanting at 432Hz</td>\n",
       "      <td>29.813883</td>\n",
       "      <td>2020-08-12</td>\n",
       "    </tr>\n",
       "    <tr>\n",
       "      <th>4526</th>\n",
       "      <td>Meditative Mind</td>\n",
       "      <td>OM Chanting at 432Hz</td>\n",
       "      <td>27.621533</td>\n",
       "      <td>2020-08-11</td>\n",
       "    </tr>\n",
       "    <tr>\n",
       "      <th>3028</th>\n",
       "      <td>Pink Floyd</td>\n",
       "      <td>Echoes</td>\n",
       "      <td>23.540850</td>\n",
       "      <td>2020-02-06</td>\n",
       "    </tr>\n",
       "    <tr>\n",
       "      <th>4523</th>\n",
       "      <td>Meditative Mind</td>\n",
       "      <td>OM Chanting at 432Hz</td>\n",
       "      <td>19.523833</td>\n",
       "      <td>2020-07-28</td>\n",
       "    </tr>\n",
       "    <tr>\n",
       "      <th>...</th>\n",
       "      <td>...</td>\n",
       "      <td>...</td>\n",
       "      <td>...</td>\n",
       "      <td>...</td>\n",
       "    </tr>\n",
       "    <tr>\n",
       "      <th>4090</th>\n",
       "      <td>S. Janaki</td>\n",
       "      <td>Mudhalvanae ( From \"Mudhalvan\")</td>\n",
       "      <td>6.534083</td>\n",
       "      <td>2020-06-09</td>\n",
       "    </tr>\n",
       "    <tr>\n",
       "      <th>902</th>\n",
       "      <td>Pradeep Kumar</td>\n",
       "      <td>Agasatha - From \"Cuckoo\"</td>\n",
       "      <td>6.505017</td>\n",
       "      <td>2019-12-05</td>\n",
       "    </tr>\n",
       "    <tr>\n",
       "      <th>3365</th>\n",
       "      <td>Srikanth Kulkarni</td>\n",
       "      <td>Om Chanting 432 Hz</td>\n",
       "      <td>6.493167</td>\n",
       "      <td>2020-04-06</td>\n",
       "    </tr>\n",
       "    <tr>\n",
       "      <th>1871</th>\n",
       "      <td>S. P. Balasubrahmanyam</td>\n",
       "      <td>Velli Malare (From \"Jodi\")</td>\n",
       "      <td>6.486417</td>\n",
       "      <td>2020-04-23</td>\n",
       "    </tr>\n",
       "    <tr>\n",
       "      <th>4560</th>\n",
       "      <td>KK</td>\n",
       "      <td>Tu Hi Meri Shab Hai</td>\n",
       "      <td>6.465783</td>\n",
       "      <td>2020-08-05</td>\n",
       "    </tr>\n",
       "  </tbody>\n",
       "</table>\n",
       "<p>100 rows × 4 columns</p>\n",
       "</div>"
      ],
      "text/plain": [
       "                 artist_name                       track_name  minutes_played  \\\n",
       "4242        Sleep Deep Music       Relaxing music river Flute       30.948317   \n",
       "4527         Meditative Mind             OM Chanting at 432Hz       29.813883   \n",
       "4526         Meditative Mind             OM Chanting at 432Hz       27.621533   \n",
       "3028              Pink Floyd                           Echoes       23.540850   \n",
       "4523         Meditative Mind             OM Chanting at 432Hz       19.523833   \n",
       "...                      ...                              ...             ...   \n",
       "4090               S. Janaki  Mudhalvanae ( From \"Mudhalvan\")        6.534083   \n",
       "902            Pradeep Kumar         Agasatha - From \"Cuckoo\"        6.505017   \n",
       "3365       Srikanth Kulkarni               Om Chanting 432 Hz        6.493167   \n",
       "1871  S. P. Balasubrahmanyam       Velli Malare (From \"Jodi\")        6.486417   \n",
       "4560                      KK              Tu Hi Meri Shab Hai        6.465783   \n",
       "\n",
       "            date  \n",
       "4242  2020-06-29  \n",
       "4527  2020-08-12  \n",
       "4526  2020-08-11  \n",
       "3028  2020-02-06  \n",
       "4523  2020-07-28  \n",
       "...          ...  \n",
       "4090  2020-06-09  \n",
       "902   2019-12-05  \n",
       "3365  2020-04-06  \n",
       "1871  2020-04-23  \n",
       "4560  2020-08-05  \n",
       "\n",
       "[100 rows x 4 columns]"
      ]
     },
     "execution_count": 97,
     "metadata": {},
     "output_type": "execute_result"
    }
   ],
   "source": [
    "song = df_mine.copy()\n",
    "song.drop('time', axis= 1,inplace= True)\n",
    "song.sort_values(by=['minutes_played'], ascending=False).head(100)"
   ]
  },
  {
   "cell_type": "code",
   "execution_count": 100,
   "metadata": {},
   "outputs": [
    {
     "data": {
      "text/html": [
       "<div>\n",
       "<style scoped>\n",
       "    .dataframe tbody tr th:only-of-type {\n",
       "        vertical-align: middle;\n",
       "    }\n",
       "\n",
       "    .dataframe tbody tr th {\n",
       "        vertical-align: top;\n",
       "    }\n",
       "\n",
       "    .dataframe thead th {\n",
       "        text-align: right;\n",
       "    }\n",
       "</style>\n",
       "<table border=\"1\" class=\"dataframe\">\n",
       "  <thead>\n",
       "    <tr style=\"text-align: right;\">\n",
       "      <th></th>\n",
       "      <th>track_name</th>\n",
       "      <th>minutes_played</th>\n",
       "    </tr>\n",
       "  </thead>\n",
       "  <tbody>\n",
       "    <tr>\n",
       "      <th>1861</th>\n",
       "      <td>bad guy (with Justin Bieber)</td>\n",
       "      <td>104.756283</td>\n",
       "    </tr>\n",
       "    <tr>\n",
       "      <th>1133</th>\n",
       "      <td>OM Chanting at 432Hz</td>\n",
       "      <td>102.477750</td>\n",
       "    </tr>\n",
       "    <tr>\n",
       "      <th>626</th>\n",
       "      <td>High By The Beach</td>\n",
       "      <td>87.592883</td>\n",
       "    </tr>\n",
       "    <tr>\n",
       "      <th>989</th>\n",
       "      <td>Mel Isaiyae</td>\n",
       "      <td>87.012767</td>\n",
       "    </tr>\n",
       "    <tr>\n",
       "      <th>215</th>\n",
       "      <td>Brooklyn Baby</td>\n",
       "      <td>85.709233</td>\n",
       "    </tr>\n",
       "  </tbody>\n",
       "</table>\n",
       "</div>"
      ],
      "text/plain": [
       "                        track_name  minutes_played\n",
       "1861  bad guy (with Justin Bieber)      104.756283\n",
       "1133          OM Chanting at 432Hz      102.477750\n",
       "626              High By The Beach       87.592883\n",
       "989                    Mel Isaiyae       87.012767\n",
       "215                  Brooklyn Baby       85.709233"
      ]
     },
     "execution_count": 100,
     "metadata": {},
     "output_type": "execute_result"
    }
   ],
   "source": [
    "song = song.groupby(['track_name'], as_index=False).sum()\n",
    "song = song.sort_values(by='minutes_played', ascending=False)\n",
    "song.head()"
   ]
  },
  {
   "cell_type": "code",
   "execution_count": 101,
   "metadata": {},
   "outputs": [
    {
     "data": {
      "text/html": [
       "<div>\n",
       "<style scoped>\n",
       "    .dataframe tbody tr th:only-of-type {\n",
       "        vertical-align: middle;\n",
       "    }\n",
       "\n",
       "    .dataframe tbody tr th {\n",
       "        vertical-align: top;\n",
       "    }\n",
       "\n",
       "    .dataframe thead th {\n",
       "        text-align: right;\n",
       "    }\n",
       "</style>\n",
       "<table border=\"1\" class=\"dataframe\">\n",
       "  <thead>\n",
       "    <tr style=\"text-align: right;\">\n",
       "      <th></th>\n",
       "      <th>artist_name</th>\n",
       "      <th>track_name</th>\n",
       "    </tr>\n",
       "  </thead>\n",
       "  <tbody>\n",
       "    <tr>\n",
       "      <th>1758</th>\n",
       "      <td>Billie Eilish</td>\n",
       "      <td>you should see me in a crown</td>\n",
       "    </tr>\n",
       "    <tr>\n",
       "      <th>1759</th>\n",
       "      <td>Billie Eilish</td>\n",
       "      <td>you should see me in a crown</td>\n",
       "    </tr>\n",
       "    <tr>\n",
       "      <th>1762</th>\n",
       "      <td>Billie Eilish</td>\n",
       "      <td>you should see me in a crown</td>\n",
       "    </tr>\n",
       "    <tr>\n",
       "      <th>1761</th>\n",
       "      <td>Billie Eilish</td>\n",
       "      <td>you should see me in a crown</td>\n",
       "    </tr>\n",
       "    <tr>\n",
       "      <th>1760</th>\n",
       "      <td>Billie Eilish</td>\n",
       "      <td>you should see me in a crown</td>\n",
       "    </tr>\n",
       "    <tr>\n",
       "      <th>1147</th>\n",
       "      <td>Billie Eilish</td>\n",
       "      <td>xanny</td>\n",
       "    </tr>\n",
       "    <tr>\n",
       "      <th>1148</th>\n",
       "      <td>Billie Eilish</td>\n",
       "      <td>xanny</td>\n",
       "    </tr>\n",
       "    <tr>\n",
       "      <th>1149</th>\n",
       "      <td>Billie Eilish</td>\n",
       "      <td>xanny</td>\n",
       "    </tr>\n",
       "    <tr>\n",
       "      <th>1150</th>\n",
       "      <td>Billie Eilish</td>\n",
       "      <td>xanny</td>\n",
       "    </tr>\n",
       "    <tr>\n",
       "      <th>3236</th>\n",
       "      <td>Prateek Kuhad</td>\n",
       "      <td>with you/for you</td>\n",
       "    </tr>\n",
       "  </tbody>\n",
       "</table>\n",
       "</div>"
      ],
      "text/plain": [
       "        artist_name                    track_name\n",
       "1758  Billie Eilish  you should see me in a crown\n",
       "1759  Billie Eilish  you should see me in a crown\n",
       "1762  Billie Eilish  you should see me in a crown\n",
       "1761  Billie Eilish  you should see me in a crown\n",
       "1760  Billie Eilish  you should see me in a crown\n",
       "1147  Billie Eilish                         xanny\n",
       "1148  Billie Eilish                         xanny\n",
       "1149  Billie Eilish                         xanny\n",
       "1150  Billie Eilish                         xanny\n",
       "3236  Prateek Kuhad              with you/for you"
      ]
     },
     "execution_count": 101,
     "metadata": {},
     "output_type": "execute_result"
    }
   ],
   "source": [
    "song_artist = df_mine.copy()\n",
    "song_artist = song_artist.sort_values(by='track_name', ascending=False)\n",
    "song_artist.drop(['time','date','minutes_played'], axis=1, inplace=True)\n",
    "song_artist.head(10)"
   ]
  },
  {
   "cell_type": "code",
   "execution_count": 102,
   "metadata": {},
   "outputs": [
    {
     "data": {
      "text/html": [
       "<div>\n",
       "<style scoped>\n",
       "    .dataframe tbody tr th:only-of-type {\n",
       "        vertical-align: middle;\n",
       "    }\n",
       "\n",
       "    .dataframe tbody tr th {\n",
       "        vertical-align: top;\n",
       "    }\n",
       "\n",
       "    .dataframe thead th {\n",
       "        text-align: right;\n",
       "    }\n",
       "</style>\n",
       "<table border=\"1\" class=\"dataframe\">\n",
       "  <thead>\n",
       "    <tr style=\"text-align: right;\">\n",
       "      <th></th>\n",
       "      <th>artist_name</th>\n",
       "      <th>track_name</th>\n",
       "    </tr>\n",
       "  </thead>\n",
       "  <tbody>\n",
       "    <tr>\n",
       "      <th>1758</th>\n",
       "      <td>Billie Eilish</td>\n",
       "      <td>you should see me in a crown</td>\n",
       "    </tr>\n",
       "    <tr>\n",
       "      <th>1147</th>\n",
       "      <td>Billie Eilish</td>\n",
       "      <td>xanny</td>\n",
       "    </tr>\n",
       "    <tr>\n",
       "      <th>3236</th>\n",
       "      <td>Prateek Kuhad</td>\n",
       "      <td>with you/for you</td>\n",
       "    </tr>\n",
       "    <tr>\n",
       "      <th>438</th>\n",
       "      <td>Billie Eilish</td>\n",
       "      <td>wish you were gay</td>\n",
       "    </tr>\n",
       "    <tr>\n",
       "      <th>1627</th>\n",
       "      <td>Billie Eilish</td>\n",
       "      <td>when the party's over</td>\n",
       "    </tr>\n",
       "    <tr>\n",
       "      <th>...</th>\n",
       "      <td>...</td>\n",
       "      <td>...</td>\n",
       "    </tr>\n",
       "    <tr>\n",
       "      <th>3772</th>\n",
       "      <td>Dan + Shay</td>\n",
       "      <td>10,000 Hours (with Justin Bieber)</td>\n",
       "    </tr>\n",
       "    <tr>\n",
       "      <th>4233</th>\n",
       "      <td>The Righteous Brothers</td>\n",
       "      <td>(You're My) Soul And Inspiration</td>\n",
       "    </tr>\n",
       "    <tr>\n",
       "      <th>772</th>\n",
       "      <td>Tom Jones</td>\n",
       "      <td>(It Looks Like) I'll Never Fall In Love Again</td>\n",
       "    </tr>\n",
       "    <tr>\n",
       "      <th>2903</th>\n",
       "      <td>Billie Eilish</td>\n",
       "      <td>&amp;burn (with Vince Staples)</td>\n",
       "    </tr>\n",
       "    <tr>\n",
       "      <th>1748</th>\n",
       "      <td>Billie Eilish</td>\n",
       "      <td>!!!!!!!</td>\n",
       "    </tr>\n",
       "  </tbody>\n",
       "</table>\n",
       "<p>1910 rows × 2 columns</p>\n",
       "</div>"
      ],
      "text/plain": [
       "                 artist_name                                     track_name\n",
       "1758           Billie Eilish                   you should see me in a crown\n",
       "1147           Billie Eilish                                          xanny\n",
       "3236           Prateek Kuhad                               with you/for you\n",
       "438            Billie Eilish                              wish you were gay\n",
       "1627           Billie Eilish                          when the party's over\n",
       "...                      ...                                            ...\n",
       "3772              Dan + Shay              10,000 Hours (with Justin Bieber)\n",
       "4233  The Righteous Brothers               (You're My) Soul And Inspiration\n",
       "772                Tom Jones  (It Looks Like) I'll Never Fall In Love Again\n",
       "2903           Billie Eilish                     &burn (with Vince Staples)\n",
       "1748           Billie Eilish                                        !!!!!!!\n",
       "\n",
       "[1910 rows x 2 columns]"
      ]
     },
     "execution_count": 102,
     "metadata": {},
     "output_type": "execute_result"
    }
   ],
   "source": [
    "song_artist = song_artist.drop_duplicates(subset = [\"track_name\"])\n",
    "song_artist"
   ]
  },
  {
   "cell_type": "code",
   "execution_count": 103,
   "metadata": {},
   "outputs": [
    {
     "data": {
      "text/html": [
       "<div>\n",
       "<style scoped>\n",
       "    .dataframe tbody tr th:only-of-type {\n",
       "        vertical-align: middle;\n",
       "    }\n",
       "\n",
       "    .dataframe tbody tr th {\n",
       "        vertical-align: top;\n",
       "    }\n",
       "\n",
       "    .dataframe thead th {\n",
       "        text-align: right;\n",
       "    }\n",
       "</style>\n",
       "<table border=\"1\" class=\"dataframe\">\n",
       "  <thead>\n",
       "    <tr style=\"text-align: right;\">\n",
       "      <th></th>\n",
       "      <th>artist_name</th>\n",
       "      <th>track_name</th>\n",
       "      <th>minutes_played</th>\n",
       "    </tr>\n",
       "  </thead>\n",
       "  <tbody>\n",
       "    <tr>\n",
       "      <th>48</th>\n",
       "      <td>Billie Eilish</td>\n",
       "      <td>bad guy (with Justin Bieber)</td>\n",
       "      <td>104.756283</td>\n",
       "    </tr>\n",
       "    <tr>\n",
       "      <th>776</th>\n",
       "      <td>Meditative Mind</td>\n",
       "      <td>OM Chanting at 432Hz</td>\n",
       "      <td>102.477750</td>\n",
       "    </tr>\n",
       "    <tr>\n",
       "      <th>1283</th>\n",
       "      <td>Lana Del Rey</td>\n",
       "      <td>High By The Beach</td>\n",
       "      <td>87.592883</td>\n",
       "    </tr>\n",
       "    <tr>\n",
       "      <th>920</th>\n",
       "      <td>Unni Menon</td>\n",
       "      <td>Mel Isaiyae</td>\n",
       "      <td>87.012767</td>\n",
       "    </tr>\n",
       "    <tr>\n",
       "      <th>1694</th>\n",
       "      <td>Lana Del Rey</td>\n",
       "      <td>Brooklyn Baby</td>\n",
       "      <td>85.709233</td>\n",
       "    </tr>\n",
       "    <tr>\n",
       "      <th>...</th>\n",
       "      <td>...</td>\n",
       "      <td>...</td>\n",
       "      <td>...</td>\n",
       "    </tr>\n",
       "    <tr>\n",
       "      <th>1138</th>\n",
       "      <td>Tochi Raina</td>\n",
       "      <td>Kabira</td>\n",
       "      <td>0.000000</td>\n",
       "    </tr>\n",
       "    <tr>\n",
       "      <th>254</th>\n",
       "      <td>Santhosh Narayanan</td>\n",
       "      <td>Ul Kuthu (Background Score) - From \"Madras\"</td>\n",
       "      <td>0.000000</td>\n",
       "    </tr>\n",
       "    <tr>\n",
       "      <th>547</th>\n",
       "      <td>Ankit Tiwari</td>\n",
       "      <td>Rula Diya (From \"Batla House\")</td>\n",
       "      <td>0.000000</td>\n",
       "    </tr>\n",
       "    <tr>\n",
       "      <th>1671</th>\n",
       "      <td>Amaal Mallik</td>\n",
       "      <td>Chale Aana (From \"De De Pyaar De\")</td>\n",
       "      <td>0.000000</td>\n",
       "    </tr>\n",
       "    <tr>\n",
       "      <th>75</th>\n",
       "      <td>Karthik</td>\n",
       "      <td>Yemaindho Teliyadu Naaku</td>\n",
       "      <td>0.000000</td>\n",
       "    </tr>\n",
       "  </tbody>\n",
       "</table>\n",
       "<p>1910 rows × 3 columns</p>\n",
       "</div>"
      ],
      "text/plain": [
       "             artist_name                                   track_name  \\\n",
       "48         Billie Eilish                 bad guy (with Justin Bieber)   \n",
       "776      Meditative Mind                         OM Chanting at 432Hz   \n",
       "1283        Lana Del Rey                            High By The Beach   \n",
       "920           Unni Menon                                  Mel Isaiyae   \n",
       "1694        Lana Del Rey                                Brooklyn Baby   \n",
       "...                  ...                                          ...   \n",
       "1138         Tochi Raina                                       Kabira   \n",
       "254   Santhosh Narayanan  Ul Kuthu (Background Score) - From \"Madras\"   \n",
       "547         Ankit Tiwari               Rula Diya (From \"Batla House\")   \n",
       "1671        Amaal Mallik           Chale Aana (From \"De De Pyaar De\")   \n",
       "75               Karthik                     Yemaindho Teliyadu Naaku   \n",
       "\n",
       "      minutes_played  \n",
       "48        104.756283  \n",
       "776       102.477750  \n",
       "1283       87.592883  \n",
       "920        87.012767  \n",
       "1694       85.709233  \n",
       "...              ...  \n",
       "1138        0.000000  \n",
       "254         0.000000  \n",
       "547         0.000000  \n",
       "1671        0.000000  \n",
       "75          0.000000  \n",
       "\n",
       "[1910 rows x 3 columns]"
      ]
     },
     "execution_count": 103,
     "metadata": {},
     "output_type": "execute_result"
    }
   ],
   "source": [
    "song = pd.merge(song_artist, song, on='track_name')\n",
    "song = song.sort_values(by='minutes_played', ascending=False)\n",
    "song"
   ]
  },
  {
   "cell_type": "code",
   "execution_count": 104,
   "metadata": {},
   "outputs": [
    {
     "data": {
      "text/html": [
       "<div>\n",
       "<style scoped>\n",
       "    .dataframe tbody tr th:only-of-type {\n",
       "        vertical-align: middle;\n",
       "    }\n",
       "\n",
       "    .dataframe tbody tr th {\n",
       "        vertical-align: top;\n",
       "    }\n",
       "\n",
       "    .dataframe thead th {\n",
       "        text-align: right;\n",
       "    }\n",
       "</style>\n",
       "<table border=\"1\" class=\"dataframe\">\n",
       "  <thead>\n",
       "    <tr style=\"text-align: right;\">\n",
       "      <th></th>\n",
       "      <th>artist_name</th>\n",
       "      <th>track_name</th>\n",
       "      <th>minutes_played</th>\n",
       "    </tr>\n",
       "  </thead>\n",
       "  <tbody>\n",
       "    <tr>\n",
       "      <th>0</th>\n",
       "      <td>Billie Eilish</td>\n",
       "      <td>bad guy (with Justin Bieber)</td>\n",
       "      <td>104.756283</td>\n",
       "    </tr>\n",
       "    <tr>\n",
       "      <th>1</th>\n",
       "      <td>Meditative Mind</td>\n",
       "      <td>OM Chanting at 432Hz</td>\n",
       "      <td>102.477750</td>\n",
       "    </tr>\n",
       "    <tr>\n",
       "      <th>2</th>\n",
       "      <td>Lana Del Rey</td>\n",
       "      <td>High By The Beach</td>\n",
       "      <td>87.592883</td>\n",
       "    </tr>\n",
       "    <tr>\n",
       "      <th>3</th>\n",
       "      <td>Unni Menon</td>\n",
       "      <td>Mel Isaiyae</td>\n",
       "      <td>87.012767</td>\n",
       "    </tr>\n",
       "    <tr>\n",
       "      <th>4</th>\n",
       "      <td>Lana Del Rey</td>\n",
       "      <td>Brooklyn Baby</td>\n",
       "      <td>85.709233</td>\n",
       "    </tr>\n",
       "    <tr>\n",
       "      <th>5</th>\n",
       "      <td>Vishal Mishra</td>\n",
       "      <td>Kaise Hua (From \"Kabir Singh\")</td>\n",
       "      <td>84.300600</td>\n",
       "    </tr>\n",
       "    <tr>\n",
       "      <th>6</th>\n",
       "      <td>Arijit Singh</td>\n",
       "      <td>Bekhayali (Arijit Singh Version) [From \"Kabir ...</td>\n",
       "      <td>82.569050</td>\n",
       "    </tr>\n",
       "    <tr>\n",
       "      <th>7</th>\n",
       "      <td>Kadhal Desam</td>\n",
       "      <td>Anbay</td>\n",
       "      <td>78.844517</td>\n",
       "    </tr>\n",
       "    <tr>\n",
       "      <th>8</th>\n",
       "      <td>A.R. Rahman</td>\n",
       "      <td>Yedho Yedho</td>\n",
       "      <td>70.807267</td>\n",
       "    </tr>\n",
       "    <tr>\n",
       "      <th>9</th>\n",
       "      <td>Chinmayi</td>\n",
       "      <td>Iravingu Theevai</td>\n",
       "      <td>67.203917</td>\n",
       "    </tr>\n",
       "    <tr>\n",
       "      <th>10</th>\n",
       "      <td>A.R. Rahman</td>\n",
       "      <td>Nenjam Ellam</td>\n",
       "      <td>66.427100</td>\n",
       "    </tr>\n",
       "    <tr>\n",
       "      <th>11</th>\n",
       "      <td>Hariharan</td>\n",
       "      <td>Minnal Oru Kodi</td>\n",
       "      <td>65.481567</td>\n",
       "    </tr>\n",
       "    <tr>\n",
       "      <th>12</th>\n",
       "      <td>Pradeep Kumar</td>\n",
       "      <td>Vaanam Paarthen</td>\n",
       "      <td>65.379650</td>\n",
       "    </tr>\n",
       "    <tr>\n",
       "      <th>13</th>\n",
       "      <td>Sid Sriram</td>\n",
       "      <td>Vaa Vaa Penne - From \"Uriyadi 2\"</td>\n",
       "      <td>62.045633</td>\n",
       "    </tr>\n",
       "    <tr>\n",
       "      <th>14</th>\n",
       "      <td>Kadhal Desam</td>\n",
       "      <td>Thendrale</td>\n",
       "      <td>59.803433</td>\n",
       "    </tr>\n",
       "    <tr>\n",
       "      <th>15</th>\n",
       "      <td>Lana Del Rey</td>\n",
       "      <td>Venice Bitch</td>\n",
       "      <td>58.864417</td>\n",
       "    </tr>\n",
       "  </tbody>\n",
       "</table>\n",
       "</div>"
      ],
      "text/plain": [
       "        artist_name                                         track_name  \\\n",
       "0     Billie Eilish                       bad guy (with Justin Bieber)   \n",
       "1   Meditative Mind                               OM Chanting at 432Hz   \n",
       "2      Lana Del Rey                                  High By The Beach   \n",
       "3        Unni Menon                                        Mel Isaiyae   \n",
       "4      Lana Del Rey                                      Brooklyn Baby   \n",
       "5     Vishal Mishra                     Kaise Hua (From \"Kabir Singh\")   \n",
       "6      Arijit Singh  Bekhayali (Arijit Singh Version) [From \"Kabir ...   \n",
       "7      Kadhal Desam                                              Anbay   \n",
       "8       A.R. Rahman                                        Yedho Yedho   \n",
       "9          Chinmayi                                   Iravingu Theevai   \n",
       "10      A.R. Rahman                                       Nenjam Ellam   \n",
       "11        Hariharan                                    Minnal Oru Kodi   \n",
       "12    Pradeep Kumar                                    Vaanam Paarthen   \n",
       "13       Sid Sriram                   Vaa Vaa Penne - From \"Uriyadi 2\"   \n",
       "14     Kadhal Desam                                          Thendrale   \n",
       "15     Lana Del Rey                                       Venice Bitch   \n",
       "\n",
       "    minutes_played  \n",
       "0       104.756283  \n",
       "1       102.477750  \n",
       "2        87.592883  \n",
       "3        87.012767  \n",
       "4        85.709233  \n",
       "5        84.300600  \n",
       "6        82.569050  \n",
       "7        78.844517  \n",
       "8        70.807267  \n",
       "9        67.203917  \n",
       "10       66.427100  \n",
       "11       65.481567  \n",
       "12       65.379650  \n",
       "13       62.045633  \n",
       "14       59.803433  \n",
       "15       58.864417  "
      ]
     },
     "execution_count": 104,
     "metadata": {},
     "output_type": "execute_result"
    }
   ],
   "source": [
    "song = song.sort_values(by='minutes_played', ascending=False).head(16)\n",
    "song.reset_index(inplace = True, drop = True) \n",
    "song"
   ]
  },
  {
   "cell_type": "code",
   "execution_count": 105,
   "metadata": {},
   "outputs": [
    {
     "data": {
      "text/plain": [
       "<Axes: >"
      ]
     },
     "execution_count": 105,
     "metadata": {},
     "output_type": "execute_result"
    },
    {
     "data": {
      "image/png": "[encoded data removed]",
      "text/plain": [
       "<Figure size 640x480 with 1 Axes>"
      ]
     },
     "metadata": {},
     "output_type": "display_data"
    }
   ],
   "source": [
    "song['minutes_played'].hist()"
   ]
  },
  {
   "cell_type": "code",
   "execution_count": 106,
   "metadata": {},
   "outputs": [
    {
     "data": {
      "application/vnd.plotly.v1+json": {
       "config": {
        "plotlyServerURL": "https://plot.ly"
       },
       "data": [
        {
         "alignmentgroup": "True",
         "hovertemplate": "artist_name=Billie Eilish<br>track_name=%{x}<br>minutes_played=%{y}<extra></extra>",
         "legendgroup": "Billie Eilish",
         "marker": {
          "color": "rgb(103,0,31)",
          "pattern": {
           "shape": ""
          }
         },
         "name": "Billie Eilish",
         "offsetgroup": "Billie Eilish",
         "orientation": "v",
         "showlegend": true,
         "textposition": "auto",
         "type": "bar",
         "x": [
          "bad guy (with Justin Bieber)"
         ],
         "xaxis": "x",
         "y": [
          104.75628333333334
         ],
         "yaxis": "y"
        },
        {
         "alignmentgroup": "True",
         "hovertemplate": "artist_name=Meditative Mind<br>track_name=%{x}<br>minutes_played=%{y}<extra></extra>",
         "legendgroup": "Meditative Mind",
         "marker": {
          "color": "rgb(178,24,43)",
          "pattern": {
           "shape": ""
          }
         },
         "name": "Meditative Mind",
         "offsetgroup": "Meditative Mind",
         "orientation": "v",
         "showlegend": true,
         "textposition": "auto",
         "type": "bar",
         "x": [
          "OM Chanting at 432Hz"
         ],
         "xaxis": "x",
         "y": [
          102.47774999999999
         ],
         "yaxis": "y"
        },
        {
         "alignmentgroup": "True",
         "hovertemplate": "artist_name=Lana Del Rey<br>track_name=%{x}<br>minutes_played=%{y}<extra></extra>",
         "legendgroup": "Lana Del Rey",
         "marker": {
          "color": "rgb(214,96,77)",
          "pattern": {
           "shape": ""
          }
         },
         "name": "Lana Del Rey",
         "offsetgroup": "Lana Del Rey",
         "orientation": "v",
         "showlegend": true,
         "textposition": "auto",
         "type": "bar",
         "x": [
          "High By The Beach",
          "Brooklyn Baby",
          "Venice Bitch"
         ],
         "xaxis": "x",
         "y": [
          87.59288333333333,
          85.70923333333333,
          58.86441666666667
         ],
         "yaxis": "y"
        },
        {
         "alignmentgroup": "True",
         "hovertemplate": "artist_name=Unni Menon<br>track_name=%{x}<br>minutes_played=%{y}<extra></extra>",
         "legendgroup": "Unni Menon",
         "marker": {
          "color": "rgb(244,165,130)",
          "pattern": {
           "shape": ""
          }
         },
         "name": "Unni Menon",
         "offsetgroup": "Unni Menon",
         "orientation": "v",
         "showlegend": true,
         "textposition": "auto",
         "type": "bar",
         "x": [
          "Mel Isaiyae"
         ],
         "xaxis": "x",
         "y": [
          87.01276666666666
         ],
         "yaxis": "y"
        },
        {
         "alignmentgroup": "True",
         "hovertemplate": "artist_name=Vishal Mishra<br>track_name=%{x}<br>minutes_played=%{y}<extra></extra>",
         "legendgroup": "Vishal Mishra",
         "marker": {
          "color": "rgb(253,219,199)",
          "pattern": {
           "shape": ""
          }
         },
         "name": "Vishal Mishra",
         "offsetgroup": "Vishal Mishra",
         "orientation": "v",
         "showlegend": true,
         "textposition": "auto",
         "type": "bar",
         "x": [
          "Kaise Hua (From \"Kabir Singh\")"
         ],
         "xaxis": "x",
         "y": [
          84.3006
         ],
         "yaxis": "y"
        },
        {
         "alignmentgroup": "True",
         "hovertemplate": "artist_name=Arijit Singh<br>track_name=%{x}<br>minutes_played=%{y}<extra></extra>",
         "legendgroup": "Arijit Singh",
         "marker": {
          "color": "rgb(247,247,247)",
          "pattern": {
           "shape": ""
          }
         },
         "name": "Arijit Singh",
         "offsetgroup": "Arijit Singh",
         "orientation": "v",
         "showlegend": true,
         "textposition": "auto",
         "type": "bar",
         "x": [
          "Bekhayali (Arijit Singh Version) [From \"Kabir Singh\"]"
         ],
         "xaxis": "x",
         "y": [
          82.56905
         ],
         "yaxis": "y"
        },
        {
         "alignmentgroup": "True",
         "hovertemplate": "artist_name=Kadhal Desam<br>track_name=%{x}<br>minutes_played=%{y}<extra></extra>",
         "legendgroup": "Kadhal Desam",
         "marker": {
          "color": "rgb(209,229,240)",
          "pattern": {
           "shape": ""
          }
         },
         "name": "Kadhal Desam",
         "offsetgroup": "Kadhal Desam",
         "orientation": "v",
         "showlegend": true,
         "textposition": "auto",
         "type": "bar",
         "x": [
          "Anbay",
          "Thendrale"
         ],
         "xaxis": "x",
         "y": [
          78.84451666666666,
          59.80343333333333
         ],
         "yaxis": "y"
        },
        {
         "alignmentgroup": "True",
         "hovertemplate": "artist_name=A.R. Rahman<br>track_name=%{x}<br>minutes_played=%{y}<extra></extra>",
         "legendgroup": "A.R. Rahman",
         "marker": {
          "color": "rgb(146,197,222)",
          "pattern": {
           "shape": ""
          }
         },
         "name": "A.R. Rahman",
         "offsetgroup": "A.R. Rahman",
         "orientation": "v",
         "showlegend": true,
         "textposition": "auto",
         "type": "bar",
         "x": [
          "Yedho Yedho",
          "Nenjam Ellam"
         ],
         "xaxis": "x",
         "y": [
          70.80726666666666,
          66.4271
         ],
         "yaxis": "y"
        },
        {
         "alignmentgroup": "True",
         "hovertemplate": "artist_name=Chinmayi<br>track_name=%{x}<br>minutes_played=%{y}<extra></extra>",
         "legendgroup": "Chinmayi",
         "marker": {
          "color": "rgb(67,147,195)",
          "pattern": {
           "shape": ""
          }
         },
         "name": "Chinmayi",
         "offsetgroup": "Chinmayi",
         "orientation": "v",
         "showlegend": true,
         "textposition": "auto",
         "type": "bar",
         "x": [
          "Iravingu Theevai"
         ],
         "xaxis": "x",
         "y": [
          67.20391666666667
         ],
         "yaxis": "y"
        },
        {
         "alignmentgroup": "True",
         "hovertemplate": "artist_name=Hariharan<br>track_name=%{x}<br>minutes_played=%{y}<extra></extra>",
         "legendgroup": "Hariharan",
         "marker": {
          "color": "rgb(33,102,172)",
          "pattern": {
           "shape": ""
          }
         },
         "name": "Hariharan",
         "offsetgroup": "Hariharan",
         "orientation": "v",
         "showlegend": true,
         "textposition": "auto",
         "type": "bar",
         "x": [
          "Minnal Oru Kodi"
         ],
         "xaxis": "x",
         "y": [
          65.48156666666667
         ],
         "yaxis": "y"
        },
        {
         "alignmentgroup": "True",
         "hovertemplate": "artist_name=Pradeep Kumar<br>track_name=%{x}<br>minutes_played=%{y}<extra></extra>",
         "legendgroup": "Pradeep Kumar",
         "marker": {
          "color": "rgb(5,48,97)",
          "pattern": {
           "shape": ""
          }
         },
         "name": "Pradeep Kumar",
         "offsetgroup": "Pradeep Kumar",
         "orientation": "v",
         "showlegend": true,
         "textposition": "auto",
         "type": "bar",
         "x": [
          "Vaanam Paarthen"
         ],
         "xaxis": "x",
         "y": [
          65.37965
         ],
         "yaxis": "y"
        },
        {
         "alignmentgroup": "True",
         "hovertemplate": "artist_name=Sid Sriram<br>track_name=%{x}<br>minutes_played=%{y}<extra></extra>",
         "legendgroup": "Sid Sriram",
         "marker": {
          "color": "rgb(103,0,31)",
          "pattern": {
           "shape": ""
          }
         },
         "name": "Sid Sriram",
         "offsetgroup": "Sid Sriram",
         "orientation": "v",
         "showlegend": true,
         "textposition": "auto",
         "type": "bar",
         "x": [
          "Vaa Vaa Penne - From \"Uriyadi 2\""
         ],
         "xaxis": "x",
         "y": [
          62.04563333333333
         ],
         "yaxis": "y"
        }
       ],
       "layout": {
        "barmode": "relative",
        "legend": {
         "title": {
          "text": "artist_name"
         },
         "tracegroupgap": 0
        },
        "template": {
         "data": {
          "bar": [
           {
            "error_x": {
             "color": "#2a3f5f"
            },
            "error_y": {
             "color": "#2a3f5f"
            },
            "marker": {
             "line": {
              "color": "#E5ECF6",
              "width": 0.5
             },
             "pattern": {
              "fillmode": "overlay",
              "size": 10,
              "solidity": 0.2
             }
            },
            "type": "bar"
           }
          ],
          "barpolar": [
           {
            "marker": {
             "line": {
              "color": "#E5ECF6",
              "width": 0.5
             },
             "pattern": {
              "fillmode": "overlay",
              "size": 10,
              "solidity": 0.2
             }
            },
            "type": "barpolar"
           }
          ],
          "carpet": [
           {
            "aaxis": {
             "endlinecolor": "#2a3f5f",
             "gridcolor": "white",
             "linecolor": "white",
             "minorgridcolor": "white",
             "startlinecolor": "#2a3f5f"
            },
            "baxis": {
             "endlinecolor": "#2a3f5f",
             "gridcolor": "white",
             "linecolor": "white",
             "minorgridcolor": "white",
             "startlinecolor": "#2a3f5f"
            },
            "type": "carpet"
           }
          ],
          "choropleth": [
           {
            "colorbar": {
             "outlinewidth": 0,
             "ticks": ""
            },
            "type": "choropleth"
           }
          ],
          "contour": [
           {
            "colorbar": {
             "outlinewidth": 0,
             "ticks": ""
            },
            "colorscale": [
             [
              0,
              "#0d0887"
             ],
             [
              0.1111111111111111,
              "#46039f"
             ],
             [
              0.2222222222222222,
              "#7201a8"
             ],
             [
              0.3333333333333333,
              "#9c179e"
             ],
             [
              0.4444444444444444,
              "#bd3786"
             ],
             [
              0.5555555555555556,
              "#d8576b"
             ],
             [
              0.6666666666666666,
              "#ed7953"
             ],
             [
              0.7777777777777778,
              "#fb9f3a"
             ],
             [
              0.8888888888888888,
              "#fdca26"
             ],
             [
              1,
              "#f0f921"
             ]
            ],
            "type": "contour"
           }
          ],
          "contourcarpet": [
           {
            "colorbar": {
             "outlinewidth": 0,
             "ticks": ""
            },
            "type": "contourcarpet"
           }
          ],
          "heatmap": [
           {
            "colorbar": {
             "outlinewidth": 0,
             "ticks": ""
            },
            "colorscale": [
             [
              0,
              "#0d0887"
             ],
             [
              0.1111111111111111,
              "#46039f"
             ],
             [
              0.2222222222222222,
              "#7201a8"
             ],
             [
              0.3333333333333333,
              "#9c179e"
             ],
             [
              0.4444444444444444,
              "#bd3786"
             ],
             [
              0.5555555555555556,
              "#d8576b"
             ],
             [
              0.6666666666666666,
              "#ed7953"
             ],
             [
              0.7777777777777778,
              "#fb9f3a"
             ],
             [
              0.8888888888888888,
              "#fdca26"
             ],
             [
              1,
              "#f0f921"
             ]
            ],
            "type": "heatmap"
           }
          ],
          "heatmapgl": [
           {
            "colorbar": {
             "outlinewidth": 0,
             "ticks": ""
            },
            "colorscale": [
             [
              0,
              "#0d0887"
             ],
             [
              0.1111111111111111,
              "#46039f"
             ],
             [
              0.2222222222222222,
              "#7201a8"
             ],
             [
              0.3333333333333333,
              "#9c179e"
             ],
             [
              0.4444444444444444,
              "#bd3786"
             ],
             [
              0.5555555555555556,
              "#d8576b"
             ],
             [
              0.6666666666666666,
              "#ed7953"
             ],
             [
              0.7777777777777778,
              "#fb9f3a"
             ],
             [
              0.8888888888888888,
              "#fdca26"
             ],
             [
              1,
              "#f0f921"
             ]
            ],
            "type": "heatmapgl"
           }
          ],
          "histogram": [
           {
            "marker": {
             "pattern": {
              "fillmode": "overlay",
              "size": 10,
              "solidity": 0.2
             }
            },
            "type": "histogram"
           }
          ],
          "histogram2d": [
           {
            "colorbar": {
             "outlinewidth": 0,
             "ticks": ""
            },
            "colorscale": [
             [
              0,
              "#0d0887"
             ],
             [
              0.1111111111111111,
              "#46039f"
             ],
             [
              0.2222222222222222,
              "#7201a8"
             ],
             [
              0.3333333333333333,
              "#9c179e"
             ],
             [
              0.4444444444444444,
              "#bd3786"
             ],
             [
              0.5555555555555556,
              "#d8576b"
             ],
             [
              0.6666666666666666,
              "#ed7953"
             ],
             [
              0.7777777777777778,
              "#fb9f3a"
             ],
             [
              0.8888888888888888,
              "#fdca26"
             ],
             [
              1,
              "#f0f921"
             ]
            ],
            "type": "histogram2d"
           }
          ],
          "histogram2dcontour": [
           {
            "colorbar": {
             "outlinewidth": 0,
             "ticks": ""
            },
            "colorscale": [
             [
              0,
              "#0d0887"
             ],
             [
              0.1111111111111111,
              "#46039f"
             ],
             [
              0.2222222222222222,
              "#7201a8"
             ],
             [
              0.3333333333333333,
              "#9c179e"
             ],
             [
              0.4444444444444444,
              "#bd3786"
             ],
             [
              0.5555555555555556,
              "#d8576b"
             ],
             [
              0.6666666666666666,
              "#ed7953"
             ],
             [
              0.7777777777777778,
              "#fb9f3a"
             ],
             [
              0.8888888888888888,
              "#fdca26"
             ],
             [
              1,
              "#f0f921"
             ]
            ],
            "type": "histogram2dcontour"
           }
          ],
          "mesh3d": [
           {
            "colorbar": {
             "outlinewidth": 0,
             "ticks": ""
            },
            "type": "mesh3d"
           }
          ],
          "parcoords": [
           {
            "line": {
             "colorbar": {
              "outlinewidth": 0,
              "ticks": ""
             }
            },
            "type": "parcoords"
           }
          ],
          "pie": [
           {
            "automargin": true,
            "type": "pie"
           }
          ],
          "scatter": [
           {
            "fillpattern": {
             "fillmode": "overlay",
             "size": 10,
             "solidity": 0.2
            },
            "type": "scatter"
           }
          ],
          "scatter3d": [
           {
            "line": {
             "colorbar": {
              "outlinewidth": 0,
              "ticks": ""
             }
            },
            "marker": {
             "colorbar": {
              "outlinewidth": 0,
              "ticks": ""
             }
            },
            "type": "scatter3d"
           }
          ],
          "scattercarpet": [
           {
            "marker": {
             "colorbar": {
              "outlinewidth": 0,
              "ticks": ""
             }
            },
            "type": "scattercarpet"
           }
          ],
          "scattergeo": [
           {
            "marker": {
             "colorbar": {
              "outlinewidth": 0,
              "ticks": ""
             }
            },
            "type": "scattergeo"
           }
          ],
          "scattergl": [
           {
            "marker": {
             "colorbar": {
              "outlinewidth": 0,
              "ticks": ""
             }
            },
            "type": "scattergl"
           }
          ],
          "scattermapbox": [
           {
            "marker": {
             "colorbar": {
              "outlinewidth": 0,
              "ticks": ""
             }
            },
            "type": "scattermapbox"
           }
          ],
          "scatterpolar": [
           {
            "marker": {
             "colorbar": {
              "outlinewidth": 0,
              "ticks": ""
             }
            },
            "type": "scatterpolar"
           }
          ],
          "scatterpolargl": [
           {
            "marker": {
             "colorbar": {
              "outlinewidth": 0,
              "ticks": ""
             }
            },
            "type": "scatterpolargl"
           }
          ],
          "scatterternary": [
           {
            "marker": {
             "colorbar": {
              "outlinewidth": 0,
              "ticks": ""
             }
            },
            "type": "scatterternary"
           }
          ],
          "surface": [
           {
            "colorbar": {
             "outlinewidth": 0,
             "ticks": ""
            },
            "colorscale": [
             [
              0,
              "#0d0887"
             ],
             [
              0.1111111111111111,
              "#46039f"
             ],
             [
              0.2222222222222222,
              "#7201a8"
             ],
             [
              0.3333333333333333,
              "#9c179e"
             ],
             [
              0.4444444444444444,
              "#bd3786"
             ],
             [
              0.5555555555555556,
              "#d8576b"
             ],
             [
              0.6666666666666666,
              "#ed7953"
             ],
             [
              0.7777777777777778,
              "#fb9f3a"
             ],
             [
              0.8888888888888888,
              "#fdca26"
             ],
             [
              1,
              "#f0f921"
             ]
            ],
            "type": "surface"
           }
          ],
          "table": [
           {
            "cells": {
             "fill": {
              "color": "#EBF0F8"
             },
             "line": {
              "color": "white"
             }
            },
            "header": {
             "fill": {
              "color": "#C8D4E3"
             },
             "line": {
              "color": "white"
             }
            },
            "type": "table"
           }
          ]
         },
         "layout": {
          "annotationdefaults": {
           "arrowcolor": "#2a3f5f",
           "arrowhead": 0,
           "arrowwidth": 1
          },
          "autotypenumbers": "strict",
          "coloraxis": {
           "colorbar": {
            "outlinewidth": 0,
            "ticks": ""
           }
          },
          "colorscale": {
           "diverging": [
            [
             0,
             "#8e0152"
            ],
            [
             0.1,
             "#c51b7d"
            ],
            [
             0.2,
             "#de77ae"
            ],
            [
             0.3,
             "#f1b6da"
            ],
            [
             0.4,
             "#fde0ef"
            ],
            [
             0.5,
             "#f7f7f7"
            ],
            [
             0.6,
             "#e6f5d0"
            ],
            [
             0.7,
             "#b8e186"
            ],
            [
             0.8,
             "#7fbc41"
            ],
            [
             0.9,
             "#4d9221"
            ],
            [
             1,
             "#276419"
            ]
           ],
           "sequential": [
            [
             0,
             "#0d0887"
            ],
            [
             0.1111111111111111,
             "#46039f"
            ],
            [
             0.2222222222222222,
             "#7201a8"
            ],
            [
             0.3333333333333333,
             "#9c179e"
            ],
            [
             0.4444444444444444,
             "#bd3786"
            ],
            [
             0.5555555555555556,
             "#d8576b"
            ],
            [
             0.6666666666666666,
             "#ed7953"
            ],
            [
             0.7777777777777778,
             "#fb9f3a"
            ],
            [
             0.8888888888888888,
             "#fdca26"
            ],
            [
             1,
             "#f0f921"
            ]
           ],
           "sequentialminus": [
            [
             0,
             "#0d0887"
            ],
            [
             0.1111111111111111,
             "#46039f"
            ],
            [
             0.2222222222222222,
             "#7201a8"
            ],
            [
             0.3333333333333333,
             "#9c179e"
            ],
            [
             0.4444444444444444,
             "#bd3786"
            ],
            [
             0.5555555555555556,
             "#d8576b"
            ],
            [
             0.6666666666666666,
             "#ed7953"
            ],
            [
             0.7777777777777778,
             "#fb9f3a"
            ],
            [
             0.8888888888888888,
             "#fdca26"
            ],
            [
             1,
             "#f0f921"
            ]
           ]
          },
          "colorway": [
           "#636efa",
           "#EF553B",
           "#00cc96",
           "#ab63fa",
           "#FFA15A",
           "#19d3f3",
           "#FF6692",
           "#B6E880",
           "#FF97FF",
           "#FECB52"
          ],
          "font": {
           "color": "#2a3f5f"
          },
          "geo": {
           "bgcolor": "white",
           "lakecolor": "white",
           "landcolor": "#E5ECF6",
           "showlakes": true,
           "showland": true,
           "subunitcolor": "white"
          },
          "hoverlabel": {
           "align": "left"
          },
          "hovermode": "closest",
          "mapbox": {
           "style": "light"
          },
          "paper_bgcolor": "white",
          "plot_bgcolor": "#E5ECF6",
          "polar": {
           "angularaxis": {
            "gridcolor": "white",
            "linecolor": "white",
            "ticks": ""
           },
           "bgcolor": "#E5ECF6",
           "radialaxis": {
            "gridcolor": "white",
            "linecolor": "white",
            "ticks": ""
           }
          },
          "scene": {
           "xaxis": {
            "backgroundcolor": "#E5ECF6",
            "gridcolor": "white",
            "gridwidth": 2,
            "linecolor": "white",
            "showbackground": true,
            "ticks": "",
            "zerolinecolor": "white"
           },
           "yaxis": {
            "backgroundcolor": "#E5ECF6",
            "gridcolor": "white",
            "gridwidth": 2,
            "linecolor": "white",
            "showbackground": true,
            "ticks": "",
            "zerolinecolor": "white"
           },
           "zaxis": {
            "backgroundcolor": "#E5ECF6",
            "gridcolor": "white",
            "gridwidth": 2,
            "linecolor": "white",
            "showbackground": true,
            "ticks": "",
            "zerolinecolor": "white"
           }
          },
          "shapedefaults": {
           "line": {
            "color": "#2a3f5f"
           }
          },
          "ternary": {
           "aaxis": {
            "gridcolor": "white",
            "linecolor": "white",
            "ticks": ""
           },
           "baxis": {
            "gridcolor": "white",
            "linecolor": "white",
            "ticks": ""
           },
           "bgcolor": "#E5ECF6",
           "caxis": {
            "gridcolor": "white",
            "linecolor": "white",
            "ticks": ""
           }
          },
          "title": {
           "x": 0.05
          },
          "xaxis": {
           "automargin": true,
           "gridcolor": "white",
           "linecolor": "white",
           "ticks": "",
           "title": {
            "standoff": 15
           },
           "zerolinecolor": "white",
           "zerolinewidth": 2
          },
          "yaxis": {
           "automargin": true,
           "gridcolor": "white",
           "linecolor": "white",
           "ticks": "",
           "title": {
            "standoff": 15
           },
           "zerolinecolor": "white",
           "zerolinewidth": 2
          }
         }
        },
        "title": {
         "text": "Most Listened To Songs"
        },
        "xaxis": {
         "anchor": "y",
         "domain": [
          0,
          1
         ],
         "title": {
          "text": "track_name"
         }
        },
        "yaxis": {
         "anchor": "x",
         "domain": [
          0,
          1
         ],
         "title": {
          "text": "minutes_played"
         }
        }
       }
      },
      "text/html": [
       "<div>                            <div id=\"809f83d0-1d25-48fd-8449-75b056ccea54\" class=\"plotly-graph-div\" style=\"height:525px; width:100%;\"></div>            <script type=\"text/javascript\">                require([\"plotly\"], function(Plotly) {                    window.PLOTLYENV=window.PLOTLYENV || {};                                    if (document.getElementById(\"809f83d0-1d25-48fd-8449-75b056ccea54\")) {                    Plotly.newPlot(                        \"809f83d0-1d25-48fd-8449-75b056ccea54\",                        [{\"alignmentgroup\":\"True\",\"hovertemplate\":\"artist_name=Billie Eilish<br>track_name=%{x}<br>minutes_played=%{y}<extra></extra>\",\"legendgroup\":\"Billie Eilish\",\"marker\":{\"color\":\"rgb(103,0,31)\",\"pattern\":{\"shape\":\"\"}},\"name\":\"Billie Eilish\",\"offsetgroup\":\"Billie Eilish\",\"orientation\":\"v\",\"showlegend\":true,\"textposition\":\"auto\",\"x\":[\"bad guy (with Justin Bieber)\"],\"xaxis\":\"x\",\"y\":[104.75628333333334],\"yaxis\":\"y\",\"type\":\"bar\"},{\"alignmentgroup\":\"True\",\"hovertemplate\":\"artist_name=Meditative Mind<br>track_name=%{x}<br>minutes_played=%{y}<extra></extra>\",\"legendgroup\":\"Meditative Mind\",\"marker\":{\"color\":\"rgb(178,24,43)\",\"pattern\":{\"shape\":\"\"}},\"name\":\"Meditative Mind\",\"offsetgroup\":\"Meditative Mind\",\"orientation\":\"v\",\"showlegend\":true,\"textposition\":\"auto\",\"x\":[\"OM Chanting at 432Hz\"],\"xaxis\":\"x\",\"y\":[102.47774999999999],\"yaxis\":\"y\",\"type\":\"bar\"},{\"alignmentgroup\":\"True\",\"hovertemplate\":\"artist_name=Lana Del Rey<br>track_name=%{x}<br>minutes_played=%{y}<extra></extra>\",\"legendgroup\":\"Lana Del Rey\",\"marker\":{\"color\":\"rgb(214,96,77)\",\"pattern\":{\"shape\":\"\"}},\"name\":\"Lana Del Rey\",\"offsetgroup\":\"Lana Del Rey\",\"orientation\":\"v\",\"showlegend\":true,\"textposition\":\"auto\",\"x\":[\"High By The Beach\",\"Brooklyn Baby\",\"Venice Bitch\"],\"xaxis\":\"x\",\"y\":[87.59288333333333,85.70923333333333,58.86441666666667],\"yaxis\":\"y\",\"type\":\"bar\"},{\"alignmentgroup\":\"True\",\"hovertemplate\":\"artist_name=Unni Menon<br>track_name=%{x}<br>minutes_played=%{y}<extra></extra>\",\"legendgroup\":\"Unni Menon\",\"marker\":{\"color\":\"rgb(244,165,130)\",\"pattern\":{\"shape\":\"\"}},\"name\":\"Unni Menon\",\"offsetgroup\":\"Unni Menon\",\"orientation\":\"v\",\"showlegend\":true,\"textposition\":\"auto\",\"x\":[\"Mel Isaiyae\"],\"xaxis\":\"x\",\"y\":[87.01276666666666],\"yaxis\":\"y\",\"type\":\"bar\"},{\"alignmentgroup\":\"True\",\"hovertemplate\":\"artist_name=Vishal Mishra<br>track_name=%{x}<br>minutes_played=%{y}<extra></extra>\",\"legendgroup\":\"Vishal Mishra\",\"marker\":{\"color\":\"rgb(253,219,199)\",\"pattern\":{\"shape\":\"\"}},\"name\":\"Vishal Mishra\",\"offsetgroup\":\"Vishal Mishra\",\"orientation\":\"v\",\"showlegend\":true,\"textposition\":\"auto\",\"x\":[\"Kaise Hua (From \\\"Kabir Singh\\\")\"],\"xaxis\":\"x\",\"y\":[84.3006],\"yaxis\":\"y\",\"type\":\"bar\"},{\"alignmentgroup\":\"True\",\"hovertemplate\":\"artist_name=Arijit Singh<br>track_name=%{x}<br>minutes_played=%{y}<extra></extra>\",\"legendgroup\":\"Arijit Singh\",\"marker\":{\"color\":\"rgb(247,247,247)\",\"pattern\":{\"shape\":\"\"}},\"name\":\"Arijit Singh\",\"offsetgroup\":\"Arijit Singh\",\"orientation\":\"v\",\"showlegend\":true,\"textposition\":\"auto\",\"x\":[\"Bekhayali (Arijit Singh Version) [From \\\"Kabir Singh\\\"]\"],\"xaxis\":\"x\",\"y\":[82.56905],\"yaxis\":\"y\",\"type\":\"bar\"},{\"alignmentgroup\":\"True\",\"hovertemplate\":\"artist_name=Kadhal Desam<br>track_name=%{x}<br>minutes_played=%{y}<extra></extra>\",\"legendgroup\":\"Kadhal Desam\",\"marker\":{\"color\":\"rgb(209,229,240)\",\"pattern\":{\"shape\":\"\"}},\"name\":\"Kadhal Desam\",\"offsetgroup\":\"Kadhal Desam\",\"orientation\":\"v\",\"showlegend\":true,\"textposition\":\"auto\",\"x\":[\"Anbay\",\"Thendrale\"],\"xaxis\":\"x\",\"y\":[78.84451666666666,59.80343333333333],\"yaxis\":\"y\",\"type\":\"bar\"},{\"alignmentgroup\":\"True\",\"hovertemplate\":\"artist_name=A.R. Rahman<br>track_name=%{x}<br>minutes_played=%{y}<extra></extra>\",\"legendgroup\":\"A.R. Rahman\",\"marker\":{\"color\":\"rgb(146,197,222)\",\"pattern\":{\"shape\":\"\"}},\"name\":\"A.R. Rahman\",\"offsetgroup\":\"A.R. Rahman\",\"orientation\":\"v\",\"showlegend\":true,\"textposition\":\"auto\",\"x\":[\"Yedho Yedho\",\"Nenjam Ellam\"],\"xaxis\":\"x\",\"y\":[70.80726666666666,66.4271],\"yaxis\":\"y\",\"type\":\"bar\"},{\"alignmentgroup\":\"True\",\"hovertemplate\":\"artist_name=Chinmayi<br>track_name=%{x}<br>minutes_played=%{y}<extra></extra>\",\"legendgroup\":\"Chinmayi\",\"marker\":{\"color\":\"rgb(67,147,195)\",\"pattern\":{\"shape\":\"\"}},\"name\":\"Chinmayi\",\"offsetgroup\":\"Chinmayi\",\"orientation\":\"v\",\"showlegend\":true,\"textposition\":\"auto\",\"x\":[\"Iravingu Theevai\"],\"xaxis\":\"x\",\"y\":[67.20391666666667],\"yaxis\":\"y\",\"type\":\"bar\"},{\"alignmentgroup\":\"True\",\"hovertemplate\":\"artist_name=Hariharan<br>track_name=%{x}<br>minutes_played=%{y}<extra></extra>\",\"legendgroup\":\"Hariharan\",\"marker\":{\"color\":\"rgb(33,102,172)\",\"pattern\":{\"shape\":\"\"}},\"name\":\"Hariharan\",\"offsetgroup\":\"Hariharan\",\"orientation\":\"v\",\"showlegend\":true,\"textposition\":\"auto\",\"x\":[\"Minnal Oru Kodi\"],\"xaxis\":\"x\",\"y\":[65.48156666666667],\"yaxis\":\"y\",\"type\":\"bar\"},{\"alignmentgroup\":\"True\",\"hovertemplate\":\"artist_name=Pradeep Kumar<br>track_name=%{x}<br>minutes_played=%{y}<extra></extra>\",\"legendgroup\":\"Pradeep Kumar\",\"marker\":{\"color\":\"rgb(5,48,97)\",\"pattern\":{\"shape\":\"\"}},\"name\":\"Pradeep Kumar\",\"offsetgroup\":\"Pradeep Kumar\",\"orientation\":\"v\",\"showlegend\":true,\"textposition\":\"auto\",\"x\":[\"Vaanam Paarthen\"],\"xaxis\":\"x\",\"y\":[65.37965],\"yaxis\":\"y\",\"type\":\"bar\"},{\"alignmentgroup\":\"True\",\"hovertemplate\":\"artist_name=Sid Sriram<br>track_name=%{x}<br>minutes_played=%{y}<extra></extra>\",\"legendgroup\":\"Sid Sriram\",\"marker\":{\"color\":\"rgb(103,0,31)\",\"pattern\":{\"shape\":\"\"}},\"name\":\"Sid Sriram\",\"offsetgroup\":\"Sid Sriram\",\"orientation\":\"v\",\"showlegend\":true,\"textposition\":\"auto\",\"x\":[\"Vaa Vaa Penne - From \\\"Uriyadi 2\\\"\"],\"xaxis\":\"x\",\"y\":[62.04563333333333],\"yaxis\":\"y\",\"type\":\"bar\"}],                        {\"template\":{\"data\":{\"histogram2dcontour\":[{\"type\":\"histogram2dcontour\",\"colorbar\":{\"outlinewidth\":0,\"ticks\":\"\"},\"colorscale\":[[0.0,\"#0d0887\"],[0.1111111111111111,\"#46039f\"],[0.2222222222222222,\"#7201a8\"],[0.3333333333333333,\"#9c179e\"],[0.4444444444444444,\"#bd3786\"],[0.5555555555555556,\"#d8576b\"],[0.6666666666666666,\"#ed7953\"],[0.7777777777777778,\"#fb9f3a\"],[0.8888888888888888,\"#fdca26\"],[1.0,\"#f0f921\"]]}],\"choropleth\":[{\"type\":\"choropleth\",\"colorbar\":{\"outlinewidth\":0,\"ticks\":\"\"}}],\"histogram2d\":[{\"type\":\"histogram2d\",\"colorbar\":{\"outlinewidth\":0,\"ticks\":\"\"},\"colorscale\":[[0.0,\"#0d0887\"],[0.1111111111111111,\"#46039f\"],[0.2222222222222222,\"#7201a8\"],[0.3333333333333333,\"#9c179e\"],[0.4444444444444444,\"#bd3786\"],[0.5555555555555556,\"#d8576b\"],[0.6666666666666666,\"#ed7953\"],[0.7777777777777778,\"#fb9f3a\"],[0.8888888888888888,\"#fdca26\"],[1.0,\"#f0f921\"]]}],\"heatmap\":[{\"type\":\"heatmap\",\"colorbar\":{\"outlinewidth\":0,\"ticks\":\"\"},\"colorscale\":[[0.0,\"#0d0887\"],[0.1111111111111111,\"#46039f\"],[0.2222222222222222,\"#7201a8\"],[0.3333333333333333,\"#9c179e\"],[0.4444444444444444,\"#bd3786\"],[0.5555555555555556,\"#d8576b\"],[0.6666666666666666,\"#ed7953\"],[0.7777777777777778,\"#fb9f3a\"],[0.8888888888888888,\"#fdca26\"],[1.0,\"#f0f921\"]]}],\"heatmapgl\":[{\"type\":\"heatmapgl\",\"colorbar\":{\"outlinewidth\":0,\"ticks\":\"\"},\"colorscale\":[[0.0,\"#0d0887\"],[0.1111111111111111,\"#46039f\"],[0.2222222222222222,\"#7201a8\"],[0.3333333333333333,\"#9c179e\"],[0.4444444444444444,\"#bd3786\"],[0.5555555555555556,\"#d8576b\"],[0.6666666666666666,\"#ed7953\"],[0.7777777777777778,\"#fb9f3a\"],[0.8888888888888888,\"#fdca26\"],[1.0,\"#f0f921\"]]}],\"contourcarpet\":[{\"type\":\"contourcarpet\",\"colorbar\":{\"outlinewidth\":0,\"ticks\":\"\"}}],\"contour\":[{\"type\":\"contour\",\"colorbar\":{\"outlinewidth\":0,\"ticks\":\"\"},\"colorscale\":[[0.0,\"#0d0887\"],[0.1111111111111111,\"#46039f\"],[0.2222222222222222,\"#7201a8\"],[0.3333333333333333,\"#9c179e\"],[0.4444444444444444,\"#bd3786\"],[0.5555555555555556,\"#d8576b\"],[0.6666666666666666,\"#ed7953\"],[0.7777777777777778,\"#fb9f3a\"],[0.8888888888888888,\"#fdca26\"],[1.0,\"#f0f921\"]]}],\"surface\":[{\"type\":\"surface\",\"colorbar\":{\"outlinewidth\":0,\"ticks\":\"\"},\"colorscale\":[[0.0,\"#0d0887\"],[0.1111111111111111,\"#46039f\"],[0.2222222222222222,\"#7201a8\"],[0.3333333333333333,\"#9c179e\"],[0.4444444444444444,\"#bd3786\"],[0.5555555555555556,\"#d8576b\"],[0.6666666666666666,\"#ed7953\"],[0.7777777777777778,\"#fb9f3a\"],[0.8888888888888888,\"#fdca26\"],[1.0,\"#f0f921\"]]}],\"mesh3d\":[{\"type\":\"mesh3d\",\"colorbar\":{\"outlinewidth\":0,\"ticks\":\"\"}}],\"scatter\":[{\"fillpattern\":{\"fillmode\":\"overlay\",\"size\":10,\"solidity\":0.2},\"type\":\"scatter\"}],\"parcoords\":[{\"type\":\"parcoords\",\"line\":{\"colorbar\":{\"outlinewidth\":0,\"ticks\":\"\"}}}],\"scatterpolargl\":[{\"type\":\"scatterpolargl\",\"marker\":{\"colorbar\":{\"outlinewidth\":0,\"ticks\":\"\"}}}],\"bar\":[{\"error_x\":{\"color\":\"#2a3f5f\"},\"error_y\":{\"color\":\"#2a3f5f\"},\"marker\":{\"line\":{\"color\":\"#E5ECF6\",\"width\":0.5},\"pattern\":{\"fillmode\":\"overlay\",\"size\":10,\"solidity\":0.2}},\"type\":\"bar\"}],\"scattergeo\":[{\"type\":\"scattergeo\",\"marker\":{\"colorbar\":{\"outlinewidth\":0,\"ticks\":\"\"}}}],\"scatterpolar\":[{\"type\":\"scatterpolar\",\"marker\":{\"colorbar\":{\"outlinewidth\":0,\"ticks\":\"\"}}}],\"histogram\":[{\"marker\":{\"pattern\":{\"fillmode\":\"overlay\",\"size\":10,\"solidity\":0.2}},\"type\":\"histogram\"}],\"scattergl\":[{\"type\":\"scattergl\",\"marker\":{\"colorbar\":{\"outlinewidth\":0,\"ticks\":\"\"}}}],\"scatter3d\":[{\"type\":\"scatter3d\",\"line\":{\"colorbar\":{\"outlinewidth\":0,\"ticks\":\"\"}},\"marker\":{\"colorbar\":{\"outlinewidth\":0,\"ticks\":\"\"}}}],\"scattermapbox\":[{\"type\":\"scattermapbox\",\"marker\":{\"colorbar\":{\"outlinewidth\":0,\"ticks\":\"\"}}}],\"scatterternary\":[{\"type\":\"scatterternary\",\"marker\":{\"colorbar\":{\"outlinewidth\":0,\"ticks\":\"\"}}}],\"scattercarpet\":[{\"type\":\"scattercarpet\",\"marker\":{\"colorbar\":{\"outlinewidth\":0,\"ticks\":\"\"}}}],\"carpet\":[{\"aaxis\":{\"endlinecolor\":\"#2a3f5f\",\"gridcolor\":\"white\",\"linecolor\":\"white\",\"minorgridcolor\":\"white\",\"startlinecolor\":\"#2a3f5f\"},\"baxis\":{\"endlinecolor\":\"#2a3f5f\",\"gridcolor\":\"white\",\"linecolor\":\"white\",\"minorgridcolor\":\"white\",\"startlinecolor\":\"#2a3f5f\"},\"type\":\"carpet\"}],\"table\":[{\"cells\":{\"fill\":{\"color\":\"#EBF0F8\"},\"line\":{\"color\":\"white\"}},\"header\":{\"fill\":{\"color\":\"#C8D4E3\"},\"line\":{\"color\":\"white\"}},\"type\":\"table\"}],\"barpolar\":[{\"marker\":{\"line\":{\"color\":\"#E5ECF6\",\"width\":0.5},\"pattern\":{\"fillmode\":\"overlay\",\"size\":10,\"solidity\":0.2}},\"type\":\"barpolar\"}],\"pie\":[{\"automargin\":true,\"type\":\"pie\"}]},\"layout\":{\"autotypenumbers\":\"strict\",\"colorway\":[\"#636efa\",\"#EF553B\",\"#00cc96\",\"#ab63fa\",\"#FFA15A\",\"#19d3f3\",\"#FF6692\",\"#B6E880\",\"#FF97FF\",\"#FECB52\"],\"font\":{\"color\":\"#2a3f5f\"},\"hovermode\":\"closest\",\"hoverlabel\":{\"align\":\"left\"},\"paper_bgcolor\":\"white\",\"plot_bgcolor\":\"#E5ECF6\",\"polar\":{\"bgcolor\":\"#E5ECF6\",\"angularaxis\":{\"gridcolor\":\"white\",\"linecolor\":\"white\",\"ticks\":\"\"},\"radialaxis\":{\"gridcolor\":\"white\",\"linecolor\":\"white\",\"ticks\":\"\"}},\"ternary\":{\"bgcolor\":\"#E5ECF6\",\"aaxis\":{\"gridcolor\":\"white\",\"linecolor\":\"white\",\"ticks\":\"\"},\"baxis\":{\"gridcolor\":\"white\",\"linecolor\":\"white\",\"ticks\":\"\"},\"caxis\":{\"gridcolor\":\"white\",\"linecolor\":\"white\",\"ticks\":\"\"}},\"coloraxis\":{\"colorbar\":{\"outlinewidth\":0,\"ticks\":\"\"}},\"colorscale\":{\"sequential\":[[0.0,\"#0d0887\"],[0.1111111111111111,\"#46039f\"],[0.2222222222222222,\"#7201a8\"],[0.3333333333333333,\"#9c179e\"],[0.4444444444444444,\"#bd3786\"],[0.5555555555555556,\"#d8576b\"],[0.6666666666666666,\"#ed7953\"],[0.7777777777777778,\"#fb9f3a\"],[0.8888888888888888,\"#fdca26\"],[1.0,\"#f0f921\"]],\"sequentialminus\":[[0.0,\"#0d0887\"],[0.1111111111111111,\"#46039f\"],[0.2222222222222222,\"#7201a8\"],[0.3333333333333333,\"#9c179e\"],[0.4444444444444444,\"#bd3786\"],[0.5555555555555556,\"#d8576b\"],[0.6666666666666666,\"#ed7953\"],[0.7777777777777778,\"#fb9f3a\"],[0.8888888888888888,\"#fdca26\"],[1.0,\"#f0f921\"]],\"diverging\":[[0,\"#8e0152\"],[0.1,\"#c51b7d\"],[0.2,\"#de77ae\"],[0.3,\"#f1b6da\"],[0.4,\"#fde0ef\"],[0.5,\"#f7f7f7\"],[0.6,\"#e6f5d0\"],[0.7,\"#b8e186\"],[0.8,\"#7fbc41\"],[0.9,\"#4d9221\"],[1,\"#276419\"]]},\"xaxis\":{\"gridcolor\":\"white\",\"linecolor\":\"white\",\"ticks\":\"\",\"title\":{\"standoff\":15},\"zerolinecolor\":\"white\",\"automargin\":true,\"zerolinewidth\":2},\"yaxis\":{\"gridcolor\":\"white\",\"linecolor\":\"white\",\"ticks\":\"\",\"title\":{\"standoff\":15},\"zerolinecolor\":\"white\",\"automargin\":true,\"zerolinewidth\":2},\"scene\":{\"xaxis\":{\"backgroundcolor\":\"#E5ECF6\",\"gridcolor\":\"white\",\"linecolor\":\"white\",\"showbackground\":true,\"ticks\":\"\",\"zerolinecolor\":\"white\",\"gridwidth\":2},\"yaxis\":{\"backgroundcolor\":\"#E5ECF6\",\"gridcolor\":\"white\",\"linecolor\":\"white\",\"showbackground\":true,\"ticks\":\"\",\"zerolinecolor\":\"white\",\"gridwidth\":2},\"zaxis\":{\"backgroundcolor\":\"#E5ECF6\",\"gridcolor\":\"white\",\"linecolor\":\"white\",\"showbackground\":true,\"ticks\":\"\",\"zerolinecolor\":\"white\",\"gridwidth\":2}},\"shapedefaults\":{\"line\":{\"color\":\"#2a3f5f\"}},\"annotationdefaults\":{\"arrowcolor\":\"#2a3f5f\",\"arrowhead\":0,\"arrowwidth\":1},\"geo\":{\"bgcolor\":\"white\",\"landcolor\":\"#E5ECF6\",\"subunitcolor\":\"white\",\"showland\":true,\"showlakes\":true,\"lakecolor\":\"white\"},\"title\":{\"x\":0.05},\"mapbox\":{\"style\":\"light\"}}},\"xaxis\":{\"anchor\":\"y\",\"domain\":[0.0,1.0],\"title\":{\"text\":\"track_name\"}},\"yaxis\":{\"anchor\":\"x\",\"domain\":[0.0,1.0],\"title\":{\"text\":\"minutes_played\"}},\"legend\":{\"title\":{\"text\":\"artist_name\"},\"tracegroupgap\":0},\"title\":{\"text\":\"Most Listened To Songs\"},\"barmode\":\"relative\"},                        {\"responsive\": true}                    ).then(function(){\n",
       "                            \n",
       "var gd = document.getElementById('809f83d0-1d25-48fd-8449-75b056ccea54');\n",
       "var x = new MutationObserver(function (mutations, observer) {{\n",
       "        var display = window.getComputedStyle(gd).display;\n",
       "        if (!display || display === 'none') {{\n",
       "            console.log([gd, 'removed!']);\n",
       "            Plotly.purge(gd);\n",
       "            observer.disconnect();\n",
       "        }}\n",
       "}});\n",
       "\n",
       "// Listen for the removal of the full notebook cells\n",
       "var notebookContainer = gd.closest('#notebook-container');\n",
       "if (notebookContainer) {{\n",
       "    x.observe(notebookContainer, {childList: true});\n",
       "}}\n",
       "\n",
       "// Listen for the clearing of the current output cell\n",
       "var outputEl = gd.closest('.output');\n",
       "if (outputEl) {{\n",
       "    x.observe(outputEl, {childList: true});\n",
       "}}\n",
       "\n",
       "                        })                };                });            </script>        </div>"
      ]
     },
     "metadata": {},
     "output_type": "display_data"
    }
   ],
   "source": [
    "fig = px.bar(song, x=\"track_name\", y=\"minutes_played\", title = 'Most Listened To Songs', color = \"artist_name\", color_discrete_sequence=px.colors.sequential.RdBu)\n",
    "fig.show()"
   ]
  },
  {
   "cell_type": "code",
   "execution_count": 138,
   "metadata": {},
   "outputs": [
    {
     "data": {
      "text/html": [
       "<div>\n",
       "<style scoped>\n",
       "    .dataframe tbody tr th:only-of-type {\n",
       "        vertical-align: middle;\n",
       "    }\n",
       "\n",
       "    .dataframe tbody tr th {\n",
       "        vertical-align: top;\n",
       "    }\n",
       "\n",
       "    .dataframe thead th {\n",
       "        text-align: right;\n",
       "    }\n",
       "</style>\n",
       "<table border=\"1\" class=\"dataframe\">\n",
       "  <thead>\n",
       "    <tr style=\"text-align: right;\">\n",
       "      <th></th>\n",
       "      <th>artist_name</th>\n",
       "      <th>track_name</th>\n",
       "      <th>minutes_played</th>\n",
       "      <th>date</th>\n",
       "      <th>time</th>\n",
       "    </tr>\n",
       "  </thead>\n",
       "  <tbody>\n",
       "    <tr>\n",
       "      <th>4242</th>\n",
       "      <td>Sleep Deep Music</td>\n",
       "      <td>Relaxing music river Flute</td>\n",
       "      <td>30.948317</td>\n",
       "      <td>2020-06-29</td>\n",
       "      <td>06:03:00</td>\n",
       "    </tr>\n",
       "    <tr>\n",
       "      <th>4527</th>\n",
       "      <td>Meditative Mind</td>\n",
       "      <td>OM Chanting at 432Hz</td>\n",
       "      <td>29.813883</td>\n",
       "      <td>2020-08-12</td>\n",
       "      <td>12:20:00</td>\n",
       "    </tr>\n",
       "    <tr>\n",
       "      <th>4526</th>\n",
       "      <td>Meditative Mind</td>\n",
       "      <td>OM Chanting at 432Hz</td>\n",
       "      <td>27.621533</td>\n",
       "      <td>2020-08-11</td>\n",
       "      <td>02:34:00</td>\n",
       "    </tr>\n",
       "    <tr>\n",
       "      <th>3028</th>\n",
       "      <td>Pink Floyd</td>\n",
       "      <td>Echoes</td>\n",
       "      <td>23.540850</td>\n",
       "      <td>2020-02-06</td>\n",
       "      <td>06:30:00</td>\n",
       "    </tr>\n",
       "    <tr>\n",
       "      <th>4523</th>\n",
       "      <td>Meditative Mind</td>\n",
       "      <td>OM Chanting at 432Hz</td>\n",
       "      <td>19.523833</td>\n",
       "      <td>2020-07-28</td>\n",
       "      <td>02:44:00</td>\n",
       "    </tr>\n",
       "    <tr>\n",
       "      <th>3022</th>\n",
       "      <td>Pink Floyd</td>\n",
       "      <td>Dogs</td>\n",
       "      <td>17.088000</td>\n",
       "      <td>2020-02-03</td>\n",
       "      <td>13:13:00</td>\n",
       "    </tr>\n",
       "    <tr>\n",
       "      <th>4524</th>\n",
       "      <td>Meditative Mind</td>\n",
       "      <td>OM Chanting at 432Hz</td>\n",
       "      <td>15.136500</td>\n",
       "      <td>2020-07-30</td>\n",
       "      <td>02:29:00</td>\n",
       "    </tr>\n",
       "    <tr>\n",
       "      <th>4390</th>\n",
       "      <td>Krishna Das</td>\n",
       "      <td>Om Namah Shivaya</td>\n",
       "      <td>13.494217</td>\n",
       "      <td>2020-07-08</td>\n",
       "      <td>02:27:00</td>\n",
       "    </tr>\n",
       "    <tr>\n",
       "      <th>2920</th>\n",
       "      <td>Joseph Murphy</td>\n",
       "      <td>The Treasure House Within You</td>\n",
       "      <td>13.479950</td>\n",
       "      <td>2020-01-22</td>\n",
       "      <td>10:31:00</td>\n",
       "    </tr>\n",
       "    <tr>\n",
       "      <th>3042</th>\n",
       "      <td>Pink Floyd</td>\n",
       "      <td>A Saucerful of Secrets</td>\n",
       "      <td>11.944883</td>\n",
       "      <td>2020-02-07</td>\n",
       "      <td>09:44:00</td>\n",
       "    </tr>\n",
       "    <tr>\n",
       "      <th>2927</th>\n",
       "      <td>Joseph Murphy</td>\n",
       "      <td>How Your Own Mind Works</td>\n",
       "      <td>11.827200</td>\n",
       "      <td>2020-01-22</td>\n",
       "      <td>10:49:00</td>\n",
       "    </tr>\n",
       "    <tr>\n",
       "      <th>105</th>\n",
       "      <td>Billie Eilish</td>\n",
       "      <td>bad guy (with Justin Bieber)</td>\n",
       "      <td>10.317267</td>\n",
       "      <td>2019-10-18</td>\n",
       "      <td>15:43:00</td>\n",
       "    </tr>\n",
       "    <tr>\n",
       "      <th>1961</th>\n",
       "      <td>Daniel Caesar</td>\n",
       "      <td>Freudian</td>\n",
       "      <td>10.038267</td>\n",
       "      <td>2019-11-07</td>\n",
       "      <td>06:38:00</td>\n",
       "    </tr>\n",
       "    <tr>\n",
       "      <th>4597</th>\n",
       "      <td>Rakesh Chaurasia</td>\n",
       "      <td>Gratitude</td>\n",
       "      <td>9.936350</td>\n",
       "      <td>2020-08-31</td>\n",
       "      <td>02:42:00</td>\n",
       "    </tr>\n",
       "    <tr>\n",
       "      <th>4596</th>\n",
       "      <td>Rakesh Chaurasia</td>\n",
       "      <td>Gratitude</td>\n",
       "      <td>9.936350</td>\n",
       "      <td>2020-08-23</td>\n",
       "      <td>02:51:00</td>\n",
       "    </tr>\n",
       "    <tr>\n",
       "      <th>199</th>\n",
       "      <td>Lana Del Rey</td>\n",
       "      <td>Venice Bitch</td>\n",
       "      <td>9.619983</td>\n",
       "      <td>2020-02-13</td>\n",
       "      <td>07:25:00</td>\n",
       "    </tr>\n",
       "    <tr>\n",
       "      <th>194</th>\n",
       "      <td>Lana Del Rey</td>\n",
       "      <td>Venice Bitch</td>\n",
       "      <td>9.619983</td>\n",
       "      <td>2019-10-08</td>\n",
       "      <td>11:03:00</td>\n",
       "    </tr>\n",
       "    <tr>\n",
       "      <th>195</th>\n",
       "      <td>Lana Del Rey</td>\n",
       "      <td>Venice Bitch</td>\n",
       "      <td>9.619983</td>\n",
       "      <td>2019-10-17</td>\n",
       "      <td>11:34:00</td>\n",
       "    </tr>\n",
       "    <tr>\n",
       "      <th>198</th>\n",
       "      <td>Lana Del Rey</td>\n",
       "      <td>Venice Bitch</td>\n",
       "      <td>9.619983</td>\n",
       "      <td>2020-01-30</td>\n",
       "      <td>06:42:00</td>\n",
       "    </tr>\n",
       "    <tr>\n",
       "      <th>1826</th>\n",
       "      <td>Arijit Singh</td>\n",
       "      <td>Bekhayali (Arijit Singh Version) [From \"Kabir ...</td>\n",
       "      <td>9.543083</td>\n",
       "      <td>2020-01-28</td>\n",
       "      <td>14:09:00</td>\n",
       "    </tr>\n",
       "    <tr>\n",
       "      <th>3355</th>\n",
       "      <td>Shivam Pathak</td>\n",
       "      <td>Ek Dil Ek Jaan</td>\n",
       "      <td>9.532667</td>\n",
       "      <td>2020-04-06</td>\n",
       "      <td>17:07:00</td>\n",
       "    </tr>\n",
       "    <tr>\n",
       "      <th>200</th>\n",
       "      <td>Lana Del Rey</td>\n",
       "      <td>Venice Bitch</td>\n",
       "      <td>9.005167</td>\n",
       "      <td>2020-06-01</td>\n",
       "      <td>07:35:00</td>\n",
       "    </tr>\n",
       "    <tr>\n",
       "      <th>1728</th>\n",
       "      <td>Dawin</td>\n",
       "      <td>Dessert - Remix</td>\n",
       "      <td>8.695483</td>\n",
       "      <td>2019-12-27</td>\n",
       "      <td>17:16:00</td>\n",
       "    </tr>\n",
       "    <tr>\n",
       "      <th>618</th>\n",
       "      <td>Govind Vasantha</td>\n",
       "      <td>Iravingu Theevai</td>\n",
       "      <td>8.609133</td>\n",
       "      <td>2020-01-09</td>\n",
       "      <td>15:21:00</td>\n",
       "    </tr>\n",
       "    <tr>\n",
       "      <th>116</th>\n",
       "      <td>Billie Eilish</td>\n",
       "      <td>bad guy (with Justin Bieber)</td>\n",
       "      <td>8.439667</td>\n",
       "      <td>2019-11-30</td>\n",
       "      <td>16:58:00</td>\n",
       "    </tr>\n",
       "    <tr>\n",
       "      <th>4290</th>\n",
       "      <td>P. B. Sreenivas</td>\n",
       "      <td>Sri Srinivasa Sri Venkateshwara Mangala Shasanam</td>\n",
       "      <td>8.280800</td>\n",
       "      <td>2020-07-03</td>\n",
       "      <td>10:48:00</td>\n",
       "    </tr>\n",
       "    <tr>\n",
       "      <th>4080</th>\n",
       "      <td>S. P. Balasubrahmanyam</td>\n",
       "      <td>Mettuppodu Mettuppodu</td>\n",
       "      <td>8.264700</td>\n",
       "      <td>2020-06-09</td>\n",
       "      <td>13:22:00</td>\n",
       "    </tr>\n",
       "    <tr>\n",
       "      <th>2451</th>\n",
       "      <td>Justin Timberlake</td>\n",
       "      <td>Mirrors</td>\n",
       "      <td>8.069100</td>\n",
       "      <td>2019-12-17</td>\n",
       "      <td>10:21:00</td>\n",
       "    </tr>\n",
       "    <tr>\n",
       "      <th>2452</th>\n",
       "      <td>Justin Timberlake</td>\n",
       "      <td>Mirrors</td>\n",
       "      <td>8.069100</td>\n",
       "      <td>2020-01-30</td>\n",
       "      <td>11:28:00</td>\n",
       "    </tr>\n",
       "    <tr>\n",
       "      <th>2449</th>\n",
       "      <td>Justin Timberlake</td>\n",
       "      <td>Mirrors</td>\n",
       "      <td>8.069100</td>\n",
       "      <td>2019-11-25</td>\n",
       "      <td>12:58:00</td>\n",
       "    </tr>\n",
       "    <tr>\n",
       "      <th>4618</th>\n",
       "      <td>TCO</td>\n",
       "      <td>Indian Mindfulness Song - Mindfulness Tune Per...</td>\n",
       "      <td>8.037500</td>\n",
       "      <td>2020-08-30</td>\n",
       "      <td>03:08:00</td>\n",
       "    </tr>\n",
       "    <tr>\n",
       "      <th>2278</th>\n",
       "      <td>A.R. Rahman</td>\n",
       "      <td>Kun Faya Kun</td>\n",
       "      <td>7.841667</td>\n",
       "      <td>2019-11-18</td>\n",
       "      <td>13:22:00</td>\n",
       "    </tr>\n",
       "    <tr>\n",
       "      <th>2322</th>\n",
       "      <td>Sonu Nigam</td>\n",
       "      <td>Tere Bin</td>\n",
       "      <td>7.812583</td>\n",
       "      <td>2019-12-04</td>\n",
       "      <td>06:05:00</td>\n",
       "    </tr>\n",
       "    <tr>\n",
       "      <th>1719</th>\n",
       "      <td>Dawin</td>\n",
       "      <td>Dessert - Remix</td>\n",
       "      <td>7.626100</td>\n",
       "      <td>2019-10-24</td>\n",
       "      <td>16:51:00</td>\n",
       "    </tr>\n",
       "    <tr>\n",
       "      <th>3033</th>\n",
       "      <td>Pink Floyd</td>\n",
       "      <td>Us and Them</td>\n",
       "      <td>7.607867</td>\n",
       "      <td>2020-02-07</td>\n",
       "      <td>09:04:00</td>\n",
       "    </tr>\n",
       "    <tr>\n",
       "      <th>1639</th>\n",
       "      <td>Kishore Kumar</td>\n",
       "      <td>Humko Tumse Ho Gaya Hai Pyar - Amar Akbar Anth...</td>\n",
       "      <td>7.556667</td>\n",
       "      <td>2019-10-18</td>\n",
       "      <td>06:37:00</td>\n",
       "    </tr>\n",
       "    <tr>\n",
       "      <th>3040</th>\n",
       "      <td>Pink Floyd</td>\n",
       "      <td>Welcome to the Machine</td>\n",
       "      <td>7.528000</td>\n",
       "      <td>2020-02-07</td>\n",
       "      <td>09:31:00</td>\n",
       "    </tr>\n",
       "    <tr>\n",
       "      <th>2166</th>\n",
       "      <td>Yuvan Shankar Raja</td>\n",
       "      <td>Kadhal Valarthen</td>\n",
       "      <td>7.493550</td>\n",
       "      <td>2019-11-17</td>\n",
       "      <td>03:48:00</td>\n",
       "    </tr>\n",
       "    <tr>\n",
       "      <th>197</th>\n",
       "      <td>Lana Del Rey</td>\n",
       "      <td>Venice Bitch</td>\n",
       "      <td>7.433733</td>\n",
       "      <td>2019-11-04</td>\n",
       "      <td>10:42:00</td>\n",
       "    </tr>\n",
       "    <tr>\n",
       "      <th>4084</th>\n",
       "      <td>Srinivas</td>\n",
       "      <td>Ennuyire</td>\n",
       "      <td>7.360867</td>\n",
       "      <td>2020-06-09</td>\n",
       "      <td>13:49:00</td>\n",
       "    </tr>\n",
       "    <tr>\n",
       "      <th>1129</th>\n",
       "      <td>Hariharan</td>\n",
       "      <td>Malargaley Malargaley</td>\n",
       "      <td>7.277200</td>\n",
       "      <td>2019-09-27</td>\n",
       "      <td>09:30:00</td>\n",
       "    </tr>\n",
       "    <tr>\n",
       "      <th>118</th>\n",
       "      <td>Billie Eilish</td>\n",
       "      <td>bad guy (with Justin Bieber)</td>\n",
       "      <td>7.275583</td>\n",
       "      <td>2019-12-14</td>\n",
       "      <td>16:50:00</td>\n",
       "    </tr>\n",
       "    <tr>\n",
       "      <th>2967</th>\n",
       "      <td>Hariharan</td>\n",
       "      <td>Tu Hi Re - Bombay / Soundtrack Version</td>\n",
       "      <td>7.258217</td>\n",
       "      <td>2020-01-29</td>\n",
       "      <td>11:31:00</td>\n",
       "    </tr>\n",
       "    <tr>\n",
       "      <th>643</th>\n",
       "      <td>Govind Vasantha</td>\n",
       "      <td>Anthaathi</td>\n",
       "      <td>7.247317</td>\n",
       "      <td>2020-01-06</td>\n",
       "      <td>09:14:00</td>\n",
       "    </tr>\n",
       "    <tr>\n",
       "      <th>637</th>\n",
       "      <td>Govind Vasantha</td>\n",
       "      <td>Anthaathi</td>\n",
       "      <td>7.247317</td>\n",
       "      <td>2019-09-19</td>\n",
       "      <td>12:00:00</td>\n",
       "    </tr>\n",
       "    <tr>\n",
       "      <th>641</th>\n",
       "      <td>Govind Vasantha</td>\n",
       "      <td>Anthaathi</td>\n",
       "      <td>7.247317</td>\n",
       "      <td>2019-10-06</td>\n",
       "      <td>15:35:00</td>\n",
       "    </tr>\n",
       "    <tr>\n",
       "      <th>151</th>\n",
       "      <td>Sid Sriram</td>\n",
       "      <td>Vaa Vaa Penne - From \"Uriyadi 2\"</td>\n",
       "      <td>7.227217</td>\n",
       "      <td>2019-10-24</td>\n",
       "      <td>17:04:00</td>\n",
       "    </tr>\n",
       "    <tr>\n",
       "      <th>1867</th>\n",
       "      <td>S. P. Balasubrahmanyam</td>\n",
       "      <td>Sundari</td>\n",
       "      <td>7.207617</td>\n",
       "      <td>2019-11-06</td>\n",
       "      <td>10:09:00</td>\n",
       "    </tr>\n",
       "    <tr>\n",
       "      <th>2986</th>\n",
       "      <td>Farida Khanum</td>\n",
       "      <td>Aaj Jaane Ki Zid Na Karo</td>\n",
       "      <td>7.193050</td>\n",
       "      <td>2020-08-04</td>\n",
       "      <td>05:57:00</td>\n",
       "    </tr>\n",
       "    <tr>\n",
       "      <th>2982</th>\n",
       "      <td>Farida Khanum</td>\n",
       "      <td>Aaj Jaane Ki Zid Na Karo</td>\n",
       "      <td>7.193050</td>\n",
       "      <td>2020-05-19</td>\n",
       "      <td>03:17:00</td>\n",
       "    </tr>\n",
       "  </tbody>\n",
       "</table>\n",
       "</div>"
      ],
      "text/plain": [
       "                 artist_name  \\\n",
       "4242        Sleep Deep Music   \n",
       "4527         Meditative Mind   \n",
       "4526         Meditative Mind   \n",
       "3028              Pink Floyd   \n",
       "4523         Meditative Mind   \n",
       "3022              Pink Floyd   \n",
       "4524         Meditative Mind   \n",
       "4390             Krishna Das   \n",
       "2920           Joseph Murphy   \n",
       "3042              Pink Floyd   \n",
       "2927           Joseph Murphy   \n",
       "105            Billie Eilish   \n",
       "1961           Daniel Caesar   \n",
       "4597        Rakesh Chaurasia   \n",
       "4596        Rakesh Chaurasia   \n",
       "199             Lana Del Rey   \n",
       "194             Lana Del Rey   \n",
       "195             Lana Del Rey   \n",
       "198             Lana Del Rey   \n",
       "1826            Arijit Singh   \n",
       "3355           Shivam Pathak   \n",
       "200             Lana Del Rey   \n",
       "1728                   Dawin   \n",
       "618          Govind Vasantha   \n",
       "116            Billie Eilish   \n",
       "4290         P. B. Sreenivas   \n",
       "4080  S. P. Balasubrahmanyam   \n",
       "2451       Justin Timberlake   \n",
       "2452       Justin Timberlake   \n",
       "2449       Justin Timberlake   \n",
       "4618                     TCO   \n",
       "2278             A.R. Rahman   \n",
       "2322              Sonu Nigam   \n",
       "1719                   Dawin   \n",
       "3033              Pink Floyd   \n",
       "1639           Kishore Kumar   \n",
       "3040              Pink Floyd   \n",
       "2166      Yuvan Shankar Raja   \n",
       "197             Lana Del Rey   \n",
       "4084                Srinivas   \n",
       "1129               Hariharan   \n",
       "118            Billie Eilish   \n",
       "2967               Hariharan   \n",
       "643          Govind Vasantha   \n",
       "637          Govind Vasantha   \n",
       "641          Govind Vasantha   \n",
       "151               Sid Sriram   \n",
       "1867  S. P. Balasubrahmanyam   \n",
       "2986           Farida Khanum   \n",
       "2982           Farida Khanum   \n",
       "\n",
       "                                             track_name  minutes_played  \\\n",
       "4242                         Relaxing music river Flute       30.948317   \n",
       "4527                               OM Chanting at 432Hz       29.813883   \n",
       "4526                               OM Chanting at 432Hz       27.621533   \n",
       "3028                                             Echoes       23.540850   \n",
       "4523                               OM Chanting at 432Hz       19.523833   \n",
       "3022                                               Dogs       17.088000   \n",
       "4524                               OM Chanting at 432Hz       15.136500   \n",
       "4390                                   Om Namah Shivaya       13.494217   \n",
       "2920                      The Treasure House Within You       13.479950   \n",
       "3042                             A Saucerful of Secrets       11.944883   \n",
       "2927                            How Your Own Mind Works       11.827200   \n",
       "105                        bad guy (with Justin Bieber)       10.317267   \n",
       "1961                                           Freudian       10.038267   \n",
       "4597                                          Gratitude        9.936350   \n",
       "4596                                          Gratitude        9.936350   \n",
       "199                                        Venice Bitch        9.619983   \n",
       "194                                        Venice Bitch        9.619983   \n",
       "195                                        Venice Bitch        9.619983   \n",
       "198                                        Venice Bitch        9.619983   \n",
       "1826  Bekhayali (Arijit Singh Version) [From \"Kabir ...        9.543083   \n",
       "3355                                     Ek Dil Ek Jaan        9.532667   \n",
       "200                                        Venice Bitch        9.005167   \n",
       "1728                                    Dessert - Remix        8.695483   \n",
       "618                                    Iravingu Theevai        8.609133   \n",
       "116                        bad guy (with Justin Bieber)        8.439667   \n",
       "4290   Sri Srinivasa Sri Venkateshwara Mangala Shasanam        8.280800   \n",
       "4080                              Mettuppodu Mettuppodu        8.264700   \n",
       "2451                                            Mirrors        8.069100   \n",
       "2452                                            Mirrors        8.069100   \n",
       "2449                                            Mirrors        8.069100   \n",
       "4618  Indian Mindfulness Song - Mindfulness Tune Per...        8.037500   \n",
       "2278                                       Kun Faya Kun        7.841667   \n",
       "2322                                           Tere Bin        7.812583   \n",
       "1719                                    Dessert - Remix        7.626100   \n",
       "3033                                        Us and Them        7.607867   \n",
       "1639  Humko Tumse Ho Gaya Hai Pyar - Amar Akbar Anth...        7.556667   \n",
       "3040                             Welcome to the Machine        7.528000   \n",
       "2166                                   Kadhal Valarthen        7.493550   \n",
       "197                                        Venice Bitch        7.433733   \n",
       "4084                                           Ennuyire        7.360867   \n",
       "1129                              Malargaley Malargaley        7.277200   \n",
       "118                        bad guy (with Justin Bieber)        7.275583   \n",
       "2967             Tu Hi Re - Bombay / Soundtrack Version        7.258217   \n",
       "643                                           Anthaathi        7.247317   \n",
       "637                                           Anthaathi        7.247317   \n",
       "641                                           Anthaathi        7.247317   \n",
       "151                    Vaa Vaa Penne - From \"Uriyadi 2\"        7.227217   \n",
       "1867                                            Sundari        7.207617   \n",
       "2986                           Aaj Jaane Ki Zid Na Karo        7.193050   \n",
       "2982                           Aaj Jaane Ki Zid Na Karo        7.193050   \n",
       "\n",
       "            date      time  \n",
       "4242  2020-06-29  06:03:00  \n",
       "4527  2020-08-12  12:20:00  \n",
       "4526  2020-08-11  02:34:00  \n",
       "3028  2020-02-06  06:30:00  \n",
       "4523  2020-07-28  02:44:00  \n",
       "3022  2020-02-03  13:13:00  \n",
       "4524  2020-07-30  02:29:00  \n",
       "4390  2020-07-08  02:27:00  \n",
       "2920  2020-01-22  10:31:00  \n",
       "3042  2020-02-07  09:44:00  \n",
       "2927  2020-01-22  10:49:00  \n",
       "105   2019-10-18  15:43:00  \n",
       "1961  2019-11-07  06:38:00  \n",
       "4597  2020-08-31  02:42:00  \n",
       "4596  2020-08-23  02:51:00  \n",
       "199   2020-02-13  07:25:00  \n",
       "194   2019-10-08  11:03:00  \n",
       "195   2019-10-17  11:34:00  \n",
       "198   2020-01-30  06:42:00  \n",
       "1826  2020-01-28  14:09:00  \n",
       "3355  2020-04-06  17:07:00  \n",
       "200   2020-06-01  07:35:00  \n",
       "1728  2019-12-27  17:16:00  \n",
       "618   2020-01-09  15:21:00  \n",
       "116   2019-11-30  16:58:00  \n",
       "4290  2020-07-03  10:48:00  \n",
       "4080  2020-06-09  13:22:00  \n",
       "2451  2019-12-17  10:21:00  \n",
       "2452  2020-01-30  11:28:00  \n",
       "2449  2019-11-25  12:58:00  \n",
       "4618  2020-08-30  03:08:00  \n",
       "2278  2019-11-18  13:22:00  \n",
       "2322  2019-12-04  06:05:00  \n",
       "1719  2019-10-24  16:51:00  \n",
       "3033  2020-02-07  09:04:00  \n",
       "1639  2019-10-18  06:37:00  \n",
       "3040  2020-02-07  09:31:00  \n",
       "2166  2019-11-17  03:48:00  \n",
       "197   2019-11-04  10:42:00  \n",
       "4084  2020-06-09  13:49:00  \n",
       "1129  2019-09-27  09:30:00  \n",
       "118   2019-12-14  16:50:00  \n",
       "2967  2020-01-29  11:31:00  \n",
       "643   2020-01-06  09:14:00  \n",
       "637   2019-09-19  12:00:00  \n",
       "641   2019-10-06  15:35:00  \n",
       "151   2019-10-24  17:04:00  \n",
       "1867  2019-11-06  10:09:00  \n",
       "2986  2020-08-04  05:57:00  \n",
       "2982  2020-05-19  03:17:00  "
      ]
     },
     "execution_count": 138,
     "metadata": {},
     "output_type": "execute_result"
    }
   ],
   "source": [
    "top_50 = df_mine.copy()\n",
    "top_50.sort_values(by='minutes_played',ascending=False).head(50)"
   ]
  },
  {
   "cell_type": "code",
   "execution_count": 139,
   "metadata": {},
   "outputs": [
    {
     "name": "stderr",
     "output_type": "stream",
     "text": [
      "C:\\Users\\Niveatha\\AppData\\Local\\Temp\\ipykernel_53856\\1918738515.py:1: FutureWarning:\n",
      "\n",
      "The default value of numeric_only in DataFrameGroupBy.sum is deprecated. In a future version, numeric_only will default to False. Either specify numeric_only or select only columns which should be valid for the function.\n",
      "\n"
     ]
    },
    {
     "data": {
      "text/html": [
       "<div>\n",
       "<style scoped>\n",
       "    .dataframe tbody tr th:only-of-type {\n",
       "        vertical-align: middle;\n",
       "    }\n",
       "\n",
       "    .dataframe tbody tr th {\n",
       "        vertical-align: top;\n",
       "    }\n",
       "\n",
       "    .dataframe thead th {\n",
       "        text-align: right;\n",
       "    }\n",
       "</style>\n",
       "<table border=\"1\" class=\"dataframe\">\n",
       "  <thead>\n",
       "    <tr style=\"text-align: right;\">\n",
       "      <th></th>\n",
       "      <th>track_name</th>\n",
       "      <th>minutes_played</th>\n",
       "    </tr>\n",
       "  </thead>\n",
       "  <tbody>\n",
       "    <tr>\n",
       "      <th>0</th>\n",
       "      <td>bad guy (with Justin Bieber)</td>\n",
       "      <td>104.756283</td>\n",
       "    </tr>\n",
       "    <tr>\n",
       "      <th>1</th>\n",
       "      <td>OM Chanting at 432Hz</td>\n",
       "      <td>102.477750</td>\n",
       "    </tr>\n",
       "    <tr>\n",
       "      <th>2</th>\n",
       "      <td>High By The Beach</td>\n",
       "      <td>87.592883</td>\n",
       "    </tr>\n",
       "    <tr>\n",
       "      <th>3</th>\n",
       "      <td>Mel Isaiyae</td>\n",
       "      <td>87.012767</td>\n",
       "    </tr>\n",
       "    <tr>\n",
       "      <th>4</th>\n",
       "      <td>Brooklyn Baby</td>\n",
       "      <td>85.709233</td>\n",
       "    </tr>\n",
       "    <tr>\n",
       "      <th>5</th>\n",
       "      <td>Kaise Hua (From \"Kabir Singh\")</td>\n",
       "      <td>84.300600</td>\n",
       "    </tr>\n",
       "    <tr>\n",
       "      <th>6</th>\n",
       "      <td>Bekhayali (Arijit Singh Version) [From \"Kabir ...</td>\n",
       "      <td>82.569050</td>\n",
       "    </tr>\n",
       "    <tr>\n",
       "      <th>7</th>\n",
       "      <td>Anbay</td>\n",
       "      <td>78.844517</td>\n",
       "    </tr>\n",
       "    <tr>\n",
       "      <th>8</th>\n",
       "      <td>Yedho Yedho</td>\n",
       "      <td>70.807267</td>\n",
       "    </tr>\n",
       "    <tr>\n",
       "      <th>9</th>\n",
       "      <td>Iravingu Theevai</td>\n",
       "      <td>67.203917</td>\n",
       "    </tr>\n",
       "    <tr>\n",
       "      <th>10</th>\n",
       "      <td>Nenjam Ellam</td>\n",
       "      <td>66.427100</td>\n",
       "    </tr>\n",
       "    <tr>\n",
       "      <th>11</th>\n",
       "      <td>Minnal Oru Kodi</td>\n",
       "      <td>65.481567</td>\n",
       "    </tr>\n",
       "    <tr>\n",
       "      <th>12</th>\n",
       "      <td>Vaanam Paarthen</td>\n",
       "      <td>65.379650</td>\n",
       "    </tr>\n",
       "    <tr>\n",
       "      <th>13</th>\n",
       "      <td>Vaa Vaa Penne - From \"Uriyadi 2\"</td>\n",
       "      <td>62.045633</td>\n",
       "    </tr>\n",
       "    <tr>\n",
       "      <th>14</th>\n",
       "      <td>Thendrale</td>\n",
       "      <td>59.803433</td>\n",
       "    </tr>\n",
       "    <tr>\n",
       "      <th>15</th>\n",
       "      <td>Venice Bitch</td>\n",
       "      <td>58.864417</td>\n",
       "    </tr>\n",
       "    <tr>\n",
       "      <th>16</th>\n",
       "      <td>Salvatore</td>\n",
       "      <td>57.861400</td>\n",
       "    </tr>\n",
       "    <tr>\n",
       "      <th>17</th>\n",
       "      <td>Aaj Jaane Ki Zid Na Karo</td>\n",
       "      <td>57.573917</td>\n",
       "    </tr>\n",
       "    <tr>\n",
       "      <th>18</th>\n",
       "      <td>Kaadhal Mattum (From \"Kadhal Kondaen\")</td>\n",
       "      <td>56.713917</td>\n",
       "    </tr>\n",
       "    <tr>\n",
       "      <th>19</th>\n",
       "      <td>Hypnotic</td>\n",
       "      <td>56.289283</td>\n",
       "    </tr>\n",
       "    <tr>\n",
       "      <th>20</th>\n",
       "      <td>Agasatha - From \"Cuckoo\"</td>\n",
       "      <td>56.166833</td>\n",
       "    </tr>\n",
       "    <tr>\n",
       "      <th>21</th>\n",
       "      <td>Innum Konjam Naeram</td>\n",
       "      <td>53.377400</td>\n",
       "    </tr>\n",
       "    <tr>\n",
       "      <th>22</th>\n",
       "      <td>Lust For Life (with The Weeknd)</td>\n",
       "      <td>52.434050</td>\n",
       "    </tr>\n",
       "    <tr>\n",
       "      <th>23</th>\n",
       "      <td>Anbae Peranbae</td>\n",
       "      <td>52.408800</td>\n",
       "    </tr>\n",
       "    <tr>\n",
       "      <th>24</th>\n",
       "      <td>Maavuliyo Maavuli - From \"Irandam Ulagaporin K...</td>\n",
       "      <td>51.600717</td>\n",
       "    </tr>\n",
       "    <tr>\n",
       "      <th>25</th>\n",
       "      <td>Telisiney Na Nuvvey</td>\n",
       "      <td>51.577067</td>\n",
       "    </tr>\n",
       "    <tr>\n",
       "      <th>26</th>\n",
       "      <td>Kaise Hua</td>\n",
       "      <td>49.762417</td>\n",
       "    </tr>\n",
       "    <tr>\n",
       "      <th>27</th>\n",
       "      <td>Oru Naalil</td>\n",
       "      <td>49.540833</td>\n",
       "    </tr>\n",
       "    <tr>\n",
       "      <th>28</th>\n",
       "      <td>Ennadi Maayavi Nee</td>\n",
       "      <td>49.167450</td>\n",
       "    </tr>\n",
       "    <tr>\n",
       "      <th>29</th>\n",
       "      <td>Best Part (feat. H.E.R.)</td>\n",
       "      <td>48.098583</td>\n",
       "    </tr>\n",
       "    <tr>\n",
       "      <th>30</th>\n",
       "      <td>Nenjodu (From \"Kadhal Kondaen\")</td>\n",
       "      <td>46.364683</td>\n",
       "    </tr>\n",
       "    <tr>\n",
       "      <th>31</th>\n",
       "      <td>Thaneerai Kaadhalikum</td>\n",
       "      <td>45.696183</td>\n",
       "    </tr>\n",
       "    <tr>\n",
       "      <th>32</th>\n",
       "      <td>Chinnan Sirisu (From \"Kungumapoovum Konjumpura...</td>\n",
       "      <td>45.175350</td>\n",
       "    </tr>\n",
       "    <tr>\n",
       "      <th>33</th>\n",
       "      <td>Dessert - Remix</td>\n",
       "      <td>44.482517</td>\n",
       "    </tr>\n",
       "    <tr>\n",
       "      <th>34</th>\n",
       "      <td>Annul Maelae</td>\n",
       "      <td>43.800083</td>\n",
       "    </tr>\n",
       "    <tr>\n",
       "      <th>35</th>\n",
       "      <td>Kadhal Yenbathu (From \"Oru Kalluriyin Kadhai\")</td>\n",
       "      <td>43.553517</td>\n",
       "    </tr>\n",
       "    <tr>\n",
       "      <th>36</th>\n",
       "      <td>West Coast</td>\n",
       "      <td>43.402017</td>\n",
       "    </tr>\n",
       "    <tr>\n",
       "      <th>37</th>\n",
       "      <td>Could've Been (feat. Bryson Tiller)</td>\n",
       "      <td>42.942300</td>\n",
       "    </tr>\n",
       "    <tr>\n",
       "      <th>38</th>\n",
       "      <td>Yaaro (From \"Chennai-600028\") - Duet Version</td>\n",
       "      <td>42.910683</td>\n",
       "    </tr>\n",
       "    <tr>\n",
       "      <th>39</th>\n",
       "      <td>Daaru Desi (From \"Cocktail\")</td>\n",
       "      <td>40.643050</td>\n",
       "    </tr>\n",
       "    <tr>\n",
       "      <th>40</th>\n",
       "      <td>Dark Paradise</td>\n",
       "      <td>40.558400</td>\n",
       "    </tr>\n",
       "    <tr>\n",
       "      <th>41</th>\n",
       "      <td>Mazhai Mazhai</td>\n",
       "      <td>40.500317</td>\n",
       "    </tr>\n",
       "    <tr>\n",
       "      <th>42</th>\n",
       "      <td>Shades Of Cool</td>\n",
       "      <td>39.909350</td>\n",
       "    </tr>\n",
       "    <tr>\n",
       "      <th>43</th>\n",
       "      <td>Jaan 'Nisaar (Arijit)</td>\n",
       "      <td>39.733367</td>\n",
       "    </tr>\n",
       "    <tr>\n",
       "      <th>44</th>\n",
       "      <td>Mun Paniya (From \"Nandhaa\")</td>\n",
       "      <td>39.687000</td>\n",
       "    </tr>\n",
       "    <tr>\n",
       "      <th>45</th>\n",
       "      <td>Dil Kyun Yeh Mera</td>\n",
       "      <td>39.123867</td>\n",
       "    </tr>\n",
       "    <tr>\n",
       "      <th>46</th>\n",
       "      <td>Pogadhe</td>\n",
       "      <td>38.541333</td>\n",
       "    </tr>\n",
       "    <tr>\n",
       "      <th>47</th>\n",
       "      <td>Say So</td>\n",
       "      <td>37.773300</td>\n",
       "    </tr>\n",
       "    <tr>\n",
       "      <th>48</th>\n",
       "      <td>Yaariyan (reprise)</td>\n",
       "      <td>36.715950</td>\n",
       "    </tr>\n",
       "    <tr>\n",
       "      <th>49</th>\n",
       "      <td>Enadhuyire (From \"Bheema\")</td>\n",
       "      <td>36.464467</td>\n",
       "    </tr>\n",
       "    <tr>\n",
       "      <th>50</th>\n",
       "      <td>Akkam Pakkam Paar</td>\n",
       "      <td>36.129483</td>\n",
       "    </tr>\n",
       "  </tbody>\n",
       "</table>\n",
       "</div>"
      ],
      "text/plain": [
       "                                           track_name  minutes_played\n",
       "0                        bad guy (with Justin Bieber)      104.756283\n",
       "1                                OM Chanting at 432Hz      102.477750\n",
       "2                                   High By The Beach       87.592883\n",
       "3                                         Mel Isaiyae       87.012767\n",
       "4                                       Brooklyn Baby       85.709233\n",
       "5                      Kaise Hua (From \"Kabir Singh\")       84.300600\n",
       "6   Bekhayali (Arijit Singh Version) [From \"Kabir ...       82.569050\n",
       "7                                               Anbay       78.844517\n",
       "8                                         Yedho Yedho       70.807267\n",
       "9                                    Iravingu Theevai       67.203917\n",
       "10                                       Nenjam Ellam       66.427100\n",
       "11                                    Minnal Oru Kodi       65.481567\n",
       "12                                    Vaanam Paarthen       65.379650\n",
       "13                   Vaa Vaa Penne - From \"Uriyadi 2\"       62.045633\n",
       "14                                          Thendrale       59.803433\n",
       "15                                       Venice Bitch       58.864417\n",
       "16                                          Salvatore       57.861400\n",
       "17                           Aaj Jaane Ki Zid Na Karo       57.573917\n",
       "18             Kaadhal Mattum (From \"Kadhal Kondaen\")       56.713917\n",
       "19                                           Hypnotic       56.289283\n",
       "20                           Agasatha - From \"Cuckoo\"       56.166833\n",
       "21                                Innum Konjam Naeram       53.377400\n",
       "22                    Lust For Life (with The Weeknd)       52.434050\n",
       "23                                     Anbae Peranbae       52.408800\n",
       "24  Maavuliyo Maavuli - From \"Irandam Ulagaporin K...       51.600717\n",
       "25                                Telisiney Na Nuvvey       51.577067\n",
       "26                                          Kaise Hua       49.762417\n",
       "27                                         Oru Naalil       49.540833\n",
       "28                                 Ennadi Maayavi Nee       49.167450\n",
       "29                           Best Part (feat. H.E.R.)       48.098583\n",
       "30                    Nenjodu (From \"Kadhal Kondaen\")       46.364683\n",
       "31                              Thaneerai Kaadhalikum       45.696183\n",
       "32  Chinnan Sirisu (From \"Kungumapoovum Konjumpura...       45.175350\n",
       "33                                    Dessert - Remix       44.482517\n",
       "34                                       Annul Maelae       43.800083\n",
       "35     Kadhal Yenbathu (From \"Oru Kalluriyin Kadhai\")       43.553517\n",
       "36                                         West Coast       43.402017\n",
       "37                Could've Been (feat. Bryson Tiller)       42.942300\n",
       "38       Yaaro (From \"Chennai-600028\") - Duet Version       42.910683\n",
       "39                       Daaru Desi (From \"Cocktail\")       40.643050\n",
       "40                                      Dark Paradise       40.558400\n",
       "41                                      Mazhai Mazhai       40.500317\n",
       "42                                     Shades Of Cool       39.909350\n",
       "43                              Jaan 'Nisaar (Arijit)       39.733367\n",
       "44                        Mun Paniya (From \"Nandhaa\")       39.687000\n",
       "45                                  Dil Kyun Yeh Mera       39.123867\n",
       "46                                            Pogadhe       38.541333\n",
       "47                                             Say So       37.773300\n",
       "48                                 Yaariyan (reprise)       36.715950\n",
       "49                         Enadhuyire (From \"Bheema\")       36.464467\n",
       "50                                  Akkam Pakkam Paar       36.129483"
      ]
     },
     "execution_count": 139,
     "metadata": {},
     "output_type": "execute_result"
    }
   ],
   "source": [
    "top_50 = top_50.groupby(['track_name'], as_index=False).sum()\n",
    "top_50 = top_50.sort_values(by='minutes_played', ascending=False).head(51)\n",
    "top_50.reset_index(inplace = True, drop = True) \n",
    "top_50"
   ]
  },
  {
   "cell_type": "code",
   "execution_count": 140,
   "metadata": {},
   "outputs": [
    {
     "data": {
      "text/html": [
       "<div>\n",
       "<style scoped>\n",
       "    .dataframe tbody tr th:only-of-type {\n",
       "        vertical-align: middle;\n",
       "    }\n",
       "\n",
       "    .dataframe tbody tr th {\n",
       "        vertical-align: top;\n",
       "    }\n",
       "\n",
       "    .dataframe thead th {\n",
       "        text-align: right;\n",
       "    }\n",
       "</style>\n",
       "<table border=\"1\" class=\"dataframe\">\n",
       "  <thead>\n",
       "    <tr style=\"text-align: right;\">\n",
       "      <th></th>\n",
       "      <th>track_name</th>\n",
       "      <th>minutes_played</th>\n",
       "    </tr>\n",
       "  </thead>\n",
       "  <tbody>\n",
       "    <tr>\n",
       "      <th>1</th>\n",
       "      <td>OM Chanting at 432Hz</td>\n",
       "      <td>102.477750</td>\n",
       "    </tr>\n",
       "    <tr>\n",
       "      <th>2</th>\n",
       "      <td>High By The Beach</td>\n",
       "      <td>87.592883</td>\n",
       "    </tr>\n",
       "    <tr>\n",
       "      <th>3</th>\n",
       "      <td>Mel Isaiyae</td>\n",
       "      <td>87.012767</td>\n",
       "    </tr>\n",
       "    <tr>\n",
       "      <th>4</th>\n",
       "      <td>Brooklyn Baby</td>\n",
       "      <td>85.709233</td>\n",
       "    </tr>\n",
       "    <tr>\n",
       "      <th>5</th>\n",
       "      <td>Kaise Hua (From \"Kabir Singh\")</td>\n",
       "      <td>84.300600</td>\n",
       "    </tr>\n",
       "    <tr>\n",
       "      <th>6</th>\n",
       "      <td>Bekhayali (Arijit Singh Version) [From \"Kabir ...</td>\n",
       "      <td>82.569050</td>\n",
       "    </tr>\n",
       "    <tr>\n",
       "      <th>7</th>\n",
       "      <td>Anbay</td>\n",
       "      <td>78.844517</td>\n",
       "    </tr>\n",
       "    <tr>\n",
       "      <th>8</th>\n",
       "      <td>Yedho Yedho</td>\n",
       "      <td>70.807267</td>\n",
       "    </tr>\n",
       "    <tr>\n",
       "      <th>9</th>\n",
       "      <td>Iravingu Theevai</td>\n",
       "      <td>67.203917</td>\n",
       "    </tr>\n",
       "    <tr>\n",
       "      <th>10</th>\n",
       "      <td>Nenjam Ellam</td>\n",
       "      <td>66.427100</td>\n",
       "    </tr>\n",
       "    <tr>\n",
       "      <th>11</th>\n",
       "      <td>Minnal Oru Kodi</td>\n",
       "      <td>65.481567</td>\n",
       "    </tr>\n",
       "    <tr>\n",
       "      <th>12</th>\n",
       "      <td>Vaanam Paarthen</td>\n",
       "      <td>65.379650</td>\n",
       "    </tr>\n",
       "    <tr>\n",
       "      <th>13</th>\n",
       "      <td>Vaa Vaa Penne - From \"Uriyadi 2\"</td>\n",
       "      <td>62.045633</td>\n",
       "    </tr>\n",
       "    <tr>\n",
       "      <th>14</th>\n",
       "      <td>Thendrale</td>\n",
       "      <td>59.803433</td>\n",
       "    </tr>\n",
       "    <tr>\n",
       "      <th>15</th>\n",
       "      <td>Venice Bitch</td>\n",
       "      <td>58.864417</td>\n",
       "    </tr>\n",
       "    <tr>\n",
       "      <th>16</th>\n",
       "      <td>Salvatore</td>\n",
       "      <td>57.861400</td>\n",
       "    </tr>\n",
       "    <tr>\n",
       "      <th>17</th>\n",
       "      <td>Aaj Jaane Ki Zid Na Karo</td>\n",
       "      <td>57.573917</td>\n",
       "    </tr>\n",
       "    <tr>\n",
       "      <th>18</th>\n",
       "      <td>Kaadhal Mattum (From \"Kadhal Kondaen\")</td>\n",
       "      <td>56.713917</td>\n",
       "    </tr>\n",
       "    <tr>\n",
       "      <th>19</th>\n",
       "      <td>Hypnotic</td>\n",
       "      <td>56.289283</td>\n",
       "    </tr>\n",
       "    <tr>\n",
       "      <th>20</th>\n",
       "      <td>Agasatha - From \"Cuckoo\"</td>\n",
       "      <td>56.166833</td>\n",
       "    </tr>\n",
       "    <tr>\n",
       "      <th>21</th>\n",
       "      <td>Innum Konjam Naeram</td>\n",
       "      <td>53.377400</td>\n",
       "    </tr>\n",
       "    <tr>\n",
       "      <th>22</th>\n",
       "      <td>Lust For Life (with The Weeknd)</td>\n",
       "      <td>52.434050</td>\n",
       "    </tr>\n",
       "    <tr>\n",
       "      <th>23</th>\n",
       "      <td>Anbae Peranbae</td>\n",
       "      <td>52.408800</td>\n",
       "    </tr>\n",
       "    <tr>\n",
       "      <th>24</th>\n",
       "      <td>Maavuliyo Maavuli - From \"Irandam Ulagaporin K...</td>\n",
       "      <td>51.600717</td>\n",
       "    </tr>\n",
       "    <tr>\n",
       "      <th>25</th>\n",
       "      <td>Telisiney Na Nuvvey</td>\n",
       "      <td>51.577067</td>\n",
       "    </tr>\n",
       "    <tr>\n",
       "      <th>26</th>\n",
       "      <td>Kaise Hua</td>\n",
       "      <td>49.762417</td>\n",
       "    </tr>\n",
       "    <tr>\n",
       "      <th>27</th>\n",
       "      <td>Oru Naalil</td>\n",
       "      <td>49.540833</td>\n",
       "    </tr>\n",
       "    <tr>\n",
       "      <th>28</th>\n",
       "      <td>Ennadi Maayavi Nee</td>\n",
       "      <td>49.167450</td>\n",
       "    </tr>\n",
       "    <tr>\n",
       "      <th>29</th>\n",
       "      <td>Best Part (feat. H.E.R.)</td>\n",
       "      <td>48.098583</td>\n",
       "    </tr>\n",
       "    <tr>\n",
       "      <th>30</th>\n",
       "      <td>Nenjodu (From \"Kadhal Kondaen\")</td>\n",
       "      <td>46.364683</td>\n",
       "    </tr>\n",
       "    <tr>\n",
       "      <th>31</th>\n",
       "      <td>Thaneerai Kaadhalikum</td>\n",
       "      <td>45.696183</td>\n",
       "    </tr>\n",
       "    <tr>\n",
       "      <th>32</th>\n",
       "      <td>Chinnan Sirisu (From \"Kungumapoovum Konjumpura...</td>\n",
       "      <td>45.175350</td>\n",
       "    </tr>\n",
       "    <tr>\n",
       "      <th>33</th>\n",
       "      <td>Dessert - Remix</td>\n",
       "      <td>44.482517</td>\n",
       "    </tr>\n",
       "    <tr>\n",
       "      <th>34</th>\n",
       "      <td>Annul Maelae</td>\n",
       "      <td>43.800083</td>\n",
       "    </tr>\n",
       "    <tr>\n",
       "      <th>35</th>\n",
       "      <td>Kadhal Yenbathu (From \"Oru Kalluriyin Kadhai\")</td>\n",
       "      <td>43.553517</td>\n",
       "    </tr>\n",
       "    <tr>\n",
       "      <th>36</th>\n",
       "      <td>West Coast</td>\n",
       "      <td>43.402017</td>\n",
       "    </tr>\n",
       "    <tr>\n",
       "      <th>37</th>\n",
       "      <td>Could've Been (feat. Bryson Tiller)</td>\n",
       "      <td>42.942300</td>\n",
       "    </tr>\n",
       "    <tr>\n",
       "      <th>38</th>\n",
       "      <td>Yaaro (From \"Chennai-600028\") - Duet Version</td>\n",
       "      <td>42.910683</td>\n",
       "    </tr>\n",
       "    <tr>\n",
       "      <th>39</th>\n",
       "      <td>Daaru Desi (From \"Cocktail\")</td>\n",
       "      <td>40.643050</td>\n",
       "    </tr>\n",
       "    <tr>\n",
       "      <th>40</th>\n",
       "      <td>Dark Paradise</td>\n",
       "      <td>40.558400</td>\n",
       "    </tr>\n",
       "    <tr>\n",
       "      <th>41</th>\n",
       "      <td>Mazhai Mazhai</td>\n",
       "      <td>40.500317</td>\n",
       "    </tr>\n",
       "    <tr>\n",
       "      <th>42</th>\n",
       "      <td>Shades Of Cool</td>\n",
       "      <td>39.909350</td>\n",
       "    </tr>\n",
       "    <tr>\n",
       "      <th>43</th>\n",
       "      <td>Jaan 'Nisaar (Arijit)</td>\n",
       "      <td>39.733367</td>\n",
       "    </tr>\n",
       "    <tr>\n",
       "      <th>44</th>\n",
       "      <td>Mun Paniya (From \"Nandhaa\")</td>\n",
       "      <td>39.687000</td>\n",
       "    </tr>\n",
       "    <tr>\n",
       "      <th>45</th>\n",
       "      <td>Dil Kyun Yeh Mera</td>\n",
       "      <td>39.123867</td>\n",
       "    </tr>\n",
       "    <tr>\n",
       "      <th>46</th>\n",
       "      <td>Pogadhe</td>\n",
       "      <td>38.541333</td>\n",
       "    </tr>\n",
       "    <tr>\n",
       "      <th>47</th>\n",
       "      <td>Say So</td>\n",
       "      <td>37.773300</td>\n",
       "    </tr>\n",
       "    <tr>\n",
       "      <th>48</th>\n",
       "      <td>Yaariyan (reprise)</td>\n",
       "      <td>36.715950</td>\n",
       "    </tr>\n",
       "    <tr>\n",
       "      <th>49</th>\n",
       "      <td>Enadhuyire (From \"Bheema\")</td>\n",
       "      <td>36.464467</td>\n",
       "    </tr>\n",
       "    <tr>\n",
       "      <th>50</th>\n",
       "      <td>Akkam Pakkam Paar</td>\n",
       "      <td>36.129483</td>\n",
       "    </tr>\n",
       "  </tbody>\n",
       "</table>\n",
       "</div>"
      ],
      "text/plain": [
       "                                           track_name  minutes_played\n",
       "1                                OM Chanting at 432Hz      102.477750\n",
       "2                                   High By The Beach       87.592883\n",
       "3                                         Mel Isaiyae       87.012767\n",
       "4                                       Brooklyn Baby       85.709233\n",
       "5                      Kaise Hua (From \"Kabir Singh\")       84.300600\n",
       "6   Bekhayali (Arijit Singh Version) [From \"Kabir ...       82.569050\n",
       "7                                               Anbay       78.844517\n",
       "8                                         Yedho Yedho       70.807267\n",
       "9                                    Iravingu Theevai       67.203917\n",
       "10                                       Nenjam Ellam       66.427100\n",
       "11                                    Minnal Oru Kodi       65.481567\n",
       "12                                    Vaanam Paarthen       65.379650\n",
       "13                   Vaa Vaa Penne - From \"Uriyadi 2\"       62.045633\n",
       "14                                          Thendrale       59.803433\n",
       "15                                       Venice Bitch       58.864417\n",
       "16                                          Salvatore       57.861400\n",
       "17                           Aaj Jaane Ki Zid Na Karo       57.573917\n",
       "18             Kaadhal Mattum (From \"Kadhal Kondaen\")       56.713917\n",
       "19                                           Hypnotic       56.289283\n",
       "20                           Agasatha - From \"Cuckoo\"       56.166833\n",
       "21                                Innum Konjam Naeram       53.377400\n",
       "22                    Lust For Life (with The Weeknd)       52.434050\n",
       "23                                     Anbae Peranbae       52.408800\n",
       "24  Maavuliyo Maavuli - From \"Irandam Ulagaporin K...       51.600717\n",
       "25                                Telisiney Na Nuvvey       51.577067\n",
       "26                                          Kaise Hua       49.762417\n",
       "27                                         Oru Naalil       49.540833\n",
       "28                                 Ennadi Maayavi Nee       49.167450\n",
       "29                           Best Part (feat. H.E.R.)       48.098583\n",
       "30                    Nenjodu (From \"Kadhal Kondaen\")       46.364683\n",
       "31                              Thaneerai Kaadhalikum       45.696183\n",
       "32  Chinnan Sirisu (From \"Kungumapoovum Konjumpura...       45.175350\n",
       "33                                    Dessert - Remix       44.482517\n",
       "34                                       Annul Maelae       43.800083\n",
       "35     Kadhal Yenbathu (From \"Oru Kalluriyin Kadhai\")       43.553517\n",
       "36                                         West Coast       43.402017\n",
       "37                Could've Been (feat. Bryson Tiller)       42.942300\n",
       "38       Yaaro (From \"Chennai-600028\") - Duet Version       42.910683\n",
       "39                       Daaru Desi (From \"Cocktail\")       40.643050\n",
       "40                                      Dark Paradise       40.558400\n",
       "41                                      Mazhai Mazhai       40.500317\n",
       "42                                     Shades Of Cool       39.909350\n",
       "43                              Jaan 'Nisaar (Arijit)       39.733367\n",
       "44                        Mun Paniya (From \"Nandhaa\")       39.687000\n",
       "45                                  Dil Kyun Yeh Mera       39.123867\n",
       "46                                            Pogadhe       38.541333\n",
       "47                                             Say So       37.773300\n",
       "48                                 Yaariyan (reprise)       36.715950\n",
       "49                         Enadhuyire (From \"Bheema\")       36.464467\n",
       "50                                  Akkam Pakkam Paar       36.129483"
      ]
     },
     "execution_count": 140,
     "metadata": {},
     "output_type": "execute_result"
    }
   ],
   "source": [
    "top_50.drop(top_50.index[0])"
   ]
  },
  {
   "cell_type": "code",
   "execution_count": 143,
   "metadata": {},
   "outputs": [
    {
     "data": {
      "text/html": [
       "<div>\n",
       "<style scoped>\n",
       "    .dataframe tbody tr th:only-of-type {\n",
       "        vertical-align: middle;\n",
       "    }\n",
       "\n",
       "    .dataframe tbody tr th {\n",
       "        vertical-align: top;\n",
       "    }\n",
       "\n",
       "    .dataframe thead th {\n",
       "        text-align: right;\n",
       "    }\n",
       "</style>\n",
       "<table border=\"1\" class=\"dataframe\">\n",
       "  <thead>\n",
       "    <tr style=\"text-align: right;\">\n",
       "      <th></th>\n",
       "      <th>artist_name</th>\n",
       "      <th>track_name</th>\n",
       "      <th>danceability</th>\n",
       "      <th>energy</th>\n",
       "      <th>key</th>\n",
       "      <th>loudness</th>\n",
       "      <th>mode</th>\n",
       "      <th>speechiness</th>\n",
       "      <th>acousticness</th>\n",
       "      <th>instrumentalness</th>\n",
       "      <th>liveness</th>\n",
       "      <th>valence</th>\n",
       "      <th>tempo</th>\n",
       "      <th>track_id</th>\n",
       "      <th>uri</th>\n",
       "      <th>track_href</th>\n",
       "      <th>analysis_url</th>\n",
       "    </tr>\n",
       "  </thead>\n",
       "  <tbody>\n",
       "    <tr>\n",
       "      <th>0</th>\n",
       "      <td>Sid Sriram</td>\n",
       "      <td>Inkem Inkem Inkem Kaavaale</td>\n",
       "      <td>0.811</td>\n",
       "      <td>0.537</td>\n",
       "      <td>4</td>\n",
       "      <td>-5.508</td>\n",
       "      <td>1</td>\n",
       "      <td>0.0478</td>\n",
       "      <td>0.41200</td>\n",
       "      <td>0.000001</td>\n",
       "      <td>0.0830</td>\n",
       "      <td>0.5700</td>\n",
       "      <td>136.943</td>\n",
       "      <td>5CWQ9WBbd1HESogIIuTlVI</td>\n",
       "      <td>spotify:track:5CWQ9WBbd1HESogIIuTlVI</td>\n",
       "      <td>https://api.spotify.com/v1/tracks/5CWQ9WBbd1HE...</td>\n",
       "      <td>https://api.spotify.com/v1/audio-analysis/5CWQ...</td>\n",
       "    </tr>\n",
       "    <tr>\n",
       "      <th>1</th>\n",
       "      <td>Sabrina Carpenter</td>\n",
       "      <td>In My Bed</td>\n",
       "      <td>0.545</td>\n",
       "      <td>0.385</td>\n",
       "      <td>9</td>\n",
       "      <td>-6.010</td>\n",
       "      <td>0</td>\n",
       "      <td>0.2990</td>\n",
       "      <td>0.07140</td>\n",
       "      <td>0.001400</td>\n",
       "      <td>0.0859</td>\n",
       "      <td>0.6550</td>\n",
       "      <td>218.365</td>\n",
       "      <td>1FjD1jpm51dH5LzLvrDVPY</td>\n",
       "      <td>spotify:track:1FjD1jpm51dH5LzLvrDVPY</td>\n",
       "      <td>https://api.spotify.com/v1/tracks/1FjD1jpm51dH...</td>\n",
       "      <td>https://api.spotify.com/v1/audio-analysis/1FjD...</td>\n",
       "    </tr>\n",
       "    <tr>\n",
       "      <th>2</th>\n",
       "      <td>Emile Haynie</td>\n",
       "      <td>Wait For Life</td>\n",
       "      <td>0.262</td>\n",
       "      <td>0.469</td>\n",
       "      <td>5</td>\n",
       "      <td>-5.891</td>\n",
       "      <td>1</td>\n",
       "      <td>0.0377</td>\n",
       "      <td>0.95400</td>\n",
       "      <td>0.007900</td>\n",
       "      <td>0.1230</td>\n",
       "      <td>0.0756</td>\n",
       "      <td>117.895</td>\n",
       "      <td>2SCUYQiMHeWjoEca0XKxZW</td>\n",
       "      <td>spotify:track:2SCUYQiMHeWjoEca0XKxZW</td>\n",
       "      <td>https://api.spotify.com/v1/tracks/2SCUYQiMHeWj...</td>\n",
       "      <td>https://api.spotify.com/v1/audio-analysis/2SCU...</td>\n",
       "    </tr>\n",
       "    <tr>\n",
       "      <th>12</th>\n",
       "      <td>5 Seconds of Summer</td>\n",
       "      <td>Teeth</td>\n",
       "      <td>0.749</td>\n",
       "      <td>0.461</td>\n",
       "      <td>10</td>\n",
       "      <td>-2.961</td>\n",
       "      <td>0</td>\n",
       "      <td>0.0416</td>\n",
       "      <td>0.05160</td>\n",
       "      <td>0.000006</td>\n",
       "      <td>0.0738</td>\n",
       "      <td>0.4200</td>\n",
       "      <td>139.020</td>\n",
       "      <td>26wLOs3ZuHJa2Ihhx6QIE6</td>\n",
       "      <td>spotify:track:26wLOs3ZuHJa2Ihhx6QIE6</td>\n",
       "      <td>https://api.spotify.com/v1/tracks/26wLOs3ZuHJa...</td>\n",
       "      <td>https://api.spotify.com/v1/audio-analysis/26wL...</td>\n",
       "    </tr>\n",
       "    <tr>\n",
       "      <th>13</th>\n",
       "      <td>Pradeep</td>\n",
       "      <td>Aasai Oru Pulveli</td>\n",
       "      <td>0.595</td>\n",
       "      <td>0.279</td>\n",
       "      <td>9</td>\n",
       "      <td>-8.837</td>\n",
       "      <td>1</td>\n",
       "      <td>0.0300</td>\n",
       "      <td>0.78600</td>\n",
       "      <td>0.000313</td>\n",
       "      <td>0.1380</td>\n",
       "      <td>0.2040</td>\n",
       "      <td>115.920</td>\n",
       "      <td>3eLF7e1ODaSX82yKUOuV3i</td>\n",
       "      <td>spotify:track:3eLF7e1ODaSX82yKUOuV3i</td>\n",
       "      <td>https://api.spotify.com/v1/tracks/3eLF7e1ODaSX...</td>\n",
       "      <td>https://api.spotify.com/v1/audio-analysis/3eLF...</td>\n",
       "    </tr>\n",
       "    <tr>\n",
       "      <th>...</th>\n",
       "      <td>...</td>\n",
       "      <td>...</td>\n",
       "      <td>...</td>\n",
       "      <td>...</td>\n",
       "      <td>...</td>\n",
       "      <td>...</td>\n",
       "      <td>...</td>\n",
       "      <td>...</td>\n",
       "      <td>...</td>\n",
       "      <td>...</td>\n",
       "      <td>...</td>\n",
       "      <td>...</td>\n",
       "      <td>...</td>\n",
       "      <td>...</td>\n",
       "      <td>...</td>\n",
       "      <td>...</td>\n",
       "      <td>...</td>\n",
       "    </tr>\n",
       "    <tr>\n",
       "      <th>4632</th>\n",
       "      <td>S. P. Balasubrahmanyam</td>\n",
       "      <td>Vidiya Vidiya Sollitharuven (From \"Pokkiri Raja\")</td>\n",
       "      <td>0.511</td>\n",
       "      <td>0.375</td>\n",
       "      <td>9</td>\n",
       "      <td>-10.018</td>\n",
       "      <td>1</td>\n",
       "      <td>0.0394</td>\n",
       "      <td>0.67100</td>\n",
       "      <td>0.000001</td>\n",
       "      <td>0.0453</td>\n",
       "      <td>0.7670</td>\n",
       "      <td>141.397</td>\n",
       "      <td>7L5pH8GC5ut0wL5dUHESk1</td>\n",
       "      <td>spotify:track:7L5pH8GC5ut0wL5dUHESk1</td>\n",
       "      <td>https://api.spotify.com/v1/tracks/7L5pH8GC5ut0...</td>\n",
       "      <td>https://api.spotify.com/v1/audio-analysis/7L5p...</td>\n",
       "    </tr>\n",
       "    <tr>\n",
       "      <th>4633</th>\n",
       "      <td>S. Janaki</td>\n",
       "      <td>Oh Nenjame</td>\n",
       "      <td>0.918</td>\n",
       "      <td>0.687</td>\n",
       "      <td>1</td>\n",
       "      <td>-8.547</td>\n",
       "      <td>1</td>\n",
       "      <td>0.0527</td>\n",
       "      <td>0.00109</td>\n",
       "      <td>0.002140</td>\n",
       "      <td>0.1230</td>\n",
       "      <td>0.7820</td>\n",
       "      <td>112.983</td>\n",
       "      <td>2Q91zJVnY4fxH1HG1v9hEU</td>\n",
       "      <td>spotify:track:2Q91zJVnY4fxH1HG1v9hEU</td>\n",
       "      <td>https://api.spotify.com/v1/tracks/2Q91zJVnY4fx...</td>\n",
       "      <td>https://api.spotify.com/v1/audio-analysis/2Q91...</td>\n",
       "    </tr>\n",
       "    <tr>\n",
       "      <th>4634</th>\n",
       "      <td>Kalyan</td>\n",
       "      <td>Vizhigal Meydaiyam Imaigal</td>\n",
       "      <td>0.543</td>\n",
       "      <td>0.679</td>\n",
       "      <td>7</td>\n",
       "      <td>-7.955</td>\n",
       "      <td>0</td>\n",
       "      <td>0.0348</td>\n",
       "      <td>0.89600</td>\n",
       "      <td>0.184000</td>\n",
       "      <td>0.4500</td>\n",
       "      <td>0.8530</td>\n",
       "      <td>89.864</td>\n",
       "      <td>4DzJlwzCJ0CQV0AwjQQPlc</td>\n",
       "      <td>spotify:track:4DzJlwzCJ0CQV0AwjQQPlc</td>\n",
       "      <td>https://api.spotify.com/v1/tracks/4DzJlwzCJ0CQ...</td>\n",
       "      <td>https://api.spotify.com/v1/audio-analysis/4DzJ...</td>\n",
       "    </tr>\n",
       "    <tr>\n",
       "      <th>4635</th>\n",
       "      <td>Sachin-Jigar</td>\n",
       "      <td>Saibo</td>\n",
       "      <td>0.619</td>\n",
       "      <td>0.428</td>\n",
       "      <td>2</td>\n",
       "      <td>-7.867</td>\n",
       "      <td>1</td>\n",
       "      <td>0.0281</td>\n",
       "      <td>0.73600</td>\n",
       "      <td>0.000013</td>\n",
       "      <td>0.1360</td>\n",
       "      <td>0.5420</td>\n",
       "      <td>90.056</td>\n",
       "      <td>6udC4b4jOSnHb9ItnXgKLR</td>\n",
       "      <td>spotify:track:6udC4b4jOSnHb9ItnXgKLR</td>\n",
       "      <td>https://api.spotify.com/v1/tracks/6udC4b4jOSnH...</td>\n",
       "      <td>https://api.spotify.com/v1/audio-analysis/6udC...</td>\n",
       "    </tr>\n",
       "    <tr>\n",
       "      <th>4636</th>\n",
       "      <td>A.R. Rahman</td>\n",
       "      <td>Azhagiye</td>\n",
       "      <td>0.681</td>\n",
       "      <td>0.458</td>\n",
       "      <td>9</td>\n",
       "      <td>-10.455</td>\n",
       "      <td>1</td>\n",
       "      <td>0.0408</td>\n",
       "      <td>0.09570</td>\n",
       "      <td>0.114000</td>\n",
       "      <td>0.1210</td>\n",
       "      <td>0.9030</td>\n",
       "      <td>100.009</td>\n",
       "      <td>65hrZPcYs8AlXbRl8375gO</td>\n",
       "      <td>spotify:track:65hrZPcYs8AlXbRl8375gO</td>\n",
       "      <td>https://api.spotify.com/v1/tracks/65hrZPcYs8Al...</td>\n",
       "      <td>https://api.spotify.com/v1/audio-analysis/65hr...</td>\n",
       "    </tr>\n",
       "  </tbody>\n",
       "</table>\n",
       "<p>1937 rows × 17 columns</p>\n",
       "</div>"
      ],
      "text/plain": [
       "                 artist_name  \\\n",
       "0                 Sid Sriram   \n",
       "1          Sabrina Carpenter   \n",
       "2               Emile Haynie   \n",
       "12       5 Seconds of Summer   \n",
       "13                   Pradeep   \n",
       "...                      ...   \n",
       "4632  S. P. Balasubrahmanyam   \n",
       "4633               S. Janaki   \n",
       "4634                  Kalyan   \n",
       "4635            Sachin-Jigar   \n",
       "4636             A.R. Rahman   \n",
       "\n",
       "                                             track_name  danceability  energy  \\\n",
       "0                            Inkem Inkem Inkem Kaavaale         0.811   0.537   \n",
       "1                                             In My Bed         0.545   0.385   \n",
       "2                                         Wait For Life         0.262   0.469   \n",
       "12                                                Teeth         0.749   0.461   \n",
       "13                                    Aasai Oru Pulveli         0.595   0.279   \n",
       "...                                                 ...           ...     ...   \n",
       "4632  Vidiya Vidiya Sollitharuven (From \"Pokkiri Raja\")         0.511   0.375   \n",
       "4633                                         Oh Nenjame         0.918   0.687   \n",
       "4634                         Vizhigal Meydaiyam Imaigal         0.543   0.679   \n",
       "4635                                              Saibo         0.619   0.428   \n",
       "4636                                           Azhagiye         0.681   0.458   \n",
       "\n",
       "      key  loudness  mode  speechiness  acousticness  instrumentalness  \\\n",
       "0       4    -5.508     1       0.0478       0.41200          0.000001   \n",
       "1       9    -6.010     0       0.2990       0.07140          0.001400   \n",
       "2       5    -5.891     1       0.0377       0.95400          0.007900   \n",
       "12     10    -2.961     0       0.0416       0.05160          0.000006   \n",
       "13      9    -8.837     1       0.0300       0.78600          0.000313   \n",
       "...   ...       ...   ...          ...           ...               ...   \n",
       "4632    9   -10.018     1       0.0394       0.67100          0.000001   \n",
       "4633    1    -8.547     1       0.0527       0.00109          0.002140   \n",
       "4634    7    -7.955     0       0.0348       0.89600          0.184000   \n",
       "4635    2    -7.867     1       0.0281       0.73600          0.000013   \n",
       "4636    9   -10.455     1       0.0408       0.09570          0.114000   \n",
       "\n",
       "      liveness  valence    tempo                track_id  \\\n",
       "0       0.0830   0.5700  136.943  5CWQ9WBbd1HESogIIuTlVI   \n",
       "1       0.0859   0.6550  218.365  1FjD1jpm51dH5LzLvrDVPY   \n",
       "2       0.1230   0.0756  117.895  2SCUYQiMHeWjoEca0XKxZW   \n",
       "12      0.0738   0.4200  139.020  26wLOs3ZuHJa2Ihhx6QIE6   \n",
       "13      0.1380   0.2040  115.920  3eLF7e1ODaSX82yKUOuV3i   \n",
       "...        ...      ...      ...                     ...   \n",
       "4632    0.0453   0.7670  141.397  7L5pH8GC5ut0wL5dUHESk1   \n",
       "4633    0.1230   0.7820  112.983  2Q91zJVnY4fxH1HG1v9hEU   \n",
       "4634    0.4500   0.8530   89.864  4DzJlwzCJ0CQV0AwjQQPlc   \n",
       "4635    0.1360   0.5420   90.056  6udC4b4jOSnHb9ItnXgKLR   \n",
       "4636    0.1210   0.9030  100.009  65hrZPcYs8AlXbRl8375gO   \n",
       "\n",
       "                                       uri  \\\n",
       "0     spotify:track:5CWQ9WBbd1HESogIIuTlVI   \n",
       "1     spotify:track:1FjD1jpm51dH5LzLvrDVPY   \n",
       "2     spotify:track:2SCUYQiMHeWjoEca0XKxZW   \n",
       "12    spotify:track:26wLOs3ZuHJa2Ihhx6QIE6   \n",
       "13    spotify:track:3eLF7e1ODaSX82yKUOuV3i   \n",
       "...                                    ...   \n",
       "4632  spotify:track:7L5pH8GC5ut0wL5dUHESk1   \n",
       "4633  spotify:track:2Q91zJVnY4fxH1HG1v9hEU   \n",
       "4634  spotify:track:4DzJlwzCJ0CQV0AwjQQPlc   \n",
       "4635  spotify:track:6udC4b4jOSnHb9ItnXgKLR   \n",
       "4636  spotify:track:65hrZPcYs8AlXbRl8375gO   \n",
       "\n",
       "                                             track_href  \\\n",
       "0     https://api.spotify.com/v1/tracks/5CWQ9WBbd1HE...   \n",
       "1     https://api.spotify.com/v1/tracks/1FjD1jpm51dH...   \n",
       "2     https://api.spotify.com/v1/tracks/2SCUYQiMHeWj...   \n",
       "12    https://api.spotify.com/v1/tracks/26wLOs3ZuHJa...   \n",
       "13    https://api.spotify.com/v1/tracks/3eLF7e1ODaSX...   \n",
       "...                                                 ...   \n",
       "4632  https://api.spotify.com/v1/tracks/7L5pH8GC5ut0...   \n",
       "4633  https://api.spotify.com/v1/tracks/2Q91zJVnY4fx...   \n",
       "4634  https://api.spotify.com/v1/tracks/4DzJlwzCJ0CQ...   \n",
       "4635  https://api.spotify.com/v1/tracks/6udC4b4jOSnH...   \n",
       "4636  https://api.spotify.com/v1/tracks/65hrZPcYs8Al...   \n",
       "\n",
       "                                           analysis_url  \n",
       "0     https://api.spotify.com/v1/audio-analysis/5CWQ...  \n",
       "1     https://api.spotify.com/v1/audio-analysis/1FjD...  \n",
       "2     https://api.spotify.com/v1/audio-analysis/2SCU...  \n",
       "12    https://api.spotify.com/v1/audio-analysis/26wL...  \n",
       "13    https://api.spotify.com/v1/audio-analysis/3eLF...  \n",
       "...                                                 ...  \n",
       "4632  https://api.spotify.com/v1/audio-analysis/7L5p...  \n",
       "4633  https://api.spotify.com/v1/audio-analysis/2Q91...  \n",
       "4634  https://api.spotify.com/v1/audio-analysis/4DzJ...  \n",
       "4635  https://api.spotify.com/v1/audio-analysis/6udC...  \n",
       "4636  https://api.spotify.com/v1/audio-analysis/65hr...  \n",
       "\n",
       "[1937 rows x 17 columns]"
      ]
     },
     "execution_count": 143,
     "metadata": {},
     "output_type": "execute_result"
    }
   ],
   "source": [
    "top_5 = df1\n",
    "#top_5.drop('time', axis=1, inplace=True)\n",
    "#top_5.drop('day', axis=1, inplace=True)\n",
    "#top_5.drop('ms_played', axis=1, inplace=True)\n",
    "#top_5.drop('duration_min', axis=1, inplace=True)\n",
    "#top_5.drop('time_signature', axis=1, inplace=True)\n",
    "#top_5.drop('type', axis=1, inplace=True)\n",
    "#top_5.drop('minutes_played', axis=1, inplace=True)\n",
    "\n",
    "top_5.drop_duplicates()"
   ]
  },
  {
   "cell_type": "code",
   "execution_count": 144,
   "metadata": {},
   "outputs": [
    {
     "data": {
      "application/vnd.plotly.v1+json": {
       "config": {
        "plotlyServerURL": "https://plot.ly"
       },
       "data": [
        {
         "fill": "toself",
         "name": "Wait For Life",
         "r": [
          0.515,
          0.714,
          -4.516,
          0.0348,
          0.286
         ],
         "theta": [
          "danceability",
          "energy",
          "loudness",
          "speechiness",
          "acousticness"
         ],
         "type": "scatterpolar"
        },
        {
         "fill": "toself",
         "name": "Mazhai Mazhai",
         "r": [
          0.532,
          0.623,
          -9.208,
          0.0331,
          0.538
         ],
         "theta": [
          "danceability",
          "energy",
          "loudness",
          "speechiness",
          "acousticness"
         ],
         "type": "scatterpolar"
        },
        {
         "fill": "toself",
         "name": "Aasai Oru Pulveli",
         "r": [
          0.575,
          0.577,
          -6.674,
          0.0432,
          0.451
         ],
         "theta": [
          "danceability",
          "energy",
          "loudness",
          "speechiness",
          "acousticness"
         ],
         "type": "scatterpolar"
        },
        {
         "fill": "toself",
         "name": "Teeth",
         "r": [
          0.47,
          0.521,
          -11.142,
          0.0391,
          0.579
         ],
         "theta": [
          "danceability",
          "energy",
          "loudness",
          "speechiness",
          "acousticness"
         ],
         "type": "scatterpolar"
        },
        {
         "fill": "toself",
         "name": "Inkem Inkem Inkem Kaavaale",
         "r": [
          0.47,
          0.521,
          -11.142,
          0.0391,
          0.579
         ],
         "theta": [
          "danceability",
          "energy",
          "loudness",
          "speechiness",
          "acousticness"
         ],
         "type": "scatterpolar"
        },
        {
         "fill": "toself",
         "name": "In My Bed",
         "r": [
          0.47,
          0.521,
          -11.142,
          0.0391,
          0.579
         ],
         "theta": [
          "danceability",
          "energy",
          "loudness",
          "speechiness",
          "acousticness"
         ],
         "type": "scatterpolar"
        }
       ],
       "layout": {
        "polar": {
         "radialaxis": {
          "range": [
           -10,
           1
          ],
          "visible": true
         }
        },
        "showlegend": true,
        "template": {
         "data": {
          "bar": [
           {
            "error_x": {
             "color": "#2a3f5f"
            },
            "error_y": {
             "color": "#2a3f5f"
            },
            "marker": {
             "line": {
              "color": "#E5ECF6",
              "width": 0.5
             },
             "pattern": {
              "fillmode": "overlay",
              "size": 10,
              "solidity": 0.2
             }
            },
            "type": "bar"
           }
          ],
          "barpolar": [
           {
            "marker": {
             "line": {
              "color": "#E5ECF6",
              "width": 0.5
             },
             "pattern": {
              "fillmode": "overlay",
              "size": 10,
              "solidity": 0.2
             }
            },
            "type": "barpolar"
           }
          ],
          "carpet": [
           {
            "aaxis": {
             "endlinecolor": "#2a3f5f",
             "gridcolor": "white",
             "linecolor": "white",
             "minorgridcolor": "white",
             "startlinecolor": "#2a3f5f"
            },
            "baxis": {
             "endlinecolor": "#2a3f5f",
             "gridcolor": "white",
             "linecolor": "white",
             "minorgridcolor": "white",
             "startlinecolor": "#2a3f5f"
            },
            "type": "carpet"
           }
          ],
          "choropleth": [
           {
            "colorbar": {
             "outlinewidth": 0,
             "ticks": ""
            },
            "type": "choropleth"
           }
          ],
          "contour": [
           {
            "colorbar": {
             "outlinewidth": 0,
             "ticks": ""
            },
            "colorscale": [
             [
              0,
              "#0d0887"
             ],
             [
              0.1111111111111111,
              "#46039f"
             ],
             [
              0.2222222222222222,
              "#7201a8"
             ],
             [
              0.3333333333333333,
              "#9c179e"
             ],
             [
              0.4444444444444444,
              "#bd3786"
             ],
             [
              0.5555555555555556,
              "#d8576b"
             ],
             [
              0.6666666666666666,
              "#ed7953"
             ],
             [
              0.7777777777777778,
              "#fb9f3a"
             ],
             [
              0.8888888888888888,
              "#fdca26"
             ],
             [
              1,
              "#f0f921"
             ]
            ],
            "type": "contour"
           }
          ],
          "contourcarpet": [
           {
            "colorbar": {
             "outlinewidth": 0,
             "ticks": ""
            },
            "type": "contourcarpet"
           }
          ],
          "heatmap": [
           {
            "colorbar": {
             "outlinewidth": 0,
             "ticks": ""
            },
            "colorscale": [
             [
              0,
              "#0d0887"
             ],
             [
              0.1111111111111111,
              "#46039f"
             ],
             [
              0.2222222222222222,
              "#7201a8"
             ],
             [
              0.3333333333333333,
              "#9c179e"
             ],
             [
              0.4444444444444444,
              "#bd3786"
             ],
             [
              0.5555555555555556,
              "#d8576b"
             ],
             [
              0.6666666666666666,
              "#ed7953"
             ],
             [
              0.7777777777777778,
              "#fb9f3a"
             ],
             [
              0.8888888888888888,
              "#fdca26"
             ],
             [
              1,
              "#f0f921"
             ]
            ],
            "type": "heatmap"
           }
          ],
          "heatmapgl": [
           {
            "colorbar": {
             "outlinewidth": 0,
             "ticks": ""
            },
            "colorscale": [
             [
              0,
              "#0d0887"
             ],
             [
              0.1111111111111111,
              "#46039f"
             ],
             [
              0.2222222222222222,
              "#7201a8"
             ],
             [
              0.3333333333333333,
              "#9c179e"
             ],
             [
              0.4444444444444444,
              "#bd3786"
             ],
             [
              0.5555555555555556,
              "#d8576b"
             ],
             [
              0.6666666666666666,
              "#ed7953"
             ],
             [
              0.7777777777777778,
              "#fb9f3a"
             ],
             [
              0.8888888888888888,
              "#fdca26"
             ],
             [
              1,
              "#f0f921"
             ]
            ],
            "type": "heatmapgl"
           }
          ],
          "histogram": [
           {
            "marker": {
             "pattern": {
              "fillmode": "overlay",
              "size": 10,
              "solidity": 0.2
             }
            },
            "type": "histogram"
           }
          ],
          "histogram2d": [
           {
            "colorbar": {
             "outlinewidth": 0,
             "ticks": ""
            },
            "colorscale": [
             [
              0,
              "#0d0887"
             ],
             [
              0.1111111111111111,
              "#46039f"
             ],
             [
              0.2222222222222222,
              "#7201a8"
             ],
             [
              0.3333333333333333,
              "#9c179e"
             ],
             [
              0.4444444444444444,
              "#bd3786"
             ],
             [
              0.5555555555555556,
              "#d8576b"
             ],
             [
              0.6666666666666666,
              "#ed7953"
             ],
             [
              0.7777777777777778,
              "#fb9f3a"
             ],
             [
              0.8888888888888888,
              "#fdca26"
             ],
             [
              1,
              "#f0f921"
             ]
            ],
            "type": "histogram2d"
           }
          ],
          "histogram2dcontour": [
           {
            "colorbar": {
             "outlinewidth": 0,
             "ticks": ""
            },
            "colorscale": [
             [
              0,
              "#0d0887"
             ],
             [
              0.1111111111111111,
              "#46039f"
             ],
             [
              0.2222222222222222,
              "#7201a8"
             ],
             [
              0.3333333333333333,
              "#9c179e"
             ],
             [
              0.4444444444444444,
              "#bd3786"
             ],
             [
              0.5555555555555556,
              "#d8576b"
             ],
             [
              0.6666666666666666,
              "#ed7953"
             ],
             [
              0.7777777777777778,
              "#fb9f3a"
             ],
             [
              0.8888888888888888,
              "#fdca26"
             ],
             [
              1,
              "#f0f921"
             ]
            ],
            "type": "histogram2dcontour"
           }
          ],
          "mesh3d": [
           {
            "colorbar": {
             "outlinewidth": 0,
             "ticks": ""
            },
            "type": "mesh3d"
           }
          ],
          "parcoords": [
           {
            "line": {
             "colorbar": {
              "outlinewidth": 0,
              "ticks": ""
             }
            },
            "type": "parcoords"
           }
          ],
          "pie": [
           {
            "automargin": true,
            "type": "pie"
           }
          ],
          "scatter": [
           {
            "fillpattern": {
             "fillmode": "overlay",
             "size": 10,
             "solidity": 0.2
            },
            "type": "scatter"
           }
          ],
          "scatter3d": [
           {
            "line": {
             "colorbar": {
              "outlinewidth": 0,
              "ticks": ""
             }
            },
            "marker": {
             "colorbar": {
              "outlinewidth": 0,
              "ticks": ""
             }
            },
            "type": "scatter3d"
           }
          ],
          "scattercarpet": [
           {
            "marker": {
             "colorbar": {
              "outlinewidth": 0,
              "ticks": ""
             }
            },
            "type": "scattercarpet"
           }
          ],
          "scattergeo": [
           {
            "marker": {
             "colorbar": {
              "outlinewidth": 0,
              "ticks": ""
             }
            },
            "type": "scattergeo"
           }
          ],
          "scattergl": [
           {
            "marker": {
             "colorbar": {
              "outlinewidth": 0,
              "ticks": ""
             }
            },
            "type": "scattergl"
           }
          ],
          "scattermapbox": [
           {
            "marker": {
             "colorbar": {
              "outlinewidth": 0,
              "ticks": ""
             }
            },
            "type": "scattermapbox"
           }
          ],
          "scatterpolar": [
           {
            "marker": {
             "colorbar": {
              "outlinewidth": 0,
              "ticks": ""
             }
            },
            "type": "scatterpolar"
           }
          ],
          "scatterpolargl": [
           {
            "marker": {
             "colorbar": {
              "outlinewidth": 0,
              "ticks": ""
             }
            },
            "type": "scatterpolargl"
           }
          ],
          "scatterternary": [
           {
            "marker": {
             "colorbar": {
              "outlinewidth": 0,
              "ticks": ""
             }
            },
            "type": "scatterternary"
           }
          ],
          "surface": [
           {
            "colorbar": {
             "outlinewidth": 0,
             "ticks": ""
            },
            "colorscale": [
             [
              0,
              "#0d0887"
             ],
             [
              0.1111111111111111,
              "#46039f"
             ],
             [
              0.2222222222222222,
              "#7201a8"
             ],
             [
              0.3333333333333333,
              "#9c179e"
             ],
             [
              0.4444444444444444,
              "#bd3786"
             ],
             [
              0.5555555555555556,
              "#d8576b"
             ],
             [
              0.6666666666666666,
              "#ed7953"
             ],
             [
              0.7777777777777778,
              "#fb9f3a"
             ],
             [
              0.8888888888888888,
              "#fdca26"
             ],
             [
              1,
              "#f0f921"
             ]
            ],
            "type": "surface"
           }
          ],
          "table": [
           {
            "cells": {
             "fill": {
              "color": "#EBF0F8"
             },
             "line": {
              "color": "white"
             }
            },
            "header": {
             "fill": {
              "color": "#C8D4E3"
             },
             "line": {
              "color": "white"
             }
            },
            "type": "table"
           }
          ]
         },
         "layout": {
          "annotationdefaults": {
           "arrowcolor": "#2a3f5f",
           "arrowhead": 0,
           "arrowwidth": 1
          },
          "autotypenumbers": "strict",
          "coloraxis": {
           "colorbar": {
            "outlinewidth": 0,
            "ticks": ""
           }
          },
          "colorscale": {
           "diverging": [
            [
             0,
             "#8e0152"
            ],
            [
             0.1,
             "#c51b7d"
            ],
            [
             0.2,
             "#de77ae"
            ],
            [
             0.3,
             "#f1b6da"
            ],
            [
             0.4,
             "#fde0ef"
            ],
            [
             0.5,
             "#f7f7f7"
            ],
            [
             0.6,
             "#e6f5d0"
            ],
            [
             0.7,
             "#b8e186"
            ],
            [
             0.8,
             "#7fbc41"
            ],
            [
             0.9,
             "#4d9221"
            ],
            [
             1,
             "#276419"
            ]
           ],
           "sequential": [
            [
             0,
             "#0d0887"
            ],
            [
             0.1111111111111111,
             "#46039f"
            ],
            [
             0.2222222222222222,
             "#7201a8"
            ],
            [
             0.3333333333333333,
             "#9c179e"
            ],
            [
             0.4444444444444444,
             "#bd3786"
            ],
            [
             0.5555555555555556,
             "#d8576b"
            ],
            [
             0.6666666666666666,
             "#ed7953"
            ],
            [
             0.7777777777777778,
             "#fb9f3a"
            ],
            [
             0.8888888888888888,
             "#fdca26"
            ],
            [
             1,
             "#f0f921"
            ]
           ],
           "sequentialminus": [
            [
             0,
             "#0d0887"
            ],
            [
             0.1111111111111111,
             "#46039f"
            ],
            [
             0.2222222222222222,
             "#7201a8"
            ],
            [
             0.3333333333333333,
             "#9c179e"
            ],
            [
             0.4444444444444444,
             "#bd3786"
            ],
            [
             0.5555555555555556,
             "#d8576b"
            ],
            [
             0.6666666666666666,
             "#ed7953"
            ],
            [
             0.7777777777777778,
             "#fb9f3a"
            ],
            [
             0.8888888888888888,
             "#fdca26"
            ],
            [
             1,
             "#f0f921"
            ]
           ]
          },
          "colorway": [
           "#636efa",
           "#EF553B",
           "#00cc96",
           "#ab63fa",
           "#FFA15A",
           "#19d3f3",
           "#FF6692",
           "#B6E880",
           "#FF97FF",
           "#FECB52"
          ],
          "font": {
           "color": "#2a3f5f"
          },
          "geo": {
           "bgcolor": "white",
           "lakecolor": "white",
           "landcolor": "#E5ECF6",
           "showlakes": true,
           "showland": true,
           "subunitcolor": "white"
          },
          "hoverlabel": {
           "align": "left"
          },
          "hovermode": "closest",
          "mapbox": {
           "style": "light"
          },
          "paper_bgcolor": "white",
          "plot_bgcolor": "#E5ECF6",
          "polar": {
           "angularaxis": {
            "gridcolor": "white",
            "linecolor": "white",
            "ticks": ""
           },
           "bgcolor": "#E5ECF6",
           "radialaxis": {
            "gridcolor": "white",
            "linecolor": "white",
            "ticks": ""
           }
          },
          "scene": {
           "xaxis": {
            "backgroundcolor": "#E5ECF6",
            "gridcolor": "white",
            "gridwidth": 2,
            "linecolor": "white",
            "showbackground": true,
            "ticks": "",
            "zerolinecolor": "white"
           },
           "yaxis": {
            "backgroundcolor": "#E5ECF6",
            "gridcolor": "white",
            "gridwidth": 2,
            "linecolor": "white",
            "showbackground": true,
            "ticks": "",
            "zerolinecolor": "white"
           },
           "zaxis": {
            "backgroundcolor": "#E5ECF6",
            "gridcolor": "white",
            "gridwidth": 2,
            "linecolor": "white",
            "showbackground": true,
            "ticks": "",
            "zerolinecolor": "white"
           }
          },
          "shapedefaults": {
           "line": {
            "color": "#2a3f5f"
           }
          },
          "ternary": {
           "aaxis": {
            "gridcolor": "white",
            "linecolor": "white",
            "ticks": ""
           },
           "baxis": {
            "gridcolor": "white",
            "linecolor": "white",
            "ticks": ""
           },
           "bgcolor": "#E5ECF6",
           "caxis": {
            "gridcolor": "white",
            "linecolor": "white",
            "ticks": ""
           }
          },
          "title": {
           "x": 0.05
          },
          "xaxis": {
           "automargin": true,
           "gridcolor": "white",
           "linecolor": "white",
           "ticks": "",
           "title": {
            "standoff": 15
           },
           "zerolinecolor": "white",
           "zerolinewidth": 2
          },
          "yaxis": {
           "automargin": true,
           "gridcolor": "white",
           "linecolor": "white",
           "ticks": "",
           "title": {
            "standoff": 15
           },
           "zerolinecolor": "white",
           "zerolinewidth": 2
          }
         }
        },
        "title": {
         "text": "Diversity in audio features of top 6 songs"
        }
       }
      },
      "text/html": [
       "<div>                            <div id=\"9154a9c4-acef-4b21-912b-93b149afea1e\" class=\"plotly-graph-div\" style=\"height:525px; width:100%;\"></div>            <script type=\"text/javascript\">                require([\"plotly\"], function(Plotly) {                    window.PLOTLYENV=window.PLOTLYENV || {};                                    if (document.getElementById(\"9154a9c4-acef-4b21-912b-93b149afea1e\")) {                    Plotly.newPlot(                        \"9154a9c4-acef-4b21-912b-93b149afea1e\",                        [{\"fill\":\"toself\",\"name\":\"Wait For Life\",\"r\":[0.515,0.714,-4.516,0.0348,0.286],\"theta\":[\"danceability\",\"energy\",\"loudness\",\"speechiness\",\"acousticness\"],\"type\":\"scatterpolar\"},{\"fill\":\"toself\",\"name\":\"Mazhai Mazhai\",\"r\":[0.532,0.623,-9.208,0.0331,0.538],\"theta\":[\"danceability\",\"energy\",\"loudness\",\"speechiness\",\"acousticness\"],\"type\":\"scatterpolar\"},{\"fill\":\"toself\",\"name\":\"Aasai Oru Pulveli\",\"r\":[0.575,0.577,-6.674,0.0432,0.451],\"theta\":[\"danceability\",\"energy\",\"loudness\",\"speechiness\",\"acousticness\"],\"type\":\"scatterpolar\"},{\"fill\":\"toself\",\"name\":\"Teeth\",\"r\":[0.47,0.521,-11.142,0.0391,0.579],\"theta\":[\"danceability\",\"energy\",\"loudness\",\"speechiness\",\"acousticness\"],\"type\":\"scatterpolar\"},{\"fill\":\"toself\",\"name\":\"Inkem Inkem Inkem Kaavaale\",\"r\":[0.47,0.521,-11.142,0.0391,0.579],\"theta\":[\"danceability\",\"energy\",\"loudness\",\"speechiness\",\"acousticness\"],\"type\":\"scatterpolar\"},{\"fill\":\"toself\",\"name\":\"In My Bed\",\"r\":[0.47,0.521,-11.142,0.0391,0.579],\"theta\":[\"danceability\",\"energy\",\"loudness\",\"speechiness\",\"acousticness\"],\"type\":\"scatterpolar\"}],                        {\"template\":{\"data\":{\"histogram2dcontour\":[{\"type\":\"histogram2dcontour\",\"colorbar\":{\"outlinewidth\":0,\"ticks\":\"\"},\"colorscale\":[[0.0,\"#0d0887\"],[0.1111111111111111,\"#46039f\"],[0.2222222222222222,\"#7201a8\"],[0.3333333333333333,\"#9c179e\"],[0.4444444444444444,\"#bd3786\"],[0.5555555555555556,\"#d8576b\"],[0.6666666666666666,\"#ed7953\"],[0.7777777777777778,\"#fb9f3a\"],[0.8888888888888888,\"#fdca26\"],[1.0,\"#f0f921\"]]}],\"choropleth\":[{\"type\":\"choropleth\",\"colorbar\":{\"outlinewidth\":0,\"ticks\":\"\"}}],\"histogram2d\":[{\"type\":\"histogram2d\",\"colorbar\":{\"outlinewidth\":0,\"ticks\":\"\"},\"colorscale\":[[0.0,\"#0d0887\"],[0.1111111111111111,\"#46039f\"],[0.2222222222222222,\"#7201a8\"],[0.3333333333333333,\"#9c179e\"],[0.4444444444444444,\"#bd3786\"],[0.5555555555555556,\"#d8576b\"],[0.6666666666666666,\"#ed7953\"],[0.7777777777777778,\"#fb9f3a\"],[0.8888888888888888,\"#fdca26\"],[1.0,\"#f0f921\"]]}],\"heatmap\":[{\"type\":\"heatmap\",\"colorbar\":{\"outlinewidth\":0,\"ticks\":\"\"},\"colorscale\":[[0.0,\"#0d0887\"],[0.1111111111111111,\"#46039f\"],[0.2222222222222222,\"#7201a8\"],[0.3333333333333333,\"#9c179e\"],[0.4444444444444444,\"#bd3786\"],[0.5555555555555556,\"#d8576b\"],[0.6666666666666666,\"#ed7953\"],[0.7777777777777778,\"#fb9f3a\"],[0.8888888888888888,\"#fdca26\"],[1.0,\"#f0f921\"]]}],\"heatmapgl\":[{\"type\":\"heatmapgl\",\"colorbar\":{\"outlinewidth\":0,\"ticks\":\"\"},\"colorscale\":[[0.0,\"#0d0887\"],[0.1111111111111111,\"#46039f\"],[0.2222222222222222,\"#7201a8\"],[0.3333333333333333,\"#9c179e\"],[0.4444444444444444,\"#bd3786\"],[0.5555555555555556,\"#d8576b\"],[0.6666666666666666,\"#ed7953\"],[0.7777777777777778,\"#fb9f3a\"],[0.8888888888888888,\"#fdca26\"],[1.0,\"#f0f921\"]]}],\"contourcarpet\":[{\"type\":\"contourcarpet\",\"colorbar\":{\"outlinewidth\":0,\"ticks\":\"\"}}],\"contour\":[{\"type\":\"contour\",\"colorbar\":{\"outlinewidth\":0,\"ticks\":\"\"},\"colorscale\":[[0.0,\"#0d0887\"],[0.1111111111111111,\"#46039f\"],[0.2222222222222222,\"#7201a8\"],[0.3333333333333333,\"#9c179e\"],[0.4444444444444444,\"#bd3786\"],[0.5555555555555556,\"#d8576b\"],[0.6666666666666666,\"#ed7953\"],[0.7777777777777778,\"#fb9f3a\"],[0.8888888888888888,\"#fdca26\"],[1.0,\"#f0f921\"]]}],\"surface\":[{\"type\":\"surface\",\"colorbar\":{\"outlinewidth\":0,\"ticks\":\"\"},\"colorscale\":[[0.0,\"#0d0887\"],[0.1111111111111111,\"#46039f\"],[0.2222222222222222,\"#7201a8\"],[0.3333333333333333,\"#9c179e\"],[0.4444444444444444,\"#bd3786\"],[0.5555555555555556,\"#d8576b\"],[0.6666666666666666,\"#ed7953\"],[0.7777777777777778,\"#fb9f3a\"],[0.8888888888888888,\"#fdca26\"],[1.0,\"#f0f921\"]]}],\"mesh3d\":[{\"type\":\"mesh3d\",\"colorbar\":{\"outlinewidth\":0,\"ticks\":\"\"}}],\"scatter\":[{\"fillpattern\":{\"fillmode\":\"overlay\",\"size\":10,\"solidity\":0.2},\"type\":\"scatter\"}],\"parcoords\":[{\"type\":\"parcoords\",\"line\":{\"colorbar\":{\"outlinewidth\":0,\"ticks\":\"\"}}}],\"scatterpolargl\":[{\"type\":\"scatterpolargl\",\"marker\":{\"colorbar\":{\"outlinewidth\":0,\"ticks\":\"\"}}}],\"bar\":[{\"error_x\":{\"color\":\"#2a3f5f\"},\"error_y\":{\"color\":\"#2a3f5f\"},\"marker\":{\"line\":{\"color\":\"#E5ECF6\",\"width\":0.5},\"pattern\":{\"fillmode\":\"overlay\",\"size\":10,\"solidity\":0.2}},\"type\":\"bar\"}],\"scattergeo\":[{\"type\":\"scattergeo\",\"marker\":{\"colorbar\":{\"outlinewidth\":0,\"ticks\":\"\"}}}],\"scatterpolar\":[{\"type\":\"scatterpolar\",\"marker\":{\"colorbar\":{\"outlinewidth\":0,\"ticks\":\"\"}}}],\"histogram\":[{\"marker\":{\"pattern\":{\"fillmode\":\"overlay\",\"size\":10,\"solidity\":0.2}},\"type\":\"histogram\"}],\"scattergl\":[{\"type\":\"scattergl\",\"marker\":{\"colorbar\":{\"outlinewidth\":0,\"ticks\":\"\"}}}],\"scatter3d\":[{\"type\":\"scatter3d\",\"line\":{\"colorbar\":{\"outlinewidth\":0,\"ticks\":\"\"}},\"marker\":{\"colorbar\":{\"outlinewidth\":0,\"ticks\":\"\"}}}],\"scattermapbox\":[{\"type\":\"scattermapbox\",\"marker\":{\"colorbar\":{\"outlinewidth\":0,\"ticks\":\"\"}}}],\"scatterternary\":[{\"type\":\"scatterternary\",\"marker\":{\"colorbar\":{\"outlinewidth\":0,\"ticks\":\"\"}}}],\"scattercarpet\":[{\"type\":\"scattercarpet\",\"marker\":{\"colorbar\":{\"outlinewidth\":0,\"ticks\":\"\"}}}],\"carpet\":[{\"aaxis\":{\"endlinecolor\":\"#2a3f5f\",\"gridcolor\":\"white\",\"linecolor\":\"white\",\"minorgridcolor\":\"white\",\"startlinecolor\":\"#2a3f5f\"},\"baxis\":{\"endlinecolor\":\"#2a3f5f\",\"gridcolor\":\"white\",\"linecolor\":\"white\",\"minorgridcolor\":\"white\",\"startlinecolor\":\"#2a3f5f\"},\"type\":\"carpet\"}],\"table\":[{\"cells\":{\"fill\":{\"color\":\"#EBF0F8\"},\"line\":{\"color\":\"white\"}},\"header\":{\"fill\":{\"color\":\"#C8D4E3\"},\"line\":{\"color\":\"white\"}},\"type\":\"table\"}],\"barpolar\":[{\"marker\":{\"line\":{\"color\":\"#E5ECF6\",\"width\":0.5},\"pattern\":{\"fillmode\":\"overlay\",\"size\":10,\"solidity\":0.2}},\"type\":\"barpolar\"}],\"pie\":[{\"automargin\":true,\"type\":\"pie\"}]},\"layout\":{\"autotypenumbers\":\"strict\",\"colorway\":[\"#636efa\",\"#EF553B\",\"#00cc96\",\"#ab63fa\",\"#FFA15A\",\"#19d3f3\",\"#FF6692\",\"#B6E880\",\"#FF97FF\",\"#FECB52\"],\"font\":{\"color\":\"#2a3f5f\"},\"hovermode\":\"closest\",\"hoverlabel\":{\"align\":\"left\"},\"paper_bgcolor\":\"white\",\"plot_bgcolor\":\"#E5ECF6\",\"polar\":{\"bgcolor\":\"#E5ECF6\",\"angularaxis\":{\"gridcolor\":\"white\",\"linecolor\":\"white\",\"ticks\":\"\"},\"radialaxis\":{\"gridcolor\":\"white\",\"linecolor\":\"white\",\"ticks\":\"\"}},\"ternary\":{\"bgcolor\":\"#E5ECF6\",\"aaxis\":{\"gridcolor\":\"white\",\"linecolor\":\"white\",\"ticks\":\"\"},\"baxis\":{\"gridcolor\":\"white\",\"linecolor\":\"white\",\"ticks\":\"\"},\"caxis\":{\"gridcolor\":\"white\",\"linecolor\":\"white\",\"ticks\":\"\"}},\"coloraxis\":{\"colorbar\":{\"outlinewidth\":0,\"ticks\":\"\"}},\"colorscale\":{\"sequential\":[[0.0,\"#0d0887\"],[0.1111111111111111,\"#46039f\"],[0.2222222222222222,\"#7201a8\"],[0.3333333333333333,\"#9c179e\"],[0.4444444444444444,\"#bd3786\"],[0.5555555555555556,\"#d8576b\"],[0.6666666666666666,\"#ed7953\"],[0.7777777777777778,\"#fb9f3a\"],[0.8888888888888888,\"#fdca26\"],[1.0,\"#f0f921\"]],\"sequentialminus\":[[0.0,\"#0d0887\"],[0.1111111111111111,\"#46039f\"],[0.2222222222222222,\"#7201a8\"],[0.3333333333333333,\"#9c179e\"],[0.4444444444444444,\"#bd3786\"],[0.5555555555555556,\"#d8576b\"],[0.6666666666666666,\"#ed7953\"],[0.7777777777777778,\"#fb9f3a\"],[0.8888888888888888,\"#fdca26\"],[1.0,\"#f0f921\"]],\"diverging\":[[0,\"#8e0152\"],[0.1,\"#c51b7d\"],[0.2,\"#de77ae\"],[0.3,\"#f1b6da\"],[0.4,\"#fde0ef\"],[0.5,\"#f7f7f7\"],[0.6,\"#e6f5d0\"],[0.7,\"#b8e186\"],[0.8,\"#7fbc41\"],[0.9,\"#4d9221\"],[1,\"#276419\"]]},\"xaxis\":{\"gridcolor\":\"white\",\"linecolor\":\"white\",\"ticks\":\"\",\"title\":{\"standoff\":15},\"zerolinecolor\":\"white\",\"automargin\":true,\"zerolinewidth\":2},\"yaxis\":{\"gridcolor\":\"white\",\"linecolor\":\"white\",\"ticks\":\"\",\"title\":{\"standoff\":15},\"zerolinecolor\":\"white\",\"automargin\":true,\"zerolinewidth\":2},\"scene\":{\"xaxis\":{\"backgroundcolor\":\"#E5ECF6\",\"gridcolor\":\"white\",\"linecolor\":\"white\",\"showbackground\":true,\"ticks\":\"\",\"zerolinecolor\":\"white\",\"gridwidth\":2},\"yaxis\":{\"backgroundcolor\":\"#E5ECF6\",\"gridcolor\":\"white\",\"linecolor\":\"white\",\"showbackground\":true,\"ticks\":\"\",\"zerolinecolor\":\"white\",\"gridwidth\":2},\"zaxis\":{\"backgroundcolor\":\"#E5ECF6\",\"gridcolor\":\"white\",\"linecolor\":\"white\",\"showbackground\":true,\"ticks\":\"\",\"zerolinecolor\":\"white\",\"gridwidth\":2}},\"shapedefaults\":{\"line\":{\"color\":\"#2a3f5f\"}},\"annotationdefaults\":{\"arrowcolor\":\"#2a3f5f\",\"arrowhead\":0,\"arrowwidth\":1},\"geo\":{\"bgcolor\":\"white\",\"landcolor\":\"#E5ECF6\",\"subunitcolor\":\"white\",\"showland\":true,\"showlakes\":true,\"lakecolor\":\"white\"},\"title\":{\"x\":0.05},\"mapbox\":{\"style\":\"light\"}}},\"polar\":{\"radialaxis\":{\"visible\":true,\"range\":[-10,1]}},\"title\":{\"text\":\"Diversity in audio features of top 6 songs\"},\"showlegend\":true},                        {\"responsive\": true}                    ).then(function(){\n",
       "                            \n",
       "var gd = document.getElementById('9154a9c4-acef-4b21-912b-93b149afea1e');\n",
       "var x = new MutationObserver(function (mutations, observer) {{\n",
       "        var display = window.getComputedStyle(gd).display;\n",
       "        if (!display || display === 'none') {{\n",
       "            console.log([gd, 'removed!']);\n",
       "            Plotly.purge(gd);\n",
       "            observer.disconnect();\n",
       "        }}\n",
       "}});\n",
       "\n",
       "// Listen for the removal of the full notebook cells\n",
       "var notebookContainer = gd.closest('#notebook-container');\n",
       "if (notebookContainer) {{\n",
       "    x.observe(notebookContainer, {childList: true});\n",
       "}}\n",
       "\n",
       "// Listen for the clearing of the current output cell\n",
       "var outputEl = gd.closest('.output');\n",
       "if (outputEl) {{\n",
       "    x.observe(outputEl, {childList: true});\n",
       "}}\n",
       "\n",
       "                        })                };                });            </script>        </div>"
      ]
     },
     "metadata": {},
     "output_type": "display_data"
    }
   ],
   "source": [
    "import plotly.graph_objects as go\n",
    "\n",
    "categories = ['danceability','energy',\n",
    "              'loudness', 'speechiness', 'acousticness']\n",
    "\n",
    "fig = go.Figure()\n",
    "\n",
    "fig.add_trace(go.Scatterpolar(\n",
    "      r=[0.515,0.714,-4.516,0.0348,0.286],\n",
    "      theta=categories,\n",
    "      fill='toself',\n",
    "      name='Wait For Life'\n",
    "))\n",
    "\n",
    "fig.add_trace(go.Scatterpolar(\n",
    "      r=[0.532,0.623,-9.208,0.0331,0.538],\n",
    "      theta=categories,\n",
    "      fill='toself',\n",
    "      name='Mazhai Mazhai'\n",
    "))\n",
    "\n",
    "\n",
    "fig.add_trace(go.Scatterpolar(\n",
    "      r=[0.575,0.577,-6.674,0.0432,0.451],\n",
    "      theta=categories,\n",
    "      fill='toself',\n",
    "      name='Aasai Oru Pulveli'\n",
    "))\n",
    "fig.add_trace(go.Scatterpolar(\n",
    "      r=[0.470,0.521,-11.142,0.0391,0.579],\n",
    "      theta=categories,\n",
    "      fill='toself',\n",
    "      name='Teeth'\n",
    "))\n",
    "fig.add_trace(go.Scatterpolar(\n",
    "      r=[0.470,0.521,-11.142,0.0391,0.579],\n",
    "      theta=categories,\n",
    "      fill='toself',\n",
    "      name='Inkem Inkem Inkem Kaavaale'\n",
    "))\n",
    "fig.add_trace(go.Scatterpolar(\n",
    "      r=[0.470,0.521,-11.142,0.0391,0.579],\n",
    "      theta=categories,\n",
    "      fill='toself',\n",
    "      name='In My Bed'\n",
    "))\n",
    "\n",
    "fig.update_layout(\n",
    "    title = \"Diversity in audio features of top 6 songs\",\n",
    "    polar=dict(\n",
    "    radialaxis=dict(\n",
    "      visible=True,\n",
    "      range=[-10, 1]\n",
    "    )),\n",
    "  showlegend=True)\n",
    "\n",
    "fig.show()"
   ]
  },
  {
   "cell_type": "code",
   "execution_count": 382,
   "metadata": {},
   "outputs": [
    {
     "data": {
      "text/html": [
       "<div>\n",
       "<style scoped>\n",
       "    .dataframe tbody tr th:only-of-type {\n",
       "        vertical-align: middle;\n",
       "    }\n",
       "\n",
       "    .dataframe tbody tr th {\n",
       "        vertical-align: top;\n",
       "    }\n",
       "\n",
       "    .dataframe thead th {\n",
       "        text-align: right;\n",
       "    }\n",
       "</style>\n",
       "<table border=\"1\" class=\"dataframe\">\n",
       "  <thead>\n",
       "    <tr style=\"text-align: right;\">\n",
       "      <th></th>\n",
       "      <th>danceability</th>\n",
       "      <th>energy</th>\n",
       "      <th>key</th>\n",
       "      <th>loudness</th>\n",
       "      <th>mode</th>\n",
       "      <th>speechiness</th>\n",
       "      <th>acousticness</th>\n",
       "      <th>instrumentalness</th>\n",
       "      <th>liveness</th>\n",
       "      <th>valence</th>\n",
       "      <th>tempo</th>\n",
       "      <th>duration_ms</th>\n",
       "      <th>time_signature</th>\n",
       "    </tr>\n",
       "  </thead>\n",
       "  <tbody>\n",
       "    <tr>\n",
       "      <td>0</td>\n",
       "      <td>0.62214</td>\n",
       "      <td>0.59316</td>\n",
       "      <td>5.94</td>\n",
       "      <td>-6.4605</td>\n",
       "      <td>0.8</td>\n",
       "      <td>0.06724</td>\n",
       "      <td>0.35972</td>\n",
       "      <td>0.002873</td>\n",
       "      <td>0.15552</td>\n",
       "      <td>0.45466</td>\n",
       "      <td>116.11744</td>\n",
       "      <td>252700.72</td>\n",
       "      <td>3.92</td>\n",
       "    </tr>\n",
       "  </tbody>\n",
       "</table>\n",
       "</div>"
      ],
      "text/plain": [
       "   danceability   energy   key  loudness  mode  speechiness  acousticness  \\\n",
       "0       0.62214  0.59316  5.94   -6.4605   0.8      0.06724       0.35972   \n",
       "\n",
       "   instrumentalness  liveness  valence      tempo  duration_ms  time_signature  \n",
       "0          0.002873   0.15552  0.45466  116.11744    252700.72            3.92  "
      ]
     },
     "execution_count": 382,
     "metadata": {},
     "output_type": "execute_result"
    }
   ],
   "source": [
    "features.mean(axis=0)\n",
    "avg_my_songs = pd.DataFrame({\"danceability\":[0.622140], \n",
    "                             \"energy\":[0.593160],\n",
    "                             \"key\":[5.940000],\n",
    "                             \"loudness\":[-6.460500],\n",
    "                             \"mode\":[0.800000],\n",
    "                             \"speechiness\":[0.067240],\n",
    "                             \"acousticness\":[0.359720],\n",
    "                             \"instrumentalness\":[0.002873],\n",
    "                             \"liveness\":[0.155520],\n",
    "                             \"valence\":[0.454660],\n",
    "                             \"tempo\":[116.117440],\n",
    "                             \"duration_ms\":[252700.720000],\n",
    "                             \"time_signature\":[3.920000]})\n",
    "avg_my_songs"
   ]
  },
  {
   "cell_type": "code",
   "execution_count": 81,
   "metadata": {},
   "outputs": [
    {
     "data": {
      "image/png": "[encoded data removed]",
      "text/plain": [
       "<Figure size 432x288 with 1 Axes>"
      ]
     },
     "metadata": {},
     "output_type": "display_data"
    }
   ],
   "source": [
    "from matplotlib_venn import venn2, venn2_circles, venn2_unweighted\n",
    "from matplotlib_venn import venn3, venn3_circles\n",
    "from matplotlib import pyplot as plt\n",
    "\n",
    "%matplotlib inline\n",
    "\n",
    "venn2_unweighted(subsets = (31, 11, 8), set_labels = ('Low Spirit', 'High Spirit'), set_colors=('skyblue', 'firebrick'), alpha = 0.5);"
   ]
  },
  {
   "cell_type": "code",
   "execution_count": 145,
   "metadata": {},
   "outputs": [
    {
     "data": {
      "application/vnd.plotly.v1+json": {
       "config": {
        "plotlyServerURL": "https://plot.ly"
       },
       "data": [
        {
         "alignmentgroup": "True",
         "hovertemplate": "tempo=%{y}<extra></extra>",
         "legendgroup": "",
         "marker": {
          "color": "#636efa"
         },
         "name": "",
         "notched": false,
         "offsetgroup": "",
         "orientation": "v",
         "showlegend": false,
         "type": "box",
         "x0": " ",
         "xaxis": "x",
         "y": [
          136.943,
          218.365,
          117.895,
          117.895,
          117.895,
          117.895,
          117.895,
          117.895,
          117.895,
          117.895,
          117.895,
          117.895,
          139.02,
          115.92,
          115.92,
          115.92,
          115.92,
          115.92,
          115.92,
          115.92,
          115.92,
          115.92,
          115.92,
          115.92,
          110.009,
          110.009,
          110.009,
          110.009,
          110.009,
          110.009,
          110.009,
          110.009,
          110.009,
          110.009,
          110.009,
          110.009,
          110.009,
          110.009,
          110.009,
          84.717,
          84.717,
          84.717,
          84.717,
          84.717,
          84.717,
          84.717,
          84.717,
          84.717,
          84.717,
          84.717,
          84.717,
          84.717,
          137.839,
          137.839,
          137.839,
          137.839,
          137.839,
          137.839,
          137.839,
          137.839,
          137.839,
          137.839,
          137.839,
          137.839,
          137.839,
          137.839,
          137.839,
          137.839,
          137.839,
          137.839,
          137.839,
          137.839,
          137.839,
          137.839,
          137.839,
          137.839,
          137.839,
          137.839,
          137.839,
          137.839,
          137.839,
          90.023,
          90.023,
          90.023,
          90.023,
          90.023,
          90.023,
          90.023,
          90.023,
          90.023,
          90.023,
          90.023,
          90.023,
          90.023,
          90.023,
          90.023,
          135.055,
          135.055,
          135.055,
          135.055,
          135.055,
          135.055,
          135.055,
          135.055,
          135.055,
          135.055,
          135.055,
          135.055,
          135.055,
          135.055,
          135.055,
          135.055,
          135.055,
          135.055,
          135.055,
          135.055,
          135.055,
          135.055,
          135.055,
          135.055,
          135.055,
          135.055,
          135.055,
          135.055,
          135.055,
          135.055,
          74.996,
          74.996,
          74.996,
          74.996,
          74.996,
          74.996,
          74.996,
          74.996,
          74.996,
          74.996,
          74.996,
          74.996,
          74.996,
          74.996,
          144.979,
          144.979,
          144.979,
          144.979,
          144.979,
          144.979,
          144.979,
          149.94,
          149.94,
          149.94,
          149.94,
          149.94,
          149.94,
          149.94,
          149.94,
          149.94,
          149.94,
          149.94,
          149.94,
          149.94,
          149.94,
          149.94,
          149.94,
          149.94,
          149.94,
          76.74,
          76.74,
          76.74,
          76.74,
          76.74,
          76.74,
          129.895,
          129.895,
          129.895,
          129.895,
          129.895,
          129.895,
          129.895,
          75.962,
          75.962,
          75.962,
          75.962,
          67.836,
          67.836,
          67.836,
          67.836,
          67.836,
          67.836,
          67.836,
          120.032,
          120.032,
          120.032,
          120.032,
          78.815,
          78.815,
          78.815,
          78.815,
          78.815,
          78.815,
          78.815,
          78.815,
          99.989,
          99.989,
          99.989,
          99.989,
          99.989,
          99.989,
          99.989,
          99.989,
          99.989,
          99.989,
          99.989,
          105.019,
          105.019,
          105.019,
          105.019,
          105.019,
          105.019,
          76.923,
          76.923,
          76.923,
          76.923,
          76.923,
          76.923,
          101.999,
          101.999,
          101.999,
          101.999,
          101.999,
          101.999,
          101.999,
          140.057,
          140.057,
          140.057,
          140.057,
          140.057,
          140.057,
          140.057,
          140.057,
          164.878,
          164.878,
          164.878,
          164.878,
          164.878,
          164.878,
          164.878,
          164.878,
          153.685,
          153.685,
          153.685,
          153.685,
          153.685,
          153.685,
          153.685,
          92.939,
          92.939,
          92.939,
          92.939,
          92.939,
          92.939,
          92.939,
          92.939,
          139.324,
          139.324,
          139.324,
          139.324,
          139.324,
          139.324,
          199.686,
          199.686,
          199.686,
          199.686,
          199.686,
          199.686,
          199.686,
          199.686,
          199.686,
          199.686,
          199.686,
          90.013,
          90.013,
          90.013,
          90.013,
          90.013,
          90.013,
          90.013,
          90.013,
          90.013,
          90.013,
          90.013,
          90.013,
          90.013,
          90.013,
          80.015,
          80.015,
          80.015,
          80.015,
          80.015,
          80.015,
          110.508,
          110.508,
          110.508,
          110.508,
          110.508,
          110.508,
          142.448,
          142.448,
          142.448,
          142.448,
          142.448,
          142.448,
          122.912,
          122.912,
          122.912,
          122.912,
          122.912,
          122.912,
          122.912,
          77.512,
          77.512,
          77.512,
          77.512,
          77.512,
          77.512,
          77.512,
          77.512,
          77.512,
          179.81,
          179.81,
          179.81,
          179.81,
          179.81,
          136.943,
          136.943,
          136.943,
          136.943,
          136.943,
          136.943,
          136.943,
          136.943,
          136.943,
          136.943,
          136.943,
          136.943,
          115.99,
          115.99,
          115.99,
          115.99,
          115.99,
          115.99,
          170.01,
          170.01,
          170.01,
          170.01,
          170.01,
          170.01,
          170.01,
          170.01,
          170.01,
          170.01,
          170.01,
          170.01,
          170.01,
          170.01,
          95.517,
          95.517,
          95.517,
          95.517,
          95.517,
          95.517,
          95.517,
          114.945,
          114.945,
          114.945,
          114.945,
          114.945,
          84.013,
          84.013,
          84.013,
          84.013,
          84.013,
          84.013,
          84.013,
          84.013,
          150.1,
          150.1,
          150.1,
          150.1,
          150.1,
          150.1,
          150.1,
          150.1,
          150.1,
          150.1,
          150.1,
          150.1,
          150.1,
          127.999,
          127.999,
          127.999,
          127.999,
          127.999,
          127.999,
          127.999,
          77.512,
          77.512,
          77.512,
          77.512,
          77.512,
          77.512,
          77.512,
          77.512,
          76.229,
          76.229,
          76.229,
          76.229,
          76.229,
          76.229,
          76.229,
          136.919,
          136.919,
          136.919,
          136.919,
          136.919,
          136.919,
          136.919,
          136.919,
          136.919,
          136.919,
          136.919,
          136.919,
          179.669,
          179.669,
          179.669,
          179.669,
          179.669,
          179.669,
          179.669,
          118.028,
          118.028,
          118.028,
          118.028,
          118.028,
          118.028,
          118.028,
          118.028,
          118.028,
          118.028,
          118.028,
          119.994,
          119.994,
          119.994,
          119.994,
          119.994,
          119.994,
          119.98,
          119.98,
          119.98,
          119.98,
          119.98,
          119.98,
          91.006,
          91.006,
          91.006,
          91.006,
          91.006,
          91.006,
          91.006,
          91.006,
          91.006,
          91.006,
          91.006,
          91.006,
          91.006,
          91.006,
          91.006,
          91.006,
          91.006,
          91.006,
          111.979,
          102.659,
          102.659,
          102.659,
          102.659,
          102.659,
          111.981,
          111.981,
          119.982,
          119.994,
          95.046,
          111.986,
          120.017,
          120.017,
          136.962,
          136.962,
          119.969,
          119.969,
          119.969,
          97.016,
          192.01,
          133.825,
          133.825,
          133.825,
          133.825,
          133.825,
          139.851,
          139.851,
          139.851,
          89.362,
          145.938,
          139.831,
          139.831,
          139.831,
          139.831,
          139.831,
          139.831,
          139.831,
          139.831,
          139.831,
          97.979,
          97.979,
          76.006,
          91.796,
          91.796,
          91.796,
          91.796,
          91.796,
          91.796,
          91.796,
          91.796,
          91.796,
          91.796,
          91.796,
          91.796,
          91.796,
          91.796,
          91.796,
          91.796,
          130.052,
          122.952,
          122.952,
          143.901,
          100.026,
          100.026,
          100.026,
          79.144,
          76.976,
          76.976,
          76.976,
          76.976,
          133.873,
          129.959,
          129.959,
          105.957,
          105.957,
          105.957,
          105.957,
          105.957,
          105.957,
          99.031,
          99.031,
          91.989,
          151.779,
          90.066,
          90.066,
          98.936,
          80.095,
          73.059,
          135.181,
          135.181,
          135.181,
          135.181,
          135.181,
          135.181,
          135.181,
          135.181,
          135.181,
          135.181,
          135.181,
          81.932,
          83.945,
          83.945,
          83.945,
          83.945,
          83.945,
          81.91,
          81.91,
          81.91,
          81.91,
          81.91,
          81.91,
          81.91,
          81.91,
          81.91,
          81.91,
          81.91,
          81.91,
          81.91,
          81.91,
          89.725,
          89.725,
          89.725,
          89.725,
          89.725,
          89.725,
          89.725,
          89.725,
          79.993,
          79.993,
          79.993,
          79.993,
          79.993,
          79.993,
          79.993,
          79.993,
          79.993,
          79.993,
          79.993,
          79.993,
          79.993,
          79.993,
          79.993,
          79.993,
          79.993,
          79.993,
          79.993,
          79.993,
          79.993,
          79.993,
          79.993,
          94.932,
          94.932,
          94.932,
          94.932,
          94.932,
          94.932,
          94.932,
          94.908,
          94.908,
          94.908,
          94.908,
          94.908,
          94.908,
          94.908,
          94.696,
          94.696,
          94.696,
          94.696,
          182.961,
          182.961,
          109.973,
          109.973,
          110.307,
          115.917,
          115.917,
          115.917,
          115.917,
          115.917,
          115.917,
          115.917,
          115.917,
          115.917,
          115.917,
          115.917,
          115.917,
          115.917,
          159.959,
          150.13,
          150.13,
          138.975,
          101.707,
          137.839,
          137.839,
          137.839,
          137.839,
          137.839,
          137.839,
          137.839,
          137.839,
          137.839,
          137.839,
          137.839,
          137.839,
          137.839,
          137.839,
          137.839,
          137.839,
          80.982,
          80.982,
          80.982,
          80.982,
          80.982,
          80.982,
          80.982,
          80.982,
          80.982,
          80.982,
          80.982,
          80.982,
          80.982,
          80.982,
          80.982,
          80.982,
          80.982,
          80.982,
          80.982,
          80.982,
          80.982,
          80.982,
          80.982,
          80.982,
          80.982,
          80.982,
          80.982,
          156.051,
          156.051,
          156.051,
          156.051,
          156.051,
          156.051,
          156.051,
          156.051,
          131.989,
          135.128,
          135.128,
          135.128,
          135.128,
          135.128,
          135.128,
          135.128,
          123.935,
          115.284,
          115.284,
          115.284,
          115.284,
          115.284,
          90.196,
          90.196,
          98.54,
          98.54,
          98.54,
          105.935,
          105.935,
          61.299,
          61.299,
          171.692,
          171.692,
          86.172,
          86.172,
          86.172,
          147.518,
          147.518,
          113.074,
          113.074,
          124.984,
          103.605,
          127.074,
          95.555,
          113.312,
          113.312,
          116.634,
          130.043,
          103.264,
          70.863,
          120.039,
          114.171,
          98.829,
          94.791,
          107.148,
          122.856,
          114.689,
          82.707,
          147.532,
          97.13,
          169.765,
          168.984,
          168.984,
          168.984,
          168.984,
          168.984,
          168.984,
          168.984,
          168.984,
          168.984,
          168.984,
          87.474,
          174.874,
          84.897,
          134.976,
          176.66,
          146.008,
          118.199,
          114.622,
          115.838,
          103.35,
          103.35,
          152.872,
          87.272,
          79.886,
          77.512,
          127.237,
          125.495,
          133.545,
          102.229,
          169.598,
          132.685,
          97.297,
          81.181,
          129.38,
          203.944,
          203.944,
          203.944,
          203.944,
          203.944,
          203.944,
          134.981,
          134.981,
          134.981,
          134.981,
          134.981,
          134.981,
          108.115,
          108.115,
          108.115,
          108.115,
          108.115,
          108.115,
          108.115,
          108.115,
          108.115,
          72.847,
          72.847,
          72.847,
          72.847,
          107.892,
          107.892,
          107.892,
          107.892,
          107.892,
          117.813,
          117.813,
          117.813,
          117.813,
          117.813,
          117.813,
          117.813,
          117.813,
          117.813,
          117.813,
          117.813,
          117.813,
          117.813,
          117.813,
          117.813,
          117.813,
          125.905,
          115.838,
          115.838,
          105.017,
          101.997,
          179.645,
          149.957,
          129.859,
          75.036,
          161.96,
          74.89,
          87.468,
          90.111,
          82.512,
          113.277,
          113.277,
          113.277,
          113.277,
          113.277,
          113.277,
          113.277,
          113.277,
          113.277,
          113.277,
          113.277,
          113.277,
          113.277,
          113.277,
          113.277,
          160.093,
          160.093,
          160.093,
          160.093,
          160.093,
          160.093,
          160.093,
          160.093,
          97.471,
          97.471,
          97.471,
          97.471,
          97.471,
          97.471,
          97.471,
          129.924,
          129.924,
          129.924,
          129.924,
          129.924,
          129.924,
          129.924,
          129.924,
          129.924,
          129.924,
          129.924,
          129.924,
          129.924,
          129.924,
          129.939,
          129.939,
          129.939,
          129.939,
          129.939,
          129.939,
          129.939,
          129.939,
          129.939,
          129.939,
          129.939,
          129.939,
          129.939,
          129.939,
          119.95,
          119.95,
          119.95,
          119.95,
          119.95,
          119.95,
          119.95,
          119.95,
          119.95,
          119.95,
          119.95,
          119.95,
          119.95,
          119.95,
          119.95,
          119.95,
          119.95,
          119.95,
          119.95,
          80,
          80,
          80,
          80,
          80,
          80,
          80,
          80,
          80,
          80,
          80,
          169.95,
          169.95,
          169.95,
          169.95,
          169.95,
          169.95,
          169.95,
          169.95,
          169.95,
          170.015,
          170.015,
          170.015,
          170.015,
          170.015,
          170.015,
          119.996,
          119.996,
          119.996,
          119.996,
          119.996,
          119.996,
          119.996,
          119.996,
          119.996,
          119.996,
          119.996,
          119.996,
          119.996,
          119.996,
          79.981,
          79.981,
          79.981,
          79.981,
          79.981,
          79.981,
          79.981,
          97.961,
          97.961,
          97.961,
          97.961,
          97.961,
          97.961,
          97.961,
          97.961,
          97.961,
          97.961,
          80.152,
          80.152,
          80.152,
          80.152,
          80.152,
          80.152,
          80.152,
          80.152,
          80.152,
          80.152,
          80.152,
          80.152,
          80.152,
          80.152,
          80.152,
          80.152,
          119.994,
          119.994,
          119.994,
          119.994,
          119.994,
          119.994,
          119.994,
          90.221,
          90.221,
          90.221,
          90.221,
          90.221,
          90.221,
          90.221,
          100.247,
          100.247,
          100.247,
          100.247,
          100.247,
          100.247,
          100.247,
          100.247,
          100.247,
          100.247,
          100.247,
          100.247,
          179.998,
          179.998,
          179.998,
          179.998,
          179.998,
          179.998,
          179.998,
          128.708,
          128.708,
          128.708,
          128.708,
          128.708,
          128.708,
          128.708,
          128.708,
          128.708,
          128.708,
          128.708,
          128.708,
          84.992,
          84.992,
          84.992,
          84.992,
          84.992,
          84.992,
          84.992,
          84.992,
          169.964,
          169.964,
          169.964,
          169.964,
          169.964,
          169.964,
          169.964,
          169.964,
          169.964,
          169.964,
          169.964,
          77.907,
          76.642,
          182.665,
          119.994,
          119.994,
          119.994,
          128.607,
          128.607,
          128.607,
          128.607,
          128.607,
          128.607,
          128.607,
          128.607,
          128.607,
          128.607,
          101.04,
          101.04,
          101.04,
          101.04,
          109.775,
          109.775,
          109.775,
          109.775,
          109.775,
          109.775,
          109.775,
          109.775,
          109.775,
          119.768,
          119.768,
          104.097,
          104.097,
          149.819,
          141.126,
          141.126,
          141.126,
          141.126,
          141.126,
          141.126,
          141.126,
          141.126,
          130.051,
          130.051,
          130.051,
          130.051,
          87.865,
          87.865,
          107.956,
          107.956,
          120.033,
          120.033,
          120.033,
          120.033,
          142.438,
          85.942,
          85.942,
          110.988,
          110.988,
          97.016,
          97.016,
          97.016,
          97.016,
          107.049,
          111.554,
          111.554,
          111.554,
          111.554,
          169.999,
          99.945,
          99.945,
          102.998,
          102.998,
          158.831,
          156.124,
          162.1,
          121.903,
          121.903,
          109.008,
          109.008,
          109.008,
          119.882,
          108.81,
          105.813,
          75.152,
          75.152,
          137.922,
          149.587,
          101.458,
          87.567,
          87.567,
          87.567,
          100.656,
          139.911,
          110.027,
          87.104,
          150.024,
          150.024,
          150.024,
          129.871,
          129.871,
          129.871,
          75.11,
          75.11,
          118.003,
          123.922,
          112.466,
          112.466,
          112.466,
          112.466,
          140.038,
          90.008,
          87.017,
          114.945,
          114.945,
          114.945,
          103,
          103,
          80.202,
          110.056,
          95.979,
          95.979,
          95.979,
          95.979,
          95.979,
          132.032,
          75.021,
          100.016,
          149.757,
          167.863,
          167.863,
          167.863,
          167.863,
          167.863,
          136.024,
          88.667,
          88.667,
          88.667,
          140.154,
          76.499,
          134.976,
          134.976,
          134.976,
          134.976,
          134.976,
          134.976,
          134.976,
          134.976,
          134.976,
          134.976,
          134.976,
          134.976,
          134.976,
          134.976,
          134.976,
          134.976,
          134.976,
          119.838,
          119.838,
          119.838,
          119.838,
          119.838,
          119.838,
          119.838,
          119.838,
          119.838,
          119.838,
          119.838,
          119.838,
          119.838,
          119.838,
          119.838,
          179.661,
          80.012,
          80.012,
          140.003,
          120.001,
          145.018,
          145.018,
          145.018,
          120.057,
          120.057,
          136.93,
          136.93,
          136.93,
          136.93,
          136.93,
          136.93,
          95.01,
          95.018,
          95.018,
          141.897,
          141.897,
          141.897,
          141.897,
          141.897,
          141.897,
          115.011,
          115.011,
          135.017,
          106.954,
          122.891,
          120.043,
          120.043,
          120.043,
          71.835,
          71.835,
          71.835,
          71.835,
          71.835,
          71.835,
          111.968,
          111.968,
          111.968,
          111.968,
          111.968,
          68.614,
          68.614,
          68.614,
          177.929,
          177.929,
          177.929,
          177.929,
          91.03,
          91.03,
          91.03,
          91.03,
          91.03,
          91.03,
          91.03,
          117.963,
          117.963,
          117.963,
          99.982,
          99.982,
          99.982,
          99.982,
          99.982,
          99.982,
          99.982,
          99.982,
          99.982,
          99.982,
          99.982,
          99.982,
          99.982,
          99.982,
          137.918,
          137.918,
          137.918,
          137.918,
          137.918,
          137.918,
          137.918,
          137.918,
          137.918,
          138.019,
          138.019,
          138.019,
          138.019,
          95.946,
          95.946,
          95.946,
          95.946,
          95.946,
          95.946,
          95.946,
          95.946,
          95.946,
          113.986,
          113.986,
          113.986,
          113.986,
          113.986,
          113.986,
          121.991,
          121.991,
          121.991,
          121.991,
          121.991,
          121.991,
          175.894,
          175.894,
          175.894,
          175.894,
          104.987,
          104.987,
          104.987,
          104.987,
          104.987,
          132.016,
          132.016,
          132.016,
          132.016,
          132.016,
          132.016,
          104.989,
          104.989,
          104.989,
          104.989,
          104.989,
          104.989,
          104.989,
          104.989,
          104.989,
          104.989,
          104.989,
          104.989,
          104.989,
          104.989,
          119.994,
          119.994,
          119.994,
          119.994,
          119.994,
          119.994,
          119.994,
          119.994,
          119.994,
          119.994,
          119.994,
          119.994,
          119.994,
          119.994,
          86.02,
          86.02,
          86.02,
          86.02,
          86.02,
          86.02,
          95.984,
          95.984,
          95.984,
          95.984,
          95.984,
          95.984,
          95.984,
          95.984,
          95.984,
          116.912,
          116.912,
          116.912,
          116.912,
          116.912,
          116.912,
          116.912,
          119.997,
          119.997,
          119.997,
          119.997,
          119.997,
          78.888,
          78.888,
          78.888,
          78.888,
          78.888,
          116.031,
          116.031,
          116.031,
          116.031,
          116.031,
          116.031,
          116.031,
          90.076,
          90.076,
          166.025,
          159.906,
          159.906,
          149.929,
          149.929,
          96.893,
          96.893,
          96.893,
          161.117,
          82.499,
          117.948,
          117.948,
          117.948,
          117.948,
          131.988,
          131.988,
          131.988,
          131.988,
          131.988,
          131.988,
          131.988,
          131.988,
          131.988,
          131.988,
          131.988,
          131.988,
          131.988,
          131.988,
          131.988,
          131.988,
          131.988,
          131.988,
          131.988,
          131.988,
          131.988,
          131.988,
          131.988,
          131.988,
          131.988,
          122.919,
          122.919,
          122.919,
          122.919,
          122.919,
          122.919,
          148.345,
          148.345,
          148.345,
          148.345,
          148.345,
          148.345,
          148.345,
          117.68,
          117.68,
          117.68,
          117.68,
          117.68,
          117.68,
          117.68,
          117.68,
          117.68,
          117.68,
          117.68,
          117.68,
          117.68,
          117.68,
          107.747,
          107.747,
          107.747,
          107.747,
          107.747,
          107.747,
          107.747,
          107.747,
          107.747,
          107.747,
          107.747,
          107.747,
          107.747,
          107.747,
          107.747,
          107.747,
          107.747,
          115.284,
          115.284,
          115.284,
          115.284,
          191.944,
          191.944,
          191.944,
          191.944,
          191.944,
          114.801,
          114.801,
          114.801,
          114.801,
          114.801,
          114.801,
          144.204,
          144.204,
          144.204,
          144.204,
          144.204,
          144.204,
          85,
          85,
          85,
          85,
          79.262,
          79.262,
          79.262,
          79.262,
          79.262,
          79.262,
          79.262,
          79.262,
          79.262,
          79.262,
          136.762,
          136.762,
          136.762,
          136.762,
          136.762,
          79.643,
          97.58,
          85.369,
          63.398,
          65.301,
          126.024,
          112.356,
          77.386,
          135.712,
          47.859,
          183.073,
          183.073,
          183.073,
          183.073,
          183.073,
          183.073,
          183.073,
          183.073,
          183.073,
          183.073,
          183.073,
          183.073,
          183.073,
          183.073,
          136.245,
          122.025,
          122.025,
          122.025,
          122.025,
          122.025,
          122.025,
          122.025,
          122.025,
          122.025,
          122.025,
          122.025,
          122.025,
          122.025,
          122.025,
          122.025,
          122.025,
          122.025,
          97.649,
          100.033,
          129.819,
          129.819,
          115.011,
          131.931,
          200.166,
          89.938,
          119.997,
          82.642,
          82.642,
          82.642,
          82.642,
          82.642,
          82.642,
          82.642,
          139.952,
          177.913,
          177.913,
          95.032,
          92.135,
          113.805,
          96.965,
          105.993,
          105.993,
          186.733,
          94.314,
          118.471,
          72.431,
          72.431,
          72.431,
          72.431,
          104.551,
          89.936,
          89.936,
          137.958,
          137.958,
          137.958,
          137.958,
          137.958,
          137.958,
          137.958,
          137.958,
          137.958,
          137.958,
          137.958,
          98.047,
          159.915,
          159.915,
          159.915,
          159.915,
          159.915,
          159.915,
          159.915,
          91.999,
          91.999,
          91.999,
          102.984,
          119.924,
          119.924,
          124.89,
          124.89,
          124.89,
          124.89,
          124.89,
          77.003,
          77.003,
          121.903,
          121.903,
          88.068,
          108.925,
          80.468,
          80.468,
          82.525,
          61.037,
          61.037,
          76.984,
          99.997,
          92.228,
          131.686,
          131.686,
          109.775,
          109.775,
          109.775,
          95.015,
          95.015,
          95.015,
          95.015,
          95.015,
          149.825,
          149.825,
          109.941,
          109.941,
          109.941,
          109.941,
          109.941,
          109.941,
          109.941,
          109.941,
          109.941,
          109.941,
          115.01,
          115.01,
          115.01,
          115.01,
          115.01,
          97.011,
          97.011,
          97.011,
          97.011,
          97.011,
          97.011,
          97.011,
          97.011,
          97.011,
          97.011,
          97.011,
          97.011,
          97.011,
          97.011,
          100.028,
          100.028,
          128.052,
          137.839,
          137.839,
          137.839,
          94.014,
          94.014,
          129.996,
          87.322,
          87.322,
          104.971,
          165.009,
          110.03,
          0,
          0,
          0,
          150.068,
          150.068,
          150.068,
          185.044,
          185.044,
          185.044,
          185.044,
          185.044,
          150.455,
          150.455,
          150.455,
          150.455,
          150.455,
          173.859,
          173.859,
          173.859,
          100.029,
          100.029,
          100.029,
          100.029,
          79.764,
          79.764,
          79.764,
          79.764,
          79.764,
          79.764,
          79.764,
          79.764,
          79.764,
          79.764,
          79.764,
          120.046,
          120.046,
          120.02,
          120.02,
          120.02,
          120.02,
          120.02,
          120.02,
          120.02,
          120.02,
          120.02,
          120.02,
          120.02,
          120.02,
          74.002,
          95.05,
          118.058,
          169.84,
          114.906,
          151.728,
          151.728,
          151.728,
          151.728,
          151.728,
          124.972,
          124.972,
          136.025,
          89.999,
          89.999,
          89.999,
          80.078,
          145.045,
          145.045,
          145.045,
          145.045,
          145.045,
          145.045,
          106.994,
          106.994,
          106.994,
          81.131,
          81.131,
          131.731,
          172.121,
          172.121,
          172.121,
          172.121,
          172.121,
          172.121,
          172.121,
          172.121,
          172.121,
          172.121,
          172.121,
          172.121,
          172.121,
          172.121,
          172.121,
          172.121,
          118.586,
          159.915,
          119.899,
          120.035,
          105.012,
          83.992,
          171.838,
          184.105,
          78.029,
          78.029,
          135.863,
          131.903,
          117.999,
          117.999,
          117.999,
          117.999,
          104.054,
          100.037,
          78.398,
          89.916,
          89.916,
          89.916,
          89.916,
          143.687,
          99.035,
          104.021,
          99.006,
          113.605,
          113.605,
          113.605,
          172.025,
          172.025,
          100.052,
          100.052,
          100.052,
          100.052,
          100.052,
          100.052,
          100.052,
          100.052,
          100.052,
          100.052,
          100.052,
          100.052,
          100.052,
          100.052,
          100.052,
          100.052,
          93.026,
          93.026,
          93.026,
          93.026,
          93.026,
          93.026,
          93.026,
          93.026,
          93.026,
          93.026,
          93.026,
          93.026,
          93.026,
          93.026,
          93.026,
          93.026,
          93.026,
          93.026,
          147.486,
          147.486,
          147.486,
          147.486,
          147.486,
          147.486,
          147.486,
          147.486,
          147.486,
          147.486,
          68.974,
          68.974,
          75.24,
          75.24,
          75.24,
          75.24,
          75.24,
          75.24,
          75.24,
          75.24,
          75.24,
          75.24,
          75.24,
          75.24,
          75.24,
          75.24,
          75.24,
          75.24,
          75.24,
          75.24,
          75.208,
          78,
          78,
          148.051,
          103.342,
          103.342,
          103.342,
          103.342,
          103.342,
          103.342,
          103.342,
          103.342,
          103.342,
          103.342,
          103.342,
          103.342,
          103.342,
          103.342,
          103.342,
          103.342,
          145.928,
          108.983,
          175.007,
          74.088,
          68.963,
          115.823,
          115.656,
          144.982,
          76.067,
          111.994,
          149.987,
          139.906,
          119.989,
          119.989,
          119.989,
          119.989,
          119.989,
          119.989,
          119.989,
          119.989,
          119.989,
          119.989,
          119.989,
          119.989,
          119.989,
          119.989,
          119.989,
          90.043,
          90.043,
          90.043,
          90.043,
          90.043,
          90.043,
          90.043,
          90.043,
          90.043,
          90.043,
          90.043,
          90.043,
          90.043,
          90.043,
          90.043,
          90.043,
          90.043,
          90.043,
          90.043,
          100.06,
          100.06,
          100.06,
          100.06,
          100.06,
          100.06,
          100.06,
          100.06,
          100.06,
          100.06,
          100.06,
          100.06,
          131.143,
          131.143,
          131.143,
          131.143,
          131.143,
          131.143,
          131.143,
          131.143,
          131.143,
          131.143,
          62.507,
          77.342,
          77.342,
          167.997,
          167.997,
          167.997,
          100,
          129.958,
          133.629,
          145.01,
          79.999,
          99.939,
          99.939,
          99.939,
          175.657,
          175.657,
          175.657,
          128.041,
          128.041,
          128.041,
          130.869,
          130.869,
          130.869,
          145.435,
          145.435,
          145.435,
          114.98,
          67.504,
          67.504,
          67.504,
          67.504,
          67.504,
          67.504,
          67.504,
          67.504,
          169.521,
          169.521,
          122.925,
          122.925,
          172.006,
          172.006,
          172.006,
          118.034,
          131.74,
          90.033,
          90.033,
          90.033,
          124.879,
          124.879,
          113.484,
          120.033,
          83.168,
          115.345,
          115.345,
          115.345,
          115.345,
          115.345,
          115.345,
          115.345,
          97.016,
          130.862,
          130.862,
          105.776,
          99.965,
          99.965,
          99.965,
          99.965,
          99.965,
          99.965,
          99.965,
          99.965,
          99.965,
          99.965,
          99.965,
          99.965,
          139.788,
          139.788,
          139.788,
          139.788,
          142.021,
          142.021,
          160.024,
          114.403,
          144.919,
          144.919,
          144.919,
          144.919,
          144.919,
          144.919,
          144.919,
          174.086,
          132.91,
          131.882,
          115.004,
          128.06,
          121.129,
          150.015,
          72.833,
          124.838,
          84.02,
          139.927,
          92.578,
          92.578,
          63.246,
          98.06,
          98.06,
          84.703,
          63.875,
          95.043,
          95.043,
          76.009,
          127.818,
          127.818,
          127.818,
          106.978,
          157.687,
          198.401,
          135.871,
          113.947,
          143.786,
          121.47,
          105.002,
          105.002,
          110.496,
          95.974,
          133.825,
          85.418,
          98.04,
          66.638,
          97.042,
          219.549,
          172.015,
          93.895,
          93.895,
          93.895,
          93.895,
          96.958,
          131.97,
          147.125,
          147.125,
          147.125,
          147.125,
          122.918,
          122.918,
          122.918,
          79.94,
          79.94,
          79.94,
          97.537,
          97.537,
          97.537,
          151.845,
          151.845,
          151.845,
          151.845,
          151.845,
          88.001,
          88.001,
          88.001,
          88.001,
          88.001,
          88.001,
          88.001,
          88.001,
          88.001,
          119.979,
          119.979,
          119.979,
          120.033,
          120.033,
          120.033,
          120.033,
          120.033,
          120.033,
          89.962,
          89.962,
          89.962,
          89.962,
          89.962,
          89.962,
          89.962,
          124.99,
          124.99,
          124.99,
          124.99,
          124.99,
          124.99,
          124.99,
          95.001,
          95.001,
          95.001,
          95.001,
          95.001,
          95.001,
          95.001,
          95.001,
          140.06,
          140.06,
          140.06,
          140.06,
          136.041,
          136.041,
          136.041,
          136.041,
          84.264,
          84.264,
          84.264,
          78.454,
          78.454,
          78.454,
          78.454,
          149.881,
          149.881,
          149.881,
          149.881,
          105.002,
          105.002,
          105.002,
          105.002,
          105.002,
          105.002,
          105.002,
          105.002,
          105.002,
          114.987,
          114.987,
          114.987,
          114.987,
          114.987,
          114.987,
          114.987,
          145.206,
          145.206,
          145.206,
          145.206,
          140.042,
          140.042,
          140.042,
          140.042,
          85.043,
          85.043,
          85.043,
          85.043,
          85.043,
          85.043,
          85.043,
          85.043,
          135,
          135,
          135,
          135,
          135,
          135,
          61.016,
          87.549,
          82.097,
          82.097,
          82.097,
          82.097,
          82.097,
          124.487,
          82.002,
          82.002,
          82.002,
          82.002,
          82.002,
          105.019,
          105.019,
          105.019,
          105.019,
          105.019,
          105.019,
          105.019,
          105.019,
          105.019,
          105.019,
          105.019,
          105.019,
          83.883,
          83.883,
          83.883,
          95.005,
          76.499,
          76.499,
          76.499,
          76.499,
          76.499,
          76.499,
          76.499,
          76.499,
          76.499,
          76.499,
          76.499,
          128,
          128,
          128,
          128,
          118.003,
          118.003,
          118.003,
          95.997,
          95.997,
          100.058,
          100.058,
          100.058,
          150.148,
          150.148,
          150.148,
          94.972,
          94.972,
          93.007,
          93.007,
          105.058,
          105.058,
          82.198,
          159.99,
          159.99,
          159.99,
          105.037,
          139.246,
          128.311,
          145.967,
          145.967,
          145.967,
          145.967,
          145.967,
          145.967,
          81.996,
          118.003,
          139.732,
          140.06,
          94.935,
          170.029,
          175.974,
          137.956,
          137.956,
          137.956,
          137.956,
          74.93,
          108.032,
          176.021,
          176.021,
          103.951,
          103.951,
          103.951,
          103.951,
          103.951,
          103.951,
          103.951,
          103.951,
          135.167,
          109.981,
          91.97,
          80.638,
          136.001,
          77.968,
          77.968,
          187.291,
          116.74,
          127.335,
          158.827,
          158.827,
          158.827,
          158.827,
          90.123,
          103.436,
          161.01,
          93.307,
          132.062,
          115.125,
          105.418,
          105.418,
          105.418,
          105.418,
          105.418,
          129.893,
          144.992,
          124.897,
          139.861,
          139.861,
          113.273,
          113.273,
          126.899,
          126.899,
          133.219,
          133.219,
          120.036,
          120.036,
          120.036,
          120.036,
          82.008,
          82.008,
          82.008,
          97.176,
          97.176,
          137.951,
          137.951,
          152.086,
          152.086,
          152.086,
          152.086,
          118.884,
          118.884,
          118.884,
          192.021,
          192.021,
          111.829,
          111.829,
          111.829,
          85.046,
          85.046,
          79.992,
          79.992,
          79.992,
          79.992,
          82.049,
          82.049,
          82.049,
          135.821,
          135.821,
          135.821,
          116.977,
          116.977,
          116.977,
          116.977,
          76.899,
          76.899,
          76.899,
          76.899,
          145.926,
          145.926,
          145.926,
          145.926,
          145.926,
          145.926,
          145.926,
          145.926,
          145.926,
          145.926,
          64.934,
          64.934,
          97.902,
          97.902,
          97.902,
          97.902,
          75.023,
          75.023,
          75.023,
          145.879,
          145.879,
          145.879,
          76.826,
          76.826,
          175.907,
          175.907,
          175.907,
          91.019,
          91.019,
          91.019,
          91.019,
          113.877,
          113.877,
          113.877,
          113.877,
          127.031,
          127.031,
          127.031,
          127.031,
          178.92,
          178.92,
          178.92,
          90.047,
          90.047,
          90.047,
          171.843,
          171.843,
          92.6,
          92.6,
          92.6,
          124.071,
          124.071,
          124.071,
          124.071,
          124.071,
          124.071,
          116.033,
          116.033,
          116.033,
          109.945,
          109.945,
          109.945,
          109.945,
          109.945,
          109.945,
          149.802,
          193.671,
          193.671,
          193.671,
          193.671,
          193.671,
          97.025,
          142.715,
          176.889,
          176.889,
          121.999,
          139.959,
          117.813,
          117.813,
          117.813,
          117.813,
          118.869,
          167.719,
          167.719,
          167.719,
          167.719,
          167.719,
          129.565,
          129.565,
          74.99,
          101.987,
          101.987,
          102.211,
          76.99,
          117.64,
          117.64,
          117.64,
          117.64,
          117.64,
          117.64,
          117.64,
          117.64,
          117.64,
          117.64,
          117.64,
          117.64,
          147.02,
          95.39,
          93.982,
          93.982,
          93.982,
          93.982,
          93.982,
          93.982,
          93.982,
          93.982,
          93.982,
          93.982,
          93.982,
          93.982,
          93.982,
          93.982,
          132.854,
          132.854,
          92.043,
          92.043,
          92.043,
          144.212,
          120.006,
          120.006,
          120.006,
          120.006,
          120.006,
          94.954,
          94.954,
          94.954,
          118.006,
          118.006,
          118.006,
          118.006,
          118.006,
          118.006,
          118.006,
          135.857,
          135.857,
          135.857,
          133.955,
          133.955,
          133.955,
          117.867,
          117.867,
          130.055,
          130.055,
          159.834,
          159.834,
          178.336,
          178.336,
          178.336,
          178.336,
          90.105,
          90.105,
          90.105,
          125.009,
          125.009,
          125.009,
          199.686,
          199.686,
          199.686,
          199.686,
          199.686,
          119.775,
          119.775,
          105.013,
          105.013,
          105.013,
          157.348,
          157.348,
          157.348,
          141.946,
          75.031,
          75.031,
          75.031,
          75.031,
          85.814,
          180.199,
          180.199,
          143.99,
          143.99,
          119.959,
          119.959,
          98.007,
          98.007,
          169.952,
          169.952,
          179.944,
          179.944,
          79.976,
          79.976,
          79.976,
          79.976,
          114.929,
          114.929,
          86.983,
          86.983,
          86.983,
          107.869,
          107.869,
          149.623,
          149.623,
          107.866,
          107.866,
          107.866,
          87.831,
          81.964,
          81.964,
          115.06,
          115.06,
          194.858,
          119.823,
          119.823,
          119.823,
          119.823,
          119.823,
          90.98,
          90.98,
          90.98,
          192.383,
          192.383,
          192.383,
          192.383,
          81.608,
          81.608,
          81.608,
          81.608,
          81.608,
          146.977,
          146.977,
          146.977,
          179.983,
          179.983,
          179.983,
          179.983,
          81.098,
          95.079,
          70.368,
          70.368,
          111.87,
          120.016,
          120.016,
          120.016,
          120.016,
          135.998,
          135.998,
          150.073,
          150.073,
          150.073,
          115.045,
          115.045,
          119.949,
          119.949,
          109.062,
          109.062,
          109.062,
          130.048,
          130.048,
          130.048,
          130.048,
          110.018,
          110.018,
          110.018,
          84.032,
          84.032,
          108.079,
          108.079,
          110.007,
          110.007,
          110.007,
          171.723,
          171.723,
          77.525,
          77.525,
          99.742,
          99.742,
          92.038,
          92.038,
          92.038,
          97.998,
          98.064,
          98.064,
          87.736,
          87.736,
          98.086,
          93.801,
          93.801,
          93.801,
          93.801,
          108.363,
          108.363,
          108.363,
          89.701,
          120.948,
          120.948,
          138.656,
          102.64,
          134.546,
          102.149,
          91.271,
          138.747,
          115.483,
          98.225,
          125.756,
          125.756,
          100.39,
          100.046,
          160.976,
          177.289,
          91.052,
          91.052,
          91.052,
          143.836,
          98.007,
          98.007,
          98.007,
          98.007,
          98.007,
          98.007,
          98.007,
          98.007,
          98.007,
          98.007,
          98.007,
          62.065,
          62.065,
          62.065,
          62.065,
          62.065,
          62.065,
          86.526,
          86.526,
          86.526,
          86.526,
          86.526,
          86.526,
          86.526,
          86.526,
          86.526,
          100.969,
          100.969,
          104.126,
          121.049,
          159.801,
          159.801,
          100.315,
          148.919,
          148.919,
          148.919,
          148.919,
          148.919,
          148.919,
          148.919,
          148.919,
          148.919,
          148.919,
          148.919,
          148.919,
          148.919,
          148.919,
          148.919,
          94.009,
          94.009,
          94.009,
          94.009,
          94.009,
          94.009,
          94.009,
          94.009,
          94.009,
          94.009,
          94.009,
          94.009,
          94.009,
          104.973,
          121.893,
          121.893,
          121.893,
          121.893,
          121.893,
          121.893,
          121.893,
          121.893,
          121.893,
          121.893,
          121.893,
          104.774,
          79.743,
          171.776,
          120.053,
          120.053,
          120.053,
          120.053,
          120.053,
          120.053,
          124.909,
          124.909,
          67.513,
          199.843,
          199.843,
          199.843,
          199.843,
          119.959,
          119.959,
          100.045,
          179.895,
          139.602,
          126.052,
          133.017,
          118.178,
          118.178,
          118.178,
          118.178,
          89.91,
          89.91,
          89.91,
          89.91,
          45.009,
          45.009,
          45.009,
          45.009,
          45.009,
          45.009,
          94.932,
          94.932,
          94.932,
          100,
          100,
          100,
          100,
          100,
          100,
          100,
          100,
          100,
          100,
          81.942,
          144.941,
          120.033,
          124.999,
          170.163,
          130.022,
          145.045,
          82.531,
          134.868,
          92.004,
          144.892,
          144.98,
          93.987,
          93.987,
          93.987,
          93.987,
          93.987,
          93.987,
          93.987,
          93.987,
          93.987,
          93.987,
          93.987,
          104.972,
          129.854,
          129.854,
          125.791,
          125.791,
          125.791,
          125.791,
          125.791,
          124.66,
          85.276,
          85.276,
          77.577,
          87.427,
          87.427,
          107.993,
          107.993,
          79.968,
          79.968,
          79.968,
          79.968,
          79.968,
          79.968,
          75.05,
          75.05,
          75.05,
          75.05,
          75.05,
          75.05,
          75.05,
          75.05,
          75.05,
          143.892,
          143.892,
          143.892,
          143.892,
          143.892,
          143.892,
          143.892,
          160.028,
          160.028,
          160.028,
          160.028,
          160.028,
          79.995,
          131.844,
          108.721,
          141.873,
          121.958,
          99.718,
          90.956,
          74.653,
          74.653,
          83.995,
          91.798,
          90.984,
          90.984,
          90.984,
          90.984,
          107.083,
          107.083,
          107.083,
          107.083,
          107.083,
          107.083,
          107.083,
          107.083,
          107.083,
          107.083,
          77.727,
          77.727,
          94.999,
          94.999,
          171.843,
          99.774,
          116.973,
          116.973,
          95.881,
          130.036,
          148.075,
          92.997,
          92.997,
          99.81,
          85.057,
          90.026,
          90.026,
          169.748,
          169.748,
          104.686,
          134.704,
          119.989,
          129.943,
          148.674,
          116.096,
          114.973,
          81.004,
          114.99,
          89.957,
          125.071,
          103.646,
          68.102,
          68.102,
          119.504,
          152.115,
          109.239,
          142.708,
          109.152,
          102.881,
          82.014,
          76.926,
          134.042,
          103.994,
          103.994,
          165.172,
          72.623,
          72.623,
          104.378,
          104.126,
          120.154,
          120.154,
          120.154,
          103.806,
          133.273,
          128.631,
          87.705,
          98.049,
          165.393,
          165.393,
          98.941,
          98.941,
          139.846,
          123.991,
          82.511,
          82.511,
          82.511,
          82.511,
          82.511,
          160.07,
          68.632,
          131.889,
          138.574,
          66.765,
          48.423,
          140.049,
          171.953,
          116.99,
          154.669,
          154.669,
          173.515,
          173.515,
          129.969,
          129.969,
          129.969,
          78.529,
          149.161,
          149.161,
          119.962,
          119.962,
          119.962,
          119.962,
          119.962,
          119.962,
          119.962,
          119.962,
          119.962,
          119.962,
          108.042,
          108.042,
          77.019,
          74.979,
          129.581,
          99.734,
          129.981,
          173.92,
          84.264,
          130.047,
          130.047,
          107.986,
          107.986,
          107.986,
          157.992,
          108.025,
          108.025,
          77.727,
          77.727,
          77.727,
          77.727,
          77.727,
          180.077,
          180.077,
          180.077,
          180.077,
          125.918,
          125.918,
          125.918,
          125.918,
          125.918,
          125.918,
          125.918,
          125.918,
          125.918,
          125.918,
          125.918,
          149.599,
          80.008,
          144.068,
          163.324,
          77.942,
          77.942,
          77.942,
          77.942,
          77.942,
          77.942,
          77.942,
          77.942,
          77.942,
          77.942,
          77.942,
          77.942,
          160.029,
          118.003,
          100.075,
          100.075,
          100.002,
          100.508,
          100.508,
          100.508,
          151.674,
          94.234,
          66.444,
          94.075,
          175.118,
          72.951,
          141.299,
          109.891,
          81.027,
          81.027,
          82.062,
          82.062,
          109.979,
          109.979,
          168.065,
          168.065,
          110.348,
          110.348,
          119.96,
          119.96,
          119.96,
          119.96,
          119.96,
          119.96,
          109.966,
          109.966,
          149.951,
          149.951,
          149.951,
          86,
          86,
          86,
          86,
          144.115,
          119.377,
          53.761,
          80.53,
          95.064,
          139.878,
          139.878,
          139.878,
          139.878,
          167.887,
          167.887,
          167.887,
          90.012,
          90.012,
          90.012,
          108.011,
          108.011,
          108.011,
          124.996,
          135.009,
          148.907,
          98.368,
          98.368,
          142.948,
          74.897,
          52.937,
          71.073,
          155.48,
          76.508,
          82.026,
          199.35,
          148.029,
          81.374,
          124.549,
          124.549,
          106.154,
          74.976,
          123.616,
          83.899,
          85.828,
          80.229,
          80.229,
          173.628,
          74.897,
          164.462,
          82.054,
          89.535,
          127.046,
          120.607,
          120.607,
          120.607,
          120.607,
          140.316,
          131.017,
          131.017,
          114.095,
          114.095,
          114.095,
          114.095,
          114.095,
          114.095,
          114.095,
          114.095,
          76.139,
          76.139,
          76.139,
          116.426,
          117.997,
          78.131,
          122.1,
          106.99,
          135.943,
          99.638,
          124.96,
          110.012,
          94.42,
          119.965,
          177.963,
          177.963,
          144.956,
          130.007,
          130.007,
          115.124,
          138.05,
          107.946,
          76.176,
          129.604,
          119.964,
          125.965,
          107.12,
          92.321,
          114.015,
          114.015,
          114.015,
          114.015,
          146.736,
          146.736,
          113.376,
          112.608,
          162.804,
          173.718,
          134.813,
          134.813,
          134.813,
          134.813,
          98.007,
          126.055,
          120.101,
          106.966,
          105.937,
          132.881,
          120.033,
          117.849,
          170.594,
          170.594,
          90.472,
          89.125,
          89.993,
          82.009,
          99.933,
          99.933,
          82.524,
          103.666,
          105.513,
          136.195,
          93.217,
          176.57,
          176.57,
          104.664,
          124.601,
          127.43,
          127.43,
          87.272,
          87.272,
          84.775,
          83.479,
          80.635,
          115.863,
          144.631,
          111.31,
          86.471,
          123.581,
          82.264,
          84.028,
          84.028,
          147.683,
          147.683,
          104.999,
          80.567,
          117.239,
          79.877,
          79.877,
          79.877,
          79.877,
          79.877,
          79.877,
          79.877,
          79.877,
          79.877,
          94.891,
          94.891,
          94.891,
          94.891,
          94.891,
          94.891,
          94.891,
          94.891,
          78.05,
          78.05,
          78.05,
          78.05,
          78.05,
          78.05,
          78.05,
          78.05,
          78.05,
          97.893,
          97.893,
          97.893,
          37.264,
          125.996,
          94.2,
          52.289,
          84.28,
          88.745,
          88.71,
          88.71,
          84.028,
          84.028,
          84.028,
          83.638,
          82.758,
          98.503,
          104.187,
          166.118,
          76.147,
          124.368,
          82.026,
          100.823,
          120.955,
          102.096,
          124.198,
          98.312,
          166.19,
          126.728,
          113.871,
          77.936,
          77.936,
          178.073,
          84.821,
          106.472,
          106.472,
          107.279,
          89.263,
          118.675,
          127.855,
          108.54,
          169.961,
          169.961,
          71.904,
          71.904,
          71.904,
          71.904,
          71.904,
          71.904,
          71.904,
          71.904,
          81.94,
          81.94,
          91.967,
          91.967,
          127.81,
          137.107,
          150.006,
          150.006,
          175.841,
          175.841,
          175.841,
          122.009,
          119.95,
          125.702,
          125.702,
          170.109,
          149.82,
          149.82,
          149.82,
          104.942,
          153.186,
          79.508,
          167.348,
          167.348,
          100.007,
          175.957,
          129.014,
          79.038,
          150.014,
          97.972,
          106.999,
          77.041,
          130.037,
          149.977,
          152.085,
          94.933,
          148.017,
          89.998,
          83.021,
          168.034,
          151.974,
          83.986,
          150.068,
          77.495,
          195.918,
          130.098,
          106.043,
          106.043,
          155.954,
          155.954,
          80.011,
          80.011,
          107.893,
          107.893,
          107.893,
          128.532,
          74.85,
          74.85,
          126.007,
          116.86,
          123.646,
          101.557,
          92.085,
          81.881,
          140.284,
          99.453,
          92.927,
          134.321,
          82.755,
          81.812,
          164.843,
          161.42,
          161.42,
          161.42,
          173.924,
          173.924,
          173.924,
          173.924,
          94.989,
          94.989,
          107.052,
          107.052,
          75.057,
          75.057,
          94.965,
          94.965,
          109.959,
          160.025,
          160.025,
          142.266,
          112.991,
          112.991,
          112.991,
          79.981,
          79.981,
          79.981,
          79.981,
          135.857,
          160.03,
          160.025,
          122.032,
          92.983,
          127.998,
          91.999,
          91.999,
          97.998,
          104.915,
          96.93,
          139.935,
          92.997,
          140.178,
          149.984,
          78.014,
          89.979,
          132.896,
          171.902,
          171.902,
          200.114,
          128.97,
          78.043,
          91.936,
          91.936,
          91.936,
          94.988,
          118.007,
          118.007,
          118.007,
          73.963,
          139.262,
          127.25,
          127.25,
          148.453,
          83.692,
          97.335,
          82.352,
          82.352,
          172.171,
          99.983,
          113.995,
          115.034,
          135.963,
          159.946,
          130.06,
          130.06,
          139.989,
          80.109,
          113.598,
          135.714,
          130.209,
          82.552,
          114.314,
          129.412,
          85.828,
          85.828,
          102.23,
          94.714,
          171.265,
          81.121,
          61.398,
          61.398,
          61.398,
          119.973,
          82.511,
          99.969,
          99.969,
          82.008,
          82.008,
          82.008,
          82.008,
          144.859,
          144.859,
          144.859,
          144.859,
          129.918,
          173.95,
          86.312,
          86.312,
          90.587,
          106.035,
          106.035,
          168.908,
          91.265,
          124.549,
          173.557,
          110.962,
          110.962,
          110.962,
          110.962,
          110.962,
          110.962,
          110.962,
          110.962,
          110.962,
          110.962,
          146.163,
          179.727,
          97.022,
          97.022,
          94.06,
          120.032,
          72.541,
          124.995,
          145.044,
          100.873,
          104.952,
          129.041,
          135.781,
          130.05,
          129.959,
          184.057,
          184.057,
          90.024,
          90.024,
          90.024,
          90.024,
          90.024,
          90.024,
          90.024,
          100.039,
          100.039,
          127.824,
          186.249,
          110.917,
          119.522,
          124.038,
          124.038,
          91.947,
          92.349,
          92.349,
          92.349,
          92.349,
          92.349,
          92.349,
          92.349,
          95.03,
          115.991,
          94.08,
          94.08,
          129.971,
          175.869,
          184.112,
          120.932,
          145.944,
          145.944,
          110.963,
          138.069,
          114.679,
          159.927,
          95.162,
          89.134,
          169.034,
          107.904,
          119.541,
          130.413,
          90.015,
          119.421,
          113.03,
          73.537,
          100.119,
          85.012,
          124.956,
          75.014,
          75.014,
          117.92,
          121.963,
          154.04,
          87.981,
          79.999,
          85.926,
          131.832,
          74.727,
          74.727,
          139.912,
          139.912,
          89.989,
          89.989,
          89.989,
          89.989,
          89.989,
          89.989,
          169.972,
          169.972,
          170.006,
          87.972,
          87.972,
          90.014,
          90.014,
          90.014,
          120.036,
          100.01,
          100.01,
          100.01,
          124.009,
          124.009,
          89.992,
          143.804,
          143.804,
          143.804,
          143.804,
          143.804,
          143.804,
          143.804,
          106.989,
          103.966,
          103.966,
          103.966,
          103.966,
          103.966,
          94.953,
          129.877,
          129.877,
          129.877,
          149.883,
          104.986,
          101.003,
          132.972,
          132.972,
          132.972,
          180.005,
          91.999,
          130.022,
          134.914,
          114.424,
          129.945,
          105.015,
          105.001,
          105.001,
          80.001,
          80.001,
          80.001,
          80.001,
          80.001,
          80.001,
          80.001,
          80.001,
          80.001,
          80.001,
          80.001,
          109.932,
          90.002,
          86.051,
          86.051,
          90.445,
          79.985,
          79.985,
          79.985,
          79.985,
          90.986,
          96.993,
          131.969,
          131.969,
          134.891,
          99.902,
          88,
          73.963,
          114.843,
          114.843,
          87.998,
          120.013,
          139.875,
          139.875,
          104.998,
          104.998,
          104.998,
          104.998,
          142,
          85.002,
          89.991,
          106.901,
          109.022,
          130.013,
          107.356,
          139.994,
          129.857,
          112.887,
          112.887,
          104.01,
          119.85,
          119.85,
          107.969,
          164.938,
          132.08,
          132.08,
          91.873,
          53.861,
          99.89,
          99.89,
          99.89,
          99.89,
          99.89,
          99.89,
          99.89,
          167.882,
          167.882,
          143.808,
          143.808,
          143.808,
          124.998,
          124.998,
          86.26,
          85.227,
          93.928,
          93.928,
          93.928,
          93.928,
          93.928,
          93.928,
          93.928,
          93.928,
          125.026,
          127.479,
          68.45,
          78.768,
          109.992,
          139.941,
          114.044,
          70.055,
          162.007,
          94.9,
          94.9,
          135.029,
          94.998,
          94.998,
          134.977,
          90.991,
          136.899,
          129.96,
          129.96,
          180.148,
          180.148,
          180.148,
          180.148,
          180.148,
          180.148,
          174.015,
          147.073,
          91.877,
          178.336,
          114.005,
          89.987,
          95.884,
          95.884,
          94.988,
          129.879,
          179.858,
          179.858,
          111.967,
          82.013,
          82.013,
          82.013,
          82.013,
          144.024,
          144.024,
          144.024,
          144.024,
          85.969,
          85.969,
          89.929,
          89.976,
          87.865,
          87.865,
          139.966,
          94.984,
          94.984,
          114.917,
          114.917,
          94.039,
          72.006,
          90.959,
          90.959,
          179.704,
          110.172,
          110.172,
          110.172,
          121.968,
          121.968,
          83.967,
          83.967,
          90.997,
          90.997,
          90.997,
          108.956,
          95.015,
          143.89,
          158.125,
          109.998,
          83.986,
          139.9,
          89.993,
          89.993,
          87.078,
          94.991,
          93.97,
          67.91,
          166.481,
          170.09,
          170.09,
          171.91,
          115.514,
          82.725,
          107.041,
          80.109,
          94.992,
          94.992,
          96.032,
          118.911,
          163.721,
          169.637,
          128.147,
          171.995,
          84.733,
          127.466,
          97.932,
          86.982,
          82.932,
          107.005,
          80.883,
          142.412,
          108.883,
          143.982,
          77.003,
          77.003,
          77.003,
          131.977,
          131.977,
          131.977,
          89.998,
          89.998,
          89.998,
          123.988,
          123.988,
          123.988,
          123.988,
          123.988,
          169.456,
          169.456,
          96.969,
          96.969,
          96.969,
          96.969,
          150.304,
          150.304,
          150.304,
          150.304,
          150.304,
          150.304,
          110.018,
          110.018,
          172.016,
          172.016,
          172.016,
          172.016,
          172.016,
          88.983,
          88.983,
          96.499,
          96.499,
          96.499,
          95.033,
          95.033,
          95.033,
          120.014,
          120.014,
          120.014,
          137.344,
          137.344,
          137.344,
          137.344,
          96.013,
          96.013,
          117.948,
          129.835,
          138.004,
          133.993,
          133.993,
          186.113,
          87.96,
          88.013,
          88.013,
          130.973,
          109.436,
          65.627,
          64.934,
          160.125,
          129.839,
          84.809,
          110.063,
          200.781,
          72.902,
          72.902,
          72.902,
          72.902,
          72.902,
          158.953,
          158.953,
          158.953,
          158.953,
          158.953,
          158.953,
          102.999,
          102.999,
          102.999,
          102.999,
          102.999,
          102.999,
          102.999,
          79.178,
          147.886,
          94.972,
          94.972,
          100.003,
          119.911,
          157.514,
          137.014,
          192.041,
          161.916,
          112.022,
          159.725,
          159.725,
          159.725,
          159.725,
          159.725,
          159.725,
          95.01,
          89.101,
          94.953,
          136.088,
          136.088,
          145.004,
          138.178,
          138.178,
          138.178,
          98.04,
          98.04,
          124.04,
          124.04,
          124.04,
          124.04,
          122.009,
          122.009,
          124.996,
          124.996,
          124.949,
          62.208,
          90.352,
          90.352,
          100.012,
          191.809,
          94.817,
          94.817,
          176.977,
          125.835,
          139.89,
          83.963,
          104.018,
          97.991,
          145.532,
          145.532,
          145.532,
          91.853,
          91.853,
          116.201,
          142.52,
          84.566,
          171.923,
          171.923,
          171.923,
          93.874,
          93.874,
          156.002,
          156.002,
          110.212,
          110.212,
          112.957,
          116.82,
          110.944,
          90.941,
          106.996,
          106.996,
          90.848,
          90.848,
          104.015,
          79.007,
          76.995,
          164.928,
          134.95,
          158.1,
          99.002,
          169.676,
          79.985,
          79.985,
          149.82,
          79.43,
          111.953,
          75.014,
          129.946,
          80.059,
          149.926,
          149.926,
          149.926,
          149.926,
          121.94,
          110.108,
          98.027,
          93.09,
          99.898,
          89.868,
          128.009,
          135.528,
          95.039,
          130.029,
          123.003,
          75.222,
          135.991,
          101.964,
          90.088,
          90.088,
          90.088,
          108.034,
          129.017,
          124.949,
          176.791,
          103.827,
          111.82,
          120.959,
          120.959,
          150.995,
          171.845,
          92.477,
          128.003,
          65.027,
          60.997,
          63.939,
          75.052,
          69.997,
          117.932,
          63.34,
          137.845,
          71.961,
          139.979,
          134.254,
          117.048,
          82.708,
          123.952,
          123.952,
          60.964,
          124.993,
          65.036,
          115.283,
          126.031,
          94.951,
          120.013,
          124.973,
          76.03,
          159.92,
          119.906,
          147.647,
          120.259,
          77.963,
          79.842,
          124.017,
          109.99,
          70.502,
          70.047,
          94.03,
          104.102,
          65.402,
          73.762,
          119.955,
          149.978,
          164.621,
          96.446,
          130.912,
          130.912,
          177.351,
          115.918,
          90.015,
          109.827,
          84.951,
          135.813,
          77.021,
          60.507,
          70.019,
          86.821,
          64.092,
          64.092,
          101.252,
          101.252,
          101.252,
          96.338,
          102.857,
          123.319,
          147.959,
          147.959,
          127.998,
          95.016,
          95.016,
          100.1,
          190.097,
          103.997,
          103.997,
          103.997,
          149.894,
          90.052,
          123.024,
          115.006,
          153.794,
          90.012,
          93.47,
          117.992,
          117.992,
          127.821,
          83.886,
          79.241,
          79.241,
          75.801,
          117.013,
          96.391,
          96.391,
          116.945,
          116.013,
          83.997,
          126.904,
          122.657,
          109.999,
          174.248,
          133.585,
          86.095,
          187.468,
          102.078,
          115.502,
          110.55,
          164.995,
          128.153,
          94.072,
          125.046,
          74.251,
          74.251,
          116.793,
          96.792,
          143.271,
          107.998,
          79.954,
          80.225,
          103.8,
          170.187,
          123.013,
          107.647,
          87.936,
          140.043,
          126.999,
          172.545,
          80.029,
          83.985,
          143.765,
          77.366,
          80.965,
          116.012,
          77.683,
          128.665,
          100.012,
          104.979,
          104.979,
          104.979,
          104.979,
          99.248,
          123.11,
          123.11,
          69.561,
          78.291,
          132.316,
          120.998,
          115.484,
          125.413,
          125.413,
          125.413,
          68.089,
          76.057,
          109.911,
          86.248,
          83.346,
          127.111,
          127.111,
          125.771,
          135.404,
          115.001,
          138.928,
          119.612,
          159.519,
          159.519,
          81.386,
          122.396,
          122.396,
          147.152,
          147.152,
          147.152,
          88.539,
          88.539,
          88.539,
          88.539,
          107.433,
          105.131,
          103.647,
          76.72,
          86.086,
          156.918,
          109.976,
          119.98,
          139.989,
          90.959,
          109.959,
          108.021,
          171.83,
          95.003,
          98.933,
          128.1,
          128.1,
          128.1,
          150.11,
          150.11,
          97.979,
          97.979,
          172.113,
          84.772,
          136.019,
          80.028,
          80.028,
          82.237,
          82.237,
          82.237,
          82.237,
          178.026,
          178.026,
          178.026,
          178.026,
          148.73,
          148.73,
          168.253,
          168.253,
          168.253,
          93.293,
          115.893,
          120.088,
          120.088,
          120.088,
          104.517,
          104.517,
          104.517,
          99.498,
          172.006,
          99.008,
          139.509,
          79.999,
          125.008,
          103.994,
          141.979,
          159.998,
          124.543,
          89.874,
          101.016,
          101.016,
          89.984,
          89.984,
          82.84,
          84.878,
          99.865,
          99.865,
          174.903,
          102.989,
          113.997,
          170.954,
          170.954,
          81.919,
          175.922,
          157.417,
          89.901,
          141.035,
          76.176,
          138.675,
          88.834,
          113.013,
          123.97,
          99.034,
          116.971,
          116.971,
          72.399,
          142.056,
          142.056,
          142.056,
          142.056,
          116,
          80.251,
          82.753,
          159.908,
          159.908,
          159.908,
          159.908,
          75.152,
          80.783,
          80.783,
          80.783,
          94.354,
          94.354,
          94.354,
          142.476,
          142.476,
          98.484,
          98.484,
          98.484,
          92.602,
          98.619,
          79.29,
          86.565,
          86.565,
          86.565,
          182.048,
          182.048,
          104.273,
          104.273,
          170.671,
          170.671,
          170.671,
          170.671,
          107.573,
          107.573,
          110.187,
          110.187,
          83.099,
          83.099,
          139.34,
          139.34,
          90.917,
          90.917,
          88.099,
          88.099,
          88.099,
          111.191,
          111.191,
          146.508,
          146.508,
          121.956,
          121.956,
          92.882,
          92.882,
          92.882,
          92.882,
          108.02,
          108.02,
          91.551,
          91.551,
          91.551,
          91.551,
          91.551,
          87.925,
          87.925,
          87.925,
          87.925,
          87.925,
          87.925,
          102.226,
          102.226,
          87.993,
          87.993,
          109.716,
          109.716,
          109.716,
          137.363,
          106.02,
          106.02,
          88.969,
          88.969,
          88.969,
          88.969,
          88.969,
          88.969,
          88.969,
          88.969,
          88.969,
          76.805,
          76.805,
          100.003,
          94.256,
          94.256,
          131.815,
          120.016,
          148.435,
          93.019,
          86.038,
          90.854,
          108.33,
          89.984,
          89.984,
          89.984,
          78.817,
          144.43,
          86.649,
          114.136,
          95.054,
          105.046,
          98.019,
          139.993,
          91.98,
          99.989,
          99.989,
          94.972,
          73.981,
          111.939,
          145.842,
          89.977,
          150.076,
          110.093,
          89.937,
          89.937,
          89.937,
          94.926,
          171.005,
          135.886,
          84.028,
          84.028,
          84.028,
          84.028,
          84.028,
          84.028,
          100.013,
          87.441,
          124.973,
          154.925,
          104.001,
          130.975,
          104.032,
          104.032,
          91.995,
          91.995,
          167.529,
          120.944,
          127.387,
          187.603,
          107.39,
          170.671,
          121.723,
          78.768,
          104.562,
          139.879,
          139.879,
          124.886,
          124.886,
          177.706,
          94.485,
          109.987,
          125.964,
          164.912,
          118.038,
          119.963,
          78.992,
          119.954,
          118.842,
          138.002,
          84.784,
          80.044,
          149.884,
          81.989,
          132.485,
          116.153,
          113.895,
          89.761,
          102.649,
          85.773,
          90.948,
          107.103,
          97.521,
          109.943,
          97.063,
          73.603,
          145.104,
          78.46,
          80.892,
          145.309,
          145.309,
          141.146,
          130.263,
          89.979,
          130.093,
          118.077,
          118.077,
          80.99,
          169.618,
          70.899,
          70.899,
          70.899,
          64.27,
          64.27,
          70.953,
          70.953,
          93.542,
          93.542,
          93.542,
          138.146,
          64.171,
          64.171,
          90.712,
          90.712,
          124.875,
          124.875,
          133.605,
          133.605,
          108.087,
          108.087,
          76.776,
          129.969,
          140.348,
          120.016,
          120.016,
          129.967,
          79.999,
          67.205,
          132.436,
          132.436,
          88.985,
          107.628,
          137.097,
          78.349,
          97.097,
          82.015,
          174.919,
          135.091,
          131.061,
          143.482,
          141.397,
          112.983,
          89.864,
          90.056,
          100.009
         ],
         "y0": " ",
         "yaxis": "y"
        }
       ],
       "layout": {
        "boxmode": "group",
        "legend": {
         "tracegroupgap": 0
        },
        "margin": {
         "t": 60
        },
        "template": {
         "data": {
          "bar": [
           {
            "error_x": {
             "color": "#2a3f5f"
            },
            "error_y": {
             "color": "#2a3f5f"
            },
            "marker": {
             "line": {
              "color": "#E5ECF6",
              "width": 0.5
             },
             "pattern": {
              "fillmode": "overlay",
              "size": 10,
              "solidity": 0.2
             }
            },
            "type": "bar"
           }
          ],
          "barpolar": [
           {
            "marker": {
             "line": {
              "color": "#E5ECF6",
              "width": 0.5
             },
             "pattern": {
              "fillmode": "overlay",
              "size": 10,
              "solidity": 0.2
             }
            },
            "type": "barpolar"
           }
          ],
          "carpet": [
           {
            "aaxis": {
             "endlinecolor": "#2a3f5f",
             "gridcolor": "white",
             "linecolor": "white",
             "minorgridcolor": "white",
             "startlinecolor": "#2a3f5f"
            },
            "baxis": {
             "endlinecolor": "#2a3f5f",
             "gridcolor": "white",
             "linecolor": "white",
             "minorgridcolor": "white",
             "startlinecolor": "#2a3f5f"
            },
            "type": "carpet"
           }
          ],
          "choropleth": [
           {
            "colorbar": {
             "outlinewidth": 0,
             "ticks": ""
            },
            "type": "choropleth"
           }
          ],
          "contour": [
           {
            "colorbar": {
             "outlinewidth": 0,
             "ticks": ""
            },
            "colorscale": [
             [
              0,
              "#0d0887"
             ],
             [
              0.1111111111111111,
              "#46039f"
             ],
             [
              0.2222222222222222,
              "#7201a8"
             ],
             [
              0.3333333333333333,
              "#9c179e"
             ],
             [
              0.4444444444444444,
              "#bd3786"
             ],
             [
              0.5555555555555556,
              "#d8576b"
             ],
             [
              0.6666666666666666,
              "#ed7953"
             ],
             [
              0.7777777777777778,
              "#fb9f3a"
             ],
             [
              0.8888888888888888,
              "#fdca26"
             ],
             [
              1,
              "#f0f921"
             ]
            ],
            "type": "contour"
           }
          ],
          "contourcarpet": [
           {
            "colorbar": {
             "outlinewidth": 0,
             "ticks": ""
            },
            "type": "contourcarpet"
           }
          ],
          "heatmap": [
           {
            "colorbar": {
             "outlinewidth": 0,
             "ticks": ""
            },
            "colorscale": [
             [
              0,
              "#0d0887"
             ],
             [
              0.1111111111111111,
              "#46039f"
             ],
             [
              0.2222222222222222,
              "#7201a8"
             ],
             [
              0.3333333333333333,
              "#9c179e"
             ],
             [
              0.4444444444444444,
              "#bd3786"
             ],
             [
              0.5555555555555556,
              "#d8576b"
             ],
             [
              0.6666666666666666,
              "#ed7953"
             ],
             [
              0.7777777777777778,
              "#fb9f3a"
             ],
             [
              0.8888888888888888,
              "#fdca26"
             ],
             [
              1,
              "#f0f921"
             ]
            ],
            "type": "heatmap"
           }
          ],
          "heatmapgl": [
           {
            "colorbar": {
             "outlinewidth": 0,
             "ticks": ""
            },
            "colorscale": [
             [
              0,
              "#0d0887"
             ],
             [
              0.1111111111111111,
              "#46039f"
             ],
             [
              0.2222222222222222,
              "#7201a8"
             ],
             [
              0.3333333333333333,
              "#9c179e"
             ],
             [
              0.4444444444444444,
              "#bd3786"
             ],
             [
              0.5555555555555556,
              "#d8576b"
             ],
             [
              0.6666666666666666,
              "#ed7953"
             ],
             [
              0.7777777777777778,
              "#fb9f3a"
             ],
             [
              0.8888888888888888,
              "#fdca26"
             ],
             [
              1,
              "#f0f921"
             ]
            ],
            "type": "heatmapgl"
           }
          ],
          "histogram": [
           {
            "marker": {
             "pattern": {
              "fillmode": "overlay",
              "size": 10,
              "solidity": 0.2
             }
            },
            "type": "histogram"
           }
          ],
          "histogram2d": [
           {
            "colorbar": {
             "outlinewidth": 0,
             "ticks": ""
            },
            "colorscale": [
             [
              0,
              "#0d0887"
             ],
             [
              0.1111111111111111,
              "#46039f"
             ],
             [
              0.2222222222222222,
              "#7201a8"
             ],
             [
              0.3333333333333333,
              "#9c179e"
             ],
             [
              0.4444444444444444,
              "#bd3786"
             ],
             [
              0.5555555555555556,
              "#d8576b"
             ],
             [
              0.6666666666666666,
              "#ed7953"
             ],
             [
              0.7777777777777778,
              "#fb9f3a"
             ],
             [
              0.8888888888888888,
              "#fdca26"
             ],
             [
              1,
              "#f0f921"
             ]
            ],
            "type": "histogram2d"
           }
          ],
          "histogram2dcontour": [
           {
            "colorbar": {
             "outlinewidth": 0,
             "ticks": ""
            },
            "colorscale": [
             [
              0,
              "#0d0887"
             ],
             [
              0.1111111111111111,
              "#46039f"
             ],
             [
              0.2222222222222222,
              "#7201a8"
             ],
             [
              0.3333333333333333,
              "#9c179e"
             ],
             [
              0.4444444444444444,
              "#bd3786"
             ],
             [
              0.5555555555555556,
              "#d8576b"
             ],
             [
              0.6666666666666666,
              "#ed7953"
             ],
             [
              0.7777777777777778,
              "#fb9f3a"
             ],
             [
              0.8888888888888888,
              "#fdca26"
             ],
             [
              1,
              "#f0f921"
             ]
            ],
            "type": "histogram2dcontour"
           }
          ],
          "mesh3d": [
           {
            "colorbar": {
             "outlinewidth": 0,
             "ticks": ""
            },
            "type": "mesh3d"
           }
          ],
          "parcoords": [
           {
            "line": {
             "colorbar": {
              "outlinewidth": 0,
              "ticks": ""
             }
            },
            "type": "parcoords"
           }
          ],
          "pie": [
           {
            "automargin": true,
            "type": "pie"
           }
          ],
          "scatter": [
           {
            "fillpattern": {
             "fillmode": "overlay",
             "size": 10,
             "solidity": 0.2
            },
            "type": "scatter"
           }
          ],
          "scatter3d": [
           {
            "line": {
             "colorbar": {
              "outlinewidth": 0,
              "ticks": ""
             }
            },
            "marker": {
             "colorbar": {
              "outlinewidth": 0,
              "ticks": ""
             }
            },
            "type": "scatter3d"
           }
          ],
          "scattercarpet": [
           {
            "marker": {
             "colorbar": {
              "outlinewidth": 0,
              "ticks": ""
             }
            },
            "type": "scattercarpet"
           }
          ],
          "scattergeo": [
           {
            "marker": {
             "colorbar": {
              "outlinewidth": 0,
              "ticks": ""
             }
            },
            "type": "scattergeo"
           }
          ],
          "scattergl": [
           {
            "marker": {
             "colorbar": {
              "outlinewidth": 0,
              "ticks": ""
             }
            },
            "type": "scattergl"
           }
          ],
          "scattermapbox": [
           {
            "marker": {
             "colorbar": {
              "outlinewidth": 0,
              "ticks": ""
             }
            },
            "type": "scattermapbox"
           }
          ],
          "scatterpolar": [
           {
            "marker": {
             "colorbar": {
              "outlinewidth": 0,
              "ticks": ""
             }
            },
            "type": "scatterpolar"
           }
          ],
          "scatterpolargl": [
           {
            "marker": {
             "colorbar": {
              "outlinewidth": 0,
              "ticks": ""
             }
            },
            "type": "scatterpolargl"
           }
          ],
          "scatterternary": [
           {
            "marker": {
             "colorbar": {
              "outlinewidth": 0,
              "ticks": ""
             }
            },
            "type": "scatterternary"
           }
          ],
          "surface": [
           {
            "colorbar": {
             "outlinewidth": 0,
             "ticks": ""
            },
            "colorscale": [
             [
              0,
              "#0d0887"
             ],
             [
              0.1111111111111111,
              "#46039f"
             ],
             [
              0.2222222222222222,
              "#7201a8"
             ],
             [
              0.3333333333333333,
              "#9c179e"
             ],
             [
              0.4444444444444444,
              "#bd3786"
             ],
             [
              0.5555555555555556,
              "#d8576b"
             ],
             [
              0.6666666666666666,
              "#ed7953"
             ],
             [
              0.7777777777777778,
              "#fb9f3a"
             ],
             [
              0.8888888888888888,
              "#fdca26"
             ],
             [
              1,
              "#f0f921"
             ]
            ],
            "type": "surface"
           }
          ],
          "table": [
           {
            "cells": {
             "fill": {
              "color": "#EBF0F8"
             },
             "line": {
              "color": "white"
             }
            },
            "header": {
             "fill": {
              "color": "#C8D4E3"
             },
             "line": {
              "color": "white"
             }
            },
            "type": "table"
           }
          ]
         },
         "layout": {
          "annotationdefaults": {
           "arrowcolor": "#2a3f5f",
           "arrowhead": 0,
           "arrowwidth": 1
          },
          "autotypenumbers": "strict",
          "coloraxis": {
           "colorbar": {
            "outlinewidth": 0,
            "ticks": ""
           }
          },
          "colorscale": {
           "diverging": [
            [
             0,
             "#8e0152"
            ],
            [
             0.1,
             "#c51b7d"
            ],
            [
             0.2,
             "#de77ae"
            ],
            [
             0.3,
             "#f1b6da"
            ],
            [
             0.4,
             "#fde0ef"
            ],
            [
             0.5,
             "#f7f7f7"
            ],
            [
             0.6,
             "#e6f5d0"
            ],
            [
             0.7,
             "#b8e186"
            ],
            [
             0.8,
             "#7fbc41"
            ],
            [
             0.9,
             "#4d9221"
            ],
            [
             1,
             "#276419"
            ]
           ],
           "sequential": [
            [
             0,
             "#0d0887"
            ],
            [
             0.1111111111111111,
             "#46039f"
            ],
            [
             0.2222222222222222,
             "#7201a8"
            ],
            [
             0.3333333333333333,
             "#9c179e"
            ],
            [
             0.4444444444444444,
             "#bd3786"
            ],
            [
             0.5555555555555556,
             "#d8576b"
            ],
            [
             0.6666666666666666,
             "#ed7953"
            ],
            [
             0.7777777777777778,
             "#fb9f3a"
            ],
            [
             0.8888888888888888,
             "#fdca26"
            ],
            [
             1,
             "#f0f921"
            ]
           ],
           "sequentialminus": [
            [
             0,
             "#0d0887"
            ],
            [
             0.1111111111111111,
             "#46039f"
            ],
            [
             0.2222222222222222,
             "#7201a8"
            ],
            [
             0.3333333333333333,
             "#9c179e"
            ],
            [
             0.4444444444444444,
             "#bd3786"
            ],
            [
             0.5555555555555556,
             "#d8576b"
            ],
            [
             0.6666666666666666,
             "#ed7953"
            ],
            [
             0.7777777777777778,
             "#fb9f3a"
            ],
            [
             0.8888888888888888,
             "#fdca26"
            ],
            [
             1,
             "#f0f921"
            ]
           ]
          },
          "colorway": [
           "#636efa",
           "#EF553B",
           "#00cc96",
           "#ab63fa",
           "#FFA15A",
           "#19d3f3",
           "#FF6692",
           "#B6E880",
           "#FF97FF",
           "#FECB52"
          ],
          "font": {
           "color": "#2a3f5f"
          },
          "geo": {
           "bgcolor": "white",
           "lakecolor": "white",
           "landcolor": "#E5ECF6",
           "showlakes": true,
           "showland": true,
           "subunitcolor": "white"
          },
          "hoverlabel": {
           "align": "left"
          },
          "hovermode": "closest",
          "mapbox": {
           "style": "light"
          },
          "paper_bgcolor": "white",
          "plot_bgcolor": "#E5ECF6",
          "polar": {
           "angularaxis": {
            "gridcolor": "white",
            "linecolor": "white",
            "ticks": ""
           },
           "bgcolor": "#E5ECF6",
           "radialaxis": {
            "gridcolor": "white",
            "linecolor": "white",
            "ticks": ""
           }
          },
          "scene": {
           "xaxis": {
            "backgroundcolor": "#E5ECF6",
            "gridcolor": "white",
            "gridwidth": 2,
            "linecolor": "white",
            "showbackground": true,
            "ticks": "",
            "zerolinecolor": "white"
           },
           "yaxis": {
            "backgroundcolor": "#E5ECF6",
            "gridcolor": "white",
            "gridwidth": 2,
            "linecolor": "white",
            "showbackground": true,
            "ticks": "",
            "zerolinecolor": "white"
           },
           "zaxis": {
            "backgroundcolor": "#E5ECF6",
            "gridcolor": "white",
            "gridwidth": 2,
            "linecolor": "white",
            "showbackground": true,
            "ticks": "",
            "zerolinecolor": "white"
           }
          },
          "shapedefaults": {
           "line": {
            "color": "#2a3f5f"
           }
          },
          "ternary": {
           "aaxis": {
            "gridcolor": "white",
            "linecolor": "white",
            "ticks": ""
           },
           "baxis": {
            "gridcolor": "white",
            "linecolor": "white",
            "ticks": ""
           },
           "bgcolor": "#E5ECF6",
           "caxis": {
            "gridcolor": "white",
            "linecolor": "white",
            "ticks": ""
           }
          },
          "title": {
           "x": 0.05
          },
          "xaxis": {
           "automargin": true,
           "gridcolor": "white",
           "linecolor": "white",
           "ticks": "",
           "title": {
            "standoff": 15
           },
           "zerolinecolor": "white",
           "zerolinewidth": 2
          },
          "yaxis": {
           "automargin": true,
           "gridcolor": "white",
           "linecolor": "white",
           "ticks": "",
           "title": {
            "standoff": 15
           },
           "zerolinecolor": "white",
           "zerolinewidth": 2
          }
         }
        },
        "xaxis": {
         "anchor": "y",
         "domain": [
          0,
          1
         ]
        },
        "yaxis": {
         "anchor": "x",
         "domain": [
          0,
          1
         ],
         "title": {
          "text": "tempo"
         }
        }
       }
      },
      "text/html": [
       "<div>                            <div id=\"2cda4a3e-24c4-444e-9b3f-475e63d0ab57\" class=\"plotly-graph-div\" style=\"height:525px; width:100%;\"></div>            <script type=\"text/javascript\">                require([\"plotly\"], function(Plotly) {                    window.PLOTLYENV=window.PLOTLYENV || {};                                    if (document.getElementById(\"2cda4a3e-24c4-444e-9b3f-475e63d0ab57\")) {                    Plotly.newPlot(                        \"2cda4a3e-24c4-444e-9b3f-475e63d0ab57\",                        [{\"alignmentgroup\":\"True\",\"hovertemplate\":\"tempo=%{y}<extra></extra>\",\"legendgroup\":\"\",\"marker\":{\"color\":\"#636efa\"},\"name\":\"\",\"notched\":false,\"offsetgroup\":\"\",\"orientation\":\"v\",\"showlegend\":false,\"x0\":\" \",\"xaxis\":\"x\",\"y\":[136.943,218.365,117.895,117.895,117.895,117.895,117.895,117.895,117.895,117.895,117.895,117.895,139.02,115.92,115.92,115.92,115.92,115.92,115.92,115.92,115.92,115.92,115.92,115.92,110.009,110.009,110.009,110.009,110.009,110.009,110.009,110.009,110.009,110.009,110.009,110.009,110.009,110.009,110.009,84.717,84.717,84.717,84.717,84.717,84.717,84.717,84.717,84.717,84.717,84.717,84.717,84.717,137.839,137.839,137.839,137.839,137.839,137.839,137.839,137.839,137.839,137.839,137.839,137.839,137.839,137.839,137.839,137.839,137.839,137.839,137.839,137.839,137.839,137.839,137.839,137.839,137.839,137.839,137.839,137.839,137.839,90.023,90.023,90.023,90.023,90.023,90.023,90.023,90.023,90.023,90.023,90.023,90.023,90.023,90.023,90.023,135.055,135.055,135.055,135.055,135.055,135.055,135.055,135.055,135.055,135.055,135.055,135.055,135.055,135.055,135.055,135.055,135.055,135.055,135.055,135.055,135.055,135.055,135.055,135.055,135.055,135.055,135.055,135.055,135.055,135.055,74.996,74.996,74.996,74.996,74.996,74.996,74.996,74.996,74.996,74.996,74.996,74.996,74.996,74.996,144.979,144.979,144.979,144.979,144.979,144.979,144.979,149.94,149.94,149.94,149.94,149.94,149.94,149.94,149.94,149.94,149.94,149.94,149.94,149.94,149.94,149.94,149.94,149.94,149.94,76.74,76.74,76.74,76.74,76.74,76.74,129.895,129.895,129.895,129.895,129.895,129.895,129.895,75.962,75.962,75.962,75.962,67.836,67.836,67.836,67.836,67.836,67.836,67.836,120.032,120.032,120.032,120.032,78.815,78.815,78.815,78.815,78.815,78.815,78.815,78.815,99.989,99.989,99.989,99.989,99.989,99.989,99.989,99.989,99.989,99.989,99.989,105.019,105.019,105.019,105.019,105.019,105.019,76.923,76.923,76.923,76.923,76.923,76.923,101.999,101.999,101.999,101.999,101.999,101.999,101.999,140.057,140.057,140.057,140.057,140.057,140.057,140.057,140.057,164.878,164.878,164.878,164.878,164.878,164.878,164.878,164.878,153.685,153.685,153.685,153.685,153.685,153.685,153.685,92.939,92.939,92.939,92.939,92.939,92.939,92.939,92.939,139.324,139.324,139.324,139.324,139.324,139.324,199.686,199.686,199.686,199.686,199.686,199.686,199.686,199.686,199.686,199.686,199.686,90.013,90.013,90.013,90.013,90.013,90.013,90.013,90.013,90.013,90.013,90.013,90.013,90.013,90.013,80.015,80.015,80.015,80.015,80.015,80.015,110.508,110.508,110.508,110.508,110.508,110.508,142.448,142.448,142.448,142.448,142.448,142.448,122.912,122.912,122.912,122.912,122.912,122.912,122.912,77.512,77.512,77.512,77.512,77.512,77.512,77.512,77.512,77.512,179.81,179.81,179.81,179.81,179.81,136.943,136.943,136.943,136.943,136.943,136.943,136.943,136.943,136.943,136.943,136.943,136.943,115.99,115.99,115.99,115.99,115.99,115.99,170.01,170.01,170.01,170.01,170.01,170.01,170.01,170.01,170.01,170.01,170.01,170.01,170.01,170.01,95.517,95.517,95.517,95.517,95.517,95.517,95.517,114.945,114.945,114.945,114.945,114.945,84.013,84.013,84.013,84.013,84.013,84.013,84.013,84.013,150.1,150.1,150.1,150.1,150.1,150.1,150.1,150.1,150.1,150.1,150.1,150.1,150.1,127.999,127.999,127.999,127.999,127.999,127.999,127.999,77.512,77.512,77.512,77.512,77.512,77.512,77.512,77.512,76.229,76.229,76.229,76.229,76.229,76.229,76.229,136.919,136.919,136.919,136.919,136.919,136.919,136.919,136.919,136.919,136.919,136.919,136.919,179.669,179.669,179.669,179.669,179.669,179.669,179.669,118.028,118.028,118.028,118.028,118.028,118.028,118.028,118.028,118.028,118.028,118.028,119.994,119.994,119.994,119.994,119.994,119.994,119.98,119.98,119.98,119.98,119.98,119.98,91.006,91.006,91.006,91.006,91.006,91.006,91.006,91.006,91.006,91.006,91.006,91.006,91.006,91.006,91.006,91.006,91.006,91.006,111.979,102.659,102.659,102.659,102.659,102.659,111.981,111.981,119.982,119.994,95.046,111.986,120.017,120.017,136.962,136.962,119.969,119.969,119.969,97.016,192.01,133.825,133.825,133.825,133.825,133.825,139.851,139.851,139.851,89.362,145.938,139.831,139.831,139.831,139.831,139.831,139.831,139.831,139.831,139.831,97.979,97.979,76.006,91.796,91.796,91.796,91.796,91.796,91.796,91.796,91.796,91.796,91.796,91.796,91.796,91.796,91.796,91.796,91.796,130.052,122.952,122.952,143.901,100.026,100.026,100.026,79.144,76.976,76.976,76.976,76.976,133.873,129.959,129.959,105.957,105.957,105.957,105.957,105.957,105.957,99.031,99.031,91.989,151.779,90.066,90.066,98.936,80.095,73.059,135.181,135.181,135.181,135.181,135.181,135.181,135.181,135.181,135.181,135.181,135.181,81.932,83.945,83.945,83.945,83.945,83.945,81.91,81.91,81.91,81.91,81.91,81.91,81.91,81.91,81.91,81.91,81.91,81.91,81.91,81.91,89.725,89.725,89.725,89.725,89.725,89.725,89.725,89.725,79.993,79.993,79.993,79.993,79.993,79.993,79.993,79.993,79.993,79.993,79.993,79.993,79.993,79.993,79.993,79.993,79.993,79.993,79.993,79.993,79.993,79.993,79.993,94.932,94.932,94.932,94.932,94.932,94.932,94.932,94.908,94.908,94.908,94.908,94.908,94.908,94.908,94.696,94.696,94.696,94.696,182.961,182.961,109.973,109.973,110.307,115.917,115.917,115.917,115.917,115.917,115.917,115.917,115.917,115.917,115.917,115.917,115.917,115.917,159.959,150.13,150.13,138.975,101.707,137.839,137.839,137.839,137.839,137.839,137.839,137.839,137.839,137.839,137.839,137.839,137.839,137.839,137.839,137.839,137.839,80.982,80.982,80.982,80.982,80.982,80.982,80.982,80.982,80.982,80.982,80.982,80.982,80.982,80.982,80.982,80.982,80.982,80.982,80.982,80.982,80.982,80.982,80.982,80.982,80.982,80.982,80.982,156.051,156.051,156.051,156.051,156.051,156.051,156.051,156.051,131.989,135.128,135.128,135.128,135.128,135.128,135.128,135.128,123.935,115.284,115.284,115.284,115.284,115.284,90.196,90.196,98.54,98.54,98.54,105.935,105.935,61.299,61.299,171.692,171.692,86.172,86.172,86.172,147.518,147.518,113.074,113.074,124.984,103.605,127.074,95.555,113.312,113.312,116.634,130.043,103.264,70.863,120.039,114.171,98.829,94.791,107.148,122.856,114.689,82.707,147.532,97.13,169.765,168.984,168.984,168.984,168.984,168.984,168.984,168.984,168.984,168.984,168.984,87.474,174.874,84.897,134.976,176.66,146.008,118.199,114.622,115.838,103.35,103.35,152.872,87.272,79.886,77.512,127.237,125.495,133.545,102.229,169.598,132.685,97.297,81.181,129.38,203.944,203.944,203.944,203.944,203.944,203.944,134.981,134.981,134.981,134.981,134.981,134.981,108.115,108.115,108.115,108.115,108.115,108.115,108.115,108.115,108.115,72.847,72.847,72.847,72.847,107.892,107.892,107.892,107.892,107.892,117.813,117.813,117.813,117.813,117.813,117.813,117.813,117.813,117.813,117.813,117.813,117.813,117.813,117.813,117.813,117.813,125.905,115.838,115.838,105.017,101.997,179.645,149.957,129.859,75.036,161.96,74.89,87.468,90.111,82.512,113.277,113.277,113.277,113.277,113.277,113.277,113.277,113.277,113.277,113.277,113.277,113.277,113.277,113.277,113.277,160.093,160.093,160.093,160.093,160.093,160.093,160.093,160.093,97.471,97.471,97.471,97.471,97.471,97.471,97.471,129.924,129.924,129.924,129.924,129.924,129.924,129.924,129.924,129.924,129.924,129.924,129.924,129.924,129.924,129.939,129.939,129.939,129.939,129.939,129.939,129.939,129.939,129.939,129.939,129.939,129.939,129.939,129.939,119.95,119.95,119.95,119.95,119.95,119.95,119.95,119.95,119.95,119.95,119.95,119.95,119.95,119.95,119.95,119.95,119.95,119.95,119.95,80.0,80.0,80.0,80.0,80.0,80.0,80.0,80.0,80.0,80.0,80.0,169.95,169.95,169.95,169.95,169.95,169.95,169.95,169.95,169.95,170.015,170.015,170.015,170.015,170.015,170.015,119.996,119.996,119.996,119.996,119.996,119.996,119.996,119.996,119.996,119.996,119.996,119.996,119.996,119.996,79.981,79.981,79.981,79.981,79.981,79.981,79.981,97.961,97.961,97.961,97.961,97.961,97.961,97.961,97.961,97.961,97.961,80.152,80.152,80.152,80.152,80.152,80.152,80.152,80.152,80.152,80.152,80.152,80.152,80.152,80.152,80.152,80.152,119.994,119.994,119.994,119.994,119.994,119.994,119.994,90.221,90.221,90.221,90.221,90.221,90.221,90.221,100.247,100.247,100.247,100.247,100.247,100.247,100.247,100.247,100.247,100.247,100.247,100.247,179.998,179.998,179.998,179.998,179.998,179.998,179.998,128.708,128.708,128.708,128.708,128.708,128.708,128.708,128.708,128.708,128.708,128.708,128.708,84.992,84.992,84.992,84.992,84.992,84.992,84.992,84.992,169.964,169.964,169.964,169.964,169.964,169.964,169.964,169.964,169.964,169.964,169.964,77.907,76.642,182.665,119.994,119.994,119.994,128.607,128.607,128.607,128.607,128.607,128.607,128.607,128.607,128.607,128.607,101.04,101.04,101.04,101.04,109.775,109.775,109.775,109.775,109.775,109.775,109.775,109.775,109.775,119.768,119.768,104.097,104.097,149.819,141.126,141.126,141.126,141.126,141.126,141.126,141.126,141.126,130.051,130.051,130.051,130.051,87.865,87.865,107.956,107.956,120.033,120.033,120.033,120.033,142.438,85.942,85.942,110.988,110.988,97.016,97.016,97.016,97.016,107.049,111.554,111.554,111.554,111.554,169.999,99.945,99.945,102.998,102.998,158.831,156.124,162.1,121.903,121.903,109.008,109.008,109.008,119.882,108.81,105.813,75.152,75.152,137.922,149.587,101.458,87.567,87.567,87.567,100.656,139.911,110.027,87.104,150.024,150.024,150.024,129.871,129.871,129.871,75.11,75.11,118.003,123.922,112.466,112.466,112.466,112.466,140.038,90.008,87.017,114.945,114.945,114.945,103.0,103.0,80.202,110.056,95.979,95.979,95.979,95.979,95.979,132.032,75.021,100.016,149.757,167.863,167.863,167.863,167.863,167.863,136.024,88.667,88.667,88.667,140.154,76.499,134.976,134.976,134.976,134.976,134.976,134.976,134.976,134.976,134.976,134.976,134.976,134.976,134.976,134.976,134.976,134.976,134.976,119.838,119.838,119.838,119.838,119.838,119.838,119.838,119.838,119.838,119.838,119.838,119.838,119.838,119.838,119.838,179.661,80.012,80.012,140.003,120.001,145.018,145.018,145.018,120.057,120.057,136.93,136.93,136.93,136.93,136.93,136.93,95.01,95.018,95.018,141.897,141.897,141.897,141.897,141.897,141.897,115.011,115.011,135.017,106.954,122.891,120.043,120.043,120.043,71.835,71.835,71.835,71.835,71.835,71.835,111.968,111.968,111.968,111.968,111.968,68.614,68.614,68.614,177.929,177.929,177.929,177.929,91.03,91.03,91.03,91.03,91.03,91.03,91.03,117.963,117.963,117.963,99.982,99.982,99.982,99.982,99.982,99.982,99.982,99.982,99.982,99.982,99.982,99.982,99.982,99.982,137.918,137.918,137.918,137.918,137.918,137.918,137.918,137.918,137.918,138.019,138.019,138.019,138.019,95.946,95.946,95.946,95.946,95.946,95.946,95.946,95.946,95.946,113.986,113.986,113.986,113.986,113.986,113.986,121.991,121.991,121.991,121.991,121.991,121.991,175.894,175.894,175.894,175.894,104.987,104.987,104.987,104.987,104.987,132.016,132.016,132.016,132.016,132.016,132.016,104.989,104.989,104.989,104.989,104.989,104.989,104.989,104.989,104.989,104.989,104.989,104.989,104.989,104.989,119.994,119.994,119.994,119.994,119.994,119.994,119.994,119.994,119.994,119.994,119.994,119.994,119.994,119.994,86.02,86.02,86.02,86.02,86.02,86.02,95.984,95.984,95.984,95.984,95.984,95.984,95.984,95.984,95.984,116.912,116.912,116.912,116.912,116.912,116.912,116.912,119.997,119.997,119.997,119.997,119.997,78.888,78.888,78.888,78.888,78.888,116.031,116.031,116.031,116.031,116.031,116.031,116.031,90.076,90.076,166.025,159.906,159.906,149.929,149.929,96.893,96.893,96.893,161.117,82.499,117.948,117.948,117.948,117.948,131.988,131.988,131.988,131.988,131.988,131.988,131.988,131.988,131.988,131.988,131.988,131.988,131.988,131.988,131.988,131.988,131.988,131.988,131.988,131.988,131.988,131.988,131.988,131.988,131.988,122.919,122.919,122.919,122.919,122.919,122.919,148.345,148.345,148.345,148.345,148.345,148.345,148.345,117.68,117.68,117.68,117.68,117.68,117.68,117.68,117.68,117.68,117.68,117.68,117.68,117.68,117.68,107.747,107.747,107.747,107.747,107.747,107.747,107.747,107.747,107.747,107.747,107.747,107.747,107.747,107.747,107.747,107.747,107.747,115.284,115.284,115.284,115.284,191.944,191.944,191.944,191.944,191.944,114.801,114.801,114.801,114.801,114.801,114.801,144.204,144.204,144.204,144.204,144.204,144.204,85.0,85.0,85.0,85.0,79.262,79.262,79.262,79.262,79.262,79.262,79.262,79.262,79.262,79.262,136.762,136.762,136.762,136.762,136.762,79.643,97.58,85.369,63.398,65.301,126.024,112.356,77.386,135.712,47.859,183.073,183.073,183.073,183.073,183.073,183.073,183.073,183.073,183.073,183.073,183.073,183.073,183.073,183.073,136.245,122.025,122.025,122.025,122.025,122.025,122.025,122.025,122.025,122.025,122.025,122.025,122.025,122.025,122.025,122.025,122.025,122.025,97.649,100.033,129.819,129.819,115.011,131.931,200.166,89.938,119.997,82.642,82.642,82.642,82.642,82.642,82.642,82.642,139.952,177.913,177.913,95.032,92.135,113.805,96.965,105.993,105.993,186.733,94.314,118.471,72.431,72.431,72.431,72.431,104.551,89.936,89.936,137.958,137.958,137.958,137.958,137.958,137.958,137.958,137.958,137.958,137.958,137.958,98.047,159.915,159.915,159.915,159.915,159.915,159.915,159.915,91.999,91.999,91.999,102.984,119.924,119.924,124.89,124.89,124.89,124.89,124.89,77.003,77.003,121.903,121.903,88.068,108.925,80.468,80.468,82.525,61.037,61.037,76.984,99.997,92.228,131.686,131.686,109.775,109.775,109.775,95.015,95.015,95.015,95.015,95.015,149.825,149.825,109.941,109.941,109.941,109.941,109.941,109.941,109.941,109.941,109.941,109.941,115.01,115.01,115.01,115.01,115.01,97.011,97.011,97.011,97.011,97.011,97.011,97.011,97.011,97.011,97.011,97.011,97.011,97.011,97.011,100.028,100.028,128.052,137.839,137.839,137.839,94.014,94.014,129.996,87.322,87.322,104.971,165.009,110.03,0.0,0.0,0.0,150.068,150.068,150.068,185.044,185.044,185.044,185.044,185.044,150.455,150.455,150.455,150.455,150.455,173.859,173.859,173.859,100.029,100.029,100.029,100.029,79.764,79.764,79.764,79.764,79.764,79.764,79.764,79.764,79.764,79.764,79.764,120.046,120.046,120.02,120.02,120.02,120.02,120.02,120.02,120.02,120.02,120.02,120.02,120.02,120.02,74.002,95.05,118.058,169.84,114.906,151.728,151.728,151.728,151.728,151.728,124.972,124.972,136.025,89.999,89.999,89.999,80.078,145.045,145.045,145.045,145.045,145.045,145.045,106.994,106.994,106.994,81.131,81.131,131.731,172.121,172.121,172.121,172.121,172.121,172.121,172.121,172.121,172.121,172.121,172.121,172.121,172.121,172.121,172.121,172.121,118.586,159.915,119.899,120.035,105.012,83.992,171.838,184.105,78.029,78.029,135.863,131.903,117.999,117.999,117.999,117.999,104.054,100.037,78.398,89.916,89.916,89.916,89.916,143.687,99.035,104.021,99.006,113.605,113.605,113.605,172.025,172.025,100.052,100.052,100.052,100.052,100.052,100.052,100.052,100.052,100.052,100.052,100.052,100.052,100.052,100.052,100.052,100.052,93.026,93.026,93.026,93.026,93.026,93.026,93.026,93.026,93.026,93.026,93.026,93.026,93.026,93.026,93.026,93.026,93.026,93.026,147.486,147.486,147.486,147.486,147.486,147.486,147.486,147.486,147.486,147.486,68.974,68.974,75.24,75.24,75.24,75.24,75.24,75.24,75.24,75.24,75.24,75.24,75.24,75.24,75.24,75.24,75.24,75.24,75.24,75.24,75.208,78.0,78.0,148.051,103.342,103.342,103.342,103.342,103.342,103.342,103.342,103.342,103.342,103.342,103.342,103.342,103.342,103.342,103.342,103.342,145.928,108.983,175.007,74.088,68.963,115.823,115.656,144.982,76.067,111.994,149.987,139.906,119.989,119.989,119.989,119.989,119.989,119.989,119.989,119.989,119.989,119.989,119.989,119.989,119.989,119.989,119.989,90.043,90.043,90.043,90.043,90.043,90.043,90.043,90.043,90.043,90.043,90.043,90.043,90.043,90.043,90.043,90.043,90.043,90.043,90.043,100.06,100.06,100.06,100.06,100.06,100.06,100.06,100.06,100.06,100.06,100.06,100.06,131.143,131.143,131.143,131.143,131.143,131.143,131.143,131.143,131.143,131.143,62.507,77.342,77.342,167.997,167.997,167.997,100.0,129.958,133.629,145.01,79.999,99.939,99.939,99.939,175.657,175.657,175.657,128.041,128.041,128.041,130.869,130.869,130.869,145.435,145.435,145.435,114.98,67.504,67.504,67.504,67.504,67.504,67.504,67.504,67.504,169.521,169.521,122.925,122.925,172.006,172.006,172.006,118.034,131.74,90.033,90.033,90.033,124.879,124.879,113.484,120.033,83.168,115.345,115.345,115.345,115.345,115.345,115.345,115.345,97.016,130.862,130.862,105.776,99.965,99.965,99.965,99.965,99.965,99.965,99.965,99.965,99.965,99.965,99.965,99.965,139.788,139.788,139.788,139.788,142.021,142.021,160.024,114.403,144.919,144.919,144.919,144.919,144.919,144.919,144.919,174.086,132.91,131.882,115.004,128.06,121.129,150.015,72.833,124.838,84.02,139.927,92.578,92.578,63.246,98.06,98.06,84.703,63.875,95.043,95.043,76.009,127.818,127.818,127.818,106.978,157.687,198.401,135.871,113.947,143.786,121.47,105.002,105.002,110.496,95.974,133.825,85.418,98.04,66.638,97.042,219.549,172.015,93.895,93.895,93.895,93.895,96.958,131.97,147.125,147.125,147.125,147.125,122.918,122.918,122.918,79.94,79.94,79.94,97.537,97.537,97.537,151.845,151.845,151.845,151.845,151.845,88.001,88.001,88.001,88.001,88.001,88.001,88.001,88.001,88.001,119.979,119.979,119.979,120.033,120.033,120.033,120.033,120.033,120.033,89.962,89.962,89.962,89.962,89.962,89.962,89.962,124.99,124.99,124.99,124.99,124.99,124.99,124.99,95.001,95.001,95.001,95.001,95.001,95.001,95.001,95.001,140.06,140.06,140.06,140.06,136.041,136.041,136.041,136.041,84.264,84.264,84.264,78.454,78.454,78.454,78.454,149.881,149.881,149.881,149.881,105.002,105.002,105.002,105.002,105.002,105.002,105.002,105.002,105.002,114.987,114.987,114.987,114.987,114.987,114.987,114.987,145.206,145.206,145.206,145.206,140.042,140.042,140.042,140.042,85.043,85.043,85.043,85.043,85.043,85.043,85.043,85.043,135.0,135.0,135.0,135.0,135.0,135.0,61.016,87.549,82.097,82.097,82.097,82.097,82.097,124.487,82.002,82.002,82.002,82.002,82.002,105.019,105.019,105.019,105.019,105.019,105.019,105.019,105.019,105.019,105.019,105.019,105.019,83.883,83.883,83.883,95.005,76.499,76.499,76.499,76.499,76.499,76.499,76.499,76.499,76.499,76.499,76.499,128.0,128.0,128.0,128.0,118.003,118.003,118.003,95.997,95.997,100.058,100.058,100.058,150.148,150.148,150.148,94.972,94.972,93.007,93.007,105.058,105.058,82.198,159.99,159.99,159.99,105.037,139.246,128.311,145.967,145.967,145.967,145.967,145.967,145.967,81.996,118.003,139.732,140.06,94.935,170.029,175.974,137.956,137.956,137.956,137.956,74.93,108.032,176.021,176.021,103.951,103.951,103.951,103.951,103.951,103.951,103.951,103.951,135.167,109.981,91.97,80.638,136.001,77.968,77.968,187.291,116.74,127.335,158.827,158.827,158.827,158.827,90.123,103.436,161.01,93.307,132.062,115.125,105.418,105.418,105.418,105.418,105.418,129.893,144.992,124.897,139.861,139.861,113.273,113.273,126.899,126.899,133.219,133.219,120.036,120.036,120.036,120.036,82.008,82.008,82.008,97.176,97.176,137.951,137.951,152.086,152.086,152.086,152.086,118.884,118.884,118.884,192.021,192.021,111.829,111.829,111.829,85.046,85.046,79.992,79.992,79.992,79.992,82.049,82.049,82.049,135.821,135.821,135.821,116.977,116.977,116.977,116.977,76.899,76.899,76.899,76.899,145.926,145.926,145.926,145.926,145.926,145.926,145.926,145.926,145.926,145.926,64.934,64.934,97.902,97.902,97.902,97.902,75.023,75.023,75.023,145.879,145.879,145.879,76.826,76.826,175.907,175.907,175.907,91.019,91.019,91.019,91.019,113.877,113.877,113.877,113.877,127.031,127.031,127.031,127.031,178.92,178.92,178.92,90.047,90.047,90.047,171.843,171.843,92.6,92.6,92.6,124.071,124.071,124.071,124.071,124.071,124.071,116.033,116.033,116.033,109.945,109.945,109.945,109.945,109.945,109.945,149.802,193.671,193.671,193.671,193.671,193.671,97.025,142.715,176.889,176.889,121.999,139.959,117.813,117.813,117.813,117.813,118.869,167.719,167.719,167.719,167.719,167.719,129.565,129.565,74.99,101.987,101.987,102.211,76.99,117.64,117.64,117.64,117.64,117.64,117.64,117.64,117.64,117.64,117.64,117.64,117.64,147.02,95.39,93.982,93.982,93.982,93.982,93.982,93.982,93.982,93.982,93.982,93.982,93.982,93.982,93.982,93.982,132.854,132.854,92.043,92.043,92.043,144.212,120.006,120.006,120.006,120.006,120.006,94.954,94.954,94.954,118.006,118.006,118.006,118.006,118.006,118.006,118.006,135.857,135.857,135.857,133.955,133.955,133.955,117.867,117.867,130.055,130.055,159.834,159.834,178.336,178.336,178.336,178.336,90.105,90.105,90.105,125.009,125.009,125.009,199.686,199.686,199.686,199.686,199.686,119.775,119.775,105.013,105.013,105.013,157.348,157.348,157.348,141.946,75.031,75.031,75.031,75.031,85.814,180.199,180.199,143.99,143.99,119.959,119.959,98.007,98.007,169.952,169.952,179.944,179.944,79.976,79.976,79.976,79.976,114.929,114.929,86.983,86.983,86.983,107.869,107.869,149.623,149.623,107.866,107.866,107.866,87.831,81.964,81.964,115.06,115.06,194.858,119.823,119.823,119.823,119.823,119.823,90.98,90.98,90.98,192.383,192.383,192.383,192.383,81.608,81.608,81.608,81.608,81.608,146.977,146.977,146.977,179.983,179.983,179.983,179.983,81.098,95.079,70.368,70.368,111.87,120.016,120.016,120.016,120.016,135.998,135.998,150.073,150.073,150.073,115.045,115.045,119.949,119.949,109.062,109.062,109.062,130.048,130.048,130.048,130.048,110.018,110.018,110.018,84.032,84.032,108.079,108.079,110.007,110.007,110.007,171.723,171.723,77.525,77.525,99.742,99.742,92.038,92.038,92.038,97.998,98.064,98.064,87.736,87.736,98.086,93.801,93.801,93.801,93.801,108.363,108.363,108.363,89.701,120.948,120.948,138.656,102.64,134.546,102.149,91.271,138.747,115.483,98.225,125.756,125.756,100.39,100.046,160.976,177.289,91.052,91.052,91.052,143.836,98.007,98.007,98.007,98.007,98.007,98.007,98.007,98.007,98.007,98.007,98.007,62.065,62.065,62.065,62.065,62.065,62.065,86.526,86.526,86.526,86.526,86.526,86.526,86.526,86.526,86.526,100.969,100.969,104.126,121.049,159.801,159.801,100.315,148.919,148.919,148.919,148.919,148.919,148.919,148.919,148.919,148.919,148.919,148.919,148.919,148.919,148.919,148.919,94.009,94.009,94.009,94.009,94.009,94.009,94.009,94.009,94.009,94.009,94.009,94.009,94.009,104.973,121.893,121.893,121.893,121.893,121.893,121.893,121.893,121.893,121.893,121.893,121.893,104.774,79.743,171.776,120.053,120.053,120.053,120.053,120.053,120.053,124.909,124.909,67.513,199.843,199.843,199.843,199.843,119.959,119.959,100.045,179.895,139.602,126.052,133.017,118.178,118.178,118.178,118.178,89.91,89.91,89.91,89.91,45.009,45.009,45.009,45.009,45.009,45.009,94.932,94.932,94.932,100.0,100.0,100.0,100.0,100.0,100.0,100.0,100.0,100.0,100.0,81.942,144.941,120.033,124.999,170.163,130.022,145.045,82.531,134.868,92.004,144.892,144.98,93.987,93.987,93.987,93.987,93.987,93.987,93.987,93.987,93.987,93.987,93.987,104.972,129.854,129.854,125.791,125.791,125.791,125.791,125.791,124.66,85.276,85.276,77.577,87.427,87.427,107.993,107.993,79.968,79.968,79.968,79.968,79.968,79.968,75.05,75.05,75.05,75.05,75.05,75.05,75.05,75.05,75.05,143.892,143.892,143.892,143.892,143.892,143.892,143.892,160.028,160.028,160.028,160.028,160.028,79.995,131.844,108.721,141.873,121.958,99.718,90.956,74.653,74.653,83.995,91.798,90.984,90.984,90.984,90.984,107.083,107.083,107.083,107.083,107.083,107.083,107.083,107.083,107.083,107.083,77.727,77.727,94.999,94.999,171.843,99.774,116.973,116.973,95.881,130.036,148.075,92.997,92.997,99.81,85.057,90.026,90.026,169.748,169.748,104.686,134.704,119.989,129.943,148.674,116.096,114.973,81.004,114.99,89.957,125.071,103.646,68.102,68.102,119.504,152.115,109.239,142.708,109.152,102.881,82.014,76.926,134.042,103.994,103.994,165.172,72.623,72.623,104.378,104.126,120.154,120.154,120.154,103.806,133.273,128.631,87.705,98.049,165.393,165.393,98.941,98.941,139.846,123.991,82.511,82.511,82.511,82.511,82.511,160.07,68.632,131.889,138.574,66.765,48.423,140.049,171.953,116.99,154.669,154.669,173.515,173.515,129.969,129.969,129.969,78.529,149.161,149.161,119.962,119.962,119.962,119.962,119.962,119.962,119.962,119.962,119.962,119.962,108.042,108.042,77.019,74.979,129.581,99.734,129.981,173.92,84.264,130.047,130.047,107.986,107.986,107.986,157.992,108.025,108.025,77.727,77.727,77.727,77.727,77.727,180.077,180.077,180.077,180.077,125.918,125.918,125.918,125.918,125.918,125.918,125.918,125.918,125.918,125.918,125.918,149.599,80.008,144.068,163.324,77.942,77.942,77.942,77.942,77.942,77.942,77.942,77.942,77.942,77.942,77.942,77.942,160.029,118.003,100.075,100.075,100.002,100.508,100.508,100.508,151.674,94.234,66.444,94.075,175.118,72.951,141.299,109.891,81.027,81.027,82.062,82.062,109.979,109.979,168.065,168.065,110.348,110.348,119.96,119.96,119.96,119.96,119.96,119.96,109.966,109.966,149.951,149.951,149.951,86.0,86.0,86.0,86.0,144.115,119.377,53.761,80.53,95.064,139.878,139.878,139.878,139.878,167.887,167.887,167.887,90.012,90.012,90.012,108.011,108.011,108.011,124.996,135.009,148.907,98.368,98.368,142.948,74.897,52.937,71.073,155.48,76.508,82.026,199.35,148.029,81.374,124.549,124.549,106.154,74.976,123.616,83.899,85.828,80.229,80.229,173.628,74.897,164.462,82.054,89.535,127.046,120.607,120.607,120.607,120.607,140.316,131.017,131.017,114.095,114.095,114.095,114.095,114.095,114.095,114.095,114.095,76.139,76.139,76.139,116.426,117.997,78.131,122.1,106.99,135.943,99.638,124.96,110.012,94.42,119.965,177.963,177.963,144.956,130.007,130.007,115.124,138.05,107.946,76.176,129.604,119.964,125.965,107.12,92.321,114.015,114.015,114.015,114.015,146.736,146.736,113.376,112.608,162.804,173.718,134.813,134.813,134.813,134.813,98.007,126.055,120.101,106.966,105.937,132.881,120.033,117.849,170.594,170.594,90.472,89.125,89.993,82.009,99.933,99.933,82.524,103.666,105.513,136.195,93.217,176.57,176.57,104.664,124.601,127.43,127.43,87.272,87.272,84.775,83.479,80.635,115.863,144.631,111.31,86.471,123.581,82.264,84.028,84.028,147.683,147.683,104.999,80.567,117.239,79.877,79.877,79.877,79.877,79.877,79.877,79.877,79.877,79.877,94.891,94.891,94.891,94.891,94.891,94.891,94.891,94.891,78.05,78.05,78.05,78.05,78.05,78.05,78.05,78.05,78.05,97.893,97.893,97.893,37.264,125.996,94.2,52.289,84.28,88.745,88.71,88.71,84.028,84.028,84.028,83.638,82.758,98.503,104.187,166.118,76.147,124.368,82.026,100.823,120.955,102.096,124.198,98.312,166.19,126.728,113.871,77.936,77.936,178.073,84.821,106.472,106.472,107.279,89.263,118.675,127.855,108.54,169.961,169.961,71.904,71.904,71.904,71.904,71.904,71.904,71.904,71.904,81.94,81.94,91.967,91.967,127.81,137.107,150.006,150.006,175.841,175.841,175.841,122.009,119.95,125.702,125.702,170.109,149.82,149.82,149.82,104.942,153.186,79.508,167.348,167.348,100.007,175.957,129.014,79.038,150.014,97.972,106.999,77.041,130.037,149.977,152.085,94.933,148.017,89.998,83.021,168.034,151.974,83.986,150.068,77.495,195.918,130.098,106.043,106.043,155.954,155.954,80.011,80.011,107.893,107.893,107.893,128.532,74.85,74.85,126.007,116.86,123.646,101.557,92.085,81.881,140.284,99.453,92.927,134.321,82.755,81.812,164.843,161.42,161.42,161.42,173.924,173.924,173.924,173.924,94.989,94.989,107.052,107.052,75.057,75.057,94.965,94.965,109.959,160.025,160.025,142.266,112.991,112.991,112.991,79.981,79.981,79.981,79.981,135.857,160.03,160.025,122.032,92.983,127.998,91.999,91.999,97.998,104.915,96.93,139.935,92.997,140.178,149.984,78.014,89.979,132.896,171.902,171.902,200.114,128.97,78.043,91.936,91.936,91.936,94.988,118.007,118.007,118.007,73.963,139.262,127.25,127.25,148.453,83.692,97.335,82.352,82.352,172.171,99.983,113.995,115.034,135.963,159.946,130.06,130.06,139.989,80.109,113.598,135.714,130.209,82.552,114.314,129.412,85.828,85.828,102.23,94.714,171.265,81.121,61.398,61.398,61.398,119.973,82.511,99.969,99.969,82.008,82.008,82.008,82.008,144.859,144.859,144.859,144.859,129.918,173.95,86.312,86.312,90.587,106.035,106.035,168.908,91.265,124.549,173.557,110.962,110.962,110.962,110.962,110.962,110.962,110.962,110.962,110.962,110.962,146.163,179.727,97.022,97.022,94.06,120.032,72.541,124.995,145.044,100.873,104.952,129.041,135.781,130.05,129.959,184.057,184.057,90.024,90.024,90.024,90.024,90.024,90.024,90.024,100.039,100.039,127.824,186.249,110.917,119.522,124.038,124.038,91.947,92.349,92.349,92.349,92.349,92.349,92.349,92.349,95.03,115.991,94.08,94.08,129.971,175.869,184.112,120.932,145.944,145.944,110.963,138.069,114.679,159.927,95.162,89.134,169.034,107.904,119.541,130.413,90.015,119.421,113.03,73.537,100.119,85.012,124.956,75.014,75.014,117.92,121.963,154.04,87.981,79.999,85.926,131.832,74.727,74.727,139.912,139.912,89.989,89.989,89.989,89.989,89.989,89.989,169.972,169.972,170.006,87.972,87.972,90.014,90.014,90.014,120.036,100.01,100.01,100.01,124.009,124.009,89.992,143.804,143.804,143.804,143.804,143.804,143.804,143.804,106.989,103.966,103.966,103.966,103.966,103.966,94.953,129.877,129.877,129.877,149.883,104.986,101.003,132.972,132.972,132.972,180.005,91.999,130.022,134.914,114.424,129.945,105.015,105.001,105.001,80.001,80.001,80.001,80.001,80.001,80.001,80.001,80.001,80.001,80.001,80.001,109.932,90.002,86.051,86.051,90.445,79.985,79.985,79.985,79.985,90.986,96.993,131.969,131.969,134.891,99.902,88.0,73.963,114.843,114.843,87.998,120.013,139.875,139.875,104.998,104.998,104.998,104.998,142.0,85.002,89.991,106.901,109.022,130.013,107.356,139.994,129.857,112.887,112.887,104.01,119.85,119.85,107.969,164.938,132.08,132.08,91.873,53.861,99.89,99.89,99.89,99.89,99.89,99.89,99.89,167.882,167.882,143.808,143.808,143.808,124.998,124.998,86.26,85.227,93.928,93.928,93.928,93.928,93.928,93.928,93.928,93.928,125.026,127.479,68.45,78.768,109.992,139.941,114.044,70.055,162.007,94.9,94.9,135.029,94.998,94.998,134.977,90.991,136.899,129.96,129.96,180.148,180.148,180.148,180.148,180.148,180.148,174.015,147.073,91.877,178.336,114.005,89.987,95.884,95.884,94.988,129.879,179.858,179.858,111.967,82.013,82.013,82.013,82.013,144.024,144.024,144.024,144.024,85.969,85.969,89.929,89.976,87.865,87.865,139.966,94.984,94.984,114.917,114.917,94.039,72.006,90.959,90.959,179.704,110.172,110.172,110.172,121.968,121.968,83.967,83.967,90.997,90.997,90.997,108.956,95.015,143.89,158.125,109.998,83.986,139.9,89.993,89.993,87.078,94.991,93.97,67.91,166.481,170.09,170.09,171.91,115.514,82.725,107.041,80.109,94.992,94.992,96.032,118.911,163.721,169.637,128.147,171.995,84.733,127.466,97.932,86.982,82.932,107.005,80.883,142.412,108.883,143.982,77.003,77.003,77.003,131.977,131.977,131.977,89.998,89.998,89.998,123.988,123.988,123.988,123.988,123.988,169.456,169.456,96.969,96.969,96.969,96.969,150.304,150.304,150.304,150.304,150.304,150.304,110.018,110.018,172.016,172.016,172.016,172.016,172.016,88.983,88.983,96.499,96.499,96.499,95.033,95.033,95.033,120.014,120.014,120.014,137.344,137.344,137.344,137.344,96.013,96.013,117.948,129.835,138.004,133.993,133.993,186.113,87.96,88.013,88.013,130.973,109.436,65.627,64.934,160.125,129.839,84.809,110.063,200.781,72.902,72.902,72.902,72.902,72.902,158.953,158.953,158.953,158.953,158.953,158.953,102.999,102.999,102.999,102.999,102.999,102.999,102.999,79.178,147.886,94.972,94.972,100.003,119.911,157.514,137.014,192.041,161.916,112.022,159.725,159.725,159.725,159.725,159.725,159.725,95.01,89.101,94.953,136.088,136.088,145.004,138.178,138.178,138.178,98.04,98.04,124.04,124.04,124.04,124.04,122.009,122.009,124.996,124.996,124.949,62.208,90.352,90.352,100.012,191.809,94.817,94.817,176.977,125.835,139.89,83.963,104.018,97.991,145.532,145.532,145.532,91.853,91.853,116.201,142.52,84.566,171.923,171.923,171.923,93.874,93.874,156.002,156.002,110.212,110.212,112.957,116.82,110.944,90.941,106.996,106.996,90.848,90.848,104.015,79.007,76.995,164.928,134.95,158.1,99.002,169.676,79.985,79.985,149.82,79.43,111.953,75.014,129.946,80.059,149.926,149.926,149.926,149.926,121.94,110.108,98.027,93.09,99.898,89.868,128.009,135.528,95.039,130.029,123.003,75.222,135.991,101.964,90.088,90.088,90.088,108.034,129.017,124.949,176.791,103.827,111.82,120.959,120.959,150.995,171.845,92.477,128.003,65.027,60.997,63.939,75.052,69.997,117.932,63.34,137.845,71.961,139.979,134.254,117.048,82.708,123.952,123.952,60.964,124.993,65.036,115.283,126.031,94.951,120.013,124.973,76.03,159.92,119.906,147.647,120.259,77.963,79.842,124.017,109.99,70.502,70.047,94.03,104.102,65.402,73.762,119.955,149.978,164.621,96.446,130.912,130.912,177.351,115.918,90.015,109.827,84.951,135.813,77.021,60.507,70.019,86.821,64.092,64.092,101.252,101.252,101.252,96.338,102.857,123.319,147.959,147.959,127.998,95.016,95.016,100.1,190.097,103.997,103.997,103.997,149.894,90.052,123.024,115.006,153.794,90.012,93.47,117.992,117.992,127.821,83.886,79.241,79.241,75.801,117.013,96.391,96.391,116.945,116.013,83.997,126.904,122.657,109.999,174.248,133.585,86.095,187.468,102.078,115.502,110.55,164.995,128.153,94.072,125.046,74.251,74.251,116.793,96.792,143.271,107.998,79.954,80.225,103.8,170.187,123.013,107.647,87.936,140.043,126.999,172.545,80.029,83.985,143.765,77.366,80.965,116.012,77.683,128.665,100.012,104.979,104.979,104.979,104.979,99.248,123.11,123.11,69.561,78.291,132.316,120.998,115.484,125.413,125.413,125.413,68.089,76.057,109.911,86.248,83.346,127.111,127.111,125.771,135.404,115.001,138.928,119.612,159.519,159.519,81.386,122.396,122.396,147.152,147.152,147.152,88.539,88.539,88.539,88.539,107.433,105.131,103.647,76.72,86.086,156.918,109.976,119.98,139.989,90.959,109.959,108.021,171.83,95.003,98.933,128.1,128.1,128.1,150.11,150.11,97.979,97.979,172.113,84.772,136.019,80.028,80.028,82.237,82.237,82.237,82.237,178.026,178.026,178.026,178.026,148.73,148.73,168.253,168.253,168.253,93.293,115.893,120.088,120.088,120.088,104.517,104.517,104.517,99.498,172.006,99.008,139.509,79.999,125.008,103.994,141.979,159.998,124.543,89.874,101.016,101.016,89.984,89.984,82.84,84.878,99.865,99.865,174.903,102.989,113.997,170.954,170.954,81.919,175.922,157.417,89.901,141.035,76.176,138.675,88.834,113.013,123.97,99.034,116.971,116.971,72.399,142.056,142.056,142.056,142.056,116.0,80.251,82.753,159.908,159.908,159.908,159.908,75.152,80.783,80.783,80.783,94.354,94.354,94.354,142.476,142.476,98.484,98.484,98.484,92.602,98.619,79.29,86.565,86.565,86.565,182.048,182.048,104.273,104.273,170.671,170.671,170.671,170.671,107.573,107.573,110.187,110.187,83.099,83.099,139.34,139.34,90.917,90.917,88.099,88.099,88.099,111.191,111.191,146.508,146.508,121.956,121.956,92.882,92.882,92.882,92.882,108.02,108.02,91.551,91.551,91.551,91.551,91.551,87.925,87.925,87.925,87.925,87.925,87.925,102.226,102.226,87.993,87.993,109.716,109.716,109.716,137.363,106.02,106.02,88.969,88.969,88.969,88.969,88.969,88.969,88.969,88.969,88.969,76.805,76.805,100.003,94.256,94.256,131.815,120.016,148.435,93.019,86.038,90.854,108.33,89.984,89.984,89.984,78.817,144.43,86.649,114.136,95.054,105.046,98.019,139.993,91.98,99.989,99.989,94.972,73.981,111.939,145.842,89.977,150.076,110.093,89.937,89.937,89.937,94.926,171.005,135.886,84.028,84.028,84.028,84.028,84.028,84.028,100.013,87.441,124.973,154.925,104.001,130.975,104.032,104.032,91.995,91.995,167.529,120.944,127.387,187.603,107.39,170.671,121.723,78.768,104.562,139.879,139.879,124.886,124.886,177.706,94.485,109.987,125.964,164.912,118.038,119.963,78.992,119.954,118.842,138.002,84.784,80.044,149.884,81.989,132.485,116.153,113.895,89.761,102.649,85.773,90.948,107.103,97.521,109.943,97.063,73.603,145.104,78.46,80.892,145.309,145.309,141.146,130.263,89.979,130.093,118.077,118.077,80.99,169.618,70.899,70.899,70.899,64.27,64.27,70.953,70.953,93.542,93.542,93.542,138.146,64.171,64.171,90.712,90.712,124.875,124.875,133.605,133.605,108.087,108.087,76.776,129.969,140.348,120.016,120.016,129.967,79.999,67.205,132.436,132.436,88.985,107.628,137.097,78.349,97.097,82.015,174.919,135.091,131.061,143.482,141.397,112.983,89.864,90.056,100.009],\"y0\":\" \",\"yaxis\":\"y\",\"type\":\"box\"}],                        {\"template\":{\"data\":{\"histogram2dcontour\":[{\"type\":\"histogram2dcontour\",\"colorbar\":{\"outlinewidth\":0,\"ticks\":\"\"},\"colorscale\":[[0.0,\"#0d0887\"],[0.1111111111111111,\"#46039f\"],[0.2222222222222222,\"#7201a8\"],[0.3333333333333333,\"#9c179e\"],[0.4444444444444444,\"#bd3786\"],[0.5555555555555556,\"#d8576b\"],[0.6666666666666666,\"#ed7953\"],[0.7777777777777778,\"#fb9f3a\"],[0.8888888888888888,\"#fdca26\"],[1.0,\"#f0f921\"]]}],\"choropleth\":[{\"type\":\"choropleth\",\"colorbar\":{\"outlinewidth\":0,\"ticks\":\"\"}}],\"histogram2d\":[{\"type\":\"histogram2d\",\"colorbar\":{\"outlinewidth\":0,\"ticks\":\"\"},\"colorscale\":[[0.0,\"#0d0887\"],[0.1111111111111111,\"#46039f\"],[0.2222222222222222,\"#7201a8\"],[0.3333333333333333,\"#9c179e\"],[0.4444444444444444,\"#bd3786\"],[0.5555555555555556,\"#d8576b\"],[0.6666666666666666,\"#ed7953\"],[0.7777777777777778,\"#fb9f3a\"],[0.8888888888888888,\"#fdca26\"],[1.0,\"#f0f921\"]]}],\"heatmap\":[{\"type\":\"heatmap\",\"colorbar\":{\"outlinewidth\":0,\"ticks\":\"\"},\"colorscale\":[[0.0,\"#0d0887\"],[0.1111111111111111,\"#46039f\"],[0.2222222222222222,\"#7201a8\"],[0.3333333333333333,\"#9c179e\"],[0.4444444444444444,\"#bd3786\"],[0.5555555555555556,\"#d8576b\"],[0.6666666666666666,\"#ed7953\"],[0.7777777777777778,\"#fb9f3a\"],[0.8888888888888888,\"#fdca26\"],[1.0,\"#f0f921\"]]}],\"heatmapgl\":[{\"type\":\"heatmapgl\",\"colorbar\":{\"outlinewidth\":0,\"ticks\":\"\"},\"colorscale\":[[0.0,\"#0d0887\"],[0.1111111111111111,\"#46039f\"],[0.2222222222222222,\"#7201a8\"],[0.3333333333333333,\"#9c179e\"],[0.4444444444444444,\"#bd3786\"],[0.5555555555555556,\"#d8576b\"],[0.6666666666666666,\"#ed7953\"],[0.7777777777777778,\"#fb9f3a\"],[0.8888888888888888,\"#fdca26\"],[1.0,\"#f0f921\"]]}],\"contourcarpet\":[{\"type\":\"contourcarpet\",\"colorbar\":{\"outlinewidth\":0,\"ticks\":\"\"}}],\"contour\":[{\"type\":\"contour\",\"colorbar\":{\"outlinewidth\":0,\"ticks\":\"\"},\"colorscale\":[[0.0,\"#0d0887\"],[0.1111111111111111,\"#46039f\"],[0.2222222222222222,\"#7201a8\"],[0.3333333333333333,\"#9c179e\"],[0.4444444444444444,\"#bd3786\"],[0.5555555555555556,\"#d8576b\"],[0.6666666666666666,\"#ed7953\"],[0.7777777777777778,\"#fb9f3a\"],[0.8888888888888888,\"#fdca26\"],[1.0,\"#f0f921\"]]}],\"surface\":[{\"type\":\"surface\",\"colorbar\":{\"outlinewidth\":0,\"ticks\":\"\"},\"colorscale\":[[0.0,\"#0d0887\"],[0.1111111111111111,\"#46039f\"],[0.2222222222222222,\"#7201a8\"],[0.3333333333333333,\"#9c179e\"],[0.4444444444444444,\"#bd3786\"],[0.5555555555555556,\"#d8576b\"],[0.6666666666666666,\"#ed7953\"],[0.7777777777777778,\"#fb9f3a\"],[0.8888888888888888,\"#fdca26\"],[1.0,\"#f0f921\"]]}],\"mesh3d\":[{\"type\":\"mesh3d\",\"colorbar\":{\"outlinewidth\":0,\"ticks\":\"\"}}],\"scatter\":[{\"fillpattern\":{\"fillmode\":\"overlay\",\"size\":10,\"solidity\":0.2},\"type\":\"scatter\"}],\"parcoords\":[{\"type\":\"parcoords\",\"line\":{\"colorbar\":{\"outlinewidth\":0,\"ticks\":\"\"}}}],\"scatterpolargl\":[{\"type\":\"scatterpolargl\",\"marker\":{\"colorbar\":{\"outlinewidth\":0,\"ticks\":\"\"}}}],\"bar\":[{\"error_x\":{\"color\":\"#2a3f5f\"},\"error_y\":{\"color\":\"#2a3f5f\"},\"marker\":{\"line\":{\"color\":\"#E5ECF6\",\"width\":0.5},\"pattern\":{\"fillmode\":\"overlay\",\"size\":10,\"solidity\":0.2}},\"type\":\"bar\"}],\"scattergeo\":[{\"type\":\"scattergeo\",\"marker\":{\"colorbar\":{\"outlinewidth\":0,\"ticks\":\"\"}}}],\"scatterpolar\":[{\"type\":\"scatterpolar\",\"marker\":{\"colorbar\":{\"outlinewidth\":0,\"ticks\":\"\"}}}],\"histogram\":[{\"marker\":{\"pattern\":{\"fillmode\":\"overlay\",\"size\":10,\"solidity\":0.2}},\"type\":\"histogram\"}],\"scattergl\":[{\"type\":\"scattergl\",\"marker\":{\"colorbar\":{\"outlinewidth\":0,\"ticks\":\"\"}}}],\"scatter3d\":[{\"type\":\"scatter3d\",\"line\":{\"colorbar\":{\"outlinewidth\":0,\"ticks\":\"\"}},\"marker\":{\"colorbar\":{\"outlinewidth\":0,\"ticks\":\"\"}}}],\"scattermapbox\":[{\"type\":\"scattermapbox\",\"marker\":{\"colorbar\":{\"outlinewidth\":0,\"ticks\":\"\"}}}],\"scatterternary\":[{\"type\":\"scatterternary\",\"marker\":{\"colorbar\":{\"outlinewidth\":0,\"ticks\":\"\"}}}],\"scattercarpet\":[{\"type\":\"scattercarpet\",\"marker\":{\"colorbar\":{\"outlinewidth\":0,\"ticks\":\"\"}}}],\"carpet\":[{\"aaxis\":{\"endlinecolor\":\"#2a3f5f\",\"gridcolor\":\"white\",\"linecolor\":\"white\",\"minorgridcolor\":\"white\",\"startlinecolor\":\"#2a3f5f\"},\"baxis\":{\"endlinecolor\":\"#2a3f5f\",\"gridcolor\":\"white\",\"linecolor\":\"white\",\"minorgridcolor\":\"white\",\"startlinecolor\":\"#2a3f5f\"},\"type\":\"carpet\"}],\"table\":[{\"cells\":{\"fill\":{\"color\":\"#EBF0F8\"},\"line\":{\"color\":\"white\"}},\"header\":{\"fill\":{\"color\":\"#C8D4E3\"},\"line\":{\"color\":\"white\"}},\"type\":\"table\"}],\"barpolar\":[{\"marker\":{\"line\":{\"color\":\"#E5ECF6\",\"width\":0.5},\"pattern\":{\"fillmode\":\"overlay\",\"size\":10,\"solidity\":0.2}},\"type\":\"barpolar\"}],\"pie\":[{\"automargin\":true,\"type\":\"pie\"}]},\"layout\":{\"autotypenumbers\":\"strict\",\"colorway\":[\"#636efa\",\"#EF553B\",\"#00cc96\",\"#ab63fa\",\"#FFA15A\",\"#19d3f3\",\"#FF6692\",\"#B6E880\",\"#FF97FF\",\"#FECB52\"],\"font\":{\"color\":\"#2a3f5f\"},\"hovermode\":\"closest\",\"hoverlabel\":{\"align\":\"left\"},\"paper_bgcolor\":\"white\",\"plot_bgcolor\":\"#E5ECF6\",\"polar\":{\"bgcolor\":\"#E5ECF6\",\"angularaxis\":{\"gridcolor\":\"white\",\"linecolor\":\"white\",\"ticks\":\"\"},\"radialaxis\":{\"gridcolor\":\"white\",\"linecolor\":\"white\",\"ticks\":\"\"}},\"ternary\":{\"bgcolor\":\"#E5ECF6\",\"aaxis\":{\"gridcolor\":\"white\",\"linecolor\":\"white\",\"ticks\":\"\"},\"baxis\":{\"gridcolor\":\"white\",\"linecolor\":\"white\",\"ticks\":\"\"},\"caxis\":{\"gridcolor\":\"white\",\"linecolor\":\"white\",\"ticks\":\"\"}},\"coloraxis\":{\"colorbar\":{\"outlinewidth\":0,\"ticks\":\"\"}},\"colorscale\":{\"sequential\":[[0.0,\"#0d0887\"],[0.1111111111111111,\"#46039f\"],[0.2222222222222222,\"#7201a8\"],[0.3333333333333333,\"#9c179e\"],[0.4444444444444444,\"#bd3786\"],[0.5555555555555556,\"#d8576b\"],[0.6666666666666666,\"#ed7953\"],[0.7777777777777778,\"#fb9f3a\"],[0.8888888888888888,\"#fdca26\"],[1.0,\"#f0f921\"]],\"sequentialminus\":[[0.0,\"#0d0887\"],[0.1111111111111111,\"#46039f\"],[0.2222222222222222,\"#7201a8\"],[0.3333333333333333,\"#9c179e\"],[0.4444444444444444,\"#bd3786\"],[0.5555555555555556,\"#d8576b\"],[0.6666666666666666,\"#ed7953\"],[0.7777777777777778,\"#fb9f3a\"],[0.8888888888888888,\"#fdca26\"],[1.0,\"#f0f921\"]],\"diverging\":[[0,\"#8e0152\"],[0.1,\"#c51b7d\"],[0.2,\"#de77ae\"],[0.3,\"#f1b6da\"],[0.4,\"#fde0ef\"],[0.5,\"#f7f7f7\"],[0.6,\"#e6f5d0\"],[0.7,\"#b8e186\"],[0.8,\"#7fbc41\"],[0.9,\"#4d9221\"],[1,\"#276419\"]]},\"xaxis\":{\"gridcolor\":\"white\",\"linecolor\":\"white\",\"ticks\":\"\",\"title\":{\"standoff\":15},\"zerolinecolor\":\"white\",\"automargin\":true,\"zerolinewidth\":2},\"yaxis\":{\"gridcolor\":\"white\",\"linecolor\":\"white\",\"ticks\":\"\",\"title\":{\"standoff\":15},\"zerolinecolor\":\"white\",\"automargin\":true,\"zerolinewidth\":2},\"scene\":{\"xaxis\":{\"backgroundcolor\":\"#E5ECF6\",\"gridcolor\":\"white\",\"linecolor\":\"white\",\"showbackground\":true,\"ticks\":\"\",\"zerolinecolor\":\"white\",\"gridwidth\":2},\"yaxis\":{\"backgroundcolor\":\"#E5ECF6\",\"gridcolor\":\"white\",\"linecolor\":\"white\",\"showbackground\":true,\"ticks\":\"\",\"zerolinecolor\":\"white\",\"gridwidth\":2},\"zaxis\":{\"backgroundcolor\":\"#E5ECF6\",\"gridcolor\":\"white\",\"linecolor\":\"white\",\"showbackground\":true,\"ticks\":\"\",\"zerolinecolor\":\"white\",\"gridwidth\":2}},\"shapedefaults\":{\"line\":{\"color\":\"#2a3f5f\"}},\"annotationdefaults\":{\"arrowcolor\":\"#2a3f5f\",\"arrowhead\":0,\"arrowwidth\":1},\"geo\":{\"bgcolor\":\"white\",\"landcolor\":\"#E5ECF6\",\"subunitcolor\":\"white\",\"showland\":true,\"showlakes\":true,\"lakecolor\":\"white\"},\"title\":{\"x\":0.05},\"mapbox\":{\"style\":\"light\"}}},\"xaxis\":{\"anchor\":\"y\",\"domain\":[0.0,1.0]},\"yaxis\":{\"anchor\":\"x\",\"domain\":[0.0,1.0],\"title\":{\"text\":\"tempo\"}},\"legend\":{\"tracegroupgap\":0},\"margin\":{\"t\":60},\"boxmode\":\"group\"},                        {\"responsive\": true}                    ).then(function(){\n",
       "                            \n",
       "var gd = document.getElementById('2cda4a3e-24c4-444e-9b3f-475e63d0ab57');\n",
       "var x = new MutationObserver(function (mutations, observer) {{\n",
       "        var display = window.getComputedStyle(gd).display;\n",
       "        if (!display || display === 'none') {{\n",
       "            console.log([gd, 'removed!']);\n",
       "            Plotly.purge(gd);\n",
       "            observer.disconnect();\n",
       "        }}\n",
       "}});\n",
       "\n",
       "// Listen for the removal of the full notebook cells\n",
       "var notebookContainer = gd.closest('#notebook-container');\n",
       "if (notebookContainer) {{\n",
       "    x.observe(notebookContainer, {childList: true});\n",
       "}}\n",
       "\n",
       "// Listen for the clearing of the current output cell\n",
       "var outputEl = gd.closest('.output');\n",
       "if (outputEl) {{\n",
       "    x.observe(outputEl, {childList: true});\n",
       "}}\n",
       "\n",
       "                        })                };                });            </script>        </div>"
      ]
     },
     "metadata": {},
     "output_type": "display_data"
    }
   ],
   "source": [
    "fig = px.box(top_5, y=\"tempo\")\n",
    "fig.show()"
   ]
  },
  {
   "cell_type": "markdown",
   "metadata": {},
   "source": [
    "### My most preferred features"
   ]
  },
  {
   "cell_type": "code",
   "execution_count": 147,
   "metadata": {},
   "outputs": [
    {
     "data": {
      "text/html": [
       "<div>\n",
       "<style scoped>\n",
       "    .dataframe tbody tr th:only-of-type {\n",
       "        vertical-align: middle;\n",
       "    }\n",
       "\n",
       "    .dataframe tbody tr th {\n",
       "        vertical-align: top;\n",
       "    }\n",
       "\n",
       "    .dataframe thead th {\n",
       "        text-align: right;\n",
       "    }\n",
       "</style>\n",
       "<table border=\"1\" class=\"dataframe\">\n",
       "  <thead>\n",
       "    <tr style=\"text-align: right;\">\n",
       "      <th></th>\n",
       "      <th>0</th>\n",
       "    </tr>\n",
       "  </thead>\n",
       "  <tbody>\n",
       "    <tr>\n",
       "      <th>danceability</th>\n",
       "      <td>0.583742</td>\n",
       "    </tr>\n",
       "    <tr>\n",
       "      <th>energy</th>\n",
       "      <td>0.476315</td>\n",
       "    </tr>\n",
       "    <tr>\n",
       "      <th>loudness</th>\n",
       "      <td>-10.042980</td>\n",
       "    </tr>\n",
       "    <tr>\n",
       "      <th>speechiness</th>\n",
       "      <td>0.096403</td>\n",
       "    </tr>\n",
       "    <tr>\n",
       "      <th>acousticness</th>\n",
       "      <td>0.492871</td>\n",
       "    </tr>\n",
       "    <tr>\n",
       "      <th>instrumentalness</th>\n",
       "      <td>0.071219</td>\n",
       "    </tr>\n",
       "    <tr>\n",
       "      <th>liveness</th>\n",
       "      <td>0.158573</td>\n",
       "    </tr>\n",
       "    <tr>\n",
       "      <th>valence</th>\n",
       "      <td>0.440773</td>\n",
       "    </tr>\n",
       "  </tbody>\n",
       "</table>\n",
       "</div>"
      ],
      "text/plain": [
       "                          0\n",
       "danceability       0.583742\n",
       "energy             0.476315\n",
       "loudness         -10.042980\n",
       "speechiness        0.096403\n",
       "acousticness       0.492871\n",
       "instrumentalness   0.071219\n",
       "liveness           0.158573\n",
       "valence            0.440773"
      ]
     },
     "execution_count": 147,
     "metadata": {},
     "output_type": "execute_result"
    }
   ],
   "source": [
    "features_mean= df1[['danceability','energy','loudness','speechiness','acousticness','instrumentalness','liveness','valence']].mean()\n",
    "features_mean= features_mean.to_frame()\n",
    "features_mean"
   ]
  },
  {
   "cell_type": "code",
   "execution_count": 148,
   "metadata": {},
   "outputs": [],
   "source": [
    "df_col_withloud = df1[['danceability','energy','speechiness','loudness','acousticness','instrumentalness','liveness','valence']].columns\n",
    "df_col_withloud = df_col_withloud.to_frame()"
   ]
  },
  {
   "cell_type": "code",
   "execution_count": 149,
   "metadata": {},
   "outputs": [],
   "source": [
    "features_mean['features'] = df_col_withloud"
   ]
  },
  {
   "cell_type": "code",
   "execution_count": 150,
   "metadata": {},
   "outputs": [
    {
     "data": {
      "text/html": [
       "<div>\n",
       "<style scoped>\n",
       "    .dataframe tbody tr th:only-of-type {\n",
       "        vertical-align: middle;\n",
       "    }\n",
       "\n",
       "    .dataframe tbody tr th {\n",
       "        vertical-align: top;\n",
       "    }\n",
       "\n",
       "    .dataframe thead th {\n",
       "        text-align: right;\n",
       "    }\n",
       "</style>\n",
       "<table border=\"1\" class=\"dataframe\">\n",
       "  <thead>\n",
       "    <tr style=\"text-align: right;\">\n",
       "      <th></th>\n",
       "      <th>values</th>\n",
       "      <th>features</th>\n",
       "    </tr>\n",
       "  </thead>\n",
       "  <tbody>\n",
       "    <tr>\n",
       "      <th>danceability</th>\n",
       "      <td>0.583742</td>\n",
       "      <td>danceability</td>\n",
       "    </tr>\n",
       "    <tr>\n",
       "      <th>energy</th>\n",
       "      <td>0.476315</td>\n",
       "      <td>energy</td>\n",
       "    </tr>\n",
       "    <tr>\n",
       "      <th>loudness</th>\n",
       "      <td>-10.042980</td>\n",
       "      <td>loudness</td>\n",
       "    </tr>\n",
       "    <tr>\n",
       "      <th>speechiness</th>\n",
       "      <td>0.096403</td>\n",
       "      <td>speechiness</td>\n",
       "    </tr>\n",
       "    <tr>\n",
       "      <th>acousticness</th>\n",
       "      <td>0.492871</td>\n",
       "      <td>acousticness</td>\n",
       "    </tr>\n",
       "    <tr>\n",
       "      <th>instrumentalness</th>\n",
       "      <td>0.071219</td>\n",
       "      <td>instrumentalness</td>\n",
       "    </tr>\n",
       "    <tr>\n",
       "      <th>liveness</th>\n",
       "      <td>0.158573</td>\n",
       "      <td>liveness</td>\n",
       "    </tr>\n",
       "    <tr>\n",
       "      <th>valence</th>\n",
       "      <td>0.440773</td>\n",
       "      <td>valence</td>\n",
       "    </tr>\n",
       "  </tbody>\n",
       "</table>\n",
       "</div>"
      ],
      "text/plain": [
       "                     values          features\n",
       "danceability       0.583742      danceability\n",
       "energy             0.476315            energy\n",
       "loudness         -10.042980          loudness\n",
       "speechiness        0.096403       speechiness\n",
       "acousticness       0.492871      acousticness\n",
       "instrumentalness   0.071219  instrumentalness\n",
       "liveness           0.158573          liveness\n",
       "valence            0.440773           valence"
      ]
     },
     "execution_count": 150,
     "metadata": {},
     "output_type": "execute_result"
    }
   ],
   "source": [
    "features_mean.rename(columns={ features_mean.columns[0]: \"values\" }, inplace = True)\n",
    "features_mean"
   ]
  },
  {
   "cell_type": "code",
   "execution_count": 151,
   "metadata": {},
   "outputs": [
    {
     "data": {
      "text/plain": [
       "<Axes: xlabel='features'>"
      ]
     },
     "execution_count": 151,
     "metadata": {},
     "output_type": "execute_result"
    },
    {
     "data": {
      "image/png": "[encoded data removed]",
      "text/plain": [
       "<Figure size 640x480 with 1 Axes>"
      ]
     },
     "metadata": {},
     "output_type": "display_data"
    }
   ],
   "source": [
    "features_mean.plot(kind='bar',x='features',y='values')"
   ]
  },
  {
   "cell_type": "markdown",
   "metadata": {},
   "source": [
    "# Analysed and compared the boringness of my playlist and my brother's playlist for a comparison "
   ]
  },
  {
   "cell_type": "code",
   "execution_count": null,
   "metadata": {},
   "outputs": [],
   "source": [
    "features_df = df1[['danceability','energy','loudness','speechiness','acousticness','instrumentalness','liveness','valence','tempo']]\n",
    "from scipy.stats import zscore\n",
    "features_df_scaled =  features_df.apply(zscore)\n",
    "features_df_scaled"
   ]
  },
  {
   "cell_type": "code",
   "execution_count": 154,
   "metadata": {},
   "outputs": [],
   "source": [
    "df1['boring_me']= df1['loudness']+df1['energy']*100+df1['danceability']*100+df1['tempo']"
   ]
  },
  {
   "cell_type": "code",
   "execution_count": 155,
   "metadata": {},
   "outputs": [
    {
     "data": {
      "text/plain": [
       "<Axes: >"
      ]
     },
     "execution_count": 155,
     "metadata": {},
     "output_type": "execute_result"
    },
    {
     "data": {
      "image/png": "[encoded data removed]",
      "text/plain": [
       "<Figure size 640x480 with 1 Axes>"
      ]
     },
     "metadata": {},
     "output_type": "display_data"
    }
   ],
   "source": [
    "df1['boring_me'].hist()"
   ]
  },
  {
   "cell_type": "code",
   "execution_count": 156,
   "metadata": {},
   "outputs": [
    {
     "data": {
      "text/plain": [
       "211.1113510890662"
      ]
     },
     "execution_count": 156,
     "metadata": {},
     "output_type": "execute_result"
    }
   ],
   "source": [
    "boring_mean_mine= df1['boring_me'].mean()\n",
    "boring_mean_mine"
   ]
  },
  {
   "cell_type": "code",
   "execution_count": 157,
   "metadata": {},
   "outputs": [
    {
     "data": {
      "text/html": [
       "<div>\n",
       "<style scoped>\n",
       "    .dataframe tbody tr th:only-of-type {\n",
       "        vertical-align: middle;\n",
       "    }\n",
       "\n",
       "    .dataframe tbody tr th {\n",
       "        vertical-align: top;\n",
       "    }\n",
       "\n",
       "    .dataframe thead th {\n",
       "        text-align: right;\n",
       "    }\n",
       "</style>\n",
       "<table border=\"1\" class=\"dataframe\">\n",
       "  <thead>\n",
       "    <tr style=\"text-align: right;\">\n",
       "      <th></th>\n",
       "      <th>name</th>\n",
       "      <th>danceability</th>\n",
       "      <th>energy</th>\n",
       "      <th>key</th>\n",
       "      <th>loudness</th>\n",
       "      <th>mode</th>\n",
       "      <th>speechiness</th>\n",
       "      <th>acousticness</th>\n",
       "      <th>instrumentalness</th>\n",
       "      <th>liveness</th>\n",
       "      <th>valence</th>\n",
       "      <th>tempo</th>\n",
       "      <th>type</th>\n",
       "      <th>id</th>\n",
       "      <th>uri</th>\n",
       "      <th>track_href</th>\n",
       "      <th>analysis_url</th>\n",
       "      <th>duration_ms</th>\n",
       "      <th>time_signature</th>\n",
       "    </tr>\n",
       "  </thead>\n",
       "  <tbody>\n",
       "    <tr>\n",
       "      <th>0</th>\n",
       "      <td>Headlines - Recorded at Spotify Studios NYC</td>\n",
       "      <td>0.556</td>\n",
       "      <td>0.319</td>\n",
       "      <td>11</td>\n",
       "      <td>-9.406</td>\n",
       "      <td>1</td>\n",
       "      <td>0.0327</td>\n",
       "      <td>0.93900</td>\n",
       "      <td>0.000000</td>\n",
       "      <td>0.1030</td>\n",
       "      <td>0.212</td>\n",
       "      <td>142.829</td>\n",
       "      <td>audio_features</td>\n",
       "      <td>6O1mb8Q7GaEYXLguecJwwg</td>\n",
       "      <td>spotify:track:6O1mb8Q7GaEYXLguecJwwg</td>\n",
       "      <td>https://api.spotify.com/v1/tracks/6O1mb8Q7GaEY...</td>\n",
       "      <td>https://api.spotify.com/v1/audio-analysis/6O1m...</td>\n",
       "      <td>186178</td>\n",
       "      <td>4</td>\n",
       "    </tr>\n",
       "    <tr>\n",
       "      <th>1</th>\n",
       "      <td>See You Again (feat. Charlie Puth)</td>\n",
       "      <td>0.689</td>\n",
       "      <td>0.481</td>\n",
       "      <td>10</td>\n",
       "      <td>-7.503</td>\n",
       "      <td>1</td>\n",
       "      <td>0.0815</td>\n",
       "      <td>0.36900</td>\n",
       "      <td>0.000001</td>\n",
       "      <td>0.0649</td>\n",
       "      <td>0.283</td>\n",
       "      <td>80.025</td>\n",
       "      <td>audio_features</td>\n",
       "      <td>2JzZzZUQj3Qff7wapcbKjc</td>\n",
       "      <td>spotify:track:2JzZzZUQj3Qff7wapcbKjc</td>\n",
       "      <td>https://api.spotify.com/v1/tracks/2JzZzZUQj3Qf...</td>\n",
       "      <td>https://api.spotify.com/v1/audio-analysis/2JzZ...</td>\n",
       "      <td>229526</td>\n",
       "      <td>4</td>\n",
       "    </tr>\n",
       "    <tr>\n",
       "      <th>2</th>\n",
       "      <td>Daylight</td>\n",
       "      <td>0.528</td>\n",
       "      <td>0.749</td>\n",
       "      <td>7</td>\n",
       "      <td>-7.571</td>\n",
       "      <td>1</td>\n",
       "      <td>0.0479</td>\n",
       "      <td>0.00488</td>\n",
       "      <td>0.000096</td>\n",
       "      <td>0.0949</td>\n",
       "      <td>0.729</td>\n",
       "      <td>163.944</td>\n",
       "      <td>audio_features</td>\n",
       "      <td>6Ed1q0X8oSKSm4IIhiQbYg</td>\n",
       "      <td>spotify:track:6Ed1q0X8oSKSm4IIhiQbYg</td>\n",
       "      <td>https://api.spotify.com/v1/tracks/6Ed1q0X8oSKS...</td>\n",
       "      <td>https://api.spotify.com/v1/audio-analysis/6Ed1...</td>\n",
       "      <td>163906</td>\n",
       "      <td>4</td>\n",
       "    </tr>\n",
       "    <tr>\n",
       "      <th>3</th>\n",
       "      <td>As Long As You Love Me</td>\n",
       "      <td>0.571</td>\n",
       "      <td>0.873</td>\n",
       "      <td>0</td>\n",
       "      <td>-3.382</td>\n",
       "      <td>0</td>\n",
       "      <td>0.1000</td>\n",
       "      <td>0.08110</td>\n",
       "      <td>0.000000</td>\n",
       "      <td>0.3610</td>\n",
       "      <td>0.613</td>\n",
       "      <td>139.691</td>\n",
       "      <td>audio_features</td>\n",
       "      <td>0pwYLVXVknPSGUQb39cePC</td>\n",
       "      <td>spotify:track:0pwYLVXVknPSGUQb39cePC</td>\n",
       "      <td>https://api.spotify.com/v1/tracks/0pwYLVXVknPS...</td>\n",
       "      <td>https://api.spotify.com/v1/audio-analysis/0pwY...</td>\n",
       "      <td>229467</td>\n",
       "      <td>4</td>\n",
       "    </tr>\n",
       "    <tr>\n",
       "      <th>4</th>\n",
       "      <td>SICKO MODE - Skrillex Remix</td>\n",
       "      <td>0.651</td>\n",
       "      <td>0.833</td>\n",
       "      <td>1</td>\n",
       "      <td>-3.356</td>\n",
       "      <td>1</td>\n",
       "      <td>0.1720</td>\n",
       "      <td>0.02140</td>\n",
       "      <td>0.000000</td>\n",
       "      <td>0.1400</td>\n",
       "      <td>0.443</td>\n",
       "      <td>155.051</td>\n",
       "      <td>audio_features</td>\n",
       "      <td>0u695M7KyzXaPIjpEbxOkB</td>\n",
       "      <td>spotify:track:0u695M7KyzXaPIjpEbxOkB</td>\n",
       "      <td>https://api.spotify.com/v1/tracks/0u695M7KyzXa...</td>\n",
       "      <td>https://api.spotify.com/v1/audio-analysis/0u69...</td>\n",
       "      <td>304512</td>\n",
       "      <td>4</td>\n",
       "    </tr>\n",
       "    <tr>\n",
       "      <th>...</th>\n",
       "      <td>...</td>\n",
       "      <td>...</td>\n",
       "      <td>...</td>\n",
       "      <td>...</td>\n",
       "      <td>...</td>\n",
       "      <td>...</td>\n",
       "      <td>...</td>\n",
       "      <td>...</td>\n",
       "      <td>...</td>\n",
       "      <td>...</td>\n",
       "      <td>...</td>\n",
       "      <td>...</td>\n",
       "      <td>...</td>\n",
       "      <td>...</td>\n",
       "      <td>...</td>\n",
       "      <td>...</td>\n",
       "      <td>...</td>\n",
       "      <td>...</td>\n",
       "      <td>...</td>\n",
       "    </tr>\n",
       "    <tr>\n",
       "      <th>1926</th>\n",
       "      <td>Sweater Weather</td>\n",
       "      <td>0.612</td>\n",
       "      <td>0.807</td>\n",
       "      <td>10</td>\n",
       "      <td>-2.810</td>\n",
       "      <td>1</td>\n",
       "      <td>0.0336</td>\n",
       "      <td>0.04950</td>\n",
       "      <td>0.017700</td>\n",
       "      <td>0.1010</td>\n",
       "      <td>0.398</td>\n",
       "      <td>124.053</td>\n",
       "      <td>audio_features</td>\n",
       "      <td>2QjOHCTQ1Jl3zawyYOpxh6</td>\n",
       "      <td>spotify:track:2QjOHCTQ1Jl3zawyYOpxh6</td>\n",
       "      <td>https://api.spotify.com/v1/tracks/2QjOHCTQ1Jl3...</td>\n",
       "      <td>https://api.spotify.com/v1/audio-analysis/2QjO...</td>\n",
       "      <td>240400</td>\n",
       "      <td>4</td>\n",
       "    </tr>\n",
       "    <tr>\n",
       "      <th>1927</th>\n",
       "      <td>Nobody's Better (feat. Fetty Wap)</td>\n",
       "      <td>0.357</td>\n",
       "      <td>0.661</td>\n",
       "      <td>0</td>\n",
       "      <td>-7.259</td>\n",
       "      <td>0</td>\n",
       "      <td>0.1060</td>\n",
       "      <td>0.01340</td>\n",
       "      <td>0.000000</td>\n",
       "      <td>0.1660</td>\n",
       "      <td>0.541</td>\n",
       "      <td>101.038</td>\n",
       "      <td>audio_features</td>\n",
       "      <td>6XKm1z5lYIq486iWMLnSFY</td>\n",
       "      <td>spotify:track:6XKm1z5lYIq486iWMLnSFY</td>\n",
       "      <td>https://api.spotify.com/v1/tracks/6XKm1z5lYIq4...</td>\n",
       "      <td>https://api.spotify.com/v1/audio-analysis/6XKm...</td>\n",
       "      <td>209591</td>\n",
       "      <td>4</td>\n",
       "    </tr>\n",
       "    <tr>\n",
       "      <th>1928</th>\n",
       "      <td>FAST</td>\n",
       "      <td>0.623</td>\n",
       "      <td>0.608</td>\n",
       "      <td>1</td>\n",
       "      <td>-5.937</td>\n",
       "      <td>0</td>\n",
       "      <td>0.0434</td>\n",
       "      <td>0.42600</td>\n",
       "      <td>0.000000</td>\n",
       "      <td>0.1050</td>\n",
       "      <td>0.263</td>\n",
       "      <td>84.980</td>\n",
       "      <td>audio_features</td>\n",
       "      <td>6MjNilJCVKJq0LfFvo5jWJ</td>\n",
       "      <td>spotify:track:6MjNilJCVKJq0LfFvo5jWJ</td>\n",
       "      <td>https://api.spotify.com/v1/tracks/6MjNilJCVKJq...</td>\n",
       "      <td>https://api.spotify.com/v1/audio-analysis/6MjN...</td>\n",
       "      <td>208518</td>\n",
       "      <td>4</td>\n",
       "    </tr>\n",
       "    <tr>\n",
       "      <th>1929</th>\n",
       "      <td>ily (i love you baby) (feat. Emilee)</td>\n",
       "      <td>0.674</td>\n",
       "      <td>0.774</td>\n",
       "      <td>11</td>\n",
       "      <td>-7.567</td>\n",
       "      <td>0</td>\n",
       "      <td>0.0892</td>\n",
       "      <td>0.06860</td>\n",
       "      <td>0.001880</td>\n",
       "      <td>0.3930</td>\n",
       "      <td>0.330</td>\n",
       "      <td>112.050</td>\n",
       "      <td>audio_features</td>\n",
       "      <td>62aP9fBQKYKxi7PDXwcUAS</td>\n",
       "      <td>spotify:track:62aP9fBQKYKxi7PDXwcUAS</td>\n",
       "      <td>https://api.spotify.com/v1/tracks/62aP9fBQKYKx...</td>\n",
       "      <td>https://api.spotify.com/v1/audio-analysis/62aP...</td>\n",
       "      <td>176547</td>\n",
       "      <td>4</td>\n",
       "    </tr>\n",
       "    <tr>\n",
       "      <th>1930</th>\n",
       "      <td>In My Bed</td>\n",
       "      <td>0.545</td>\n",
       "      <td>0.385</td>\n",
       "      <td>9</td>\n",
       "      <td>-6.010</td>\n",
       "      <td>0</td>\n",
       "      <td>0.2990</td>\n",
       "      <td>0.07140</td>\n",
       "      <td>0.001400</td>\n",
       "      <td>0.0859</td>\n",
       "      <td>0.655</td>\n",
       "      <td>218.365</td>\n",
       "      <td>audio_features</td>\n",
       "      <td>1FjD1jpm51dH5LzLvrDVPY</td>\n",
       "      <td>spotify:track:1FjD1jpm51dH5LzLvrDVPY</td>\n",
       "      <td>https://api.spotify.com/v1/tracks/1FjD1jpm51dH...</td>\n",
       "      <td>https://api.spotify.com/v1/audio-analysis/1FjD...</td>\n",
       "      <td>189981</td>\n",
       "      <td>4</td>\n",
       "    </tr>\n",
       "  </tbody>\n",
       "</table>\n",
       "<p>1931 rows × 19 columns</p>\n",
       "</div>"
      ],
      "text/plain": [
       "                                             name  danceability  energy  key  \\\n",
       "0     Headlines - Recorded at Spotify Studios NYC         0.556   0.319   11   \n",
       "1              See You Again (feat. Charlie Puth)         0.689   0.481   10   \n",
       "2                                        Daylight         0.528   0.749    7   \n",
       "3                          As Long As You Love Me         0.571   0.873    0   \n",
       "4                     SICKO MODE - Skrillex Remix         0.651   0.833    1   \n",
       "...                                           ...           ...     ...  ...   \n",
       "1926                              Sweater Weather         0.612   0.807   10   \n",
       "1927            Nobody's Better (feat. Fetty Wap)         0.357   0.661    0   \n",
       "1928                                         FAST         0.623   0.608    1   \n",
       "1929         ily (i love you baby) (feat. Emilee)         0.674   0.774   11   \n",
       "1930                                    In My Bed         0.545   0.385    9   \n",
       "\n",
       "      loudness  mode  speechiness  acousticness  instrumentalness  liveness  \\\n",
       "0       -9.406     1       0.0327       0.93900          0.000000    0.1030   \n",
       "1       -7.503     1       0.0815       0.36900          0.000001    0.0649   \n",
       "2       -7.571     1       0.0479       0.00488          0.000096    0.0949   \n",
       "3       -3.382     0       0.1000       0.08110          0.000000    0.3610   \n",
       "4       -3.356     1       0.1720       0.02140          0.000000    0.1400   \n",
       "...        ...   ...          ...           ...               ...       ...   \n",
       "1926    -2.810     1       0.0336       0.04950          0.017700    0.1010   \n",
       "1927    -7.259     0       0.1060       0.01340          0.000000    0.1660   \n",
       "1928    -5.937     0       0.0434       0.42600          0.000000    0.1050   \n",
       "1929    -7.567     0       0.0892       0.06860          0.001880    0.3930   \n",
       "1930    -6.010     0       0.2990       0.07140          0.001400    0.0859   \n",
       "\n",
       "      valence    tempo            type                      id  \\\n",
       "0       0.212  142.829  audio_features  6O1mb8Q7GaEYXLguecJwwg   \n",
       "1       0.283   80.025  audio_features  2JzZzZUQj3Qff7wapcbKjc   \n",
       "2       0.729  163.944  audio_features  6Ed1q0X8oSKSm4IIhiQbYg   \n",
       "3       0.613  139.691  audio_features  0pwYLVXVknPSGUQb39cePC   \n",
       "4       0.443  155.051  audio_features  0u695M7KyzXaPIjpEbxOkB   \n",
       "...       ...      ...             ...                     ...   \n",
       "1926    0.398  124.053  audio_features  2QjOHCTQ1Jl3zawyYOpxh6   \n",
       "1927    0.541  101.038  audio_features  6XKm1z5lYIq486iWMLnSFY   \n",
       "1928    0.263   84.980  audio_features  6MjNilJCVKJq0LfFvo5jWJ   \n",
       "1929    0.330  112.050  audio_features  62aP9fBQKYKxi7PDXwcUAS   \n",
       "1930    0.655  218.365  audio_features  1FjD1jpm51dH5LzLvrDVPY   \n",
       "\n",
       "                                       uri  \\\n",
       "0     spotify:track:6O1mb8Q7GaEYXLguecJwwg   \n",
       "1     spotify:track:2JzZzZUQj3Qff7wapcbKjc   \n",
       "2     spotify:track:6Ed1q0X8oSKSm4IIhiQbYg   \n",
       "3     spotify:track:0pwYLVXVknPSGUQb39cePC   \n",
       "4     spotify:track:0u695M7KyzXaPIjpEbxOkB   \n",
       "...                                    ...   \n",
       "1926  spotify:track:2QjOHCTQ1Jl3zawyYOpxh6   \n",
       "1927  spotify:track:6XKm1z5lYIq486iWMLnSFY   \n",
       "1928  spotify:track:6MjNilJCVKJq0LfFvo5jWJ   \n",
       "1929  spotify:track:62aP9fBQKYKxi7PDXwcUAS   \n",
       "1930  spotify:track:1FjD1jpm51dH5LzLvrDVPY   \n",
       "\n",
       "                                             track_href  \\\n",
       "0     https://api.spotify.com/v1/tracks/6O1mb8Q7GaEY...   \n",
       "1     https://api.spotify.com/v1/tracks/2JzZzZUQj3Qf...   \n",
       "2     https://api.spotify.com/v1/tracks/6Ed1q0X8oSKS...   \n",
       "3     https://api.spotify.com/v1/tracks/0pwYLVXVknPS...   \n",
       "4     https://api.spotify.com/v1/tracks/0u695M7KyzXa...   \n",
       "...                                                 ...   \n",
       "1926  https://api.spotify.com/v1/tracks/2QjOHCTQ1Jl3...   \n",
       "1927  https://api.spotify.com/v1/tracks/6XKm1z5lYIq4...   \n",
       "1928  https://api.spotify.com/v1/tracks/6MjNilJCVKJq...   \n",
       "1929  https://api.spotify.com/v1/tracks/62aP9fBQKYKx...   \n",
       "1930  https://api.spotify.com/v1/tracks/1FjD1jpm51dH...   \n",
       "\n",
       "                                           analysis_url  duration_ms  \\\n",
       "0     https://api.spotify.com/v1/audio-analysis/6O1m...       186178   \n",
       "1     https://api.spotify.com/v1/audio-analysis/2JzZ...       229526   \n",
       "2     https://api.spotify.com/v1/audio-analysis/6Ed1...       163906   \n",
       "3     https://api.spotify.com/v1/audio-analysis/0pwY...       229467   \n",
       "4     https://api.spotify.com/v1/audio-analysis/0u69...       304512   \n",
       "...                                                 ...          ...   \n",
       "1926  https://api.spotify.com/v1/audio-analysis/2QjO...       240400   \n",
       "1927  https://api.spotify.com/v1/audio-analysis/6XKm...       209591   \n",
       "1928  https://api.spotify.com/v1/audio-analysis/6MjN...       208518   \n",
       "1929  https://api.spotify.com/v1/audio-analysis/62aP...       176547   \n",
       "1930  https://api.spotify.com/v1/audio-analysis/1FjD...       189981   \n",
       "\n",
       "      time_signature  \n",
       "0                  4  \n",
       "1                  4  \n",
       "2                  4  \n",
       "3                  4  \n",
       "4                  4  \n",
       "...              ...  \n",
       "1926               4  \n",
       "1927               4  \n",
       "1928               4  \n",
       "1929               4  \n",
       "1930               4  \n",
       "\n",
       "[1931 rows x 19 columns]"
      ]
     },
     "execution_count": 157,
     "metadata": {},
     "output_type": "execute_result"
    }
   ],
   "source": [
    "bro_features = pd.read_csv(\"bro.csv\", encoding= 'unicode_escape')\n",
    "bro_features.drop('Unnamed: 0', axis=1, inplace=True)\n",
    "bro_features"
   ]
  },
  {
   "cell_type": "code",
   "execution_count": 158,
   "metadata": {},
   "outputs": [],
   "source": [
    "bro_features = bro_features[['name','danceability','energy','loudness','speechiness','acousticness','instrumentalness','liveness','valence','tempo']]"
   ]
  },
  {
   "cell_type": "code",
   "execution_count": 159,
   "metadata": {},
   "outputs": [],
   "source": [
    "bro_featrs = bro_features[['danceability','energy','loudness','speechiness','acousticness','instrumentalness','liveness','valence','tempo']]"
   ]
  },
  {
   "cell_type": "code",
   "execution_count": 160,
   "metadata": {},
   "outputs": [
    {
     "data": {
      "text/html": [
       "<div>\n",
       "<style scoped>\n",
       "    .dataframe tbody tr th:only-of-type {\n",
       "        vertical-align: middle;\n",
       "    }\n",
       "\n",
       "    .dataframe tbody tr th {\n",
       "        vertical-align: top;\n",
       "    }\n",
       "\n",
       "    .dataframe thead th {\n",
       "        text-align: right;\n",
       "    }\n",
       "</style>\n",
       "<table border=\"1\" class=\"dataframe\">\n",
       "  <thead>\n",
       "    <tr style=\"text-align: right;\">\n",
       "      <th></th>\n",
       "      <th>danceability</th>\n",
       "      <th>energy</th>\n",
       "      <th>loudness</th>\n",
       "      <th>speechiness</th>\n",
       "      <th>acousticness</th>\n",
       "      <th>instrumentalness</th>\n",
       "      <th>liveness</th>\n",
       "      <th>valence</th>\n",
       "      <th>tempo</th>\n",
       "    </tr>\n",
       "  </thead>\n",
       "  <tbody>\n",
       "    <tr>\n",
       "      <th>0</th>\n",
       "      <td>-0.650355</td>\n",
       "      <td>-1.530576</td>\n",
       "      <td>-0.722797</td>\n",
       "      <td>-0.668045</td>\n",
       "      <td>2.284544</td>\n",
       "      <td>-0.210550</td>\n",
       "      <td>-0.487792</td>\n",
       "      <td>-1.233129</td>\n",
       "      <td>0.784245</td>\n",
       "    </tr>\n",
       "    <tr>\n",
       "      <th>1</th>\n",
       "      <td>0.275923</td>\n",
       "      <td>-0.654862</td>\n",
       "      <td>-0.113523</td>\n",
       "      <td>-0.140768</td>\n",
       "      <td>0.219541</td>\n",
       "      <td>-0.210543</td>\n",
       "      <td>-0.797873</td>\n",
       "      <td>-0.906428</td>\n",
       "      <td>-1.300105</td>\n",
       "    </tr>\n",
       "    <tr>\n",
       "      <th>2</th>\n",
       "      <td>-0.845361</td>\n",
       "      <td>0.793849</td>\n",
       "      <td>-0.135295</td>\n",
       "      <td>-0.503811</td>\n",
       "      <td>-1.099598</td>\n",
       "      <td>-0.209883</td>\n",
       "      <td>-0.553714</td>\n",
       "      <td>1.145803</td>\n",
       "      <td>1.485013</td>\n",
       "    </tr>\n",
       "    <tr>\n",
       "      <th>3</th>\n",
       "      <td>-0.545888</td>\n",
       "      <td>1.464148</td>\n",
       "      <td>1.205875</td>\n",
       "      <td>0.059122</td>\n",
       "      <td>-0.823467</td>\n",
       "      <td>-0.210550</td>\n",
       "      <td>1.611974</td>\n",
       "      <td>0.612039</td>\n",
       "      <td>0.680100</td>\n",
       "    </tr>\n",
       "    <tr>\n",
       "      <th>4</th>\n",
       "      <td>0.011272</td>\n",
       "      <td>1.247923</td>\n",
       "      <td>1.214200</td>\n",
       "      <td>0.837073</td>\n",
       "      <td>-1.039749</td>\n",
       "      <td>-0.210550</td>\n",
       "      <td>-0.186662</td>\n",
       "      <td>-0.170202</td>\n",
       "      <td>1.189870</td>\n",
       "    </tr>\n",
       "    <tr>\n",
       "      <th>...</th>\n",
       "      <td>...</td>\n",
       "      <td>...</td>\n",
       "      <td>...</td>\n",
       "      <td>...</td>\n",
       "      <td>...</td>\n",
       "      <td>...</td>\n",
       "      <td>...</td>\n",
       "      <td>...</td>\n",
       "      <td>...</td>\n",
       "    </tr>\n",
       "    <tr>\n",
       "      <th>1926</th>\n",
       "      <td>-0.260343</td>\n",
       "      <td>1.107376</td>\n",
       "      <td>1.389009</td>\n",
       "      <td>-0.658321</td>\n",
       "      <td>-0.937948</td>\n",
       "      <td>-0.087593</td>\n",
       "      <td>-0.504069</td>\n",
       "      <td>-0.377266</td>\n",
       "      <td>0.161104</td>\n",
       "    </tr>\n",
       "    <tr>\n",
       "      <th>1927</th>\n",
       "      <td>-2.036291</td>\n",
       "      <td>0.318153</td>\n",
       "      <td>-0.035403</td>\n",
       "      <td>0.123952</td>\n",
       "      <td>-1.068731</td>\n",
       "      <td>-0.210550</td>\n",
       "      <td>0.024942</td>\n",
       "      <td>0.280737</td>\n",
       "      <td>-0.602722</td>\n",
       "    </tr>\n",
       "    <tr>\n",
       "      <th>1928</th>\n",
       "      <td>-0.183734</td>\n",
       "      <td>0.031654</td>\n",
       "      <td>0.387855</td>\n",
       "      <td>-0.552433</td>\n",
       "      <td>0.426041</td>\n",
       "      <td>-0.210550</td>\n",
       "      <td>-0.471514</td>\n",
       "      <td>-0.998457</td>\n",
       "      <td>-1.135658</td>\n",
       "    </tr>\n",
       "    <tr>\n",
       "      <th>1929</th>\n",
       "      <td>0.171456</td>\n",
       "      <td>0.928990</td>\n",
       "      <td>-0.134014</td>\n",
       "      <td>-0.057570</td>\n",
       "      <td>-0.868752</td>\n",
       "      <td>-0.197490</td>\n",
       "      <td>1.872410</td>\n",
       "      <td>-0.690162</td>\n",
       "      <td>-0.237254</td>\n",
       "    </tr>\n",
       "    <tr>\n",
       "      <th>1930</th>\n",
       "      <td>-0.726965</td>\n",
       "      <td>-1.173804</td>\n",
       "      <td>0.364483</td>\n",
       "      <td>2.209291</td>\n",
       "      <td>-0.858608</td>\n",
       "      <td>-0.200825</td>\n",
       "      <td>-0.626962</td>\n",
       "      <td>0.805298</td>\n",
       "      <td>3.291146</td>\n",
       "    </tr>\n",
       "  </tbody>\n",
       "</table>\n",
       "<p>1931 rows × 9 columns</p>\n",
       "</div>"
      ],
      "text/plain": [
       "      danceability    energy  loudness  speechiness  acousticness  \\\n",
       "0        -0.650355 -1.530576 -0.722797    -0.668045      2.284544   \n",
       "1         0.275923 -0.654862 -0.113523    -0.140768      0.219541   \n",
       "2        -0.845361  0.793849 -0.135295    -0.503811     -1.099598   \n",
       "3        -0.545888  1.464148  1.205875     0.059122     -0.823467   \n",
       "4         0.011272  1.247923  1.214200     0.837073     -1.039749   \n",
       "...            ...       ...       ...          ...           ...   \n",
       "1926     -0.260343  1.107376  1.389009    -0.658321     -0.937948   \n",
       "1927     -2.036291  0.318153 -0.035403     0.123952     -1.068731   \n",
       "1928     -0.183734  0.031654  0.387855    -0.552433      0.426041   \n",
       "1929      0.171456  0.928990 -0.134014    -0.057570     -0.868752   \n",
       "1930     -0.726965 -1.173804  0.364483     2.209291     -0.858608   \n",
       "\n",
       "      instrumentalness  liveness   valence     tempo  \n",
       "0            -0.210550 -0.487792 -1.233129  0.784245  \n",
       "1            -0.210543 -0.797873 -0.906428 -1.300105  \n",
       "2            -0.209883 -0.553714  1.145803  1.485013  \n",
       "3            -0.210550  1.611974  0.612039  0.680100  \n",
       "4            -0.210550 -0.186662 -0.170202  1.189870  \n",
       "...                ...       ...       ...       ...  \n",
       "1926         -0.087593 -0.504069 -0.377266  0.161104  \n",
       "1927         -0.210550  0.024942  0.280737 -0.602722  \n",
       "1928         -0.210550 -0.471514 -0.998457 -1.135658  \n",
       "1929         -0.197490  1.872410 -0.690162 -0.237254  \n",
       "1930         -0.200825 -0.626962  0.805298  3.291146  \n",
       "\n",
       "[1931 rows x 9 columns]"
      ]
     },
     "execution_count": 160,
     "metadata": {},
     "output_type": "execute_result"
    }
   ],
   "source": [
    "bro_featrs = bro_features[['danceability','energy','loudness','speechiness','acousticness','instrumentalness','liveness','valence','tempo']]\n",
    "from scipy.stats import zscore\n",
    "bro_featrs_scaled =  bro_featrs.apply(zscore)\n",
    "bro_featrs_scaled"
   ]
  },
  {
   "cell_type": "code",
   "execution_count": 161,
   "metadata": {},
   "outputs": [
    {
     "name": "stderr",
     "output_type": "stream",
     "text": [
      "C:\\Users\\Niveatha\\AppData\\Local\\Temp\\ipykernel_53856\\193420005.py:1: SettingWithCopyWarning:\n",
      "\n",
      "\n",
      "A value is trying to be set on a copy of a slice from a DataFrame.\n",
      "Try using .loc[row_indexer,col_indexer] = value instead\n",
      "\n",
      "See the caveats in the documentation: https://pandas.pydata.org/pandas-docs/stable/user_guide/indexing.html#returning-a-view-versus-a-copy\n",
      "\n"
     ]
    },
    {
     "data": {
      "text/html": [
       "<div>\n",
       "<style scoped>\n",
       "    .dataframe tbody tr th:only-of-type {\n",
       "        vertical-align: middle;\n",
       "    }\n",
       "\n",
       "    .dataframe tbody tr th {\n",
       "        vertical-align: top;\n",
       "    }\n",
       "\n",
       "    .dataframe thead th {\n",
       "        text-align: right;\n",
       "    }\n",
       "</style>\n",
       "<table border=\"1\" class=\"dataframe\">\n",
       "  <thead>\n",
       "    <tr style=\"text-align: right;\">\n",
       "      <th></th>\n",
       "      <th>name</th>\n",
       "      <th>danceability</th>\n",
       "      <th>energy</th>\n",
       "      <th>loudness</th>\n",
       "      <th>speechiness</th>\n",
       "      <th>acousticness</th>\n",
       "      <th>instrumentalness</th>\n",
       "      <th>liveness</th>\n",
       "      <th>valence</th>\n",
       "      <th>tempo</th>\n",
       "      <th>boring_him</th>\n",
       "    </tr>\n",
       "  </thead>\n",
       "  <tbody>\n",
       "    <tr>\n",
       "      <th>0</th>\n",
       "      <td>Headlines - Recorded at Spotify Studios NYC</td>\n",
       "      <td>0.556</td>\n",
       "      <td>0.319</td>\n",
       "      <td>-9.406</td>\n",
       "      <td>0.0327</td>\n",
       "      <td>0.93900</td>\n",
       "      <td>0.000000</td>\n",
       "      <td>0.1030</td>\n",
       "      <td>0.212</td>\n",
       "      <td>142.829</td>\n",
       "      <td>220.923</td>\n",
       "    </tr>\n",
       "    <tr>\n",
       "      <th>1</th>\n",
       "      <td>See You Again (feat. Charlie Puth)</td>\n",
       "      <td>0.689</td>\n",
       "      <td>0.481</td>\n",
       "      <td>-7.503</td>\n",
       "      <td>0.0815</td>\n",
       "      <td>0.36900</td>\n",
       "      <td>0.000001</td>\n",
       "      <td>0.0649</td>\n",
       "      <td>0.283</td>\n",
       "      <td>80.025</td>\n",
       "      <td>189.522</td>\n",
       "    </tr>\n",
       "    <tr>\n",
       "      <th>2</th>\n",
       "      <td>Daylight</td>\n",
       "      <td>0.528</td>\n",
       "      <td>0.749</td>\n",
       "      <td>-7.571</td>\n",
       "      <td>0.0479</td>\n",
       "      <td>0.00488</td>\n",
       "      <td>0.000096</td>\n",
       "      <td>0.0949</td>\n",
       "      <td>0.729</td>\n",
       "      <td>163.944</td>\n",
       "      <td>284.073</td>\n",
       "    </tr>\n",
       "    <tr>\n",
       "      <th>3</th>\n",
       "      <td>As Long As You Love Me</td>\n",
       "      <td>0.571</td>\n",
       "      <td>0.873</td>\n",
       "      <td>-3.382</td>\n",
       "      <td>0.1000</td>\n",
       "      <td>0.08110</td>\n",
       "      <td>0.000000</td>\n",
       "      <td>0.3610</td>\n",
       "      <td>0.613</td>\n",
       "      <td>139.691</td>\n",
       "      <td>280.709</td>\n",
       "    </tr>\n",
       "    <tr>\n",
       "      <th>4</th>\n",
       "      <td>SICKO MODE - Skrillex Remix</td>\n",
       "      <td>0.651</td>\n",
       "      <td>0.833</td>\n",
       "      <td>-3.356</td>\n",
       "      <td>0.1720</td>\n",
       "      <td>0.02140</td>\n",
       "      <td>0.000000</td>\n",
       "      <td>0.1400</td>\n",
       "      <td>0.443</td>\n",
       "      <td>155.051</td>\n",
       "      <td>300.095</td>\n",
       "    </tr>\n",
       "    <tr>\n",
       "      <th>...</th>\n",
       "      <td>...</td>\n",
       "      <td>...</td>\n",
       "      <td>...</td>\n",
       "      <td>...</td>\n",
       "      <td>...</td>\n",
       "      <td>...</td>\n",
       "      <td>...</td>\n",
       "      <td>...</td>\n",
       "      <td>...</td>\n",
       "      <td>...</td>\n",
       "      <td>...</td>\n",
       "    </tr>\n",
       "    <tr>\n",
       "      <th>1926</th>\n",
       "      <td>Sweater Weather</td>\n",
       "      <td>0.612</td>\n",
       "      <td>0.807</td>\n",
       "      <td>-2.810</td>\n",
       "      <td>0.0336</td>\n",
       "      <td>0.04950</td>\n",
       "      <td>0.017700</td>\n",
       "      <td>0.1010</td>\n",
       "      <td>0.398</td>\n",
       "      <td>124.053</td>\n",
       "      <td>263.143</td>\n",
       "    </tr>\n",
       "    <tr>\n",
       "      <th>1927</th>\n",
       "      <td>Nobody's Better (feat. Fetty Wap)</td>\n",
       "      <td>0.357</td>\n",
       "      <td>0.661</td>\n",
       "      <td>-7.259</td>\n",
       "      <td>0.1060</td>\n",
       "      <td>0.01340</td>\n",
       "      <td>0.000000</td>\n",
       "      <td>0.1660</td>\n",
       "      <td>0.541</td>\n",
       "      <td>101.038</td>\n",
       "      <td>195.579</td>\n",
       "    </tr>\n",
       "    <tr>\n",
       "      <th>1928</th>\n",
       "      <td>FAST</td>\n",
       "      <td>0.623</td>\n",
       "      <td>0.608</td>\n",
       "      <td>-5.937</td>\n",
       "      <td>0.0434</td>\n",
       "      <td>0.42600</td>\n",
       "      <td>0.000000</td>\n",
       "      <td>0.1050</td>\n",
       "      <td>0.263</td>\n",
       "      <td>84.980</td>\n",
       "      <td>202.143</td>\n",
       "    </tr>\n",
       "    <tr>\n",
       "      <th>1929</th>\n",
       "      <td>ily (i love you baby) (feat. Emilee)</td>\n",
       "      <td>0.674</td>\n",
       "      <td>0.774</td>\n",
       "      <td>-7.567</td>\n",
       "      <td>0.0892</td>\n",
       "      <td>0.06860</td>\n",
       "      <td>0.001880</td>\n",
       "      <td>0.3930</td>\n",
       "      <td>0.330</td>\n",
       "      <td>112.050</td>\n",
       "      <td>249.283</td>\n",
       "    </tr>\n",
       "    <tr>\n",
       "      <th>1930</th>\n",
       "      <td>In My Bed</td>\n",
       "      <td>0.545</td>\n",
       "      <td>0.385</td>\n",
       "      <td>-6.010</td>\n",
       "      <td>0.2990</td>\n",
       "      <td>0.07140</td>\n",
       "      <td>0.001400</td>\n",
       "      <td>0.0859</td>\n",
       "      <td>0.655</td>\n",
       "      <td>218.365</td>\n",
       "      <td>305.355</td>\n",
       "    </tr>\n",
       "  </tbody>\n",
       "</table>\n",
       "<p>1931 rows × 11 columns</p>\n",
       "</div>"
      ],
      "text/plain": [
       "                                             name  danceability  energy  \\\n",
       "0     Headlines - Recorded at Spotify Studios NYC         0.556   0.319   \n",
       "1              See You Again (feat. Charlie Puth)         0.689   0.481   \n",
       "2                                        Daylight         0.528   0.749   \n",
       "3                          As Long As You Love Me         0.571   0.873   \n",
       "4                     SICKO MODE - Skrillex Remix         0.651   0.833   \n",
       "...                                           ...           ...     ...   \n",
       "1926                              Sweater Weather         0.612   0.807   \n",
       "1927            Nobody's Better (feat. Fetty Wap)         0.357   0.661   \n",
       "1928                                         FAST         0.623   0.608   \n",
       "1929         ily (i love you baby) (feat. Emilee)         0.674   0.774   \n",
       "1930                                    In My Bed         0.545   0.385   \n",
       "\n",
       "      loudness  speechiness  acousticness  instrumentalness  liveness  \\\n",
       "0       -9.406       0.0327       0.93900          0.000000    0.1030   \n",
       "1       -7.503       0.0815       0.36900          0.000001    0.0649   \n",
       "2       -7.571       0.0479       0.00488          0.000096    0.0949   \n",
       "3       -3.382       0.1000       0.08110          0.000000    0.3610   \n",
       "4       -3.356       0.1720       0.02140          0.000000    0.1400   \n",
       "...        ...          ...           ...               ...       ...   \n",
       "1926    -2.810       0.0336       0.04950          0.017700    0.1010   \n",
       "1927    -7.259       0.1060       0.01340          0.000000    0.1660   \n",
       "1928    -5.937       0.0434       0.42600          0.000000    0.1050   \n",
       "1929    -7.567       0.0892       0.06860          0.001880    0.3930   \n",
       "1930    -6.010       0.2990       0.07140          0.001400    0.0859   \n",
       "\n",
       "      valence    tempo  boring_him  \n",
       "0       0.212  142.829     220.923  \n",
       "1       0.283   80.025     189.522  \n",
       "2       0.729  163.944     284.073  \n",
       "3       0.613  139.691     280.709  \n",
       "4       0.443  155.051     300.095  \n",
       "...       ...      ...         ...  \n",
       "1926    0.398  124.053     263.143  \n",
       "1927    0.541  101.038     195.579  \n",
       "1928    0.263   84.980     202.143  \n",
       "1929    0.330  112.050     249.283  \n",
       "1930    0.655  218.365     305.355  \n",
       "\n",
       "[1931 rows x 11 columns]"
      ]
     },
     "execution_count": 161,
     "metadata": {},
     "output_type": "execute_result"
    }
   ],
   "source": [
    "bro_features['boring_him']= bro_features['loudness']+bro_features['energy']*100+bro_features['danceability']*100+bro_features['tempo']\n",
    "bro_features"
   ]
  },
  {
   "cell_type": "code",
   "execution_count": 162,
   "metadata": {},
   "outputs": [
    {
     "data": {
      "text/plain": [
       "<Axes: >"
      ]
     },
     "execution_count": 162,
     "metadata": {},
     "output_type": "execute_result"
    },
    {
     "data": {
      "image/png": "[encoded data removed]",
      "text/plain": [
       "<Figure size 640x480 with 1 Axes>"
      ]
     },
     "metadata": {},
     "output_type": "display_data"
    }
   ],
   "source": [
    "bro_features['boring_him'].hist()"
   ]
  },
  {
   "cell_type": "code",
   "execution_count": 163,
   "metadata": {},
   "outputs": [],
   "source": [
    "boring_him_mean= bro_features['boring_him'].mean()"
   ]
  },
  {
   "cell_type": "code",
   "execution_count": 164,
   "metadata": {},
   "outputs": [
    {
     "data": {
      "text/plain": [
       "237.20290315898498"
      ]
     },
     "execution_count": 164,
     "metadata": {},
     "output_type": "execute_result"
    }
   ],
   "source": [
    "boring_him_mean"
   ]
  },
  {
   "cell_type": "code",
   "execution_count": 165,
   "metadata": {},
   "outputs": [],
   "source": [
    "boring_means = bro_features['boring_him'].mean(),df1['boring_me'].mean()\n",
    "who = ['him','me']"
   ]
  },
  {
   "cell_type": "code",
   "execution_count": 166,
   "metadata": {},
   "outputs": [
    {
     "data": {
      "image/png": "[encoded data removed]",
      "text/plain": [
       "<Figure size 640x480 with 1 Axes>"
      ]
     },
     "metadata": {},
     "output_type": "display_data"
    }
   ],
   "source": [
    "fig = plt.figure()\n",
    "ax = fig.add_axes([0,0,1,1])\n",
    "ax.bar(who,boring_means)\n",
    "plt.show()"
   ]
  },
  {
   "cell_type": "code",
   "execution_count": 168,
   "metadata": {},
   "outputs": [
    {
     "data": {
      "image/png": "[encoded data removed]",
      "text/plain": [
       "<Figure size 640x480 with 1 Axes>"
      ]
     },
     "metadata": {},
     "output_type": "display_data"
    }
   ],
   "source": [
    "from matplotlib import pyplot\n",
    "\n",
    "pyplot.hist(df1['boring_me'],  alpha=0.5, label='me')\n",
    "pyplot.hist( bro_features['boring_him'],  alpha=0.5, label='bro')\n",
    "pyplot.legend(loc='upper right')\n",
    "pyplot.show()"
   ]
  },
  {
   "cell_type": "code",
   "execution_count": null,
   "metadata": {},
   "outputs": [],
   "source": [
    "features_mean_me.plot(kind='bar',x='features',y='values')"
   ]
  },
  {
   "cell_type": "code",
   "execution_count": 169,
   "metadata": {},
   "outputs": [
    {
     "data": {
      "text/html": [
       "<div>\n",
       "<style scoped>\n",
       "    .dataframe tbody tr th:only-of-type {\n",
       "        vertical-align: middle;\n",
       "    }\n",
       "\n",
       "    .dataframe tbody tr th {\n",
       "        vertical-align: top;\n",
       "    }\n",
       "\n",
       "    .dataframe thead th {\n",
       "        text-align: right;\n",
       "    }\n",
       "</style>\n",
       "<table border=\"1\" class=\"dataframe\">\n",
       "  <thead>\n",
       "    <tr style=\"text-align: right;\">\n",
       "      <th></th>\n",
       "      <th>values</th>\n",
       "      <th>features</th>\n",
       "    </tr>\n",
       "  </thead>\n",
       "  <tbody>\n",
       "    <tr>\n",
       "      <th>danceability</th>\n",
       "      <td>0.583742</td>\n",
       "      <td>danceability</td>\n",
       "    </tr>\n",
       "    <tr>\n",
       "      <th>energy</th>\n",
       "      <td>0.476315</td>\n",
       "      <td>energy</td>\n",
       "    </tr>\n",
       "    <tr>\n",
       "      <th>speechiness</th>\n",
       "      <td>0.096403</td>\n",
       "      <td>speechiness</td>\n",
       "    </tr>\n",
       "    <tr>\n",
       "      <th>acousticness</th>\n",
       "      <td>0.492871</td>\n",
       "      <td>acousticness</td>\n",
       "    </tr>\n",
       "    <tr>\n",
       "      <th>instrumentalness</th>\n",
       "      <td>0.071219</td>\n",
       "      <td>instrumentalness</td>\n",
       "    </tr>\n",
       "    <tr>\n",
       "      <th>liveness</th>\n",
       "      <td>0.158573</td>\n",
       "      <td>liveness</td>\n",
       "    </tr>\n",
       "    <tr>\n",
       "      <th>valence</th>\n",
       "      <td>0.440773</td>\n",
       "      <td>valence</td>\n",
       "    </tr>\n",
       "  </tbody>\n",
       "</table>\n",
       "</div>"
      ],
      "text/plain": [
       "                    values          features\n",
       "danceability      0.583742      danceability\n",
       "energy            0.476315            energy\n",
       "speechiness       0.096403       speechiness\n",
       "acousticness      0.492871      acousticness\n",
       "instrumentalness  0.071219  instrumentalness\n",
       "liveness          0.158573          liveness\n",
       "valence           0.440773           valence"
      ]
     },
     "execution_count": 169,
     "metadata": {},
     "output_type": "execute_result"
    }
   ],
   "source": [
    "features_mean_me= df1[['danceability','energy','speechiness','acousticness','instrumentalness','liveness','valence']].mean()\n",
    "features_mean_me= features_mean_me.to_frame()\n",
    "features_mean_me\n",
    "df_col_name_me = df1[['danceability','energy','speechiness','loudness','acousticness','instrumentalness','liveness','valence']].columns\n",
    "df_col_name_me = df_col_name_me.to_frame()\n",
    "features_mean_me['features'] = df_col_name_me\n",
    "features_mean_me.rename(columns={ features_mean_me.columns[0]: \"values\" }, inplace = True)\n",
    "features_mean_me"
   ]
  },
  {
   "cell_type": "code",
   "execution_count": 171,
   "metadata": {},
   "outputs": [
    {
     "data": {
      "text/html": [
       "<div>\n",
       "<style scoped>\n",
       "    .dataframe tbody tr th:only-of-type {\n",
       "        vertical-align: middle;\n",
       "    }\n",
       "\n",
       "    .dataframe tbody tr th {\n",
       "        vertical-align: top;\n",
       "    }\n",
       "\n",
       "    .dataframe thead th {\n",
       "        text-align: right;\n",
       "    }\n",
       "</style>\n",
       "<table border=\"1\" class=\"dataframe\">\n",
       "  <thead>\n",
       "    <tr style=\"text-align: right;\">\n",
       "      <th></th>\n",
       "      <th>values</th>\n",
       "      <th>features</th>\n",
       "    </tr>\n",
       "  </thead>\n",
       "  <tbody>\n",
       "    <tr>\n",
       "      <th>danceability</th>\n",
       "      <td>0.649381</td>\n",
       "      <td>danceability</td>\n",
       "    </tr>\n",
       "    <tr>\n",
       "      <th>energy</th>\n",
       "      <td>0.602144</td>\n",
       "      <td>energy</td>\n",
       "    </tr>\n",
       "    <tr>\n",
       "      <th>speechiness</th>\n",
       "      <td>0.094528</td>\n",
       "      <td>speechiness</td>\n",
       "    </tr>\n",
       "    <tr>\n",
       "      <th>acousticness</th>\n",
       "      <td>0.308400</td>\n",
       "      <td>acousticness</td>\n",
       "    </tr>\n",
       "    <tr>\n",
       "      <th>instrumentalness</th>\n",
       "      <td>0.030309</td>\n",
       "      <td>instrumentalness</td>\n",
       "    </tr>\n",
       "    <tr>\n",
       "      <th>liveness</th>\n",
       "      <td>0.162935</td>\n",
       "      <td>liveness</td>\n",
       "    </tr>\n",
       "    <tr>\n",
       "      <th>valence</th>\n",
       "      <td>0.479989</td>\n",
       "      <td>valence</td>\n",
       "    </tr>\n",
       "  </tbody>\n",
       "</table>\n",
       "</div>"
      ],
      "text/plain": [
       "                    values          features\n",
       "danceability      0.649381      danceability\n",
       "energy            0.602144            energy\n",
       "speechiness       0.094528       speechiness\n",
       "acousticness      0.308400      acousticness\n",
       "instrumentalness  0.030309  instrumentalness\n",
       "liveness          0.162935          liveness\n",
       "valence           0.479989           valence"
      ]
     },
     "execution_count": 171,
     "metadata": {},
     "output_type": "execute_result"
    }
   ],
   "source": [
    "features_mean_bro= bro_features[['danceability','energy','speechiness','acousticness','instrumentalness','liveness','valence']].mean()\n",
    "features_mean_bro= features_mean_bro.to_frame()\n",
    "features_mean_bro\n",
    "df_col_name_bro = bro_features[['danceability','energy','speechiness','acousticness','instrumentalness','liveness','valence']].columns\n",
    "df_col_name_bro = df_col_name_bro.to_frame()\n",
    "features_mean_bro['features'] = df_col_name_bro\n",
    "features_mean_bro.rename(columns={ features_mean_bro.columns[0]: \"values\" }, inplace = True)\n",
    "features_mean_bro\n"
   ]
  },
  {
   "cell_type": "code",
   "execution_count": 172,
   "metadata": {},
   "outputs": [
    {
     "data": {
      "text/plain": [
       "<Axes: xlabel='features'>"
      ]
     },
     "execution_count": 172,
     "metadata": {},
     "output_type": "execute_result"
    },
    {
     "data": {
      "image/png": "[encoded data removed]",
      "text/plain": [
       "<Figure size 640x480 with 1 Axes>"
      ]
     },
     "metadata": {},
     "output_type": "display_data"
    }
   ],
   "source": [
    "features_mean_bro.plot(kind='bar',x='features',y='values')"
   ]
  },
  {
   "cell_type": "code",
   "execution_count": 173,
   "metadata": {},
   "outputs": [
    {
     "data": {
      "text/plain": [
       "<Axes: xlabel='features'>"
      ]
     },
     "execution_count": 173,
     "metadata": {},
     "output_type": "execute_result"
    },
    {
     "data": {
      "image/png": "[encoded data removed]",
      "text/plain": [
       "<Figure size 640x480 with 1 Axes>"
      ]
     },
     "metadata": {},
     "output_type": "display_data"
    }
   ],
   "source": [
    "features_mean_me.plot(kind='bar',x='features',y='values')"
   ]
  },
  {
   "cell_type": "markdown",
   "metadata": {},
   "source": [
    "------------conclusion mine is boring with less energy-----------------"
   ]
  }
 ],
 "metadata": {
  "kernelspec": {
   "display_name": "Python 3 (ipykernel)",
   "language": "python",
   "name": "python3"
  },
  "language_info": {
   "codemirror_mode": {
    "name": "ipython",
    "version": 3
   },
   "file_extension": ".py",
   "mimetype": "text/x-python",
   "name": "python",
   "nbconvert_exporter": "python",
   "pygments_lexer": "ipython3",
   "version": "3.11.4"
  }
 },
 "nbformat": 4,
 "nbformat_minor": 2
}
